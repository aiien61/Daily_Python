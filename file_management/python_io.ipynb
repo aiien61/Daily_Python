{
 "cells": [
  {
   "cell_type": "code",
   "execution_count": 13,
   "id": "cda9658a-a3d1-43d4-be1b-f3554a32d5c8",
   "metadata": {},
   "outputs": [],
   "source": [
    "import os"
   ]
  },
  {
   "cell_type": "markdown",
   "id": "59ae0ecf-20d2-466f-ad5d-5c31b2cbc8ef",
   "metadata": {},
   "source": [
    "# open()\n",
    "#### 1. return a file object which has reading and writing-related methods\n",
    "#### 2. pass 'r' or nothing to open() to open the file in read mode\n",
    "#### 3. call read() or write() to read the contents of a file or write a string to a file\n",
    "#### 4. call readlines() to return a list of strings of teh file's content\n",
    "#### 5. call close() when you are done with the file"
   ]
  },
  {
   "cell_type": "code",
   "execution_count": 2,
   "id": "5e9f1b70-743a-48e8-b6d7-0ccae49e57e4",
   "metadata": {},
   "outputs": [],
   "source": [
    "hello_file = open('hello.txt')"
   ]
  },
  {
   "cell_type": "code",
   "execution_count": 3,
   "id": "49afd8ed-2993-4a2b-8689-fc7725d1c45c",
   "metadata": {},
   "outputs": [
    {
     "data": {
      "text/plain": [
       "'Hello world!\\nHow are you?\\n'"
      ]
     },
     "execution_count": 3,
     "metadata": {},
     "output_type": "execute_result"
    }
   ],
   "source": [
    "hello_file.read()"
   ]
  },
  {
   "cell_type": "code",
   "execution_count": 4,
   "id": "e3f06739-5ede-470c-9cb7-c49c1ee108ca",
   "metadata": {},
   "outputs": [],
   "source": [
    "hello_file.close()"
   ]
  },
  {
   "cell_type": "code",
   "execution_count": 6,
   "id": "8a200cfc-9667-431f-b238-eac3cb9f1675",
   "metadata": {},
   "outputs": [
    {
     "name": "stdout",
     "output_type": "stream",
     "text": [
      "I/O operation on closed file.\n",
      "Closed file can't be read.\n"
     ]
    }
   ],
   "source": [
    "try:\n",
    "    hello_file.read()\n",
    "except ValueError as e:\n",
    "    print(e)\n",
    "    print(\"Closed file can't be read.\")"
   ]
  },
  {
   "cell_type": "markdown",
   "id": "68ba718d-43e2-4df2-86b8-13412d9f5321",
   "metadata": {},
   "source": [
    "# 'w' for write mode\n",
    "#### 1. opening a nonexistant filename in write mode will create that file automatically\n",
    "#### 2. original content of the file will be overwritten in the write mode"
   ]
  },
  {
   "cell_type": "code",
   "execution_count": 7,
   "id": "38ba76f1-e154-4f5d-9791-d393149d4c43",
   "metadata": {},
   "outputs": [
    {
     "data": {
      "text/plain": [
       "10"
      ]
     },
     "execution_count": 7,
     "metadata": {},
     "output_type": "execute_result"
    }
   ],
   "source": [
    "hello_file = open('hello.txt', 'w')\n",
    "hello_file.write('Hello!!!!!')"
   ]
  },
  {
   "cell_type": "code",
   "execution_count": 8,
   "id": "ce8d4368-3141-4dd6-a875-69de36c62129",
   "metadata": {},
   "outputs": [
    {
     "data": {
      "text/plain": [
       "12"
      ]
     },
     "execution_count": 8,
     "metadata": {},
     "output_type": "execute_result"
    }
   ],
   "source": [
    "hello_file.write('Hello!!!!!!!')"
   ]
  },
  {
   "cell_type": "code",
   "execution_count": 9,
   "id": "9cfa3842-afbf-474d-a9eb-9674b28f36a8",
   "metadata": {},
   "outputs": [
    {
     "data": {
      "text/plain": [
       "15"
      ]
     },
     "execution_count": 9,
     "metadata": {},
     "output_type": "execute_result"
    }
   ],
   "source": [
    "hello_file.write('Hello!!!!!!!!!!')"
   ]
  },
  {
   "cell_type": "code",
   "execution_count": 10,
   "id": "33dca788-802b-431b-b78f-3afff48f84b2",
   "metadata": {},
   "outputs": [],
   "source": [
    "hello_file.close()"
   ]
  },
  {
   "cell_type": "markdown",
   "id": "c874226c-ba39-47c8-a7d6-b53e95143b93",
   "metadata": {},
   "source": [
    "# 'a' for append mode\n",
    "#### 1. opening a nonexistant filename in append mode will create that file automatically\n",
    "#### 2. original content of the file will be kept and new content will be put at the end of the original content in the append mode"
   ]
  },
  {
   "cell_type": "code",
   "execution_count": 11,
   "id": "1964013f-4c70-441e-ad5a-f51b14479c79",
   "metadata": {},
   "outputs": [],
   "source": [
    "bacon_file = open('bacon.txt', 'w')\n",
    "bacon_file.write('Bacon is not a vegetable.')\n",
    "bacon_file.close()"
   ]
  },
  {
   "cell_type": "code",
   "execution_count": 14,
   "id": "eb4c5672-3643-459d-bfbb-a0c0232bf634",
   "metadata": {},
   "outputs": [
    {
     "data": {
      "text/plain": [
       "'/home/jovyan/work/my_projects/in_progress/Auto_Python/File_Management'"
      ]
     },
     "execution_count": 14,
     "metadata": {},
     "output_type": "execute_result"
    }
   ],
   "source": [
    "os.getcwd()"
   ]
  },
  {
   "cell_type": "code",
   "execution_count": 15,
   "id": "75d37d1e-e095-4f00-9421-3a9a015fe037",
   "metadata": {},
   "outputs": [],
   "source": [
    "bacon_file = open('bacon.txt', 'a')\n",
    "bacon_file.write('\\n\\nBacon is delicious.')\n",
    "bacon_file.close()"
   ]
  },
  {
   "cell_type": "markdown",
   "id": "63bb1f52-9622-4bb8-9862-9878367178c7",
   "metadata": {},
   "source": [
    "# Shelve module\n",
    "#### 1. store values in a binary file\n",
    "#### 2. shelve.open() returns a dictionary-like shelf value"
   ]
  },
  {
   "cell_type": "code",
   "execution_count": 16,
   "id": "1effb6d1-4545-4aaa-8434-99c7e70cfda2",
   "metadata": {},
   "outputs": [],
   "source": [
    "import shelve"
   ]
  },
  {
   "cell_type": "code",
   "execution_count": 17,
   "id": "0b6fc00e-82cc-4624-9c87-4f308ff067c5",
   "metadata": {},
   "outputs": [],
   "source": [
    "shelf_file = shelve.open('mydata')\n",
    "shelf_file['cats'] = ['Zophie', 'Pooka', 'Simon', 'Fat-tail', 'Cleo']\n",
    "shelf_file.close()"
   ]
  },
  {
   "cell_type": "code",
   "execution_count": 20,
   "id": "3d9f02b9-70ac-448b-9d09-95d9500a9070",
   "metadata": {},
   "outputs": [
    {
     "data": {
      "text/plain": [
       "['Zophie', 'Pooka', 'Simon', 'Fat-tail', 'Cleo']"
      ]
     },
     "execution_count": 20,
     "metadata": {},
     "output_type": "execute_result"
    }
   ],
   "source": [
    "shelf_file = shelve.open('mydata')\n",
    "shelf_file['cats']"
   ]
  },
  {
   "cell_type": "code",
   "execution_count": 21,
   "id": "724a6839-0e3d-4444-bea0-f2484efb2d78",
   "metadata": {},
   "outputs": [],
   "source": [
    "shelf_file.close()"
   ]
  },
  {
   "cell_type": "code",
   "execution_count": 22,
   "id": "8fb0a0fb-c1a1-4d0c-b816-34f944aad68b",
   "metadata": {},
   "outputs": [
    {
     "data": {
      "text/plain": [
       "KeysView(<shelve.DbfilenameShelf object at 0x7fe3e8998b50>)"
      ]
     },
     "execution_count": 22,
     "metadata": {},
     "output_type": "execute_result"
    }
   ],
   "source": [
    "shelf_file = shelve.open('mydata')\n",
    "shelf_file.keys()"
   ]
  },
  {
   "cell_type": "code",
   "execution_count": 23,
   "id": "96e3bae1-070d-4e92-8f6e-0759251c016f",
   "metadata": {},
   "outputs": [
    {
     "data": {
      "text/plain": [
       "['cats']"
      ]
     },
     "execution_count": 23,
     "metadata": {},
     "output_type": "execute_result"
    }
   ],
   "source": [
    "list(shelf_file.keys())"
   ]
  },
  {
   "cell_type": "code",
   "execution_count": 25,
   "id": "5fe1f3d2-ae12-4d13-bf7e-2fff99633f40",
   "metadata": {},
   "outputs": [
    {
     "data": {
      "text/plain": [
       "[['Zophie', 'Pooka', 'Simon', 'Fat-tail', 'Cleo']]"
      ]
     },
     "execution_count": 25,
     "metadata": {},
     "output_type": "execute_result"
    }
   ],
   "source": [
    "list(shelf_file.values())"
   ]
  },
  {
   "cell_type": "code",
   "execution_count": null,
   "id": "0bb7b51f-068d-442e-8c06-ee29019f2646",
   "metadata": {},
   "outputs": [],
   "source": []
  }
 ],
 "metadata": {
  "kernelspec": {
   "display_name": "Python 3 (ipykernel)",
   "language": "python",
   "name": "python3"
  },
  "language_info": {
   "codemirror_mode": {
    "name": "ipython",
    "version": 3
   },
   "file_extension": ".py",
   "mimetype": "text/x-python",
   "name": "python",
   "nbconvert_exporter": "python",
   "pygments_lexer": "ipython3",
   "version": "3.9.12"
  }
 },
 "nbformat": 4,
 "nbformat_minor": 5
}
