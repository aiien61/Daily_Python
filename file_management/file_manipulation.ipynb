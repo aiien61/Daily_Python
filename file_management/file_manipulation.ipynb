{
 "cells": [
  {
   "cell_type": "markdown",
   "id": "227181a1-1422-4567-8702-d377e43a6975",
   "metadata": {},
   "source": [
    "# shutil module\n",
    "\n",
    "**file manipulation**"
   ]
  },
  {
   "cell_type": "code",
   "execution_count": 1,
   "id": "e32f4a87-2ac6-4db1-a233-291be6c79ba8",
   "metadata": {},
   "outputs": [],
   "source": [
    "import shutil"
   ]
  },
  {
   "cell_type": "code",
   "execution_count": 5,
   "id": "7e092300-f4c9-4d78-b5dd-c80ff60a80e0",
   "metadata": {},
   "outputs": [
    {
     "data": {
      "text/plain": [
       "'../hello.txt'"
      ]
     },
     "execution_count": 5,
     "metadata": {},
     "output_type": "execute_result"
    }
   ],
   "source": [
    "shutil.copy('hello.txt', '../')  # copy files and paste them to the destination path"
   ]
  },
  {
   "cell_type": "code",
   "execution_count": 6,
   "id": "a1d0f8ad-8b42-4556-a454-aba147c05978",
   "metadata": {},
   "outputs": [
    {
     "data": {
      "text/plain": [
       "'../helloworld.txt'"
      ]
     },
     "execution_count": 6,
     "metadata": {},
     "output_type": "execute_result"
    }
   ],
   "source": [
    "shutil.copy('hello.txt', '../helloworld.txt')  # copy files and paste them to the destination and give them new names"
   ]
  },
  {
   "cell_type": "code",
   "execution_count": 7,
   "id": "03160c92-56b7-4b2e-9e04-231ba82d389e",
   "metadata": {},
   "outputs": [
    {
     "data": {
      "text/plain": [
       "'folder'"
      ]
     },
     "execution_count": 7,
     "metadata": {},
     "output_type": "execute_result"
    }
   ],
   "source": [
    "shutil.copytree('files', 'folder')  # Copy entire folder and its files to other folder"
   ]
  },
  {
   "cell_type": "code",
   "execution_count": 8,
   "id": "03b76db8-21c7-4c54-a7a2-5dd71b89dbba",
   "metadata": {},
   "outputs": [
    {
     "data": {
      "text/plain": [
       "'files_backup/bacon.txt'"
      ]
     },
     "execution_count": 8,
     "metadata": {},
     "output_type": "execute_result"
    }
   ],
   "source": [
    "shutil.move('folder/bacon.txt', 'files_backup')  # move a file to the destination path"
   ]
  },
  {
   "cell_type": "code",
   "execution_count": 9,
   "id": "ad9c13c7-340b-4c45-8f88-908e46c67638",
   "metadata": {},
   "outputs": [
    {
     "data": {
      "text/plain": [
       "'files_backup/eggs.txt'"
      ]
     },
     "execution_count": 9,
     "metadata": {},
     "output_type": "execute_result"
    }
   ],
   "source": [
    "shutil.move('files_backup/bacon.txt', 'files_backup/eggs.txt')  # use move() to rename the file names"
   ]
  },
  {
   "cell_type": "markdown",
   "id": "433798a6-4041-4c15-aa48-396b5557a5dd",
   "metadata": {},
   "source": [
    "# Deleting files"
   ]
  },
  {
   "cell_type": "code",
   "execution_count": 10,
   "id": "3dd773c4-acc3-4692-86d5-bcc04038d725",
   "metadata": {},
   "outputs": [],
   "source": [
    "import os"
   ]
  },
  {
   "cell_type": "code",
   "execution_count": 11,
   "id": "3db0658f-89c7-4289-96a4-907d0fa5c70a",
   "metadata": {},
   "outputs": [
    {
     "data": {
      "text/plain": [
       "'/home/jovyan/work/my_projects/in_progress/Auto_Python/File_Management'"
      ]
     },
     "execution_count": 11,
     "metadata": {},
     "output_type": "execute_result"
    }
   ],
   "source": [
    "os.getcwd()"
   ]
  },
  {
   "cell_type": "markdown",
   "id": "03964b3e-ba6d-4714-b205-ad0b1a30addf",
   "metadata": {},
   "source": [
    "**unlink(): delete single file**"
   ]
  },
  {
   "cell_type": "code",
   "execution_count": 14,
   "id": "42c8866c-e6f3-44d9-a0f6-dbf0949b492a",
   "metadata": {},
   "outputs": [],
   "source": [
    "os.unlink('files_backup/eggs.txt')"
   ]
  },
  {
   "cell_type": "markdown",
   "id": "0a507192-8296-4bad-bbe1-a96439f12066",
   "metadata": {},
   "source": [
    "**rmdir(): delete an empty directory**"
   ]
  },
  {
   "cell_type": "code",
   "execution_count": 15,
   "id": "92b58132-ff3a-4836-9323-894391597a69",
   "metadata": {},
   "outputs": [],
   "source": [
    "os.rmdir('files_backup')"
   ]
  },
  {
   "cell_type": "code",
   "execution_count": 17,
   "id": "aefdf2b5-19bf-4091-9b08-54566a21bb04",
   "metadata": {},
   "outputs": [
    {
     "ename": "OSError",
     "evalue": "[Errno 39] Directory not empty: 'folder'",
     "output_type": "error",
     "traceback": [
      "\u001b[0;31m---------------------------------------------------------------------------\u001b[0m",
      "\u001b[0;31mOSError\u001b[0m                                   Traceback (most recent call last)",
      "Input \u001b[0;32mIn [17]\u001b[0m, in \u001b[0;36m<cell line: 1>\u001b[0;34m()\u001b[0m\n\u001b[0;32m----> 1\u001b[0m \u001b[43mos\u001b[49m\u001b[38;5;241;43m.\u001b[39;49m\u001b[43mrmdir\u001b[49m\u001b[43m(\u001b[49m\u001b[38;5;124;43m'\u001b[39;49m\u001b[38;5;124;43mfolder\u001b[39;49m\u001b[38;5;124;43m'\u001b[39;49m\u001b[43m)\u001b[49m\n",
      "\u001b[0;31mOSError\u001b[0m: [Errno 39] Directory not empty: 'folder'"
     ]
    }
   ],
   "source": [
    "os.rmdir('folder')"
   ]
  },
  {
   "cell_type": "markdown",
   "id": "be60ff2b-02fe-439c-804a-31c665c5cce5",
   "metadata": {},
   "source": [
    "**shutil.rmtree(): delete a directory and its all files**"
   ]
  },
  {
   "cell_type": "code",
   "execution_count": 18,
   "id": "b09cc668-572a-44a9-bfee-3e4833dd11e2",
   "metadata": {},
   "outputs": [],
   "source": [
    "shutil.rmtree('folder')"
   ]
  },
  {
   "cell_type": "markdown",
   "id": "a305e439-db80-459b-a8e6-353dc134d6ea",
   "metadata": {},
   "source": [
    "**send2trash.send2trash(): send a file or folder to the recycling bin**"
   ]
  },
  {
   "cell_type": "code",
   "execution_count": 19,
   "id": "63530779-e907-4cbd-bb65-c4fdbb13e4ed",
   "metadata": {},
   "outputs": [],
   "source": [
    "import send2trash"
   ]
  },
  {
   "cell_type": "code",
   "execution_count": 20,
   "id": "f30c80d2-b2bb-4352-a3de-dd0756d7c263",
   "metadata": {},
   "outputs": [],
   "source": [
    "with open('spam.txt', 'w') as f:\n",
    "    f.write('spam')"
   ]
  },
  {
   "cell_type": "code",
   "execution_count": 21,
   "id": "467f5486-98c2-4370-a633-02e2728847f0",
   "metadata": {},
   "outputs": [],
   "source": [
    "send2trash.send2trash('spam.txt')"
   ]
  },
  {
   "cell_type": "markdown",
   "id": "50f79d3f-af93-4682-97b3-5c15e7250bdd",
   "metadata": {},
   "source": [
    "# Walking a directory tree"
   ]
  },
  {
   "cell_type": "code",
   "execution_count": 24,
   "id": "b7e0fce5-4129-496f-b101-06421e1cd188",
   "metadata": {},
   "outputs": [
    {
     "name": "stdout",
     "output_type": "stream",
     "text": [
      "The folder is delicious\n",
      "The subfolders in delicious are: ['foo', '.ipynb_checkpoints', 'walnut']\n",
      "The files in delicious are: []\n",
      "\n",
      "The folder is delicious/foo\n",
      "The subfolders in delicious/foo are: []\n",
      "The files in delicious/foo are: []\n",
      "\n",
      "The folder is delicious/.ipynb_checkpoints\n",
      "The subfolders in delicious/.ipynb_checkpoints are: []\n",
      "The files in delicious/.ipynb_checkpoints are: []\n",
      "\n",
      "The folder is delicious/walnut\n",
      "The subfolders in delicious/walnut are: ['waffles', '.ipynb_checkpoints']\n",
      "The files in delicious/walnut are: []\n",
      "\n",
      "The folder is delicious/walnut/waffles\n",
      "The subfolders in delicious/walnut/waffles are: []\n",
      "The files in delicious/walnut/waffles are: ['bacon.txt', 'ham.txt']\n",
      "\n",
      "The folder is delicious/walnut/.ipynb_checkpoints\n",
      "The subfolders in delicious/walnut/.ipynb_checkpoints are: []\n",
      "The files in delicious/walnut/.ipynb_checkpoints are: []\n",
      "\n"
     ]
    }
   ],
   "source": [
    "for folder, subfolders, files in os.walk('delicious'):\n",
    "    print(f'The folder is {folder}')\n",
    "    print(f'The subfolders in {folder} are: {subfolders}')\n",
    "    print(f'The files in {folder} are: {files}')\n",
    "    print()"
   ]
  },
  {
   "cell_type": "code",
   "execution_count": 26,
   "id": "5ef42419-a4c5-454b-8843-ce306500423d",
   "metadata": {},
   "outputs": [
    {
     "name": "stdout",
     "output_type": "stream",
     "text": [
      "The folder is delicious\n",
      "The subfolders in delicious are: ['foo', '.ipynb_checkpoints', 'walnut']\n",
      "The files in delicious are: []\n",
      "\n",
      "The folder is delicious/foo\n",
      "The subfolders in delicious/foo are: []\n",
      "The files in delicious/foo are: ['spam.txt']\n",
      "\n",
      "The folder is delicious/.ipynb_checkpoints\n",
      "The subfolders in delicious/.ipynb_checkpoints are: []\n",
      "The files in delicious/.ipynb_checkpoints are: []\n",
      "\n",
      "The folder is delicious/walnut\n",
      "The subfolders in delicious/walnut are: ['waffles', '.ipynb_checkpoints']\n",
      "The files in delicious/walnut are: []\n",
      "\n",
      "The folder is delicious/walnut/waffles\n",
      "The subfolders in delicious/walnut/waffles are: []\n",
      "The files in delicious/walnut/waffles are: ['bacon.txt', 'ham.txt']\n",
      "\n",
      "The folder is delicious/walnut/.ipynb_checkpoints\n",
      "The subfolders in delicious/walnut/.ipynb_checkpoints are: []\n",
      "The files in delicious/walnut/.ipynb_checkpoints are: []\n",
      "\n"
     ]
    }
   ],
   "source": [
    "for folder, subfolders, files in os.walk('delicious'):\n",
    "    print(f'The folder is {folder}')\n",
    "    print(f'The subfolders in {folder} are: {subfolders}')\n",
    "    print(f'The files in {folder} are: {files}')\n",
    "    print()\n",
    "\n",
    "    for subfolder in subfolders:\n",
    "        if 'fish' in subfolder:\n",
    "            os.rmdir(subfolder)\n",
    "            \n",
    "    for file in files:\n",
    "        if file.endswith('.txt'):\n",
    "            shutil.copy(os.path.join(folder, file), os.path.join(folder, f'{file}.backup'))"
   ]
  },
  {
   "cell_type": "code",
   "execution_count": null,
   "id": "c9c53bea-60f8-460e-8912-76021e34773e",
   "metadata": {},
   "outputs": [],
   "source": []
  }
 ],
 "metadata": {
  "kernelspec": {
   "display_name": "Python 3 (ipykernel)",
   "language": "python",
   "name": "python3"
  },
  "language_info": {
   "codemirror_mode": {
    "name": "ipython",
    "version": 3
   },
   "file_extension": ".py",
   "mimetype": "text/x-python",
   "name": "python",
   "nbconvert_exporter": "python",
   "pygments_lexer": "ipython3",
   "version": "3.9.12"
  }
 },
 "nbformat": 4,
 "nbformat_minor": 5
}
