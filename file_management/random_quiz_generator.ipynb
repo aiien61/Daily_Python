{
 "cells": [
  {
   "cell_type": "markdown",
   "id": "12bf0aa0-e086-4540-beff-411d40333e0b",
   "metadata": {},
   "source": [
    "### Creates quizzes with questions and answers in random order, along with the answer key\n",
    "\n",
    "To ask each student the capital of every states, but the order of questions is randomly placed for each student, and every question includes three wrong cities from other states."
   ]
  },
  {
   "cell_type": "code",
   "execution_count": 1,
   "id": "a6514f0b-38eb-408e-ae1e-791d80582a78",
   "metadata": {},
   "outputs": [],
   "source": [
    "import random"
   ]
  },
  {
   "cell_type": "code",
   "execution_count": 2,
   "id": "4e9b5afc-4734-47dd-bbb7-aca970c670ab",
   "metadata": {},
   "outputs": [],
   "source": [
    "# The quiz data. Keys are states and values are their capitals\n",
    "capitals = {\n",
    "    \"Alabama\": \"Montgomery\",\n",
    "    \"Alaska\": \"Juneau\",\n",
    "    \"Arizona\": \"Phoenix\",\n",
    "    \"Arkansas\": \"Little Rock\",\n",
    "    \"California\": \"Sacramento\",\n",
    "    \"Colorado\": \"Denver\",\n",
    "    \"Connecticut\": \"Hartford\",\n",
    "    \"Delaware\": \"Dover\",\n",
    "    \"Florida\": \"Tallahassee\",\n",
    "    \"Georgia\": \"Atlanta\",\n",
    "    \"Hawaii\": \"Honolulu\",\n",
    "    \"Idaho\": \"Boise\",\n",
    "    \"Illinois\": \"Springfield\",\n",
    "    \"Indiana\": \"Indianapolis\",\n",
    "    \"Iowa\": \"Des Moines\",\n",
    "    \"Kansas\": \"Topeka\",\n",
    "    \"Kentucky\": \"Frankfort\",\n",
    "    \"Louisiana\": \"Baton Rouge\",\n",
    "    \"Maine\": \"Augusta\",\n",
    "    \"Maryland\": \"Annapolis\",\n",
    "    \"Massachusetts\": \"Boston\",\n",
    "    \"Michigan\": \"Lansing\",\n",
    "    \"Minnesota\": \"Saint Paul\",\n",
    "    \"Mississippi\": \"Jackson\",\n",
    "    \"Missouri\": \"Jefferson City\",\n",
    "    \"Montana\": \"Helena\",\n",
    "    \"Nebraska\": \"Lincoln\",\n",
    "    \"Nevada\": \"Carson City\",\n",
    "    \"New Hampshire\": \"Concord\",\n",
    "    \"New Jersey\": \"Trenton\",\n",
    "    \"New Mexico\": \"Santa Fe\",\n",
    "    \"New York\": \"Albany\",\n",
    "    \"North Carolina\": \"Raleigh\",\n",
    "    \"North Dakota\": \"Bismarck\",\n",
    "    \"Ohio\": \"Columbus\",\n",
    "    \"Oklahoma\": \"Oklahoma City\",\n",
    "    \"Oregon\": \"Salem\",\n",
    "    \"Pennsylvania\": \"Harrisburg\",\n",
    "    \"Rhode Island\": \"Providence\",\n",
    "    \"South Carolina\": \"Columbia\",\n",
    "    \"South Dakota\": \"Pierre\",\n",
    "    \"Tennessee\": \"Nashville\",\n",
    "    \"Texas\": \"Austin\",\n",
    "    \"Utah\": \"Salt Lake City\",\n",
    "    \"Vermont\": \"Montpelier\",\n",
    "    \"Virginia\": \"Richmond\",\n",
    "    \"Washington\": \"Olympia\",\n",
    "    \"West Virginia\": \"Charleston\",\n",
    "    \"Wisconsin\": \"Madison\",\n",
    "    \"Wyoming\": \"Cheyenne\"\n",
    "}"
   ]
  },
  {
   "cell_type": "code",
   "execution_count": 3,
   "id": "71daacba-c72f-46ff-8345-a51d270af0a1",
   "metadata": {},
   "outputs": [],
   "source": [
    "students_numbers = 35"
   ]
  },
  {
   "cell_type": "code",
   "execution_count": 12,
   "id": "91d6456b-e8fb-4462-9e58-7074bbe3b276",
   "metadata": {},
   "outputs": [],
   "source": [
    "# Generate 35 quiz files\n",
    "for quiz_num in range(students_numbers):\n",
    "    \n",
    "    # Create the quiz and answer key files\n",
    "    quizfile = open(f'capitalsquiz{quiz_num + 1}.txt', 'w')\n",
    "    answerkeyfile = open(f'capitalsquiz_answers{quiz_num + 1}.txt', 'w')\n",
    "    \n",
    "    # Write out the header for teh quiz\n",
    "    quizfile.write('Name:\\n\\nData:\\n\\nPeriod:\\n\\n')\n",
    "    quizfile.write((' ' * 20) + f'State Capitals Quiz (Form {quiz_num + 1})'.ljust(50))\n",
    "    quizfile.write('\\n\\n')\n",
    "    \n",
    "    # Shuffle the order of the states\n",
    "    states = list(capitals.keys())\n",
    "    random.shuffle(states)\n",
    "\n",
    "    # Loop through all 50 states, making a question for each\n",
    "    for question_num in range(len(capitals)):\n",
    "        \n",
    "        # Get right and wrong answers\n",
    "        correct_answer = capitals[states[question_num]]\n",
    "        wrong_answers = list(capitals.values())\n",
    "        del wrong_answers[wrong_answers.index(correct_answer)]\n",
    "        wrong_answers = random.sample(wrong_answers, 3)\n",
    "        answer_options = wrong_answers + [correct_answer]\n",
    "        random.shuffle(answer_options)\n",
    "        \n",
    "        # Write the question and answer options to the quiz file\n",
    "        quizfile.write(f'{question_num + 1}. What is the capital of {states[question_num]}?\\n')\n",
    "        for i in range(4):\n",
    "            quizfile.write(f' {\"ABCD\"[i]}. {answer_options[i]}')\n",
    "        quizfile.write('\\n')\n",
    "        \n",
    "        # Write the answer key to a file\n",
    "        answerkeyfile.write(f'{question_num + 1}. {\"ABCD\"[answer_options.index(correct_answer)]}\\n')\n",
    "    \n",
    "    quizfile.close()\n",
    "    answerkeyfile.close()"
   ]
  },
  {
   "cell_type": "code",
   "execution_count": null,
   "id": "7310f4a4-29e9-4b74-b090-64bdb2de5c0e",
   "metadata": {},
   "outputs": [],
   "source": []
  }
 ],
 "metadata": {
  "kernelspec": {
   "display_name": "Python 3 (ipykernel)",
   "language": "python",
   "name": "python3"
  },
  "language_info": {
   "codemirror_mode": {
    "name": "ipython",
    "version": 3
   },
   "file_extension": ".py",
   "mimetype": "text/x-python",
   "name": "python",
   "nbconvert_exporter": "python",
   "pygments_lexer": "ipython3",
   "version": "3.9.12"
  }
 },
 "nbformat": 4,
 "nbformat_minor": 5
}
