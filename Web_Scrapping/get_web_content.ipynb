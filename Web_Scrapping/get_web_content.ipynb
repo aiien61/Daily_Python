{
 "cells": [
  {
   "cell_type": "code",
   "execution_count": 3,
   "id": "aeb37654-1d0a-4113-9c5b-5563c3b9958d",
   "metadata": {},
   "outputs": [],
   "source": [
    "import requests"
   ]
  },
  {
   "cell_type": "markdown",
   "id": "ddc1e123-9cc9-4529-81c8-d6a0cee9ec70",
   "metadata": {},
   "source": [
    "### successful request"
   ]
  },
  {
   "cell_type": "code",
   "execution_count": 5,
   "id": "85769d45-03fb-4681-a755-bd9b7223a445",
   "metadata": {},
   "outputs": [],
   "source": [
    "res = requests.get('https://automatetheboringstuff.com/files/rj.txt')"
   ]
  },
  {
   "cell_type": "code",
   "execution_count": 6,
   "id": "3abcc51c-477f-416e-9647-75bfce1df9f0",
   "metadata": {},
   "outputs": [
    {
     "data": {
      "text/plain": [
       "200"
      ]
     },
     "execution_count": 6,
     "metadata": {},
     "output_type": "execute_result"
    }
   ],
   "source": [
    "res.status_code"
   ]
  },
  {
   "cell_type": "code",
   "execution_count": 7,
   "id": "2b0c87c1-685f-48fd-952a-ad8112467029",
   "metadata": {},
   "outputs": [
    {
     "data": {
      "text/plain": [
       "178978"
      ]
     },
     "execution_count": 7,
     "metadata": {},
     "output_type": "execute_result"
    }
   ],
   "source": [
    "len(res.text)"
   ]
  },
  {
   "cell_type": "code",
   "execution_count": 8,
   "id": "1e05e53e-85bf-4fab-8a44-b4bfd99b31ee",
   "metadata": {},
   "outputs": [
    {
     "data": {
      "text/plain": [
       "'The Project Gutenberg EBook of Romeo and Juliet, by William Shakespeare\\r\\n\\r\\nThis eBook is for the use of anyone anywhere at no cost and with\\r\\nalmost no restrictions whatsoever.  You may copy it, give it away or\\r\\nre-use it under the terms of the Project Gutenberg License included\\r\\nwith this eBook or online at www.gutenberg.org/license\\r\\n\\r\\n\\r\\nTitle: Romeo and Juliet\\r\\n\\r\\nAuthor: William Shakespeare\\r\\n\\r\\nPosting Date: May 25, 2012 [EBook #1112]\\r\\nRelease Date: November, 1997  [Etext #1112]\\r\\n\\r\\nLanguage: Eng'"
      ]
     },
     "execution_count": 8,
     "metadata": {},
     "output_type": "execute_result"
    }
   ],
   "source": [
    "res.text[:500]"
   ]
  },
  {
   "cell_type": "code",
   "execution_count": 9,
   "id": "a6365730-50ab-4209-8993-40061ea5412d",
   "metadata": {},
   "outputs": [],
   "source": [
    "res.raise_for_status()"
   ]
  },
  {
   "cell_type": "markdown",
   "id": "b114bdeb-5f25-4def-acae-b4b22244a1da",
   "metadata": {},
   "source": [
    "### failure request"
   ]
  },
  {
   "cell_type": "code",
   "execution_count": 10,
   "id": "ecda6591-91ef-4e73-b75a-9bc6cd955672",
   "metadata": {},
   "outputs": [
    {
     "ename": "HTTPError",
     "evalue": "404 Client Error: Not Found for url: https://automatetheboringstuff.com/fjadklhfdsl",
     "output_type": "error",
     "traceback": [
      "\u001b[0;31m---------------------------------------------------------------------------\u001b[0m",
      "\u001b[0;31mHTTPError\u001b[0m                                 Traceback (most recent call last)",
      "Input \u001b[0;32mIn [10]\u001b[0m, in \u001b[0;36m<cell line: 2>\u001b[0;34m()\u001b[0m\n\u001b[1;32m      1\u001b[0m badres \u001b[38;5;241m=\u001b[39m requests\u001b[38;5;241m.\u001b[39mget(\u001b[38;5;124m'\u001b[39m\u001b[38;5;124mhttps://automatetheboringstuff.com/fjadklhfdsl\u001b[39m\u001b[38;5;124m'\u001b[39m)\n\u001b[0;32m----> 2\u001b[0m \u001b[43mbadres\u001b[49m\u001b[38;5;241;43m.\u001b[39;49m\u001b[43mraise_for_status\u001b[49m\u001b[43m(\u001b[49m\u001b[43m)\u001b[49m\n",
      "File \u001b[0;32m/opt/conda/lib/python3.9/site-packages/requests/models.py:960\u001b[0m, in \u001b[0;36mResponse.raise_for_status\u001b[0;34m(self)\u001b[0m\n\u001b[1;32m    957\u001b[0m     http_error_msg \u001b[38;5;241m=\u001b[39m \u001b[38;5;124mu\u001b[39m\u001b[38;5;124m'\u001b[39m\u001b[38;5;132;01m%s\u001b[39;00m\u001b[38;5;124m Server Error: \u001b[39m\u001b[38;5;132;01m%s\u001b[39;00m\u001b[38;5;124m for url: \u001b[39m\u001b[38;5;132;01m%s\u001b[39;00m\u001b[38;5;124m'\u001b[39m \u001b[38;5;241m%\u001b[39m (\u001b[38;5;28mself\u001b[39m\u001b[38;5;241m.\u001b[39mstatus_code, reason, \u001b[38;5;28mself\u001b[39m\u001b[38;5;241m.\u001b[39murl)\n\u001b[1;32m    959\u001b[0m \u001b[38;5;28;01mif\u001b[39;00m http_error_msg:\n\u001b[0;32m--> 960\u001b[0m     \u001b[38;5;28;01mraise\u001b[39;00m HTTPError(http_error_msg, response\u001b[38;5;241m=\u001b[39m\u001b[38;5;28mself\u001b[39m)\n",
      "\u001b[0;31mHTTPError\u001b[0m: 404 Client Error: Not Found for url: https://automatetheboringstuff.com/fjadklhfdsl"
     ]
    }
   ],
   "source": [
    "badres = requests.get('https://automatetheboringstuff.com/fjadklhfdsl')\n",
    "badres.raise_for_status()"
   ]
  },
  {
   "cell_type": "markdown",
   "id": "8354a9b8-aa99-4f33-b837-ceb5a7d09ebe",
   "metadata": {},
   "source": [
    "# save webpage in a write-binary mode"
   ]
  },
  {
   "cell_type": "code",
   "execution_count": 11,
   "id": "e8215b97-a837-406b-9c62-f6c8beeb3bc4",
   "metadata": {},
   "outputs": [],
   "source": [
    "playfile = open('RomeoAndJuliet.txt', 'wb')"
   ]
  },
  {
   "cell_type": "code",
   "execution_count": 12,
   "id": "26b3615d-b927-459d-b8e7-f5cf560ca9c5",
   "metadata": {},
   "outputs": [],
   "source": [
    "for chunk in res.iter_content(100_000):\n",
    "    playfile.write(chunk)"
   ]
  },
  {
   "cell_type": "code",
   "execution_count": 13,
   "id": "31b4e061-6ab6-453c-9a83-3b7a88720dd6",
   "metadata": {},
   "outputs": [],
   "source": [
    "playfile.close()"
   ]
  },
  {
   "cell_type": "code",
   "execution_count": null,
   "id": "ed8b136a-5911-42c0-831a-88f2555eaf12",
   "metadata": {},
   "outputs": [],
   "source": []
  }
 ],
 "metadata": {
  "kernelspec": {
   "display_name": "Python 3 (ipykernel)",
   "language": "python",
   "name": "python3"
  },
  "language_info": {
   "codemirror_mode": {
    "name": "ipython",
    "version": 3
   },
   "file_extension": ".py",
   "mimetype": "text/x-python",
   "name": "python",
   "nbconvert_exporter": "python",
   "pygments_lexer": "ipython3",
   "version": "3.9.12"
  }
 },
 "nbformat": 4,
 "nbformat_minor": 5
}
