{
 "cells": [
  {
   "cell_type": "code",
   "execution_count": 1,
   "id": "03f7f8b9-21f1-49f9-b65c-e53825611e48",
   "metadata": {},
   "outputs": [],
   "source": [
    "import PyPDF2"
   ]
  },
  {
   "cell_type": "code",
   "execution_count": 2,
   "id": "b425325c-4e58-4f57-ab1e-b88934042634",
   "metadata": {},
   "outputs": [],
   "source": [
    "pdf1_file = open('meetingminutes.pdf', 'rb')  # read-binary mode\n",
    "pdf2_file = open('meetingminutes2.pdf', 'rb')"
   ]
  },
  {
   "cell_type": "code",
   "execution_count": 3,
   "id": "9b295e49-a7a6-4fd4-9bff-9057325801e4",
   "metadata": {},
   "outputs": [],
   "source": [
    "reader1 = PyPDF2.PdfReader(pdf1_file)\n",
    "reader2 = PyPDF2.PdfReader(pdf2_file)"
   ]
  },
  {
   "cell_type": "code",
   "execution_count": 4,
   "id": "9ec8e4e5-7448-48e2-87fa-fbaec13e5c4b",
   "metadata": {},
   "outputs": [],
   "source": [
    "writer = PyPDF2.PdfWriter()"
   ]
  },
  {
   "cell_type": "code",
   "execution_count": 5,
   "id": "797ebb6c-6915-49b0-8dc6-5cc614756880",
   "metadata": {},
   "outputs": [],
   "source": [
    "for page_num in range(len(reader1.pages)):\n",
    "    page = reader1.pages[page_num]\n",
    "    writer.add_page(page)"
   ]
  },
  {
   "cell_type": "code",
   "execution_count": 6,
   "id": "468c7d4f-f7ab-415b-9246-cc70c302d852",
   "metadata": {},
   "outputs": [],
   "source": [
    "for page_num in range(len(reader2.pages)):\n",
    "    page = reader2.pages[page_num]\n",
    "    writer.add_page(page)"
   ]
  },
  {
   "cell_type": "code",
   "execution_count": 7,
   "id": "15f49aa7-a7a6-4c70-bb8a-84cad3f0efbe",
   "metadata": {},
   "outputs": [],
   "source": [
    "output_file = open('combinedminutes.pdf', 'wb')  # write-binary mode\n",
    "writer.write(output_file)\n",
    "output_file.close()\n",
    "pdf1_file.close()\n",
    "pdf2_file.close()"
   ]
  },
  {
   "cell_type": "code",
   "execution_count": null,
   "id": "5436e134-6f9a-4d50-a5a9-57d4d8127419",
   "metadata": {},
   "outputs": [],
   "source": []
  }
 ],
 "metadata": {
  "kernelspec": {
   "display_name": "Python 3 (ipykernel)",
   "language": "python",
   "name": "python3"
  },
  "language_info": {
   "codemirror_mode": {
    "name": "ipython",
    "version": 3
   },
   "file_extension": ".py",
   "mimetype": "text/x-python",
   "name": "python",
   "nbconvert_exporter": "python",
   "pygments_lexer": "ipython3",
   "version": "3.9.12"
  }
 },
 "nbformat": 4,
 "nbformat_minor": 5
}
