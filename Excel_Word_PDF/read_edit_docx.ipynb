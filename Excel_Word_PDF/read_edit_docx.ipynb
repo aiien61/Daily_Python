{
 "cells": [
  {
   "cell_type": "code",
   "execution_count": 3,
   "id": "2622087f-b0b2-4f3c-b1d3-eabe4e7c4114",
   "metadata": {},
   "outputs": [],
   "source": [
    "# install if necessary\n",
    "# !pip3 install python-docx"
   ]
  },
  {
   "cell_type": "code",
   "execution_count": 4,
   "id": "b0bb2938-8e26-49d8-a30d-1a4c8ea4c8c0",
   "metadata": {},
   "outputs": [],
   "source": [
    "import docx"
   ]
  },
  {
   "cell_type": "markdown",
   "id": "8d872d08-a252-4a8e-b9db-a8245cf19607",
   "metadata": {},
   "source": [
    "### Read Word docx file"
   ]
  },
  {
   "cell_type": "code",
   "execution_count": 5,
   "id": "c81cd874-1fbd-40f0-a41a-ae6c719bf502",
   "metadata": {},
   "outputs": [],
   "source": [
    "doc = docx.Document('demo.docx')"
   ]
  },
  {
   "cell_type": "markdown",
   "id": "51806e4e-8ee6-4de7-bd7d-39948163eae8",
   "metadata": {},
   "source": [
    "### Read how many paragraphs in the docx file. \n",
    ": One paragraph means users type 'Enter' in the docx file"
   ]
  },
  {
   "cell_type": "code",
   "execution_count": 6,
   "id": "c51031ad-832a-4b77-801d-d8636f1b91bf",
   "metadata": {},
   "outputs": [
    {
     "data": {
      "text/plain": [
       "[<docx.text.paragraph.Paragraph at 0x7f1a03072940>,\n",
       " <docx.text.paragraph.Paragraph at 0x7f1a030729d0>,\n",
       " <docx.text.paragraph.Paragraph at 0x7f1a03072970>,\n",
       " <docx.text.paragraph.Paragraph at 0x7f1a03072a90>,\n",
       " <docx.text.paragraph.Paragraph at 0x7f1a03072a30>,\n",
       " <docx.text.paragraph.Paragraph at 0x7f1a03072b50>,\n",
       " <docx.text.paragraph.Paragraph at 0x7f1a03072af0>]"
      ]
     },
     "execution_count": 6,
     "metadata": {},
     "output_type": "execute_result"
    }
   ],
   "source": [
    "doc.paragraphs"
   ]
  },
  {
   "cell_type": "code",
   "execution_count": 8,
   "id": "0baffa6b-2ddc-49b7-9ce2-b00bf448dd31",
   "metadata": {},
   "outputs": [
    {
     "data": {
      "text/plain": [
       "<docx.text.paragraph.Paragraph at 0x7f1a03106280>"
      ]
     },
     "execution_count": 8,
     "metadata": {},
     "output_type": "execute_result"
    }
   ],
   "source": [
    "doc.paragraphs[0]"
   ]
  },
  {
   "cell_type": "code",
   "execution_count": 9,
   "id": "77486a29-41a0-49da-afc8-6a8db13e536a",
   "metadata": {},
   "outputs": [
    {
     "data": {
      "text/plain": [
       "'Document Title'"
      ]
     },
     "execution_count": 9,
     "metadata": {},
     "output_type": "execute_result"
    }
   ],
   "source": [
    "doc.paragraphs[0].text"
   ]
  },
  {
   "cell_type": "code",
   "execution_count": 10,
   "id": "c6b8aaba-e0e6-4c13-bb26-7e652bd37914",
   "metadata": {},
   "outputs": [
    {
     "data": {
      "text/plain": [
       "'A plain paragraph with some bold and some italic'"
      ]
     },
     "execution_count": 10,
     "metadata": {},
     "output_type": "execute_result"
    }
   ],
   "source": [
    "doc.paragraphs[1].text"
   ]
  },
  {
   "cell_type": "markdown",
   "id": "9eae7e5e-f8cb-4bf9-a308-8df4b2f5e65e",
   "metadata": {},
   "source": [
    "### Read how many runs in a paragraph\n",
    "every time the font style in a paragraph change, runs count increases "
   ]
  },
  {
   "cell_type": "code",
   "execution_count": 11,
   "id": "8756e5b2-8d1d-4bab-b889-904f8f95a251",
   "metadata": {},
   "outputs": [
    {
     "data": {
      "text/plain": [
       "[<docx.text.run.Run at 0x7f1a02f74d60>,\n",
       " <docx.text.run.Run at 0x7f1a02f74a60>,\n",
       " <docx.text.run.Run at 0x7f1a02f746d0>,\n",
       " <docx.text.run.Run at 0x7f1a02f745b0>,\n",
       " <docx.text.run.Run at 0x7f1a032796a0>]"
      ]
     },
     "execution_count": 11,
     "metadata": {},
     "output_type": "execute_result"
    }
   ],
   "source": [
    "para = doc.paragraphs[1]\n",
    "para.runs"
   ]
  },
  {
   "cell_type": "code",
   "execution_count": 12,
   "id": "e8bcdb0d-8812-4410-8d0f-33b97698f4da",
   "metadata": {},
   "outputs": [
    {
     "data": {
      "text/plain": [
       "'A plain paragraph with'"
      ]
     },
     "execution_count": 12,
     "metadata": {},
     "output_type": "execute_result"
    }
   ],
   "source": [
    "para.runs[0].text"
   ]
  },
  {
   "cell_type": "code",
   "execution_count": 13,
   "id": "b9bb9124-a25e-4aed-85ca-cd469f9f37ef",
   "metadata": {},
   "outputs": [
    {
     "data": {
      "text/plain": [
       "' some '"
      ]
     },
     "execution_count": 13,
     "metadata": {},
     "output_type": "execute_result"
    }
   ],
   "source": [
    "para.runs[1].text"
   ]
  },
  {
   "cell_type": "code",
   "execution_count": 14,
   "id": "09deb3a2-16bf-4771-ad28-72915ded7d4b",
   "metadata": {},
   "outputs": [
    {
     "data": {
      "text/plain": [
       "'bold'"
      ]
     },
     "execution_count": 14,
     "metadata": {},
     "output_type": "execute_result"
    }
   ],
   "source": [
    "para.runs[2].text"
   ]
  },
  {
   "cell_type": "code",
   "execution_count": 15,
   "id": "9388bd09-e65e-4b2c-8d6c-cd0aa7ef1b7e",
   "metadata": {},
   "outputs": [
    {
     "data": {
      "text/plain": [
       "' and some '"
      ]
     },
     "execution_count": 15,
     "metadata": {},
     "output_type": "execute_result"
    }
   ],
   "source": [
    "para.runs[3].text"
   ]
  },
  {
   "cell_type": "code",
   "execution_count": 19,
   "id": "cb1a9c19-c400-43bc-bc65-ee1c1d4f3502",
   "metadata": {},
   "outputs": [
    {
     "data": {
      "text/plain": [
       "'italic'"
      ]
     },
     "execution_count": 19,
     "metadata": {},
     "output_type": "execute_result"
    }
   ],
   "source": [
    "para.runs[4].text"
   ]
  },
  {
   "cell_type": "markdown",
   "id": "cb59c2b7-d2e7-4dd8-9d8a-d9a6d285971f",
   "metadata": {},
   "source": [
    "**Check the font style of each run**"
   ]
  },
  {
   "cell_type": "code",
   "execution_count": 21,
   "id": "54431a39-762a-44cd-94fd-c2bbd96aca28",
   "metadata": {},
   "outputs": [
    {
     "data": {
      "text/plain": [
       "True"
      ]
     },
     "execution_count": 21,
     "metadata": {},
     "output_type": "execute_result"
    }
   ],
   "source": [
    "para.runs[1].bold == None"
   ]
  },
  {
   "cell_type": "code",
   "execution_count": 17,
   "id": "478dc6d7-0933-4ebf-9b14-6c8aedec195c",
   "metadata": {},
   "outputs": [
    {
     "data": {
      "text/plain": [
       "True"
      ]
     },
     "execution_count": 17,
     "metadata": {},
     "output_type": "execute_result"
    }
   ],
   "source": [
    "para.runs[2].bold"
   ]
  },
  {
   "cell_type": "code",
   "execution_count": 20,
   "id": "381186de-7d37-456a-a7c6-4d08aa455000",
   "metadata": {},
   "outputs": [
    {
     "data": {
      "text/plain": [
       "True"
      ]
     },
     "execution_count": 20,
     "metadata": {},
     "output_type": "execute_result"
    }
   ],
   "source": [
    "para.runs[4].italic"
   ]
  },
  {
   "cell_type": "markdown",
   "id": "c0e30a90-7399-4e28-bfad-e9dbf470e555",
   "metadata": {},
   "source": [
    "### Change the font style, and save it to a new docx file"
   ]
  },
  {
   "cell_type": "code",
   "execution_count": 24,
   "id": "6a73cd44-4f41-4146-ae6a-b746ce48e39d",
   "metadata": {},
   "outputs": [],
   "source": [
    "para.runs[3].underline = True\n",
    "para.runs[3].text = ' italic and underlined '\n",
    "doc.save('demo2.docx')"
   ]
  },
  {
   "cell_type": "markdown",
   "id": "4932620a-ce77-4733-8993-16c585cfeb27",
   "metadata": {},
   "source": [
    "### Change the font style of an entire paragraph, and save it to a new docx file"
   ]
  },
  {
   "cell_type": "code",
   "execution_count": 25,
   "id": "3a24aa01-1f01-4876-afbf-653709a702d1",
   "metadata": {},
   "outputs": [],
   "source": [
    "para.style = 'Title'\n",
    "doc.save('demo3.docx')"
   ]
  },
  {
   "cell_type": "markdown",
   "id": "3eb0418e-050a-4149-a506-7236e969077f",
   "metadata": {},
   "source": [
    "### Create an empty docx object, and edit the paragraphs, and save it"
   ]
  },
  {
   "cell_type": "code",
   "execution_count": 26,
   "id": "4fc57ff3-f747-4d39-8137-25021876da36",
   "metadata": {},
   "outputs": [],
   "source": [
    "doc = docx.Document()\n",
    "doc.add_paragraph('Hello this is a paragraph.')\n",
    "doc.add_paragraph('This is another paragraph.')\n",
    "doc.save('demo4.docx')"
   ]
  },
  {
   "cell_type": "markdown",
   "id": "9e63d985-48d8-4ae0-bcbd-c2f135457de2",
   "metadata": {},
   "source": [
    "### Add a new run to an existing paragraph, and save it"
   ]
  },
  {
   "cell_type": "code",
   "execution_count": 27,
   "id": "f5a4f423-3128-4843-9582-b44d6b0e5eba",
   "metadata": {},
   "outputs": [
    {
     "data": {
      "text/plain": [
       "[<docx.text.run.Run at 0x7f1a033c2820>, <docx.text.run.Run at 0x7f1a033d8fa0>]"
      ]
     },
     "execution_count": 27,
     "metadata": {},
     "output_type": "execute_result"
    }
   ],
   "source": [
    "para = doc.paragraphs[0]\n",
    "para.add_run('This is a new run.')\n",
    "para.runs"
   ]
  },
  {
   "cell_type": "code",
   "execution_count": 28,
   "id": "fec9ca9a-54c3-4dd1-a25e-dcb29dadb9d3",
   "metadata": {},
   "outputs": [],
   "source": [
    "para.runs[1].bold = True\n",
    "doc.save('demo5.docx')"
   ]
  },
  {
   "cell_type": "markdown",
   "id": "3920c61d-7587-4e80-841e-f56d88ac2d9b",
   "metadata": {},
   "source": [
    "### Auto read the full text of a docx file"
   ]
  },
  {
   "cell_type": "code",
   "execution_count": 29,
   "id": "f9cc237c-64e1-4a80-8395-0b8aefdb16a3",
   "metadata": {},
   "outputs": [],
   "source": [
    "def get_text(filename: str):\n",
    "    doc = docx.Document(filename)\n",
    "    fulltext = []\n",
    "    for para in doc.paragraphs:\n",
    "        fulltext.append(para.text)\n",
    "    return '\\n'.join(fulltext)"
   ]
  },
  {
   "cell_type": "code",
   "execution_count": 31,
   "id": "ffe988f2-0ef4-4218-a999-d152c08196e5",
   "metadata": {},
   "outputs": [
    {
     "name": "stdout",
     "output_type": "stream",
     "text": [
      "Document Title\n",
      "A plain paragraph with some bold and some italic\n",
      "Heading, level 1\n",
      "Intense quote\n",
      "first item in unordered list\n",
      "first item in ordered list\n",
      "\n"
     ]
    }
   ],
   "source": [
    "print(get_text('demo.docx'))"
   ]
  },
  {
   "cell_type": "code",
   "execution_count": null,
   "id": "3fa51eaf-c1e5-4b52-a948-7f5294651ae9",
   "metadata": {},
   "outputs": [],
   "source": []
  }
 ],
 "metadata": {
  "kernelspec": {
   "display_name": "Python 3 (ipykernel)",
   "language": "python",
   "name": "python3"
  },
  "language_info": {
   "codemirror_mode": {
    "name": "ipython",
    "version": 3
   },
   "file_extension": ".py",
   "mimetype": "text/x-python",
   "name": "python",
   "nbconvert_exporter": "python",
   "pygments_lexer": "ipython3",
   "version": "3.9.12"
  }
 },
 "nbformat": 4,
 "nbformat_minor": 5
}
