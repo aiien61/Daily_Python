{
 "cells": [
  {
   "cell_type": "code",
   "execution_count": 1,
   "id": "01ea8bf9-b47c-447d-bb15-86116674f670",
   "metadata": {},
   "outputs": [],
   "source": [
    "import openpyxl"
   ]
  },
  {
   "cell_type": "markdown",
   "id": "926c6791-39b8-4201-9d63-72afb961df9c",
   "metadata": {},
   "source": [
    "### corrects costs in produce sales spreadsheet."
   ]
  },
  {
   "cell_type": "code",
   "execution_count": 2,
   "id": "85b8ee78-f774-4b43-a660-cb659b60b6d6",
   "metadata": {},
   "outputs": [],
   "source": [
    "wb = openpyxl.load_workbook('produceSales.xlsx')\n",
    "sheet = wb['Sheet']"
   ]
  },
  {
   "cell_type": "code",
   "execution_count": 5,
   "id": "f8ce03b2-9f48-4123-8562-c4bcbdd9ffac",
   "metadata": {},
   "outputs": [],
   "source": [
    "PRICE_UPDATES = {\n",
    "    'Garlic': 3.07,\n",
    "    'Celery': 1.19,\n",
    "    'Lemon': 1.27\n",
    "}"
   ]
  },
  {
   "cell_type": "code",
   "execution_count": 6,
   "id": "e3f11c61-cbcf-4139-bcd5-fe7bc1e9a8cb",
   "metadata": {},
   "outputs": [],
   "source": [
    "for row_num in range(2, sheet.max_row):  # the first row is header\n",
    "    produce_name = sheet.cell(row=row_num, column=1).value\n",
    "    if produce_name in PRICE_UPDATES:\n",
    "        sheet.cell(row=row_num, column=2).value = PRICE_UPDATES[produce_name]\n",
    "\n",
    "wb.save('updated_produceSales.xlsx')"
   ]
  },
  {
   "cell_type": "code",
   "execution_count": null,
   "id": "c0384bfe-2588-496a-adf1-0a8975fc6cdf",
   "metadata": {},
   "outputs": [],
   "source": []
  }
 ],
 "metadata": {
  "kernelspec": {
   "display_name": "Python 3 (ipykernel)",
   "language": "python",
   "name": "python3"
  },
  "language_info": {
   "codemirror_mode": {
    "name": "ipython",
    "version": 3
   },
   "file_extension": ".py",
   "mimetype": "text/x-python",
   "name": "python",
   "nbconvert_exporter": "python",
   "pygments_lexer": "ipython3",
   "version": "3.9.12"
  }
 },
 "nbformat": 4,
 "nbformat_minor": 5
}
