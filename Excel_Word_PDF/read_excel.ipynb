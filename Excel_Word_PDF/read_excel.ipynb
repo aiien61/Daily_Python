{
 "cells": [
  {
   "cell_type": "code",
   "execution_count": 1,
   "id": "e1281c49-c8e7-41dd-bbaa-c3a45744743c",
   "metadata": {},
   "outputs": [],
   "source": [
    "import openpyxl\n",
    "from openpyxl.utils import get_column_letter, column_index_from_string"
   ]
  },
  {
   "cell_type": "code",
   "execution_count": 2,
   "id": "44857b63-4a5b-4819-8ab4-7ba770219469",
   "metadata": {},
   "outputs": [
    {
     "data": {
      "text/plain": [
       "'A'"
      ]
     },
     "execution_count": 2,
     "metadata": {},
     "output_type": "execute_result"
    }
   ],
   "source": [
    "get_column_letter(1)"
   ]
  },
  {
   "cell_type": "code",
   "execution_count": 3,
   "id": "30586d21-1e7a-492b-8638-42d4c8067ffe",
   "metadata": {},
   "outputs": [
    {
     "data": {
      "text/plain": [
       "'B'"
      ]
     },
     "execution_count": 3,
     "metadata": {},
     "output_type": "execute_result"
    }
   ],
   "source": [
    "get_column_letter(2)"
   ]
  },
  {
   "cell_type": "code",
   "execution_count": 4,
   "id": "0cdafdf5-8ef8-42d3-8382-a02f606a394a",
   "metadata": {},
   "outputs": [
    {
     "data": {
      "text/plain": [
       "'AX'"
      ]
     },
     "execution_count": 4,
     "metadata": {},
     "output_type": "execute_result"
    }
   ],
   "source": [
    "get_column_letter(50)"
   ]
  },
  {
   "cell_type": "code",
   "execution_count": 5,
   "id": "d6862c49-a43b-45ed-88e0-e53f6f7818bc",
   "metadata": {},
   "outputs": [
    {
     "data": {
      "text/plain": [
       "'ALL'"
      ]
     },
     "execution_count": 5,
     "metadata": {},
     "output_type": "execute_result"
    }
   ],
   "source": [
    "get_column_letter(1000)"
   ]
  },
  {
   "cell_type": "code",
   "execution_count": 12,
   "id": "75938a72-2f24-45f8-a5b3-31a46af6dcc8",
   "metadata": {},
   "outputs": [
    {
     "data": {
      "text/plain": [
       "1"
      ]
     },
     "execution_count": 12,
     "metadata": {},
     "output_type": "execute_result"
    }
   ],
   "source": [
    "column_index_from_string('A')"
   ]
  },
  {
   "cell_type": "code",
   "execution_count": 13,
   "id": "bcdbc2e9-ff56-4007-945c-3a9fab40194d",
   "metadata": {},
   "outputs": [
    {
     "data": {
      "text/plain": [
       "27"
      ]
     },
     "execution_count": 13,
     "metadata": {},
     "output_type": "execute_result"
    }
   ],
   "source": [
    "column_index_from_string('AA')"
   ]
  },
  {
   "cell_type": "code",
   "execution_count": 6,
   "id": "21982493-22b1-439f-9c3f-c41b129dd6c1",
   "metadata": {},
   "outputs": [
    {
     "data": {
      "text/plain": [
       "openpyxl.workbook.workbook.Workbook"
      ]
     },
     "execution_count": 6,
     "metadata": {},
     "output_type": "execute_result"
    }
   ],
   "source": [
    "workbook = openpyxl.load_workbook('example.xlsx')\n",
    "type(workbook)"
   ]
  },
  {
   "cell_type": "code",
   "execution_count": 7,
   "id": "016b69b5-f7f2-4bf3-abfa-1eb00f5e89d6",
   "metadata": {},
   "outputs": [
    {
     "name": "stderr",
     "output_type": "stream",
     "text": [
      "/tmp/ipykernel_37458/4237943041.py:1: DeprecationWarning: Call to deprecated function get_sheet_names (Use wb.sheetnames).\n",
      "  workbook.get_sheet_names()\n"
     ]
    },
    {
     "data": {
      "text/plain": [
       "['Sheet1', 'Sheet2', 'Sheet3']"
      ]
     },
     "execution_count": 7,
     "metadata": {},
     "output_type": "execute_result"
    }
   ],
   "source": [
    "workbook.get_sheet_names()"
   ]
  },
  {
   "cell_type": "code",
   "execution_count": 8,
   "id": "a25d6676-7019-4e92-8747-837ee68b75db",
   "metadata": {},
   "outputs": [
    {
     "name": "stderr",
     "output_type": "stream",
     "text": [
      "/tmp/ipykernel_37458/3305305792.py:1: DeprecationWarning: Call to deprecated function get_sheet_by_name (Use wb[sheetname]).\n",
      "  sheet = workbook.get_sheet_by_name('Sheet1')\n"
     ]
    },
    {
     "data": {
      "text/plain": [
       "openpyxl.worksheet.worksheet.Worksheet"
      ]
     },
     "execution_count": 8,
     "metadata": {},
     "output_type": "execute_result"
    }
   ],
   "source": [
    "sheet = workbook.get_sheet_by_name('Sheet1')\n",
    "type(sheet)"
   ]
  },
  {
   "cell_type": "code",
   "execution_count": 9,
   "id": "7a8c7ea3-0423-4fcd-900a-9d2be62bb56c",
   "metadata": {},
   "outputs": [
    {
     "data": {
      "text/plain": [
       "7"
      ]
     },
     "execution_count": 9,
     "metadata": {},
     "output_type": "execute_result"
    }
   ],
   "source": [
    "sheet.max_row"
   ]
  },
  {
   "cell_type": "code",
   "execution_count": 10,
   "id": "7abc0381-9479-4cc2-9565-dff18f6b44ee",
   "metadata": {},
   "outputs": [
    {
     "data": {
      "text/plain": [
       "3"
      ]
     },
     "execution_count": 10,
     "metadata": {},
     "output_type": "execute_result"
    }
   ],
   "source": [
    "sheet.max_column"
   ]
  },
  {
   "cell_type": "code",
   "execution_count": 11,
   "id": "72a41039-5997-48cc-a065-cbcdc66e500f",
   "metadata": {},
   "outputs": [
    {
     "data": {
      "text/plain": [
       "'C'"
      ]
     },
     "execution_count": 11,
     "metadata": {},
     "output_type": "execute_result"
    }
   ],
   "source": [
    "get_column_letter(sheet.max_column)"
   ]
  },
  {
   "cell_type": "code",
   "execution_count": 5,
   "id": "07f5e3d4-9849-4b05-831c-ae78acbe0c38",
   "metadata": {},
   "outputs": [
    {
     "data": {
      "text/plain": [
       "<Cell 'Sheet1'.A1>"
      ]
     },
     "execution_count": 5,
     "metadata": {},
     "output_type": "execute_result"
    }
   ],
   "source": [
    "sheet['A1']"
   ]
  },
  {
   "cell_type": "code",
   "execution_count": 6,
   "id": "f624d1ac-2804-4984-884f-4108854bec32",
   "metadata": {},
   "outputs": [
    {
     "data": {
      "text/plain": [
       "datetime.datetime(2015, 4, 5, 13, 34, 2)"
      ]
     },
     "execution_count": 6,
     "metadata": {},
     "output_type": "execute_result"
    }
   ],
   "source": [
    "cell = sheet['A1']\n",
    "cell.value"
   ]
  },
  {
   "cell_type": "code",
   "execution_count": 8,
   "id": "f08eddc6-2650-42db-8872-e25348dbf08e",
   "metadata": {},
   "outputs": [
    {
     "data": {
      "text/plain": [
       "'2015-04-05 13:34:02'"
      ]
     },
     "execution_count": 8,
     "metadata": {},
     "output_type": "execute_result"
    }
   ],
   "source": [
    "str(cell.value)"
   ]
  },
  {
   "cell_type": "code",
   "execution_count": 9,
   "id": "cb668b54-ef05-4e9e-953a-fab7927b1ea0",
   "metadata": {},
   "outputs": [
    {
     "data": {
      "text/plain": [
       "'2015-04-05 13:34:02'"
      ]
     },
     "execution_count": 9,
     "metadata": {},
     "output_type": "execute_result"
    }
   ],
   "source": [
    "str(sheet['A1'].value)"
   ]
  },
  {
   "cell_type": "code",
   "execution_count": 10,
   "id": "33a39371-07f9-40a4-a6dd-a6bef49ca49c",
   "metadata": {},
   "outputs": [
    {
     "data": {
      "text/plain": [
       "'Apples'"
      ]
     },
     "execution_count": 10,
     "metadata": {},
     "output_type": "execute_result"
    }
   ],
   "source": [
    "str(sheet['B1'].value)"
   ]
  },
  {
   "cell_type": "code",
   "execution_count": 11,
   "id": "6cab98da-60fd-4986-b18a-8cda17a5f1e0",
   "metadata": {},
   "outputs": [
    {
     "data": {
      "text/plain": [
       "'73'"
      ]
     },
     "execution_count": 11,
     "metadata": {},
     "output_type": "execute_result"
    }
   ],
   "source": [
    "str(sheet['C1'].value)"
   ]
  },
  {
   "cell_type": "code",
   "execution_count": 12,
   "id": "149a2ae9-4312-4bed-83ae-ed26cfa40ec2",
   "metadata": {},
   "outputs": [
    {
     "data": {
      "text/plain": [
       "<Cell 'Sheet1'.B1>"
      ]
     },
     "execution_count": 12,
     "metadata": {},
     "output_type": "execute_result"
    }
   ],
   "source": [
    "sheet.cell(row=1, column=2)"
   ]
  },
  {
   "cell_type": "code",
   "execution_count": 13,
   "id": "69872bd7-6946-4969-86f6-a6e4671f6e70",
   "metadata": {},
   "outputs": [
    {
     "data": {
      "text/plain": [
       "True"
      ]
     },
     "execution_count": 13,
     "metadata": {},
     "output_type": "execute_result"
    }
   ],
   "source": [
    "sheet['B1'] == sheet.cell(row=1, column=2)"
   ]
  },
  {
   "cell_type": "code",
   "execution_count": 14,
   "id": "99c4a942-a3f6-46c9-9457-9f88df3a70a8",
   "metadata": {},
   "outputs": [
    {
     "name": "stdout",
     "output_type": "stream",
     "text": [
      "1 Apples\n",
      "2 Apples\n",
      "3 Apples\n",
      "4 Apples\n",
      "5 Apples\n",
      "6 Apples\n",
      "7 Apples\n"
     ]
    }
   ],
   "source": [
    "for i in range(1, 8):\n",
    "    print(i, sheet.cell(row=1, column=2).value)"
   ]
  },
  {
   "cell_type": "code",
   "execution_count": 14,
   "id": "3924ae1b-8f61-4bf4-976f-629d6d9a8d80",
   "metadata": {},
   "outputs": [
    {
     "data": {
      "text/plain": [
       "((<Cell 'Sheet1'.A1>, <Cell 'Sheet1'.B1>, <Cell 'Sheet1'.C1>),\n",
       " (<Cell 'Sheet1'.A2>, <Cell 'Sheet1'.B2>, <Cell 'Sheet1'.C2>),\n",
       " (<Cell 'Sheet1'.A3>, <Cell 'Sheet1'.B3>, <Cell 'Sheet1'.C3>))"
      ]
     },
     "execution_count": 14,
     "metadata": {},
     "output_type": "execute_result"
    }
   ],
   "source": [
    "tuple(sheet['A1': 'C3'])"
   ]
  },
  {
   "cell_type": "code",
   "execution_count": 17,
   "id": "1ad471bb-7fc8-400d-9c4f-a2b57fa8a04e",
   "metadata": {},
   "outputs": [
    {
     "name": "stdout",
     "output_type": "stream",
     "text": [
      "A1 2015-04-05 13:34:02\n",
      "B1 Apples\n",
      "C1 73\n",
      "--------END OF ROW-------\n",
      "A2 2015-04-05 03:41:23\n",
      "B2 Cherries\n",
      "C2 85\n",
      "--------END OF ROW-------\n",
      "A3 2015-04-06 12:46:51\n",
      "B3 Pears\n",
      "C3 14\n",
      "--------END OF ROW-------\n"
     ]
    }
   ],
   "source": [
    "for row in sheet['A1': 'C3']:\n",
    "    for cell in row:\n",
    "        print(cell.coordinate, cell.value)\n",
    "    print('END OF ROW'.center(25, '-'))"
   ]
  },
  {
   "cell_type": "code",
   "execution_count": null,
   "id": "213f6f32-556e-4709-8f99-106f426c95ce",
   "metadata": {},
   "outputs": [],
   "source": []
  }
 ],
 "metadata": {
  "kernelspec": {
   "display_name": "Python 3 (ipykernel)",
   "language": "python",
   "name": "python3"
  },
  "language_info": {
   "codemirror_mode": {
    "name": "ipython",
    "version": 3
   },
   "file_extension": ".py",
   "mimetype": "text/x-python",
   "name": "python",
   "nbconvert_exporter": "python",
   "pygments_lexer": "ipython3",
   "version": "3.9.12"
  }
 },
 "nbformat": 4,
 "nbformat_minor": 5
}
