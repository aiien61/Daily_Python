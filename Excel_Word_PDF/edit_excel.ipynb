{
 "cells": [
  {
   "cell_type": "code",
   "execution_count": 1,
   "id": "05f7e856-56cf-4a41-b998-882f733a2af5",
   "metadata": {},
   "outputs": [],
   "source": [
    "import openpyxl"
   ]
  },
  {
   "cell_type": "markdown",
   "id": "65386e53-edd6-43b1-81dd-3f88a45ee4d3",
   "metadata": {},
   "source": [
    "### Create a workbook object and edit some content to save it as an excel file"
   ]
  },
  {
   "cell_type": "code",
   "execution_count": 2,
   "id": "9a1f9eca-6a86-475a-9be2-965d7d09edf3",
   "metadata": {},
   "outputs": [
    {
     "data": {
      "text/plain": [
       "<openpyxl.workbook.workbook.Workbook at 0x7efd346739a0>"
      ]
     },
     "execution_count": 2,
     "metadata": {},
     "output_type": "execute_result"
    }
   ],
   "source": [
    "wb = openpyxl.Workbook()\n",
    "wb"
   ]
  },
  {
   "cell_type": "code",
   "execution_count": 3,
   "id": "4a94ca6f-2a49-448e-bbeb-fa20f3790c51",
   "metadata": {},
   "outputs": [
    {
     "name": "stderr",
     "output_type": "stream",
     "text": [
      "/tmp/ipykernel_10650/1212622292.py:1: DeprecationWarning: Call to deprecated function get_sheet_names (Use wb.sheetnames).\n",
      "  wb.get_sheet_names()\n"
     ]
    },
    {
     "data": {
      "text/plain": [
       "['Sheet']"
      ]
     },
     "execution_count": 3,
     "metadata": {},
     "output_type": "execute_result"
    }
   ],
   "source": [
    "wb.get_sheet_names()"
   ]
  },
  {
   "cell_type": "code",
   "execution_count": 4,
   "id": "96ca5108-ff71-4a6f-bf53-625fb41265c3",
   "metadata": {},
   "outputs": [
    {
     "name": "stderr",
     "output_type": "stream",
     "text": [
      "/tmp/ipykernel_10650/3852328085.py:1: DeprecationWarning: Call to deprecated function get_sheet_by_name (Use wb[sheetname]).\n",
      "  sheet = wb.get_sheet_by_name('Sheet')\n"
     ]
    },
    {
     "data": {
      "text/plain": [
       "<Worksheet \"Sheet\">"
      ]
     },
     "execution_count": 4,
     "metadata": {},
     "output_type": "execute_result"
    }
   ],
   "source": [
    "sheet = wb.get_sheet_by_name('Sheet')\n",
    "sheet"
   ]
  },
  {
   "cell_type": "code",
   "execution_count": 6,
   "id": "9da6fd71-e4ad-49be-b25a-71af2101467d",
   "metadata": {},
   "outputs": [
    {
     "data": {
      "text/plain": [
       "True"
      ]
     },
     "execution_count": 6,
     "metadata": {},
     "output_type": "execute_result"
    }
   ],
   "source": [
    "sheet['A1'].value == None"
   ]
  },
  {
   "cell_type": "code",
   "execution_count": 7,
   "id": "d449c063-402a-495e-b80d-c3c128b1535a",
   "metadata": {},
   "outputs": [],
   "source": [
    "sheet['A1'] = 50\n",
    "sheet['A2'] = 'Hello'"
   ]
  },
  {
   "cell_type": "code",
   "execution_count": 8,
   "id": "163aaa9c-08be-4a77-8bed-8b5790f77468",
   "metadata": {},
   "outputs": [],
   "source": [
    "wb.save('my_example.xlsx')"
   ]
  },
  {
   "cell_type": "markdown",
   "id": "28c6a187-098c-49fa-803f-88325f8e3045",
   "metadata": {},
   "source": [
    "### Original workbook object creates a new sheet, and save two sheets in an excel file"
   ]
  },
  {
   "cell_type": "code",
   "execution_count": 9,
   "id": "9b20b3f0-84a7-4d24-a45c-46ca5047946e",
   "metadata": {},
   "outputs": [
    {
     "name": "stderr",
     "output_type": "stream",
     "text": [
      "/tmp/ipykernel_10650/1759364608.py:2: DeprecationWarning: Call to deprecated function get_sheet_names (Use wb.sheetnames).\n",
      "  wb.get_sheet_names()\n"
     ]
    },
    {
     "data": {
      "text/plain": [
       "['Sheet', 'Sheet1']"
      ]
     },
     "execution_count": 9,
     "metadata": {},
     "output_type": "execute_result"
    }
   ],
   "source": [
    "sheet2 = wb.create_sheet()\n",
    "wb.get_sheet_names()"
   ]
  },
  {
   "cell_type": "code",
   "execution_count": 10,
   "id": "16cdfaea-e0db-4b69-a09c-852b4de1e43d",
   "metadata": {},
   "outputs": [
    {
     "data": {
      "text/plain": [
       "'Sheet1'"
      ]
     },
     "execution_count": 10,
     "metadata": {},
     "output_type": "execute_result"
    }
   ],
   "source": [
    "sheet2.title"
   ]
  },
  {
   "cell_type": "code",
   "execution_count": 11,
   "id": "47e5cb6f-96f9-4068-b25d-f5c4171b2f93",
   "metadata": {},
   "outputs": [
    {
     "name": "stderr",
     "output_type": "stream",
     "text": [
      "/tmp/ipykernel_10650/1271197708.py:2: DeprecationWarning: Call to deprecated function get_sheet_names (Use wb.sheetnames).\n",
      "  wb.get_sheet_names()\n"
     ]
    },
    {
     "data": {
      "text/plain": [
       "['Sheet', 'My New Sheet Name']"
      ]
     },
     "execution_count": 11,
     "metadata": {},
     "output_type": "execute_result"
    }
   ],
   "source": [
    "sheet2.title = 'My New Sheet Name'\n",
    "wb.get_sheet_names()"
   ]
  },
  {
   "cell_type": "code",
   "execution_count": 13,
   "id": "8eb5562b-a9d6-4495-9e3d-bb840257e8c1",
   "metadata": {},
   "outputs": [],
   "source": [
    "wb.save('my_example2.xlsx')"
   ]
  },
  {
   "cell_type": "markdown",
   "id": "1fe97dc5-b43b-4340-aeab-4715813e6414",
   "metadata": {},
   "source": [
    "### Original workbook object creates a new sheet, and save three sheets in an excel file"
   ]
  },
  {
   "cell_type": "code",
   "execution_count": 15,
   "id": "a83c3164-5006-4948-8942-2a00a434f24c",
   "metadata": {},
   "outputs": [],
   "source": [
    "wb.create_sheet(index=0, title='My Other Sheet')\n",
    "wb.save('my_example3.xlsx')"
   ]
  }
 ],
 "metadata": {
  "kernelspec": {
   "display_name": "Python 3 (ipykernel)",
   "language": "python",
   "name": "python3"
  },
  "language_info": {
   "codemirror_mode": {
    "name": "ipython",
    "version": 3
   },
   "file_extension": ".py",
   "mimetype": "text/x-python",
   "name": "python",
   "nbconvert_exporter": "python",
   "pygments_lexer": "ipython3",
   "version": "3.9.12"
  }
 },
 "nbformat": 4,
 "nbformat_minor": 5
}
