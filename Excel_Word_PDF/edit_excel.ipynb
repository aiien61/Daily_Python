{
 "cells": [
  {
   "cell_type": "code",
   "execution_count": 1,
   "id": "05f7e856-56cf-4a41-b998-882f733a2af5",
   "metadata": {},
   "outputs": [],
   "source": [
    "import openpyxl"
   ]
  },
  {
   "cell_type": "markdown",
   "id": "65386e53-edd6-43b1-81dd-3f88a45ee4d3",
   "metadata": {},
   "source": [
    "### Create a workbook object and edit some content to save it as an excel file"
   ]
  },
  {
   "cell_type": "code",
   "execution_count": 2,
   "id": "9a1f9eca-6a86-475a-9be2-965d7d09edf3",
   "metadata": {},
   "outputs": [
    {
     "data": {
      "text/plain": [
       "<openpyxl.workbook.workbook.Workbook at 0x7f784b038850>"
      ]
     },
     "execution_count": 2,
     "metadata": {},
     "output_type": "execute_result"
    }
   ],
   "source": [
    "wb = openpyxl.Workbook()\n",
    "wb"
   ]
  },
  {
   "cell_type": "code",
   "execution_count": 3,
   "id": "4a94ca6f-2a49-448e-bbeb-fa20f3790c51",
   "metadata": {},
   "outputs": [
    {
     "data": {
      "text/plain": [
       "['Sheet']"
      ]
     },
     "execution_count": 3,
     "metadata": {},
     "output_type": "execute_result"
    }
   ],
   "source": [
    "wb.sheetnames"
   ]
  },
  {
   "cell_type": "code",
   "execution_count": 4,
   "id": "96ca5108-ff71-4a6f-bf53-625fb41265c3",
   "metadata": {},
   "outputs": [
    {
     "data": {
      "text/plain": [
       "<Worksheet \"Sheet\">"
      ]
     },
     "execution_count": 4,
     "metadata": {},
     "output_type": "execute_result"
    }
   ],
   "source": [
    "sheet = wb['Sheet']\n",
    "sheet"
   ]
  },
  {
   "cell_type": "code",
   "execution_count": 5,
   "id": "9da6fd71-e4ad-49be-b25a-71af2101467d",
   "metadata": {},
   "outputs": [
    {
     "data": {
      "text/plain": [
       "True"
      ]
     },
     "execution_count": 5,
     "metadata": {},
     "output_type": "execute_result"
    }
   ],
   "source": [
    "sheet['A1'].value == None"
   ]
  },
  {
   "cell_type": "code",
   "execution_count": 6,
   "id": "d449c063-402a-495e-b80d-c3c128b1535a",
   "metadata": {},
   "outputs": [],
   "source": [
    "sheet['A1'] = 50\n",
    "sheet['A2'] = 'Hello'"
   ]
  },
  {
   "cell_type": "code",
   "execution_count": 7,
   "id": "163aaa9c-08be-4a77-8bed-8b5790f77468",
   "metadata": {},
   "outputs": [],
   "source": [
    "wb.save('my_example.xlsx')"
   ]
  },
  {
   "cell_type": "markdown",
   "id": "28c6a187-098c-49fa-803f-88325f8e3045",
   "metadata": {},
   "source": [
    "### Original workbook object creates a new sheet, and save two sheets in an excel file"
   ]
  },
  {
   "cell_type": "code",
   "execution_count": 8,
   "id": "9b20b3f0-84a7-4d24-a45c-46ca5047946e",
   "metadata": {},
   "outputs": [
    {
     "data": {
      "text/plain": [
       "['Sheet', 'Sheet1']"
      ]
     },
     "execution_count": 8,
     "metadata": {},
     "output_type": "execute_result"
    }
   ],
   "source": [
    "sheet2 = wb.create_sheet()\n",
    "wb.sheetnames"
   ]
  },
  {
   "cell_type": "code",
   "execution_count": 9,
   "id": "16cdfaea-e0db-4b69-a09c-852b4de1e43d",
   "metadata": {},
   "outputs": [
    {
     "data": {
      "text/plain": [
       "'Sheet1'"
      ]
     },
     "execution_count": 9,
     "metadata": {},
     "output_type": "execute_result"
    }
   ],
   "source": [
    "sheet2.title"
   ]
  },
  {
   "cell_type": "code",
   "execution_count": 10,
   "id": "47e5cb6f-96f9-4068-b25d-f5c4171b2f93",
   "metadata": {},
   "outputs": [
    {
     "data": {
      "text/plain": [
       "['Sheet', 'My New Sheet Name']"
      ]
     },
     "execution_count": 10,
     "metadata": {},
     "output_type": "execute_result"
    }
   ],
   "source": [
    "sheet2.title = 'My New Sheet Name'\n",
    "wb.sheetnames"
   ]
  },
  {
   "cell_type": "code",
   "execution_count": 11,
   "id": "8eb5562b-a9d6-4495-9e3d-bb840257e8c1",
   "metadata": {},
   "outputs": [],
   "source": [
    "wb.save('my_example2.xlsx')"
   ]
  },
  {
   "cell_type": "markdown",
   "id": "1fe97dc5-b43b-4340-aeab-4715813e6414",
   "metadata": {},
   "source": [
    "### Original workbook object creates a new sheet, and save three sheets in an excel file"
   ]
  },
  {
   "cell_type": "code",
   "execution_count": 12,
   "id": "a83c3164-5006-4948-8942-2a00a434f24c",
   "metadata": {},
   "outputs": [],
   "source": [
    "wb.create_sheet(index=0, title='My Other Sheet')\n",
    "wb.save('my_example3.xlsx')"
   ]
  },
  {
   "cell_type": "markdown",
   "id": "2a754eb3-14d8-4edf-891d-4938fb84b689",
   "metadata": {},
   "source": [
    "### Remove sheet"
   ]
  },
  {
   "cell_type": "code",
   "execution_count": 13,
   "id": "7c18d34d-60a8-4cc6-8da8-8495e4c4f86b",
   "metadata": {},
   "outputs": [
    {
     "data": {
      "text/plain": [
       "['My Other Sheet', 'Sheet', 'My New Sheet Name']"
      ]
     },
     "execution_count": 13,
     "metadata": {},
     "output_type": "execute_result"
    }
   ],
   "source": [
    "wb.sheetnames"
   ]
  },
  {
   "cell_type": "code",
   "execution_count": 14,
   "id": "189cbd85-ce5d-4ddf-8d74-0a25b53eb9d9",
   "metadata": {},
   "outputs": [
    {
     "name": "stderr",
     "output_type": "stream",
     "text": [
      "/tmp/ipykernel_44397/444128958.py:1: DeprecationWarning: Call to deprecated function remove_sheet (Use wb.remove(worksheet) or del wb[sheetname]).\n",
      "  wb.remove_sheet(wb['My Other Sheet'])\n",
      "/tmp/ipykernel_44397/444128958.py:2: DeprecationWarning: Call to deprecated function remove_sheet (Use wb.remove(worksheet) or del wb[sheetname]).\n",
      "  wb.remove_sheet(wb['My New Sheet Name'])\n"
     ]
    }
   ],
   "source": [
    "wb.remove(wb['My Other Sheet'])\n",
    "wb.remove(wb['My New Sheet Name'])"
   ]
  },
  {
   "cell_type": "code",
   "execution_count": 15,
   "id": "2ecefc52-a001-4f6f-8f59-0d5b8d26313d",
   "metadata": {},
   "outputs": [
    {
     "data": {
      "text/plain": [
       "['Sheet']"
      ]
     },
     "execution_count": 15,
     "metadata": {},
     "output_type": "execute_result"
    }
   ],
   "source": [
    "wb.sheetnames"
   ]
  },
  {
   "cell_type": "markdown",
   "id": "65bad7e2-14dd-45f8-bd3e-090a8f352f4b",
   "metadata": {},
   "source": [
    "### Font"
   ]
  },
  {
   "cell_type": "code",
   "execution_count": 16,
   "id": "1c9f89a6-c96e-4b38-9c81-485acf40b0b4",
   "metadata": {},
   "outputs": [],
   "source": [
    "from openpyxl.styles import Font"
   ]
  },
  {
   "cell_type": "code",
   "execution_count": 21,
   "id": "40f82228-2968-4f78-b79c-64a9b974c8ae",
   "metadata": {},
   "outputs": [],
   "source": [
    "wb = openpyxl.Workbook()\n",
    "sheet = wb['Sheet']"
   ]
  },
  {
   "cell_type": "code",
   "execution_count": 24,
   "id": "e6c2e39c-f7e6-4be0-8e87-372ca908c20a",
   "metadata": {},
   "outputs": [],
   "source": [
    "font1 = Font(name='Times New Roman', bold=True)\n",
    "sheet['A1'].font = font1\n",
    "sheet['A1'] = 'Bold Times New Roman'\n",
    "\n",
    "font2 = Font(size=24, italic=True)\n",
    "sheet['B3'].font = font2\n",
    "sheet['B3'] = '24 pt Italic'\n",
    "wb.save('styles.xlsx')"
   ]
  },
  {
   "cell_type": "markdown",
   "id": "0b9ae55a-efbc-4710-8aa8-ae037839c743",
   "metadata": {},
   "source": [
    "### Call Excel Formula"
   ]
  },
  {
   "cell_type": "code",
   "execution_count": 25,
   "id": "f743c3fd-d11e-4167-acc7-05b5fbf4c97e",
   "metadata": {},
   "outputs": [],
   "source": [
    "wb = openpyxl.Workbook()\n",
    "sheet = wb['Sheet']\n",
    "sheet['A1'] = 200\n",
    "sheet['A2'] = 300\n",
    "sheet['A3'] = '=SUM(A1:A2)'\n",
    "wb.save('writeFormula.xlsx')"
   ]
  },
  {
   "cell_type": "markdown",
   "id": "40c18f90-2515-4ac4-950b-dd3f47472af4",
   "metadata": {},
   "source": [
    "### Set the height of rows and the width of columns"
   ]
  },
  {
   "cell_type": "code",
   "execution_count": 26,
   "id": "98726b21-a122-491a-841b-8474f8108d44",
   "metadata": {},
   "outputs": [],
   "source": [
    "wb = openpyxl.Workbook()\n",
    "sheet = wb['Sheet']\n",
    "\n",
    "sheet['A1'] = 'Tall row'\n",
    "sheet['B2'] = 'Wide column'\n",
    "\n",
    "sheet.row_dimensions[1].height = 70\n",
    "sheet.column_dimensions['B'].width = 20\n",
    "\n",
    "wb.save('dimensions.xlsx')"
   ]
  },
  {
   "cell_type": "markdown",
   "id": "f2161d92-ff0d-4efc-94ee-2bef8390a72c",
   "metadata": {},
   "source": [
    "### Merge cells"
   ]
  },
  {
   "cell_type": "code",
   "execution_count": 27,
   "id": "785030bc-4574-47fa-9c1e-8888a65b3ae5",
   "metadata": {},
   "outputs": [],
   "source": [
    "wb = openpyxl.Workbook()\n",
    "sheet = wb['Sheet']\n",
    "\n",
    "sheet.merge_cells('A1:D3')\n",
    "sheet['A1'] = 'Twelve cells merged together'\n",
    "sheet.merge_cells('C5:D5')\n",
    "sheet['C5'] = 'Two merged cells'\n",
    "\n",
    "wb.save('merged.xlsx')"
   ]
  },
  {
   "cell_type": "markdown",
   "id": "463be0b4-7211-4abb-9166-d799df87e7bf",
   "metadata": {},
   "source": [
    "### Unmerge cells"
   ]
  },
  {
   "cell_type": "code",
   "execution_count": 28,
   "id": "6a42f564-6bab-4d53-9301-18c1ce230e8a",
   "metadata": {},
   "outputs": [],
   "source": [
    "sheet.unmerge_cells('A1:D3')\n",
    "sheet.unmerge_cells('C5:D5')\n",
    "wb.save('merged.xlsx')"
   ]
  },
  {
   "cell_type": "markdown",
   "id": "89035f44-ea3d-472f-bddc-bb4fea4054f2",
   "metadata": {},
   "source": [
    "### Freeze panes"
   ]
  },
  {
   "cell_type": "code",
   "execution_count": 29,
   "id": "fc6087da-5dfa-4303-915e-85d1659002c4",
   "metadata": {},
   "outputs": [],
   "source": [
    "wb = openpyxl.load_workbook('produceSales.xlsx')"
   ]
  },
  {
   "cell_type": "code",
   "execution_count": 30,
   "id": "dfe7527c-82c0-484f-9abb-8a14ffd023df",
   "metadata": {},
   "outputs": [
    {
     "data": {
      "text/plain": [
       "['Sheet']"
      ]
     },
     "execution_count": 30,
     "metadata": {},
     "output_type": "execute_result"
    }
   ],
   "source": [
    "wb.sheetnames"
   ]
  },
  {
   "cell_type": "code",
   "execution_count": 31,
   "id": "4c6bb226-fa97-4c4a-9e35-fb4fb9cfe362",
   "metadata": {},
   "outputs": [],
   "source": [
    "sheet = wb['Sheet']\n",
    "sheet.freeze_panes = 'A2'\n",
    "wb.save('freezeExample.xlsx')"
   ]
  },
  {
   "cell_type": "markdown",
   "id": "080bc351-9be1-4951-a66a-f4e3029c63a7",
   "metadata": {},
   "source": [
    "### Charts"
   ]
  },
  {
   "cell_type": "code",
   "execution_count": 32,
   "id": "9fc00d23-dded-4e0d-84e8-dc8b577c0dd8",
   "metadata": {},
   "outputs": [],
   "source": [
    "wb = openpyxl.Workbook()\n",
    "sheet = wb['Sheet']\n",
    "for i in range(1, 11):\n",
    "    sheet[f'A{i}'] = i"
   ]
  },
  {
   "cell_type": "code",
   "execution_count": 33,
   "id": "365f8b29-6f1e-478d-988f-ececeeb64806",
   "metadata": {},
   "outputs": [],
   "source": [
    "ref_obj = openpyxl.chart.Reference(sheet, min_col=1, min_row=1, max_col=1, max_row=10)\n",
    "series_obj = openpyxl.chart.Series(ref_obj, title='First series')"
   ]
  },
  {
   "cell_type": "code",
   "execution_count": 34,
   "id": "7767fda8-85e4-480c-96c9-56f34da792d4",
   "metadata": {},
   "outputs": [],
   "source": [
    "chart_obj = openpyxl.chart.BarChart()\n",
    "chart_obj.title = 'My Chart'\n",
    "chart_obj.append(series_obj)\n",
    "sheet.add_chart(chart_obj, 'C5')\n",
    "\n",
    "wb.save('sampleChart.xlsx')"
   ]
  },
  {
   "cell_type": "markdown",
   "id": "8ac60658-5e0d-4923-b6a9-f1cd0608cec5",
   "metadata": {},
   "source": [
    "# Create a multiplication table NxN"
   ]
  },
  {
   "cell_type": "code",
   "execution_count": 55,
   "id": "7515c19f-34c6-4bb6-98dc-2a74bc2ca489",
   "metadata": {},
   "outputs": [],
   "source": [
    "n = 6"
   ]
  },
  {
   "cell_type": "code",
   "execution_count": 56,
   "id": "10f4f6a3-ac66-4b7f-8ee7-d92503f81777",
   "metadata": {},
   "outputs": [],
   "source": [
    "wb = openpyxl.Workbook()\n",
    "sheet = wb['Sheet']"
   ]
  },
  {
   "cell_type": "code",
   "execution_count": 57,
   "id": "873662af-5904-4ec4-a956-85e45126697f",
   "metadata": {},
   "outputs": [],
   "source": [
    "# first column\n",
    "for i in range(2, n+1):\n",
    "    sheet[f'A{i}'] = i"
   ]
  },
  {
   "cell_type": "code",
   "execution_count": 58,
   "id": "1a3cedc0-480f-43d8-b309-f42521f48de6",
   "metadata": {},
   "outputs": [],
   "source": [
    "# first row\n",
    "for i in range(2, n+1):\n",
    "    sheet.cell(row=1, column=i).value = i"
   ]
  },
  {
   "cell_type": "code",
   "execution_count": 59,
   "id": "ee954f98-a3d3-435e-9568-5334f48047a4",
   "metadata": {},
   "outputs": [],
   "source": [
    "for row_num in range(2, n+1):\n",
    "    row_value = sheet.cell(row=row_num, column=1).value\n",
    "    for col_num in range(2, n+1):\n",
    "        col_value = sheet.cell(row=1, column=col_num).value\n",
    "        sheet.cell(row=row_num, column=col_num).value = row_value * col_value\n",
    "\n",
    "wb.save(f'multiplication_table_{n}x{n}.xlsx')        "
   ]
  },
  {
   "cell_type": "markdown",
   "id": "98cd1388-8c31-4533-ab83-ec4e5ba76088",
   "metadata": {},
   "source": [
    "# Insert blank row"
   ]
  },
  {
   "cell_type": "code",
   "execution_count": 60,
   "id": "d160e748-35f7-4365-a809-9fb8fc0a1df5",
   "metadata": {},
   "outputs": [],
   "source": [
    "start_row = 3\n",
    "blank_rows = 2"
   ]
  },
  {
   "cell_type": "code",
   "execution_count": 61,
   "id": "4e141904-19cc-4a0a-a311-b72b9143a26d",
   "metadata": {},
   "outputs": [],
   "source": [
    "wb = openpyxl.load_workbook('produceSales.xlsx')\n",
    "sheet = wb['Sheet']"
   ]
  },
  {
   "cell_type": "code",
   "execution_count": 62,
   "id": "e9cb656e-65d5-4dde-8ed0-ae5602811816",
   "metadata": {},
   "outputs": [
    {
     "data": {
      "text/plain": [
       "4"
      ]
     },
     "execution_count": 62,
     "metadata": {},
     "output_type": "execute_result"
    }
   ],
   "source": [
    "sheet.max_column"
   ]
  },
  {
   "cell_type": "code",
   "execution_count": 63,
   "id": "eea4f3dd-1e92-409b-ac23-d6ad0f8da925",
   "metadata": {},
   "outputs": [
    {
     "data": {
      "text/plain": [
       "23758"
      ]
     },
     "execution_count": 63,
     "metadata": {},
     "output_type": "execute_result"
    }
   ],
   "source": [
    "sheet.max_row"
   ]
  },
  {
   "cell_type": "code",
   "execution_count": 68,
   "id": "37d573f5-bac8-495f-b25b-3010e523e4b2",
   "metadata": {},
   "outputs": [],
   "source": [
    "for row_num in reversed(range(start_row, sheet.max_row+1)):\n",
    "    for col_num in range(1, sheet.max_column+1):\n",
    "        sheet.cell(row=row_num+blank_rows, column=col_num).value = sheet.cell(row=row_num, column=col_num).value"
   ]
  },
  {
   "cell_type": "code",
   "execution_count": 70,
   "id": "46f25395-d4b3-4ab8-8f5b-c6f86f4a98c1",
   "metadata": {},
   "outputs": [],
   "source": [
    "for row_num in range(start_row, start_row + blank_rows + 1):\n",
    "    for col_num in range(1, sheet.max_column + 1):\n",
    "        sheet.cell(row=row_num, column=col_num).value = None"
   ]
  },
  {
   "cell_type": "code",
   "execution_count": 71,
   "id": "a105209a-6485-416a-a8ec-2de0c6cf9055",
   "metadata": {},
   "outputs": [],
   "source": [
    "wb.save(f'produceSales_blank{start_row}{blank_rows}.xlsx')"
   ]
  }
 ],
 "metadata": {
  "kernelspec": {
   "display_name": "Python 3 (ipykernel)",
   "language": "python",
   "name": "python3"
  },
  "language_info": {
   "codemirror_mode": {
    "name": "ipython",
    "version": 3
   },
   "file_extension": ".py",
   "mimetype": "text/x-python",
   "name": "python",
   "nbconvert_exporter": "python",
   "pygments_lexer": "ipython3",
   "version": "3.9.12"
  }
 },
 "nbformat": 4,
 "nbformat_minor": 5
}
