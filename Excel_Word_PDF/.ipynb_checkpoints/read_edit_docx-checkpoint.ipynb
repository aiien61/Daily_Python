{
 "cells": [
  {
   "cell_type": "code",
   "execution_count": 3,
   "id": "2622087f-b0b2-4f3c-b1d3-eabe4e7c4114",
   "metadata": {},
   "outputs": [],
   "source": [
    "# install if necessary\n",
    "# !pip3 install python-docx"
   ]
  },
  {
   "cell_type": "code",
   "execution_count": 4,
   "id": "b0bb2938-8e26-49d8-a30d-1a4c8ea4c8c0",
   "metadata": {},
   "outputs": [],
   "source": [
    "import docx"
   ]
  },
  {
   "cell_type": "code",
   "execution_count": 5,
   "id": "c81cd874-1fbd-40f0-a41a-ae6c719bf502",
   "metadata": {},
   "outputs": [],
   "source": [
    "doc = docx.Document('demo.docx')"
   ]
  },
  {
   "cell_type": "code",
   "execution_count": 6,
   "id": "c51031ad-832a-4b77-801d-d8636f1b91bf",
   "metadata": {},
   "outputs": [
    {
     "data": {
      "text/plain": [
       "[<docx.text.paragraph.Paragraph at 0x7f1a03072940>,\n",
       " <docx.text.paragraph.Paragraph at 0x7f1a030729d0>,\n",
       " <docx.text.paragraph.Paragraph at 0x7f1a03072970>,\n",
       " <docx.text.paragraph.Paragraph at 0x7f1a03072a90>,\n",
       " <docx.text.paragraph.Paragraph at 0x7f1a03072a30>,\n",
       " <docx.text.paragraph.Paragraph at 0x7f1a03072b50>,\n",
       " <docx.text.paragraph.Paragraph at 0x7f1a03072af0>]"
      ]
     },
     "execution_count": 6,
     "metadata": {},
     "output_type": "execute_result"
    }
   ],
   "source": [
    "doc.paragraphs"
   ]
  },
  {
   "cell_type": "code",
   "execution_count": 8,
   "id": "0baffa6b-2ddc-49b7-9ce2-b00bf448dd31",
   "metadata": {},
   "outputs": [
    {
     "data": {
      "text/plain": [
       "<docx.text.paragraph.Paragraph at 0x7f1a03106280>"
      ]
     },
     "execution_count": 8,
     "metadata": {},
     "output_type": "execute_result"
    }
   ],
   "source": [
    "doc.paragraphs[0]"
   ]
  },
  {
   "cell_type": "code",
   "execution_count": 9,
   "id": "77486a29-41a0-49da-afc8-6a8db13e536a",
   "metadata": {},
   "outputs": [
    {
     "data": {
      "text/plain": [
       "'Document Title'"
      ]
     },
     "execution_count": 9,
     "metadata": {},
     "output_type": "execute_result"
    }
   ],
   "source": [
    "doc.paragraphs[0].text"
   ]
  },
  {
   "cell_type": "code",
   "execution_count": 10,
   "id": "c6b8aaba-e0e6-4c13-bb26-7e652bd37914",
   "metadata": {},
   "outputs": [
    {
     "data": {
      "text/plain": [
       "'A plain paragraph with some bold and some italic'"
      ]
     },
     "execution_count": 10,
     "metadata": {},
     "output_type": "execute_result"
    }
   ],
   "source": [
    "doc.paragraphs[1].text"
   ]
  },
  {
   "cell_type": "code",
   "execution_count": 11,
   "id": "8756e5b2-8d1d-4bab-b889-904f8f95a251",
   "metadata": {},
   "outputs": [
    {
     "data": {
      "text/plain": [
       "[<docx.text.run.Run at 0x7f1a02f74d60>,\n",
       " <docx.text.run.Run at 0x7f1a02f74a60>,\n",
       " <docx.text.run.Run at 0x7f1a02f746d0>,\n",
       " <docx.text.run.Run at 0x7f1a02f745b0>,\n",
       " <docx.text.run.Run at 0x7f1a032796a0>]"
      ]
     },
     "execution_count": 11,
     "metadata": {},
     "output_type": "execute_result"
    }
   ],
   "source": [
    "para = doc.paragraphs[1]\n",
    "para.runs  # every time font style changes in a sentence, runs count plus one"
   ]
  },
  {
   "cell_type": "code",
   "execution_count": 12,
   "id": "e8bcdb0d-8812-4410-8d0f-33b97698f4da",
   "metadata": {},
   "outputs": [
    {
     "data": {
      "text/plain": [
       "'A plain paragraph with'"
      ]
     },
     "execution_count": 12,
     "metadata": {},
     "output_type": "execute_result"
    }
   ],
   "source": [
    "para.runs[0].text"
   ]
  },
  {
   "cell_type": "code",
   "execution_count": 13,
   "id": "b9bb9124-a25e-4aed-85ca-cd469f9f37ef",
   "metadata": {},
   "outputs": [
    {
     "data": {
      "text/plain": [
       "' some '"
      ]
     },
     "execution_count": 13,
     "metadata": {},
     "output_type": "execute_result"
    }
   ],
   "source": [
    "para.runs[1].text"
   ]
  },
  {
   "cell_type": "code",
   "execution_count": 14,
   "id": "09deb3a2-16bf-4771-ad28-72915ded7d4b",
   "metadata": {},
   "outputs": [
    {
     "data": {
      "text/plain": [
       "'bold'"
      ]
     },
     "execution_count": 14,
     "metadata": {},
     "output_type": "execute_result"
    }
   ],
   "source": [
    "para.runs[2].text"
   ]
  },
  {
   "cell_type": "code",
   "execution_count": 15,
   "id": "9388bd09-e65e-4b2c-8d6c-cd0aa7ef1b7e",
   "metadata": {},
   "outputs": [
    {
     "data": {
      "text/plain": [
       "' and some '"
      ]
     },
     "execution_count": 15,
     "metadata": {},
     "output_type": "execute_result"
    }
   ],
   "source": [
    "para.runs[3].text"
   ]
  },
  {
   "cell_type": "code",
   "execution_count": 19,
   "id": "cb1a9c19-c400-43bc-bc65-ee1c1d4f3502",
   "metadata": {},
   "outputs": [
    {
     "data": {
      "text/plain": [
       "'italic'"
      ]
     },
     "execution_count": 19,
     "metadata": {},
     "output_type": "execute_result"
    }
   ],
   "source": [
    "para.runs[4].text"
   ]
  },
  {
   "cell_type": "code",
   "execution_count": 21,
   "id": "54431a39-762a-44cd-94fd-c2bbd96aca28",
   "metadata": {},
   "outputs": [
    {
     "data": {
      "text/plain": [
       "True"
      ]
     },
     "execution_count": 21,
     "metadata": {},
     "output_type": "execute_result"
    }
   ],
   "source": [
    "para.runs[1].bold == None"
   ]
  },
  {
   "cell_type": "code",
   "execution_count": 17,
   "id": "478dc6d7-0933-4ebf-9b14-6c8aedec195c",
   "metadata": {},
   "outputs": [
    {
     "data": {
      "text/plain": [
       "True"
      ]
     },
     "execution_count": 17,
     "metadata": {},
     "output_type": "execute_result"
    }
   ],
   "source": [
    "para.runs[2].bold"
   ]
  },
  {
   "cell_type": "code",
   "execution_count": 20,
   "id": "381186de-7d37-456a-a7c6-4d08aa455000",
   "metadata": {},
   "outputs": [
    {
     "data": {
      "text/plain": [
       "True"
      ]
     },
     "execution_count": 20,
     "metadata": {},
     "output_type": "execute_result"
    }
   ],
   "source": [
    "para.runs[4].italic"
   ]
  },
  {
   "cell_type": "code",
   "execution_count": 23,
   "id": "6a73cd44-4f41-4146-ae6a-b746ce48e39d",
   "metadata": {},
   "outputs": [],
   "source": [
    "para.runs[3].underline = True\n",
    "para.runs[3].text = ' italic and underlined '\n",
    "doc.save('demo2.docx')"
   ]
  },
  {
   "cell_type": "code",
   "execution_count": null,
   "id": "3a24aa01-1f01-4876-afbf-653709a702d1",
   "metadata": {},
   "outputs": [],
   "source": []
  }
 ],
 "metadata": {
  "kernelspec": {
   "display_name": "Python 3 (ipykernel)",
   "language": "python",
   "name": "python3"
  },
  "language_info": {
   "codemirror_mode": {
    "name": "ipython",
    "version": 3
   },
   "file_extension": ".py",
   "mimetype": "text/x-python",
   "name": "python",
   "nbconvert_exporter": "python",
   "pygments_lexer": "ipython3",
   "version": "3.9.12"
  }
 },
 "nbformat": 4,
 "nbformat_minor": 5
}
