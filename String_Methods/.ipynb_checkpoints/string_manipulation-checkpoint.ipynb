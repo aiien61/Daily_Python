{
 "cells": [
  {
   "cell_type": "markdown",
   "id": "4513dd14-a827-4949-a042-c23939c166da",
   "metadata": {},
   "source": [
    "**raw string**"
   ]
  },
  {
   "cell_type": "code",
   "execution_count": 1,
   "id": "c90c6af0-6bc1-426b-990e-2b039214d7a0",
   "metadata": {},
   "outputs": [
    {
     "data": {
      "text/plain": [
       "\"This is a Carol's cat.\""
      ]
     },
     "execution_count": 1,
     "metadata": {},
     "output_type": "execute_result"
    }
   ],
   "source": [
    "'This is a Carol\\'s cat.'"
   ]
  },
  {
   "cell_type": "code",
   "execution_count": 2,
   "id": "c69ad854-aa24-4859-aedc-bf0fa8174bb7",
   "metadata": {},
   "outputs": [
    {
     "data": {
      "text/plain": [
       "\"This is a Carol\\\\'s cat.\""
      ]
     },
     "execution_count": 2,
     "metadata": {},
     "output_type": "execute_result"
    }
   ],
   "source": [
    "r'This is a Carol\\'s cat.'"
   ]
  },
  {
   "cell_type": "markdown",
   "id": "9424f8e2-ce68-4dc9-b817-4af9479c2953",
   "metadata": {},
   "source": [
    "**upper() & lower()**"
   ]
  },
  {
   "cell_type": "code",
   "execution_count": 4,
   "id": "7db26e9f-3ad0-4cce-98f8-c29343150e45",
   "metadata": {},
   "outputs": [
    {
     "data": {
      "text/plain": [
       "'HELLO WORLD'"
      ]
     },
     "execution_count": 4,
     "metadata": {},
     "output_type": "execute_result"
    }
   ],
   "source": [
    "spam = 'Hello world'\n",
    "spam.upper()"
   ]
  },
  {
   "cell_type": "code",
   "execution_count": 5,
   "id": "20c05beb-15e0-4876-aad7-52f29d2b157b",
   "metadata": {},
   "outputs": [
    {
     "data": {
      "text/plain": [
       "'hello world'"
      ]
     },
     "execution_count": 5,
     "metadata": {},
     "output_type": "execute_result"
    }
   ],
   "source": [
    "spam.lower()"
   ]
  },
  {
   "cell_type": "markdown",
   "id": "af275018-11f4-40da-bad9-286d6906e8a3",
   "metadata": {},
   "source": [
    "**title() & capitalize()**"
   ]
  },
  {
   "cell_type": "code",
   "execution_count": 6,
   "id": "17842079-4b74-46bb-8246-2dd9db6a972f",
   "metadata": {},
   "outputs": [
    {
     "data": {
      "text/plain": [
       "'Hello world'"
      ]
     },
     "execution_count": 6,
     "metadata": {},
     "output_type": "execute_result"
    }
   ],
   "source": [
    "spam.capitalize()"
   ]
  },
  {
   "cell_type": "code",
   "execution_count": 7,
   "id": "bec9bf6d-7270-4dd3-89c5-bc6cb6c0aa70",
   "metadata": {},
   "outputs": [
    {
     "data": {
      "text/plain": [
       "'Hello World'"
      ]
     },
     "execution_count": 7,
     "metadata": {},
     "output_type": "execute_result"
    }
   ],
   "source": [
    "spam.title()"
   ]
  },
  {
   "cell_type": "markdown",
   "id": "197f8768-728a-4c83-923e-cf7aea96b2e2",
   "metadata": {},
   "source": [
    "**isupper() & islower()**"
   ]
  },
  {
   "cell_type": "code",
   "execution_count": 8,
   "id": "cc53155d-78e2-4f73-bd7b-358da06b22f9",
   "metadata": {},
   "outputs": [],
   "source": [
    "spam = 'Hello world'"
   ]
  },
  {
   "cell_type": "code",
   "execution_count": 9,
   "id": "029a3e73-4931-4303-9368-961fee5996e0",
   "metadata": {},
   "outputs": [
    {
     "data": {
      "text/plain": [
       "False"
      ]
     },
     "execution_count": 9,
     "metadata": {},
     "output_type": "execute_result"
    }
   ],
   "source": [
    "spam.islower()"
   ]
  },
  {
   "cell_type": "code",
   "execution_count": 10,
   "id": "d03d5dc1-dbf4-49f4-9bf8-7765248fbbe0",
   "metadata": {},
   "outputs": [
    {
     "data": {
      "text/plain": [
       "False"
      ]
     },
     "execution_count": 10,
     "metadata": {},
     "output_type": "execute_result"
    }
   ],
   "source": [
    "spam.isupper()"
   ]
  },
  {
   "cell_type": "code",
   "execution_count": 11,
   "id": "c35d6472-2847-4c9b-8104-42247b85e78c",
   "metadata": {},
   "outputs": [
    {
     "data": {
      "text/plain": [
       "True"
      ]
     },
     "execution_count": 11,
     "metadata": {},
     "output_type": "execute_result"
    }
   ],
   "source": [
    "'HELLO'.isupper()"
   ]
  },
  {
   "cell_type": "code",
   "execution_count": 12,
   "id": "b5efd409-8880-4cb5-85c6-c4468d8bf7c9",
   "metadata": {},
   "outputs": [
    {
     "data": {
      "text/plain": [
       "True"
      ]
     },
     "execution_count": 12,
     "metadata": {},
     "output_type": "execute_result"
    }
   ],
   "source": [
    "'world'.islower()"
   ]
  },
  {
   "cell_type": "code",
   "execution_count": 13,
   "id": "bd394e11-86ba-4007-a3f1-83596eafb57a",
   "metadata": {},
   "outputs": [
    {
     "data": {
      "text/plain": [
       "True"
      ]
     },
     "execution_count": 13,
     "metadata": {},
     "output_type": "execute_result"
    }
   ],
   "source": [
    "'abc12345'.islower()"
   ]
  },
  {
   "cell_type": "code",
   "execution_count": 14,
   "id": "33323af1-3613-443d-8e64-e1ab4150240e",
   "metadata": {},
   "outputs": [
    {
     "data": {
      "text/plain": [
       "True"
      ]
     },
     "execution_count": 14,
     "metadata": {},
     "output_type": "execute_result"
    }
   ],
   "source": [
    "'ABC12345'.isupper()"
   ]
  },
  {
   "cell_type": "code",
   "execution_count": 15,
   "id": "10b90213-b270-4155-ac03-99b8d9ba474b",
   "metadata": {},
   "outputs": [
    {
     "data": {
      "text/plain": [
       "False"
      ]
     },
     "execution_count": 15,
     "metadata": {},
     "output_type": "execute_result"
    }
   ],
   "source": [
    "'12345'.islower()"
   ]
  },
  {
   "cell_type": "code",
   "execution_count": 16,
   "id": "7c43028b-53a6-4193-b687-84efb4c08033",
   "metadata": {},
   "outputs": [
    {
     "data": {
      "text/plain": [
       "False"
      ]
     },
     "execution_count": 16,
     "metadata": {},
     "output_type": "execute_result"
    }
   ],
   "source": [
    "'12345'.isupper()"
   ]
  },
  {
   "cell_type": "markdown",
   "id": "43c49d0e-7c78-4694-918e-7bba20f8cbe7",
   "metadata": {},
   "source": [
    "**isalpha()**\n",
    "\n",
    "whether letters only"
   ]
  },
  {
   "cell_type": "code",
   "execution_count": 17,
   "id": "a8c953cd-ab69-44ea-b9a4-2324723c1752",
   "metadata": {},
   "outputs": [
    {
     "data": {
      "text/plain": [
       "True"
      ]
     },
     "execution_count": 17,
     "metadata": {},
     "output_type": "execute_result"
    }
   ],
   "source": [
    "'hello'.isalpha()"
   ]
  },
  {
   "cell_type": "code",
   "execution_count": 18,
   "id": "3821dc47-1491-4dcb-935c-d19e77d4795c",
   "metadata": {},
   "outputs": [
    {
     "data": {
      "text/plain": [
       "False"
      ]
     },
     "execution_count": 18,
     "metadata": {},
     "output_type": "execute_result"
    }
   ],
   "source": [
    "'hello123'.isalpha()"
   ]
  },
  {
   "cell_type": "markdown",
   "id": "37a511ad-cf1e-4c59-a54b-559585807333",
   "metadata": {},
   "source": [
    "**isalnum()**\n",
    "\n",
    "whether letters or number is contained only"
   ]
  },
  {
   "cell_type": "code",
   "execution_count": 19,
   "id": "b010d4d3-533d-4a66-be3d-e3de9d20dda1",
   "metadata": {},
   "outputs": [
    {
     "data": {
      "text/plain": [
       "True"
      ]
     },
     "execution_count": 19,
     "metadata": {},
     "output_type": "execute_result"
    }
   ],
   "source": [
    "'abc123'.isalnum()"
   ]
  },
  {
   "cell_type": "code",
   "execution_count": 20,
   "id": "117e0316-cbe4-4d4c-a783-f902a5e08b6f",
   "metadata": {},
   "outputs": [
    {
     "data": {
      "text/plain": [
       "True"
      ]
     },
     "execution_count": 20,
     "metadata": {},
     "output_type": "execute_result"
    }
   ],
   "source": [
    "'123'.isalnum()"
   ]
  },
  {
   "cell_type": "code",
   "execution_count": 21,
   "id": "b0219205-f353-4bae-867b-7854cde334b5",
   "metadata": {},
   "outputs": [
    {
     "data": {
      "text/plain": [
       "True"
      ]
     },
     "execution_count": 21,
     "metadata": {},
     "output_type": "execute_result"
    }
   ],
   "source": [
    "'abc'.isalnum()"
   ]
  },
  {
   "cell_type": "markdown",
   "id": "4e62c69e-d750-430d-bef2-146078e0c4c8",
   "metadata": {},
   "source": [
    "**isdecimal()**\n",
    "\n",
    "whether numbers only"
   ]
  },
  {
   "cell_type": "code",
   "execution_count": 22,
   "id": "a2aa026c-746d-4d0e-a5b9-b09e0855b0c7",
   "metadata": {},
   "outputs": [
    {
     "data": {
      "text/plain": [
       "True"
      ]
     },
     "execution_count": 22,
     "metadata": {},
     "output_type": "execute_result"
    }
   ],
   "source": [
    "'123'.isdecimal()"
   ]
  },
  {
   "cell_type": "code",
   "execution_count": 23,
   "id": "48f240b6-7649-4ff8-bc86-3be65871d586",
   "metadata": {},
   "outputs": [
    {
     "data": {
      "text/plain": [
       "False"
      ]
     },
     "execution_count": 23,
     "metadata": {},
     "output_type": "execute_result"
    }
   ],
   "source": [
    "'abc'.isdecimal()"
   ]
  },
  {
   "cell_type": "code",
   "execution_count": 24,
   "id": "18531654-9b26-4e58-8706-0073b69b1c81",
   "metadata": {},
   "outputs": [
    {
     "data": {
      "text/plain": [
       "False"
      ]
     },
     "execution_count": 24,
     "metadata": {},
     "output_type": "execute_result"
    }
   ],
   "source": [
    "'abc123'.isdecimal()"
   ]
  },
  {
   "cell_type": "markdown",
   "id": "8695aa53-9ea2-4b03-8b73-040023027930",
   "metadata": {},
   "source": [
    "**isspace()**\n",
    "\n",
    "whether whitespace only"
   ]
  },
  {
   "cell_type": "code",
   "execution_count": 25,
   "id": "f7f944d0-1f41-4e91-b955-7f0b8518eeea",
   "metadata": {},
   "outputs": [
    {
     "data": {
      "text/plain": [
       "True"
      ]
     },
     "execution_count": 25,
     "metadata": {},
     "output_type": "execute_result"
    }
   ],
   "source": [
    "'    '.isspace()"
   ]
  },
  {
   "cell_type": "code",
   "execution_count": 26,
   "id": "4ce3cbdc-a446-4736-b15a-ba27112ceab6",
   "metadata": {},
   "outputs": [
    {
     "data": {
      "text/plain": [
       "False"
      ]
     },
     "execution_count": 26,
     "metadata": {},
     "output_type": "execute_result"
    }
   ],
   "source": [
    "'   abc   '.isspace()"
   ]
  },
  {
   "cell_type": "markdown",
   "id": "1f9113cf-7f1e-4d21-b9fe-cf7393df5897",
   "metadata": {},
   "source": [
    "**istitle()**\n",
    "\n",
    "whether titlecase only"
   ]
  },
  {
   "cell_type": "code",
   "execution_count": 27,
   "id": "8cc78e95-112c-4525-be6e-665c7fc663e7",
   "metadata": {},
   "outputs": [
    {
     "data": {
      "text/plain": [
       "True"
      ]
     },
     "execution_count": 27,
     "metadata": {},
     "output_type": "execute_result"
    }
   ],
   "source": [
    "'This Is Title Case'.istitle()"
   ]
  },
  {
   "cell_type": "code",
   "execution_count": 28,
   "id": "383e2d05-fa7b-4f9b-87d5-34c186e6f10c",
   "metadata": {},
   "outputs": [
    {
     "data": {
      "text/plain": [
       "True"
      ]
     },
     "execution_count": 28,
     "metadata": {},
     "output_type": "execute_result"
    }
   ],
   "source": [
    "'This Is Title Case 123'.istitle()"
   ]
  },
  {
   "cell_type": "code",
   "execution_count": 29,
   "id": "5548b9a3-622d-4c7b-9597-1936a1763bca",
   "metadata": {},
   "outputs": [
    {
     "data": {
      "text/plain": [
       "False"
      ]
     },
     "execution_count": 29,
     "metadata": {},
     "output_type": "execute_result"
    }
   ],
   "source": [
    "'This Is not Title Case'.istitle()"
   ]
  },
  {
   "cell_type": "code",
   "execution_count": 30,
   "id": "72c5c578-c63d-45ef-a70d-b278c18ebde9",
   "metadata": {},
   "outputs": [
    {
     "data": {
      "text/plain": [
       "False"
      ]
     },
     "execution_count": 30,
     "metadata": {},
     "output_type": "execute_result"
    }
   ],
   "source": [
    "'Thsi Is NOT Title Case Either'.istitle()"
   ]
  },
  {
   "cell_type": "markdown",
   "id": "f5565069-ea75-4a47-9bc5-ebe8772fec4c",
   "metadata": {},
   "source": [
    "**startswith() & endswith()**"
   ]
  },
  {
   "cell_type": "code",
   "execution_count": 31,
   "id": "aa1f24c3-30ac-435c-b70e-d2149aa3180f",
   "metadata": {},
   "outputs": [],
   "source": [
    "s1, s2 = 'Hello World!', 'abc123'"
   ]
  },
  {
   "cell_type": "code",
   "execution_count": 33,
   "id": "3155c381-54cb-4696-af6b-6bd3bf35711f",
   "metadata": {},
   "outputs": [
    {
     "data": {
      "text/plain": [
       "True"
      ]
     },
     "execution_count": 33,
     "metadata": {},
     "output_type": "execute_result"
    }
   ],
   "source": [
    "s1.startswith('Hello')"
   ]
  },
  {
   "cell_type": "code",
   "execution_count": 34,
   "id": "536d440c-2e94-4a6c-85bf-1cc2c30401b8",
   "metadata": {},
   "outputs": [
    {
     "data": {
      "text/plain": [
       "True"
      ]
     },
     "execution_count": 34,
     "metadata": {},
     "output_type": "execute_result"
    }
   ],
   "source": [
    "s1.endswith('World!')"
   ]
  },
  {
   "cell_type": "code",
   "execution_count": 35,
   "id": "c08cb361-374d-43a0-b1af-c95c5685e46f",
   "metadata": {},
   "outputs": [
    {
     "data": {
      "text/plain": [
       "False"
      ]
     },
     "execution_count": 35,
     "metadata": {},
     "output_type": "execute_result"
    }
   ],
   "source": [
    "s1.endswith('World')"
   ]
  },
  {
   "cell_type": "code",
   "execution_count": 36,
   "id": "6ec914a7-3bf4-402a-abbb-42171bacd68a",
   "metadata": {},
   "outputs": [
    {
     "data": {
      "text/plain": [
       "False"
      ]
     },
     "execution_count": 36,
     "metadata": {},
     "output_type": "execute_result"
    }
   ],
   "source": [
    "s2.startswith('abcd')"
   ]
  },
  {
   "cell_type": "code",
   "execution_count": 37,
   "id": "cb046eed-ab19-4bd8-8f3d-50be3609a920",
   "metadata": {},
   "outputs": [
    {
     "data": {
      "text/plain": [
       "False"
      ]
     },
     "execution_count": 37,
     "metadata": {},
     "output_type": "execute_result"
    }
   ],
   "source": [
    "s2.startswith('123')"
   ]
  },
  {
   "cell_type": "code",
   "execution_count": 38,
   "id": "fdb74b81-e1e6-4c9d-b5c2-689900637606",
   "metadata": {},
   "outputs": [
    {
     "data": {
      "text/plain": [
       "True"
      ]
     },
     "execution_count": 38,
     "metadata": {},
     "output_type": "execute_result"
    }
   ],
   "source": [
    "s1.startswith('Hello World!')"
   ]
  },
  {
   "cell_type": "code",
   "execution_count": 39,
   "id": "d352dd19-e5d7-42b5-83cb-8ab41a9f1608",
   "metadata": {},
   "outputs": [
    {
     "data": {
      "text/plain": [
       "True"
      ]
     },
     "execution_count": 39,
     "metadata": {},
     "output_type": "execute_result"
    }
   ],
   "source": [
    "s1.endswith('Hello World!')"
   ]
  },
  {
   "cell_type": "markdown",
   "id": "ca82f2f4-f45c-4ceb-b0fd-c5fcb91334c9",
   "metadata": {},
   "source": [
    "**join() & split()**"
   ]
  },
  {
   "cell_type": "code",
   "execution_count": 40,
   "id": "a5c5dd5e-6d70-4aa2-90f5-4e7b74d17b87",
   "metadata": {},
   "outputs": [
    {
     "data": {
      "text/plain": [
       "'cats, rats, bats'"
      ]
     },
     "execution_count": 40,
     "metadata": {},
     "output_type": "execute_result"
    }
   ],
   "source": [
    "', '.join(['cats', 'rats', 'bats'])"
   ]
  },
  {
   "cell_type": "code",
   "execution_count": 41,
   "id": "768ee963-4a51-4289-a49c-d74f0fc13cb2",
   "metadata": {},
   "outputs": [
    {
     "data": {
      "text/plain": [
       "'My name is Simon'"
      ]
     },
     "execution_count": 41,
     "metadata": {},
     "output_type": "execute_result"
    }
   ],
   "source": [
    "' '.join(['My', 'name', 'is', 'Simon'])"
   ]
  },
  {
   "cell_type": "code",
   "execution_count": 42,
   "id": "b30ced93-4ad8-45cb-b88f-e2f7ed24bfc0",
   "metadata": {},
   "outputs": [
    {
     "data": {
      "text/plain": [
       "'stopA->stopB->stopC'"
      ]
     },
     "execution_count": 42,
     "metadata": {},
     "output_type": "execute_result"
    }
   ],
   "source": [
    "'->'.join(['stopA', 'stopB', 'stopC'])"
   ]
  },
  {
   "cell_type": "code",
   "execution_count": 43,
   "id": "fe70f681-f173-4c74-b703-9d577b5454c4",
   "metadata": {},
   "outputs": [
    {
     "data": {
      "text/plain": [
       "['My', 'name', 'is', 'Simon']"
      ]
     },
     "execution_count": 43,
     "metadata": {},
     "output_type": "execute_result"
    }
   ],
   "source": [
    "'My name is Simon'.split()"
   ]
  },
  {
   "cell_type": "code",
   "execution_count": 44,
   "id": "8bb46e61-688b-4022-84c1-f8a36433701b",
   "metadata": {},
   "outputs": [
    {
     "data": {
      "text/plain": [
       "['stopA', 'stopB', 'stopC']"
      ]
     },
     "execution_count": 44,
     "metadata": {},
     "output_type": "execute_result"
    }
   ],
   "source": [
    "'stopA->stopB->stopC'.split('->')"
   ]
  },
  {
   "cell_type": "code",
   "execution_count": 45,
   "id": "43374c0b-2578-46c9-ae79-84a28384a266",
   "metadata": {},
   "outputs": [
    {
     "data": {
      "text/plain": [
       "['My na', 'e is Si', 'on']"
      ]
     },
     "execution_count": 45,
     "metadata": {},
     "output_type": "execute_result"
    }
   ],
   "source": [
    "'My name is Simon'.split('m')"
   ]
  },
  {
   "cell_type": "markdown",
   "id": "d240f311-bcf4-494c-b8d4-9fa0a7808269",
   "metadata": {},
   "source": [
    "**rjust() & ljust() & center()**"
   ]
  },
  {
   "cell_type": "code",
   "execution_count": 46,
   "id": "d40bf99b-3614-46f5-9cb8-d4f1f14f2fb8",
   "metadata": {},
   "outputs": [
    {
     "data": {
      "text/plain": [
       "'     hello'"
      ]
     },
     "execution_count": 46,
     "metadata": {},
     "output_type": "execute_result"
    }
   ],
   "source": [
    "'hello'.rjust(10)"
   ]
  },
  {
   "cell_type": "code",
   "execution_count": 47,
   "id": "cbd8def5-d0aa-4a63-aa6a-997950f7f40f",
   "metadata": {},
   "outputs": [
    {
     "data": {
      "text/plain": [
       "'               hello'"
      ]
     },
     "execution_count": 47,
     "metadata": {},
     "output_type": "execute_result"
    }
   ],
   "source": [
    "'hello'.rjust(20)"
   ]
  },
  {
   "cell_type": "code",
   "execution_count": 48,
   "id": "e791d04d-3c67-46ed-a757-8ece18c0fc19",
   "metadata": {},
   "outputs": [
    {
     "data": {
      "text/plain": [
       "'         hello world'"
      ]
     },
     "execution_count": 48,
     "metadata": {},
     "output_type": "execute_result"
    }
   ],
   "source": [
    "'hello world'.rjust(20)"
   ]
  },
  {
   "cell_type": "code",
   "execution_count": 49,
   "id": "dc2419b7-d8e6-4d0d-bc5b-e0bb2a98ecd9",
   "metadata": {},
   "outputs": [
    {
     "data": {
      "text/plain": [
       "'hello     '"
      ]
     },
     "execution_count": 49,
     "metadata": {},
     "output_type": "execute_result"
    }
   ],
   "source": [
    "'hello'.ljust(10)"
   ]
  },
  {
   "cell_type": "code",
   "execution_count": 50,
   "id": "432a9ebc-82a8-4323-9ba8-e8590d4c1ea1",
   "metadata": {},
   "outputs": [
    {
     "data": {
      "text/plain": [
       "'0123456789'"
      ]
     },
     "execution_count": 50,
     "metadata": {},
     "output_type": "execute_result"
    }
   ],
   "source": [
    "'0123456789'.rjust(10)"
   ]
  },
  {
   "cell_type": "code",
   "execution_count": 51,
   "id": "7de66e11-1c1d-4c3c-91a4-4dd32ead9a05",
   "metadata": {},
   "outputs": [
    {
     "data": {
      "text/plain": [
       "'012345678 '"
      ]
     },
     "execution_count": 51,
     "metadata": {},
     "output_type": "execute_result"
    }
   ],
   "source": [
    "'012345678'.ljust(10)"
   ]
  },
  {
   "cell_type": "code",
   "execution_count": 52,
   "id": "f63751ce-9a42-4015-b2d6-666f8adf3485",
   "metadata": {},
   "outputs": [
    {
     "data": {
      "text/plain": [
       "'0         '"
      ]
     },
     "execution_count": 52,
     "metadata": {},
     "output_type": "execute_result"
    }
   ],
   "source": [
    "'0'.ljust(10)"
   ]
  },
  {
   "cell_type": "code",
   "execution_count": 53,
   "id": "cacb2520-6ce4-470c-84b0-6542f4ead67c",
   "metadata": {},
   "outputs": [
    {
     "data": {
      "text/plain": [
       "'***************hello'"
      ]
     },
     "execution_count": 53,
     "metadata": {},
     "output_type": "execute_result"
    }
   ],
   "source": [
    "'hello'.rjust(20, '*')"
   ]
  },
  {
   "cell_type": "code",
   "execution_count": 54,
   "id": "8d841276-d2b9-44cb-97bc-0f59def69745",
   "metadata": {},
   "outputs": [
    {
     "data": {
      "text/plain": [
       "'hello***************'"
      ]
     },
     "execution_count": 54,
     "metadata": {},
     "output_type": "execute_result"
    }
   ],
   "source": [
    "'hello'.ljust(20, '*')"
   ]
  },
  {
   "cell_type": "code",
   "execution_count": 55,
   "id": "6793dc77-d559-4f3c-bfb3-db0afee111b9",
   "metadata": {},
   "outputs": [
    {
     "data": {
      "text/plain": [
       "'-------hello--------'"
      ]
     },
     "execution_count": 55,
     "metadata": {},
     "output_type": "execute_result"
    }
   ],
   "source": [
    "'hello'.center(20, '-')"
   ]
  },
  {
   "cell_type": "code",
   "execution_count": 56,
   "id": "59b5d6da-337b-412e-b399-b0861fd125a9",
   "metadata": {},
   "outputs": [
    {
     "data": {
      "text/plain": [
       "'       hello        '"
      ]
     },
     "execution_count": 56,
     "metadata": {},
     "output_type": "execute_result"
    }
   ],
   "source": [
    "'hello'.center(20)"
   ]
  },
  {
   "cell_type": "markdown",
   "id": "f5ee21e6-aac3-4c59-a662-307203320cf5",
   "metadata": {},
   "source": [
    "**strip() & rstrip() & lstrip()**"
   ]
  },
  {
   "cell_type": "code",
   "execution_count": 57,
   "id": "a3dba93d-3170-404d-8b11-4667a8d63076",
   "metadata": {},
   "outputs": [],
   "source": [
    "spam = '   hello world   '"
   ]
  },
  {
   "cell_type": "code",
   "execution_count": 58,
   "id": "04d99e5c-4c14-4bd9-aed3-52afdd2c3521",
   "metadata": {},
   "outputs": [
    {
     "data": {
      "text/plain": [
       "'hello world'"
      ]
     },
     "execution_count": 58,
     "metadata": {},
     "output_type": "execute_result"
    }
   ],
   "source": [
    "spam.strip()"
   ]
  },
  {
   "cell_type": "code",
   "execution_count": 59,
   "id": "cf32fa89-55c4-4ef0-8038-075aa7b1c970",
   "metadata": {},
   "outputs": [
    {
     "data": {
      "text/plain": [
       "'hello world   '"
      ]
     },
     "execution_count": 59,
     "metadata": {},
     "output_type": "execute_result"
    }
   ],
   "source": [
    "spam.lstrip()"
   ]
  },
  {
   "cell_type": "code",
   "execution_count": 60,
   "id": "528d529f-8708-40dc-947f-875573cccf51",
   "metadata": {},
   "outputs": [
    {
     "data": {
      "text/plain": [
       "'   hello world'"
      ]
     },
     "execution_count": 60,
     "metadata": {},
     "output_type": "execute_result"
    }
   ],
   "source": [
    "spam.rstrip()"
   ]
  },
  {
   "cell_type": "code",
   "execution_count": 61,
   "id": "12e88b0b-5c44-4f8c-ac04-bd86cb746047",
   "metadata": {},
   "outputs": [],
   "source": [
    "spam = 'SpamSpamBaconSpamEggsSpamSpam'"
   ]
  },
  {
   "cell_type": "code",
   "execution_count": 62,
   "id": "b20ab8c5-e9d0-4a96-b888-8e9934ae1e3a",
   "metadata": {},
   "outputs": [
    {
     "data": {
      "text/plain": [
       "'BaconSpamEggs'"
      ]
     },
     "execution_count": 62,
     "metadata": {},
     "output_type": "execute_result"
    }
   ],
   "source": [
    "spam.strip('ampS')"
   ]
  },
  {
   "cell_type": "markdown",
   "id": "09099c0b-5334-48ac-b64e-1f11f35ae1dc",
   "metadata": {},
   "source": [
    "**replace()***"
   ]
  },
  {
   "cell_type": "code",
   "execution_count": 63,
   "id": "70bd9137-909b-4c56-bd57-3adb0ffeaa8e",
   "metadata": {},
   "outputs": [],
   "source": [
    "spam = 'hello world'"
   ]
  },
  {
   "cell_type": "code",
   "execution_count": 64,
   "id": "7d8be3ec-7c96-48d2-83e1-9c096cc74fae",
   "metadata": {},
   "outputs": [
    {
     "data": {
      "text/plain": [
       "'hello woods'"
      ]
     },
     "execution_count": 64,
     "metadata": {},
     "output_type": "execute_result"
    }
   ],
   "source": [
    "spam.replace('rld', 'ods')"
   ]
  },
  {
   "cell_type": "code",
   "execution_count": null,
   "id": "6ecac28e-af68-46dc-a31e-10097f072c89",
   "metadata": {},
   "outputs": [],
   "source": []
  }
 ],
 "metadata": {
  "kernelspec": {
   "display_name": "Python 3 (ipykernel)",
   "language": "python",
   "name": "python3"
  },
  "language_info": {
   "codemirror_mode": {
    "name": "ipython",
    "version": 3
   },
   "file_extension": ".py",
   "mimetype": "text/x-python",
   "name": "python",
   "nbconvert_exporter": "python",
   "pygments_lexer": "ipython3",
   "version": "3.9.12"
  }
 },
 "nbformat": 4,
 "nbformat_minor": 5
}
