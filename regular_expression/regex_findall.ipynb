{
 "cells": [
  {
   "cell_type": "code",
   "execution_count": 1,
   "id": "d4e057e8-08b5-4c68-a04d-0094aad8caf6",
   "metadata": {},
   "outputs": [],
   "source": [
    "import re"
   ]
  },
  {
   "cell_type": "code",
   "execution_count": 2,
   "id": "0e29e870-d4fe-4175-92cd-5119997eface",
   "metadata": {},
   "outputs": [
    {
     "data": {
      "text/plain": [
       "re.compile(r'\\d{3}-\\d{3}-\\d{4}', re.UNICODE)"
      ]
     },
     "execution_count": 2,
     "metadata": {},
     "output_type": "execute_result"
    }
   ],
   "source": [
    "phone_regex = re.compile(r'\\d{3}-\\d{3}-\\d{4}')\n",
    "phone_regex"
   ]
  },
  {
   "cell_type": "markdown",
   "id": "2c58d1a0-72e2-43b9-8edd-898fda08aa6b",
   "metadata": {},
   "source": [
    "**search():**\n",
    "returns Match Objects"
   ]
  },
  {
   "cell_type": "code",
   "execution_count": 3,
   "id": "6d14b27a-d438-4487-9263-aec09d6b9cd0",
   "metadata": {},
   "outputs": [
    {
     "data": {
      "text/plain": [
       "<re.Match object; span=(6, 18), match='415-555-9999'>"
      ]
     },
     "execution_count": 3,
     "metadata": {},
     "output_type": "execute_result"
    }
   ],
   "source": [
    "phone_regex.search('Cell: 415-555-9999 Work: 212-555-0000')"
   ]
  },
  {
   "cell_type": "markdown",
   "id": "b4a82ffb-4778-42b5-b39a-7bf166b98f5d",
   "metadata": {},
   "source": [
    "**findall():**\n",
    "returns a list of strings"
   ]
  },
  {
   "cell_type": "code",
   "execution_count": 4,
   "id": "60dcfecd-2cda-4849-bf76-905e05afc82d",
   "metadata": {},
   "outputs": [
    {
     "data": {
      "text/plain": [
       "['415-555-9999', '212-555-0000']"
      ]
     },
     "execution_count": 4,
     "metadata": {},
     "output_type": "execute_result"
    }
   ],
   "source": [
    "phone_regex.findall('Cell: 415-555-9999 Work: 212-555-0000')"
   ]
  },
  {
   "cell_type": "markdown",
   "id": "793a7076-470d-48bd-8ebb-f1acd0a87984",
   "metadata": {},
   "source": [
    "# findall() + group\n",
    "returns a list of tuples of strings"
   ]
  },
  {
   "cell_type": "code",
   "execution_count": 5,
   "id": "eeabd2db-10fe-4324-8a01-d6e4bcec6ab1",
   "metadata": {},
   "outputs": [],
   "source": [
    "phone_regex = re.compile(r'(\\d{3})-(\\d{3}-\\d{4})')"
   ]
  },
  {
   "cell_type": "code",
   "execution_count": 6,
   "id": "1a932e57-3659-460f-9bda-a08ffe2cc58d",
   "metadata": {},
   "outputs": [
    {
     "data": {
      "text/plain": [
       "[('415', '555-9999'), ('212', '555-0000')]"
      ]
     },
     "execution_count": 6,
     "metadata": {},
     "output_type": "execute_result"
    }
   ],
   "source": [
    "phone_regex.findall('Cell: 415-555-9999 Work: 212-555-0000')"
   ]
  },
  {
   "cell_type": "code",
   "execution_count": 7,
   "id": "cd720df3-90d3-447d-a28a-fcedb423c559",
   "metadata": {},
   "outputs": [],
   "source": [
    "phone_regex = re.compile(r'((\\d{3})-(\\d{3}-\\d{4}))')"
   ]
  },
  {
   "cell_type": "code",
   "execution_count": 8,
   "id": "2c718bb2-54be-4a7b-b854-d5e3faec1635",
   "metadata": {},
   "outputs": [
    {
     "data": {
      "text/plain": [
       "[('415-555-9999', '415', '555-9999'), ('212-555-0000', '212', '555-0000')]"
      ]
     },
     "execution_count": 8,
     "metadata": {},
     "output_type": "execute_result"
    }
   ],
   "source": [
    "phone_regex.findall('Cell: 415-555-9999 Work: 212-555-0000')"
   ]
  },
  {
   "cell_type": "code",
   "execution_count": null,
   "id": "1c901648-5b20-4816-bdb9-93bfdb6e1175",
   "metadata": {},
   "outputs": [],
   "source": []
  }
 ],
 "metadata": {
  "kernelspec": {
   "display_name": "Python 3 (ipykernel)",
   "language": "python",
   "name": "python3"
  },
  "language_info": {
   "codemirror_mode": {
    "name": "ipython",
    "version": 3
   },
   "file_extension": ".py",
   "mimetype": "text/x-python",
   "name": "python",
   "nbconvert_exporter": "python",
   "pygments_lexer": "ipython3",
   "version": "3.9.12"
  }
 },
 "nbformat": 4,
 "nbformat_minor": 5
}
