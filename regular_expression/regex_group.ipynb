{
 "cells": [
  {
   "cell_type": "code",
   "execution_count": 1,
   "id": "610e4c3e-60fe-4e6a-ae76-75fc5d32bc06",
   "metadata": {},
   "outputs": [],
   "source": [
    "import re"
   ]
  },
  {
   "cell_type": "code",
   "execution_count": 2,
   "id": "b0947bc8-15f7-45cc-b191-de5ada5eda16",
   "metadata": {},
   "outputs": [],
   "source": [
    "phone_num_regex = re.compile(r'\\d\\d\\d-\\d\\d\\d-\\d\\d\\d\\d')"
   ]
  },
  {
   "cell_type": "code",
   "execution_count": 3,
   "id": "56e275dc-5830-4066-ae44-c0bb2e78dc04",
   "metadata": {},
   "outputs": [
    {
     "data": {
      "text/plain": [
       "<re.Match object; span=(13, 25), match='415-555-1010'>"
      ]
     },
     "execution_count": 3,
     "metadata": {},
     "output_type": "execute_result"
    }
   ],
   "source": [
    "phone_num_regex.search('My number is 415-555-1010')"
   ]
  },
  {
   "cell_type": "code",
   "execution_count": 4,
   "id": "9f3f3706-b68f-41ed-9ce9-7044fed246c0",
   "metadata": {},
   "outputs": [
    {
     "data": {
      "text/plain": [
       "'415-555-1010'"
      ]
     },
     "execution_count": 4,
     "metadata": {},
     "output_type": "execute_result"
    }
   ],
   "source": [
    "mo = phone_num_regex.search('My number is 415-555-1010')\n",
    "mo.group()"
   ]
  },
  {
   "cell_type": "markdown",
   "id": "80a70729-a41a-4fdb-9b1b-89cc1ad3ddba",
   "metadata": {},
   "source": [
    "# group"
   ]
  },
  {
   "cell_type": "code",
   "execution_count": 10,
   "id": "6feea92c-3acf-436b-9b59-61e826d88c23",
   "metadata": {},
   "outputs": [],
   "source": [
    "phone_num_regex = re.compile(r'(\\d\\d\\d)-(\\d\\d\\d-\\d\\d\\d\\d)')"
   ]
  },
  {
   "cell_type": "code",
   "execution_count": 11,
   "id": "ba9e667b-ceb4-4e86-be5c-ac02f52d2bf6",
   "metadata": {},
   "outputs": [
    {
     "data": {
      "text/plain": [
       "'415-555-1010'"
      ]
     },
     "execution_count": 11,
     "metadata": {},
     "output_type": "execute_result"
    }
   ],
   "source": [
    "mo = phone_num_regex.search('My number is 415-555-1010')\n",
    "mo.group()"
   ]
  },
  {
   "cell_type": "code",
   "execution_count": 12,
   "id": "36a06620-6513-488c-a965-cd2b4c0cf26d",
   "metadata": {},
   "outputs": [
    {
     "data": {
      "text/plain": [
       "'415'"
      ]
     },
     "execution_count": 12,
     "metadata": {},
     "output_type": "execute_result"
    }
   ],
   "source": [
    "mo.group(1)"
   ]
  },
  {
   "cell_type": "code",
   "execution_count": 13,
   "id": "c6c822be-b9c7-4b8b-aed6-4772a6b13911",
   "metadata": {},
   "outputs": [
    {
     "data": {
      "text/plain": [
       "'555-1010'"
      ]
     },
     "execution_count": 13,
     "metadata": {},
     "output_type": "execute_result"
    }
   ],
   "source": [
    "mo.group(2)"
   ]
  },
  {
   "cell_type": "code",
   "execution_count": 14,
   "id": "2007e872-318c-4740-826e-7fe3384a5fb7",
   "metadata": {},
   "outputs": [],
   "source": [
    "phone_num_regex = re.compile(r'\\(\\d\\d\\d\\) \\d\\d\\d-\\d\\d\\d\\d')"
   ]
  },
  {
   "cell_type": "code",
   "execution_count": 15,
   "id": "8decfb4c-7d82-407a-876f-63d1813a4918",
   "metadata": {},
   "outputs": [],
   "source": [
    "mo = phone_num_regex.search('My number is (415) 555-1010')"
   ]
  },
  {
   "cell_type": "code",
   "execution_count": 16,
   "id": "b7ae25ab-8404-4d9b-a1fd-f698278439a3",
   "metadata": {},
   "outputs": [
    {
     "data": {
      "text/plain": [
       "'(415) 555-1010'"
      ]
     },
     "execution_count": 16,
     "metadata": {},
     "output_type": "execute_result"
    }
   ],
   "source": [
    "mo.group()"
   ]
  },
  {
   "cell_type": "markdown",
   "id": "8f8742de-e2d8-440a-9f3c-13b7308e408c",
   "metadata": {},
   "source": [
    "# pipe"
   ]
  },
  {
   "cell_type": "code",
   "execution_count": 17,
   "id": "9bfa39d8-9366-42b4-b3e9-55baddabf47f",
   "metadata": {},
   "outputs": [],
   "source": [
    "pattern = r'Bat(man|mobile|copter|bat)'\n",
    "bat_regex = re.compile(pattern)"
   ]
  },
  {
   "cell_type": "code",
   "execution_count": 18,
   "id": "f2c3d981-7aa6-4b48-9a34-d01485cca455",
   "metadata": {},
   "outputs": [],
   "source": [
    "mo = bat_regex.search('Batmobile lost a wheel')"
   ]
  },
  {
   "cell_type": "code",
   "execution_count": 19,
   "id": "1ce27819-2805-4c20-ab85-bc2bca905db4",
   "metadata": {},
   "outputs": [
    {
     "data": {
      "text/plain": [
       "'Batmobile'"
      ]
     },
     "execution_count": 19,
     "metadata": {},
     "output_type": "execute_result"
    }
   ],
   "source": [
    "mo.group()"
   ]
  },
  {
   "cell_type": "code",
   "execution_count": 20,
   "id": "dadff337-06e3-4435-8879-c927a533b32e",
   "metadata": {},
   "outputs": [],
   "source": [
    "mo = bat_regex.search('Batmotocycle lost a wheel')"
   ]
  },
  {
   "cell_type": "code",
   "execution_count": 21,
   "id": "817de5b3-996d-492c-af27-ae75c9ec0ee4",
   "metadata": {},
   "outputs": [
    {
     "ename": "AttributeError",
     "evalue": "'NoneType' object has no attribute 'group'",
     "output_type": "error",
     "traceback": [
      "\u001b[0;31m---------------------------------------------------------------------------\u001b[0m",
      "\u001b[0;31mAttributeError\u001b[0m                            Traceback (most recent call last)",
      "Input \u001b[0;32mIn [21]\u001b[0m, in \u001b[0;36m<cell line: 1>\u001b[0;34m()\u001b[0m\n\u001b[0;32m----> 1\u001b[0m \u001b[43mmo\u001b[49m\u001b[38;5;241;43m.\u001b[39;49m\u001b[43mgroup\u001b[49m()\n",
      "\u001b[0;31mAttributeError\u001b[0m: 'NoneType' object has no attribute 'group'"
     ]
    }
   ],
   "source": [
    "mo.group()"
   ]
  },
  {
   "cell_type": "code",
   "execution_count": 22,
   "id": "e7cc6017-ccd8-4edf-a166-bdc06995b954",
   "metadata": {},
   "outputs": [
    {
     "data": {
      "text/plain": [
       "True"
      ]
     },
     "execution_count": 22,
     "metadata": {},
     "output_type": "execute_result"
    }
   ],
   "source": [
    "mo == None"
   ]
  },
  {
   "cell_type": "code",
   "execution_count": 23,
   "id": "bc6c9c43-97e0-404c-bf05-e6aed66c3f45",
   "metadata": {},
   "outputs": [],
   "source": [
    "mo = bat_regex.search('Batmobile lost a wheel')"
   ]
  },
  {
   "cell_type": "code",
   "execution_count": 24,
   "id": "75bfcf64-e638-454c-9440-2e30ea62cfe3",
   "metadata": {},
   "outputs": [
    {
     "data": {
      "text/plain": [
       "'mobile'"
      ]
     },
     "execution_count": 24,
     "metadata": {},
     "output_type": "execute_result"
    }
   ],
   "source": [
    "mo.group(1)"
   ]
  },
  {
   "cell_type": "code",
   "execution_count": null,
   "id": "f51865b5-dbb3-4b7e-a55f-da79b01d8a75",
   "metadata": {},
   "outputs": [],
   "source": []
  }
 ],
 "metadata": {
  "kernelspec": {
   "display_name": "Python 3 (ipykernel)",
   "language": "python",
   "name": "python3"
  },
  "language_info": {
   "codemirror_mode": {
    "name": "ipython",
    "version": 3
   },
   "file_extension": ".py",
   "mimetype": "text/x-python",
   "name": "python",
   "nbconvert_exporter": "python",
   "pygments_lexer": "ipython3",
   "version": "3.9.12"
  }
 },
 "nbformat": 4,
 "nbformat_minor": 5
}
