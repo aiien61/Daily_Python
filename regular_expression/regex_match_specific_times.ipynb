{
 "cells": [
  {
   "cell_type": "code",
   "execution_count": 3,
   "id": "cd8db151-1eaf-4386-bc97-254b8df73ea0",
   "metadata": {},
   "outputs": [],
   "source": [
    "import re"
   ]
  },
  {
   "cell_type": "markdown",
   "id": "bf0f60b1-fe57-4fe2-8d09-ba1ff8132ef3",
   "metadata": {},
   "source": [
    "# use ? for optional matching"
   ]
  },
  {
   "cell_type": "code",
   "execution_count": 2,
   "id": "022b2849-9e6d-4e6d-9c29-441d516b53be",
   "metadata": {},
   "outputs": [],
   "source": [
    "pattern1 = r'Bat(man|woman)'\n",
    "pattern2 = r'Bat(wo)?man'"
   ]
  },
  {
   "cell_type": "code",
   "execution_count": 4,
   "id": "54539e70-d79f-422c-afaa-6da1522597e5",
   "metadata": {},
   "outputs": [
    {
     "data": {
      "text/plain": [
       "'Batman'"
      ]
     },
     "execution_count": 4,
     "metadata": {},
     "output_type": "execute_result"
    }
   ],
   "source": [
    "bat_regex = re.compile(pattern1)\n",
    "mo = bat_regex.search('The Adventures of Batman')\n",
    "mo.group()"
   ]
  },
  {
   "cell_type": "code",
   "execution_count": 5,
   "id": "ea819e9a-cb6c-44f3-a815-5d8e7e721784",
   "metadata": {},
   "outputs": [
    {
     "data": {
      "text/plain": [
       "'Batwoman'"
      ]
     },
     "execution_count": 5,
     "metadata": {},
     "output_type": "execute_result"
    }
   ],
   "source": [
    "mo = bat_regex.search('The Adventures of Batwoman')\n",
    "mo.group()"
   ]
  },
  {
   "cell_type": "code",
   "execution_count": 6,
   "id": "f2d76a36-5c00-4acd-abe6-4000c911770a",
   "metadata": {},
   "outputs": [
    {
     "data": {
      "text/plain": [
       "'Batman'"
      ]
     },
     "execution_count": 6,
     "metadata": {},
     "output_type": "execute_result"
    }
   ],
   "source": [
    "bat_regex = re.compile(pattern2)\n",
    "mo = bat_regex.search('The Adventures of Batman')\n",
    "mo.group()"
   ]
  },
  {
   "cell_type": "code",
   "execution_count": 7,
   "id": "3a26933f-1249-43e3-87ab-760e426a5bf9",
   "metadata": {},
   "outputs": [
    {
     "data": {
      "text/plain": [
       "'Batwoman'"
      ]
     },
     "execution_count": 7,
     "metadata": {},
     "output_type": "execute_result"
    }
   ],
   "source": [
    "mo = bat_regex.search('The Adventures of Batwoman')\n",
    "mo.group()"
   ]
  },
  {
   "cell_type": "code",
   "execution_count": 8,
   "id": "1a6ccd6d-740e-458e-ac8d-0c317e417c33",
   "metadata": {},
   "outputs": [
    {
     "data": {
      "text/plain": [
       "True"
      ]
     },
     "execution_count": 8,
     "metadata": {},
     "output_type": "execute_result"
    }
   ],
   "source": [
    "mo = bat_regex.search('The Advnetures of Batwowowoman')\n",
    "mo == None"
   ]
  },
  {
   "cell_type": "markdown",
   "id": "e4abb9dc-3335-497d-adcc-f7ede735eb23",
   "metadata": {},
   "source": [
    "**match phone numbers without using ? syntax**"
   ]
  },
  {
   "cell_type": "code",
   "execution_count": 9,
   "id": "2b660d4d-008d-4a34-b612-ff9ffc6dadc4",
   "metadata": {},
   "outputs": [],
   "source": [
    "phone_regex = re.compile(r'\\d\\d\\d-\\d\\d\\d-\\d\\d\\d\\d')"
   ]
  },
  {
   "cell_type": "code",
   "execution_count": 10,
   "id": "7b71c519-bd9a-45bf-abbe-10f9d7745c57",
   "metadata": {},
   "outputs": [
    {
     "data": {
      "text/plain": [
       "'415-555-1234'"
      ]
     },
     "execution_count": 10,
     "metadata": {},
     "output_type": "execute_result"
    }
   ],
   "source": [
    "mo = phone_regex.search('My phone number is 415-555-1234. Call me tomorrow.')\n",
    "mo.group()"
   ]
  },
  {
   "cell_type": "code",
   "execution_count": 12,
   "id": "f6a3e11d-40a1-415b-a9f6-1ae83036a910",
   "metadata": {},
   "outputs": [
    {
     "data": {
      "text/plain": [
       "True"
      ]
     },
     "execution_count": 12,
     "metadata": {},
     "output_type": "execute_result"
    }
   ],
   "source": [
    "mo = phone_regex.search('My phone number is 555-1234. Call me tomorrow.')\n",
    "mo == None"
   ]
  },
  {
   "cell_type": "markdown",
   "id": "c4d134dd-10a2-42df-82b9-bdd0d37dd3c8",
   "metadata": {},
   "source": [
    "**match phone numbers using ? syntax**"
   ]
  },
  {
   "cell_type": "code",
   "execution_count": 13,
   "id": "499b4440-a9f7-48ee-92d6-56436bbab45f",
   "metadata": {},
   "outputs": [],
   "source": [
    "phone_regex = re.compile(r'(\\d\\d\\d-)?\\d\\d\\d-\\d\\d\\d\\d')"
   ]
  },
  {
   "cell_type": "code",
   "execution_count": 14,
   "id": "cd27909e-6833-4393-9dd3-61999e0b98ff",
   "metadata": {},
   "outputs": [
    {
     "data": {
      "text/plain": [
       "<re.Match object; span=(19, 31), match='415-555-1234'>"
      ]
     },
     "execution_count": 14,
     "metadata": {},
     "output_type": "execute_result"
    }
   ],
   "source": [
    "phone_regex.search('My phone number is 415-555-1234. Call me tomorrow.')"
   ]
  },
  {
   "cell_type": "code",
   "execution_count": 15,
   "id": "b1850fb7-b46b-4a1e-831b-28959fb73bdb",
   "metadata": {},
   "outputs": [
    {
     "data": {
      "text/plain": [
       "<re.Match object; span=(19, 27), match='555-1234'>"
      ]
     },
     "execution_count": 15,
     "metadata": {},
     "output_type": "execute_result"
    }
   ],
   "source": [
    "phone_regex.search('My phone number is 555-1234. Call me tomorrow.')"
   ]
  },
  {
   "cell_type": "markdown",
   "id": "db30df2c-fc98-4988-bc3e-24b072197f1e",
   "metadata": {},
   "source": [
    "# use * to match zero or more times"
   ]
  },
  {
   "cell_type": "code",
   "execution_count": 16,
   "id": "fe2557e4-8417-4914-9dbb-0d18de45c1f3",
   "metadata": {},
   "outputs": [],
   "source": [
    "bat_regex = re.compile(r'Bat(wo)*man')"
   ]
  },
  {
   "cell_type": "code",
   "execution_count": 17,
   "id": "23e278d7-bc2a-4aa7-ad57-a1c878cfc733",
   "metadata": {},
   "outputs": [
    {
     "data": {
      "text/plain": [
       "<re.Match object; span=(18, 24), match='Batman'>"
      ]
     },
     "execution_count": 17,
     "metadata": {},
     "output_type": "execute_result"
    }
   ],
   "source": [
    "bat_regex.search('The Adventures of Batman')"
   ]
  },
  {
   "cell_type": "code",
   "execution_count": 18,
   "id": "01051c86-5619-45a3-8ef4-cab284a707c7",
   "metadata": {},
   "outputs": [
    {
     "data": {
      "text/plain": [
       "<re.Match object; span=(18, 26), match='Batwoman'>"
      ]
     },
     "execution_count": 18,
     "metadata": {},
     "output_type": "execute_result"
    }
   ],
   "source": [
    "bat_regex.search('The Adventures of Batwoman')"
   ]
  },
  {
   "cell_type": "code",
   "execution_count": 19,
   "id": "d275cd88-1743-414a-b5de-35e1fc458422",
   "metadata": {},
   "outputs": [
    {
     "data": {
      "text/plain": [
       "<re.Match object; span=(18, 30), match='Batwowowoman'>"
      ]
     },
     "execution_count": 19,
     "metadata": {},
     "output_type": "execute_result"
    }
   ],
   "source": [
    "bat_regex.search('The Advnetures of Batwowowoman')"
   ]
  },
  {
   "cell_type": "markdown",
   "id": "4af8ad5b-809a-400d-82a6-9abfa68f657f",
   "metadata": {},
   "source": [
    "# use + to match one or more times"
   ]
  },
  {
   "cell_type": "code",
   "execution_count": 20,
   "id": "839ff5cf-39fd-4090-b58b-a20544e251ab",
   "metadata": {},
   "outputs": [],
   "source": [
    "bat_regex = re.compile(r'Bat(wo)+man')"
   ]
  },
  {
   "cell_type": "code",
   "execution_count": 22,
   "id": "6f6e1c97-c376-40d4-83c0-befd750f42df",
   "metadata": {},
   "outputs": [
    {
     "data": {
      "text/plain": [
       "True"
      ]
     },
     "execution_count": 22,
     "metadata": {},
     "output_type": "execute_result"
    }
   ],
   "source": [
    "bat_regex.search('The Adventures of Batman') == None"
   ]
  },
  {
   "cell_type": "code",
   "execution_count": 23,
   "id": "2b864d75-e69c-4896-a845-7af8c7771c1d",
   "metadata": {},
   "outputs": [
    {
     "data": {
      "text/plain": [
       "<re.Match object; span=(18, 26), match='Batwoman'>"
      ]
     },
     "execution_count": 23,
     "metadata": {},
     "output_type": "execute_result"
    }
   ],
   "source": [
    "bat_regex.search('The Adventures of Batwoman')"
   ]
  },
  {
   "cell_type": "code",
   "execution_count": 24,
   "id": "dbc31100-5353-4ec3-a045-8a2449a760b1",
   "metadata": {},
   "outputs": [
    {
     "data": {
      "text/plain": [
       "<re.Match object; span=(18, 30), match='Batwowowoman'>"
      ]
     },
     "execution_count": 24,
     "metadata": {},
     "output_type": "execute_result"
    }
   ],
   "source": [
    "bat_regex.search('The Advnetures of Batwowowoman')"
   ]
  },
  {
   "cell_type": "code",
   "execution_count": 25,
   "id": "f522b1f8-5901-4c79-9d9e-6cd04e4caeb9",
   "metadata": {},
   "outputs": [
    {
     "data": {
      "text/plain": [
       "<re.Match object; span=(16, 19), match='+*?'>"
      ]
     },
     "execution_count": 25,
     "metadata": {},
     "output_type": "execute_result"
    }
   ],
   "source": [
    "regex = re.compile(r'\\+\\*\\?')\n",
    "regex.search('I learned about +*? regex syntax.')"
   ]
  },
  {
   "cell_type": "code",
   "execution_count": 26,
   "id": "7500fe39-d4d1-4779-8d52-e00a544c72ef",
   "metadata": {},
   "outputs": [
    {
     "data": {
      "text/plain": [
       "<re.Match object; span=(16, 31), match='+*?+*?+*?+*?+*?'>"
      ]
     },
     "execution_count": 26,
     "metadata": {},
     "output_type": "execute_result"
    }
   ],
   "source": [
    "regex = re.compile(r'(\\+\\*\\?)+')\n",
    "regex.search('I learned about +*?+*?+*?+*?+*? regex syntax.')"
   ]
  },
  {
   "cell_type": "markdown",
   "id": "76a789c8-c0f3-44ea-8ceb-cb29abdb6a0a",
   "metadata": {},
   "source": [
    "# use {} to match exact specific time(s)"
   ]
  },
  {
   "cell_type": "code",
   "execution_count": 27,
   "id": "4333b9c3-bac2-4598-b542-28b193bc8854",
   "metadata": {},
   "outputs": [],
   "source": [
    "haregex = re.compile(r'(Ha){3}')"
   ]
  },
  {
   "cell_type": "code",
   "execution_count": 28,
   "id": "dd81fc58-c4da-4fc6-8019-541b6151ff5f",
   "metadata": {},
   "outputs": [
    {
     "data": {
      "text/plain": [
       "<re.Match object; span=(9, 15), match='HaHaHa'>"
      ]
     },
     "execution_count": 28,
     "metadata": {},
     "output_type": "execute_result"
    }
   ],
   "source": [
    "haregex.search('He said \"HaHaHa\".')"
   ]
  },
  {
   "cell_type": "code",
   "execution_count": 42,
   "id": "561e5d8d-eaa8-450c-a13b-f002a8fa771b",
   "metadata": {},
   "outputs": [],
   "source": [
    "phoneregex = re.compile(r'((\\d\\d\\d-)?\\d\\d\\d-\\d\\d\\d\\d(, )?){3}')"
   ]
  },
  {
   "cell_type": "code",
   "execution_count": 43,
   "id": "6d813613-7eb4-47d7-a614-9e117984586a",
   "metadata": {},
   "outputs": [
    {
     "data": {
      "text/plain": [
       "<re.Match object; span=(15, 51), match='415-555-1234, 555-1212, 212-555-0000'>"
      ]
     },
     "execution_count": 43,
     "metadata": {},
     "output_type": "execute_result"
    }
   ],
   "source": [
    "phoneregex.search('My numbers are 415-555-1234, 555-1212, 212-555-0000')"
   ]
  },
  {
   "cell_type": "markdown",
   "id": "ddde70f3-e437-4b4b-b88a-921820460591",
   "metadata": {},
   "source": [
    "# use {x,y} to match exact a range of repetition"
   ]
  },
  {
   "cell_type": "code",
   "execution_count": 44,
   "id": "e85ee7df-1a7b-44f2-bbb3-ec47b81c3e94",
   "metadata": {},
   "outputs": [],
   "source": [
    "haregex = re.compile(r'(Ha){3,5}')"
   ]
  },
  {
   "cell_type": "code",
   "execution_count": 45,
   "id": "5ef633de-23ff-4a10-8941-6d0ef00d76ad",
   "metadata": {},
   "outputs": [
    {
     "data": {
      "text/plain": [
       "<re.Match object; span=(9, 15), match='HaHaHa'>"
      ]
     },
     "execution_count": 45,
     "metadata": {},
     "output_type": "execute_result"
    }
   ],
   "source": [
    "haregex.search('He said \"HaHaHa\".')"
   ]
  },
  {
   "cell_type": "code",
   "execution_count": 46,
   "id": "ec51632b-0fab-41f1-944b-b9a52ed227ad",
   "metadata": {},
   "outputs": [
    {
     "data": {
      "text/plain": [
       "<re.Match object; span=(9, 17), match='HaHaHaHa'>"
      ]
     },
     "execution_count": 46,
     "metadata": {},
     "output_type": "execute_result"
    }
   ],
   "source": [
    "haregex.search('He said \"HaHaHaHa\".')"
   ]
  },
  {
   "cell_type": "code",
   "execution_count": 47,
   "id": "11062d23-2a05-4688-a1d0-d5f1e80cbbb2",
   "metadata": {},
   "outputs": [
    {
     "data": {
      "text/plain": [
       "<re.Match object; span=(9, 19), match='HaHaHaHaHa'>"
      ]
     },
     "execution_count": 47,
     "metadata": {},
     "output_type": "execute_result"
    }
   ],
   "source": [
    "haregex.search('He said \"HaHaHaHaHa\".')"
   ]
  },
  {
   "cell_type": "code",
   "execution_count": 48,
   "id": "a2abb586-d463-45c8-824e-4a9ff2472988",
   "metadata": {},
   "outputs": [
    {
     "data": {
      "text/plain": [
       "<re.Match object; span=(9, 19), match='HaHaHaHaHa'>"
      ]
     },
     "execution_count": 48,
     "metadata": {},
     "output_type": "execute_result"
    }
   ],
   "source": [
    "haregex.search('He said \"HaHaHaHaHaHa\".')  # only match to fifth Ha"
   ]
  },
  {
   "cell_type": "code",
   "execution_count": 51,
   "id": "e9a0bd4e-1cff-4124-88e2-e48f505dc146",
   "metadata": {},
   "outputs": [],
   "source": [
    "haregex = re.compile(r'(Ha){3,}')  # to match at least 3-time repetition"
   ]
  },
  {
   "cell_type": "code",
   "execution_count": 53,
   "id": "c31b71d9-5690-4c09-85c2-c798b80ba487",
   "metadata": {},
   "outputs": [
    {
     "data": {
      "text/plain": [
       "True"
      ]
     },
     "execution_count": 53,
     "metadata": {},
     "output_type": "execute_result"
    }
   ],
   "source": [
    "haregex.search('He said \"HaHa\".') == None"
   ]
  },
  {
   "cell_type": "code",
   "execution_count": 54,
   "id": "abdaa7bf-88ac-4542-a23f-54745e36c382",
   "metadata": {},
   "outputs": [
    {
     "data": {
      "text/plain": [
       "<re.Match object; span=(9, 17), match='HaHaHaHa'>"
      ]
     },
     "execution_count": 54,
     "metadata": {},
     "output_type": "execute_result"
    }
   ],
   "source": [
    "haregex.search('He said \"HaHaHaHa\".')"
   ]
  },
  {
   "cell_type": "code",
   "execution_count": 55,
   "id": "f659eaa4-bccc-447f-9747-50a86f621f8a",
   "metadata": {},
   "outputs": [
    {
     "data": {
      "text/plain": [
       "<re.Match object; span=(9, 21), match='HaHaHaHaHaHa'>"
      ]
     },
     "execution_count": 55,
     "metadata": {},
     "output_type": "execute_result"
    }
   ],
   "source": [
    "haregex.search('He said \"HaHaHaHaHaHa\".')"
   ]
  },
  {
   "cell_type": "markdown",
   "id": "0e602492-b037-4db9-a2c7-8852ee097902",
   "metadata": {},
   "source": [
    "**Greedy Matching**\n",
    ": to match the longest string possible"
   ]
  },
  {
   "cell_type": "code",
   "execution_count": 49,
   "id": "7217727d-52cc-4fc9-bb3c-805ab8ef45aa",
   "metadata": {},
   "outputs": [],
   "source": [
    "digitregex = re.compile(r'(\\d){3,5}')"
   ]
  },
  {
   "cell_type": "code",
   "execution_count": 50,
   "id": "e165ad9f-7252-430d-89ea-75bdf0b35cd5",
   "metadata": {},
   "outputs": [
    {
     "data": {
      "text/plain": [
       "<re.Match object; span=(0, 5), match='12345'>"
      ]
     },
     "execution_count": 50,
     "metadata": {},
     "output_type": "execute_result"
    }
   ],
   "source": [
    "# if over the max number of times, show the max-time matching\n",
    "digitregex.search('1234567890')"
   ]
  },
  {
   "cell_type": "markdown",
   "id": "6744c1a3-5787-4f2c-8ac9-68ebffc1f18e",
   "metadata": {},
   "source": [
    "**Nongreedy Matching**\n",
    ": to match the shortest string possible"
   ]
  },
  {
   "cell_type": "code",
   "execution_count": 56,
   "id": "3c369b90-0044-41c9-8bb3-1a75636d0ce4",
   "metadata": {},
   "outputs": [],
   "source": [
    "digitregex = re.compile(r'(\\d){3,5}?')"
   ]
  },
  {
   "cell_type": "code",
   "execution_count": 57,
   "id": "a4099a08-9d3f-4c97-b436-ff971cbad85d",
   "metadata": {},
   "outputs": [
    {
     "data": {
      "text/plain": [
       "<re.Match object; span=(0, 3), match='123'>"
      ]
     },
     "execution_count": 57,
     "metadata": {},
     "output_type": "execute_result"
    }
   ],
   "source": [
    "digitregex.search('1234567890')"
   ]
  },
  {
   "cell_type": "code",
   "execution_count": null,
   "id": "823ebb72-a732-4f6a-837f-ad00e931ab92",
   "metadata": {},
   "outputs": [],
   "source": []
  }
 ],
 "metadata": {
  "kernelspec": {
   "display_name": "Python 3 (ipykernel)",
   "language": "python",
   "name": "python3"
  },
  "language_info": {
   "codemirror_mode": {
    "name": "ipython",
    "version": 3
   },
   "file_extension": ".py",
   "mimetype": "text/x-python",
   "name": "python",
   "nbconvert_exporter": "python",
   "pygments_lexer": "ipython3",
   "version": "3.9.12"
  }
 },
 "nbformat": 4,
 "nbformat_minor": 5
}
