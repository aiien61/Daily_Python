{
 "cells": [
  {
   "cell_type": "code",
   "execution_count": 1,
   "id": "a323fd43-00d5-4590-8f2d-e0746eeedf4e",
   "metadata": {},
   "outputs": [],
   "source": [
    "import re"
   ]
  },
  {
   "cell_type": "markdown",
   "id": "e7b6ae61-f893-4f64-8650-8052905be120",
   "metadata": {},
   "source": [
    "**\\d: any numeric digit from 0 to 9**\n",
    "\n",
    "**\\D: any character that is not a numeric digit from 0 to 9**\n",
    "\n",
    "**\\w: any letter, numeric digit, or the underscore character ( think of this as matching 'word' characters )**\n",
    "\n",
    "**\\W: any character that is not a letter, numeric digit, or the underscore character**\n",
    "\n",
    "**\\s: any space, tab, or newline character ( think of this as matching 'space' characters )**\n",
    "\n",
    "**\\S: any character that is not a space, tab, or newline**"
   ]
  },
  {
   "cell_type": "code",
   "execution_count": 2,
   "id": "333684ab-24be-4fed-9970-a5248dedb7a2",
   "metadata": {},
   "outputs": [],
   "source": [
    "lyrics = \"\"\"\n",
    "12 drummers drumming, 11 pipers piping, 10 lords a leaping, 9 ladies dancing, 8 maids a miling, \\\n",
    "7 swans a swimming, 6 geese a laying, 6 golden rings, 4 calling birds, 3 french hens, 2 turtle doves, \\\n",
    "and 1 partridge in a pear tree\n",
    "\"\"\""
   ]
  },
  {
   "cell_type": "code",
   "execution_count": 5,
   "id": "32f52ea3-aace-4a26-8a7e-fd688a8ce681",
   "metadata": {},
   "outputs": [],
   "source": [
    "pattern = r'\\d+\\s\\w+'  # a digit, followed by a space, and followed by one or more characters\n",
    "xmas_regex = re.compile(pattern)"
   ]
  },
  {
   "cell_type": "code",
   "execution_count": 6,
   "id": "0607cdcf-2446-4074-8489-6320dfe45ceb",
   "metadata": {},
   "outputs": [
    {
     "data": {
      "text/plain": [
       "['12 drummers',\n",
       " '11 pipers',\n",
       " '10 lords',\n",
       " '9 ladies',\n",
       " '8 maids',\n",
       " '7 swans',\n",
       " '6 geese',\n",
       " '6 golden',\n",
       " '4 calling',\n",
       " '3 french',\n",
       " '2 turtle',\n",
       " '1 partridge']"
      ]
     },
     "execution_count": 6,
     "metadata": {},
     "output_type": "execute_result"
    }
   ],
   "source": [
    "xmas_regex.findall(lyrics)"
   ]
  },
  {
   "cell_type": "markdown",
   "id": "a53cf679-285e-45cf-ba86-96a89b7a7d87",
   "metadata": {},
   "source": [
    "# Making our own character classes"
   ]
  },
  {
   "cell_type": "code",
   "execution_count": 7,
   "id": "ab973ffb-f51b-4e93-ac70-84b6d2621dd7",
   "metadata": {},
   "outputs": [
    {
     "data": {
      "text/plain": [
       "['o', 'o', 'o', 'e', 'a', 'a', 'o', 'o']"
      ]
     },
     "execution_count": 7,
     "metadata": {},
     "output_type": "execute_result"
    }
   ],
   "source": [
    "vowel_regex = re.compile(r'[aeiou]') # same as '(a|e|i|o|u)'\n",
    "vowel_regex.findall('Robocop eats baby food. BABY FOOD.')"
   ]
  },
  {
   "cell_type": "code",
   "execution_count": 8,
   "id": "b5e298f3-b5b8-4279-89b8-e3cc2cbe37fb",
   "metadata": {},
   "outputs": [
    {
     "data": {
      "text/plain": [
       "['o', 'o', 'o', 'e', 'a', 'a', 'o', 'o', 'A', 'O', 'O']"
      ]
     },
     "execution_count": 8,
     "metadata": {},
     "output_type": "execute_result"
    }
   ],
   "source": [
    "vowel_regex = re.compile(r'[aeiouAEIOU]')\n",
    "vowel_regex.findall('Robocop eats baby food. BABY FOOD.')"
   ]
  },
  {
   "cell_type": "code",
   "execution_count": 9,
   "id": "dc1dd71e-0e74-4bd9-a03a-f17afdc9c365",
   "metadata": {},
   "outputs": [
    {
     "data": {
      "text/plain": [
       "['ea', 'oo', 'OO']"
      ]
     },
     "execution_count": 9,
     "metadata": {},
     "output_type": "execute_result"
    }
   ],
   "source": [
    "double_vowel_regex = re.compile(r'[aeiouAEIOU]{2}')\n",
    "double_vowel_regex.findall('Robocop eats baby food. BABY FOOD.')"
   ]
  },
  {
   "cell_type": "markdown",
   "id": "def0341e-4a86-4e1d-84f8-9c7d03ad6acf",
   "metadata": {},
   "source": [
    "# use ^ inside the [] bracket to match the opposite"
   ]
  },
  {
   "cell_type": "code",
   "execution_count": 10,
   "id": "8c9967df-f933-46e7-8c14-fe91fb611f4b",
   "metadata": {},
   "outputs": [
    {
     "data": {
      "text/plain": [
       "['R',\n",
       " 'b',\n",
       " 'c',\n",
       " 'p',\n",
       " ' ',\n",
       " 't',\n",
       " 's',\n",
       " ' ',\n",
       " 'b',\n",
       " 'b',\n",
       " 'y',\n",
       " ' ',\n",
       " 'f',\n",
       " 'd',\n",
       " '.',\n",
       " ' ',\n",
       " 'B',\n",
       " 'B',\n",
       " 'Y',\n",
       " ' ',\n",
       " 'F',\n",
       " 'D',\n",
       " '.']"
      ]
     },
     "execution_count": 10,
     "metadata": {},
     "output_type": "execute_result"
    }
   ],
   "source": [
    "consonant_regex = re.compile(r'[^aeiouAEIOU]')\n",
    "consonant_regex.findall('Robocop eats baby food. BABY FOOD.')"
   ]
  },
  {
   "cell_type": "code",
   "execution_count": null,
   "id": "7909a722-1fb8-4e3d-bf60-624212403b65",
   "metadata": {},
   "outputs": [],
   "source": []
  }
 ],
 "metadata": {
  "kernelspec": {
   "display_name": "Python 3 (ipykernel)",
   "language": "python",
   "name": "python3"
  },
  "language_info": {
   "codemirror_mode": {
    "name": "ipython",
    "version": 3
   },
   "file_extension": ".py",
   "mimetype": "text/x-python",
   "name": "python",
   "nbconvert_exporter": "python",
   "pygments_lexer": "ipython3",
   "version": "3.9.12"
  }
 },
 "nbformat": 4,
 "nbformat_minor": 5
}
