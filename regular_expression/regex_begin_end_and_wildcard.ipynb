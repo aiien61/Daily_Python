{
 "cells": [
  {
   "cell_type": "code",
   "execution_count": 1,
   "id": "070f9cb3-5f7e-4674-837e-717f39762673",
   "metadata": {},
   "outputs": [],
   "source": [
    "import re"
   ]
  },
  {
   "cell_type": "markdown",
   "id": "1475b3b8-2632-4870-b8d8-268982236a07",
   "metadata": {},
   "source": [
    "# use ^ at the begining of the raw pattern string\n",
    "\n",
    "to search for the satisfied strings that begin with the pattern"
   ]
  },
  {
   "cell_type": "code",
   "execution_count": 2,
   "id": "2f18b664-fb26-4692-a03c-3582079a47b3",
   "metadata": {},
   "outputs": [],
   "source": [
    "begin_with_hello_regex = re.compile(r'^Hello')"
   ]
  },
  {
   "cell_type": "code",
   "execution_count": 3,
   "id": "ce7112a8-2188-4473-b3f9-3ee318e8d711",
   "metadata": {},
   "outputs": [
    {
     "data": {
      "text/plain": [
       "<re.Match object; span=(0, 5), match='Hello'>"
      ]
     },
     "execution_count": 3,
     "metadata": {},
     "output_type": "execute_result"
    }
   ],
   "source": [
    "begin_with_hello_regex.search('Hello there!')"
   ]
  },
  {
   "cell_type": "code",
   "execution_count": 4,
   "id": "d058e9a8-2c72-490f-9899-8cb1100dcc9a",
   "metadata": {},
   "outputs": [
    {
     "data": {
      "text/plain": [
       "True"
      ]
     },
     "execution_count": 4,
     "metadata": {},
     "output_type": "execute_result"
    }
   ],
   "source": [
    "begin_with_hello_regex.search('He said \"Hello!\"') == None"
   ]
  },
  {
   "cell_type": "markdown",
   "id": "b12ec5b3-2611-4696-9d79-ec673aa3b09d",
   "metadata": {},
   "source": [
    "# use $ at the end of the raw pattern string\n",
    "\n",
    "to search for the satisfied strings that end with the pattern"
   ]
  },
  {
   "cell_type": "code",
   "execution_count": 5,
   "id": "e0c7f932-720b-4e4a-8609-9cbf795f5e8b",
   "metadata": {},
   "outputs": [],
   "source": [
    "end_with_world_regex = re.compile(r'world!$')"
   ]
  },
  {
   "cell_type": "code",
   "execution_count": 6,
   "id": "6ed1fef6-5fbb-46b8-8276-7f74d77e0074",
   "metadata": {},
   "outputs": [
    {
     "data": {
      "text/plain": [
       "<re.Match object; span=(6, 12), match='world!'>"
      ]
     },
     "execution_count": 6,
     "metadata": {},
     "output_type": "execute_result"
    }
   ],
   "source": [
    "end_with_world_regex.search('Hello world!')"
   ]
  },
  {
   "cell_type": "code",
   "execution_count": 8,
   "id": "919527e1-c59c-46ec-a498-fceb135a2a45",
   "metadata": {},
   "outputs": [
    {
     "data": {
      "text/plain": [
       "True"
      ]
     },
     "execution_count": 8,
     "metadata": {},
     "output_type": "execute_result"
    }
   ],
   "source": [
    "end_with_world_regex.search('Hello world!asdklfjald') == None"
   ]
  },
  {
   "cell_type": "markdown",
   "id": "90d89fab-6d83-4491-ab98-8f3ecb8ada4d",
   "metadata": {},
   "source": [
    "# use ^ + $ means pattern must match the entire string"
   ]
  },
  {
   "cell_type": "code",
   "execution_count": 12,
   "id": "128bb96d-1af0-4727-9b46-10cab2bb4a2e",
   "metadata": {},
   "outputs": [],
   "source": [
    "all_digit_regex = re.compile(r'^\\d+$')"
   ]
  },
  {
   "cell_type": "code",
   "execution_count": 11,
   "id": "b93eca4e-54ff-487c-b547-32828d49efe4",
   "metadata": {},
   "outputs": [
    {
     "data": {
      "text/plain": [
       "<re.Match object; span=(0, 12), match='654654318944'>"
      ]
     },
     "execution_count": 11,
     "metadata": {},
     "output_type": "execute_result"
    }
   ],
   "source": [
    "all_digit_regex.search('654654318944')"
   ]
  },
  {
   "cell_type": "code",
   "execution_count": 10,
   "id": "52bbd7dc-d8d7-4e7c-94ec-47a97c28e817",
   "metadata": {},
   "outputs": [
    {
     "data": {
      "text/plain": [
       "True"
      ]
     },
     "execution_count": 10,
     "metadata": {},
     "output_type": "execute_result"
    }
   ],
   "source": [
    "all_digit_regex.search('654654x318944') == None"
   ]
  },
  {
   "cell_type": "markdown",
   "id": "dfb89608-f050-4a67-9ec0-2b74771d4728",
   "metadata": {},
   "source": [
    "# wildcard"
   ]
  },
  {
   "cell_type": "markdown",
   "id": "03b18016-f1b2-418c-8156-d7aec22aa570",
   "metadata": {},
   "source": [
    "**. (dot) only searches for single character except for newlines**"
   ]
  },
  {
   "cell_type": "code",
   "execution_count": 13,
   "id": "87eb5f9a-ea82-4952-9f5c-5a8e246ce487",
   "metadata": {},
   "outputs": [],
   "source": [
    "at_regex = re.compile(r'.at')  # search anything followed by 'at'"
   ]
  },
  {
   "cell_type": "code",
   "execution_count": 14,
   "id": "bb486eef-1ddc-4ac5-ba5f-148be42fdfea",
   "metadata": {},
   "outputs": [
    {
     "data": {
      "text/plain": [
       "['cat', 'hat', 'sat', 'lat', 'mat']"
      ]
     },
     "execution_count": 14,
     "metadata": {},
     "output_type": "execute_result"
    }
   ],
   "source": [
    "at_regex.findall('The cat in the hat sat on the flat mat.')"
   ]
  },
  {
   "cell_type": "code",
   "execution_count": 15,
   "id": "d5a1bf66-93e0-44c5-a5e1-c0476f3f9490",
   "metadata": {},
   "outputs": [],
   "source": [
    "at_regex = re.compile(r'.{1,2}at')  # search one or two characters followed by 'at'"
   ]
  },
  {
   "cell_type": "code",
   "execution_count": 16,
   "id": "6dc38469-a6c4-49a9-8895-742e282c1f48",
   "metadata": {},
   "outputs": [
    {
     "data": {
      "text/plain": [
       "[' cat', ' hat', ' sat', 'flat', ' mat']"
      ]
     },
     "execution_count": 16,
     "metadata": {},
     "output_type": "execute_result"
    }
   ],
   "source": [
    "at_regex.findall('The cat in the hat sat on the flat mat.')"
   ]
  },
  {
   "cell_type": "markdown",
   "id": "972f9be4-a17c-4457-84af-31475f967bb6",
   "metadata": {},
   "source": [
    "**.\\* means anything, i.e. any pattern and also any length**"
   ]
  },
  {
   "cell_type": "markdown",
   "id": "590a394e-fb38-4572-a8a7-4d74138eab10",
   "metadata": {},
   "source": [
    "without regex, it's hard to locate the last name and first name length and locations"
   ]
  },
  {
   "cell_type": "code",
   "execution_count": 17,
   "id": "ef00da57-4f88-458c-bb70-9f1d4c3df582",
   "metadata": {},
   "outputs": [
    {
     "data": {
      "text/plain": [
       "10"
      ]
     },
     "execution_count": 17,
     "metadata": {},
     "output_type": "execute_result"
    }
   ],
   "source": [
    "'First Name: Al Last Name: Sweigart'.find(':')"
   ]
  },
  {
   "cell_type": "code",
   "execution_count": 18,
   "id": "73207d00-cb62-491f-b2ea-9eeb2a267ed6",
   "metadata": {},
   "outputs": [
    {
     "data": {
      "text/plain": [
       "12"
      ]
     },
     "execution_count": 18,
     "metadata": {},
     "output_type": "execute_result"
    }
   ],
   "source": [
    "'First Name: Al Last Name: Sweigart'.find(':') + 2"
   ]
  },
  {
   "cell_type": "code",
   "execution_count": 19,
   "id": "c175119d-ed9c-4d43-b6ba-22b52f51e02d",
   "metadata": {},
   "outputs": [
    {
     "data": {
      "text/plain": [
       "'Al Last Name: Sweigart'"
      ]
     },
     "execution_count": 19,
     "metadata": {},
     "output_type": "execute_result"
    }
   ],
   "source": [
    "'First Name: Al Last Name: Sweigart'[12:]"
   ]
  },
  {
   "cell_type": "markdown",
   "id": "57e63e77-32e5-4c8e-a48d-0262fcffa6f9",
   "metadata": {},
   "source": [
    "with regex, it's simpler and quicker to locate the last and first names"
   ]
  },
  {
   "cell_type": "code",
   "execution_count": 20,
   "id": "2d4a4b24-f8c9-47f8-b649-eb0121eef7fe",
   "metadata": {},
   "outputs": [],
   "source": [
    "name_regex = re.compile(r'First Name: (.*) Last Name: (.*)')"
   ]
  },
  {
   "cell_type": "code",
   "execution_count": 21,
   "id": "a3b95e69-761a-402a-8a6e-9e1f05f6fea0",
   "metadata": {},
   "outputs": [
    {
     "data": {
      "text/plain": [
       "[('Al', 'Sweigart')]"
      ]
     },
     "execution_count": 21,
     "metadata": {},
     "output_type": "execute_result"
    }
   ],
   "source": [
    "name_regex.findall('First Name: Al Last Name: Sweigart')"
   ]
  },
  {
   "cell_type": "markdown",
   "id": "9c267d24-df22-4163-a623-e9d392b4665b",
   "metadata": {},
   "source": [
    "**(.\\*) is greedy**: to find anything satisfied as long as possible\n",
    "\n",
    "**(.\\*?) is non-greedy**: to find anything satisfied as short as possible"
   ]
  },
  {
   "cell_type": "code",
   "execution_count": 22,
   "id": "289c568c-f886-4bca-9e45-ac0b1699c650",
   "metadata": {},
   "outputs": [],
   "source": [
    "serve = '<To serve humans> for dinners.>'"
   ]
  },
  {
   "cell_type": "code",
   "execution_count": 25,
   "id": "5a102f68-87cf-4feb-b9df-4ab1f5986d09",
   "metadata": {},
   "outputs": [
    {
     "data": {
      "text/plain": [
       "['To serve humans']"
      ]
     },
     "execution_count": 25,
     "metadata": {},
     "output_type": "execute_result"
    }
   ],
   "source": [
    "nongreedy = re.compile(r'<(.*?)>')\n",
    "nongreedy.findall(serve)"
   ]
  },
  {
   "cell_type": "code",
   "execution_count": 26,
   "id": "75de955e-d35c-4239-b491-66ea8083ba0f",
   "metadata": {},
   "outputs": [
    {
     "data": {
      "text/plain": [
       "['To serve humans> for dinners.']"
      ]
     },
     "execution_count": 26,
     "metadata": {},
     "output_type": "execute_result"
    }
   ],
   "source": [
    "greedy = re.compile(r'<(.*)>')\n",
    "greedy.findall(serve)"
   ]
  },
  {
   "cell_type": "markdown",
   "id": "7ee9c65d-543a-4e45-926e-a1356823f076",
   "metadata": {},
   "source": [
    "pass **re.DOTALL** as the second argument to re.compile() to make the . dot match newlines as well"
   ]
  },
  {
   "cell_type": "code",
   "execution_count": 29,
   "id": "58ee421f-167c-45d7-9df4-ce95c0e68f0a",
   "metadata": {},
   "outputs": [
    {
     "name": "stdout",
     "output_type": "stream",
     "text": [
      "Serve the public trust.\n",
      "Protect the innocent.\n",
      "Upload the law.\n"
     ]
    }
   ],
   "source": [
    "prime = 'Serve the public trust.\\nProtect the innocent.\\nUpload the law.'\n",
    "print(prime)"
   ]
  },
  {
   "cell_type": "code",
   "execution_count": 30,
   "id": "a8c2bb6c-fe6b-4555-a4ad-fe486b78af17",
   "metadata": {},
   "outputs": [
    {
     "data": {
      "text/plain": [
       "<re.Match object; span=(0, 23), match='Serve the public trust.'>"
      ]
     },
     "execution_count": 30,
     "metadata": {},
     "output_type": "execute_result"
    }
   ],
   "source": [
    "dot_star = re.compile(r'.*')\n",
    "dot_star.search(prime)"
   ]
  },
  {
   "cell_type": "code",
   "execution_count": 31,
   "id": "6b599366-7319-4479-9cdb-25610a6830fe",
   "metadata": {},
   "outputs": [
    {
     "data": {
      "text/plain": [
       "<re.Match object; span=(0, 61), match='Serve the public trust.\\nProtect the innocent.\\nU>"
      ]
     },
     "execution_count": 31,
     "metadata": {},
     "output_type": "execute_result"
    }
   ],
   "source": [
    "dot_star = re.compile(r'.*', re.DOTALL)\n",
    "dot_star.search(prime)"
   ]
  },
  {
   "cell_type": "markdown",
   "id": "fd6aa981-f9f5-4034-9ed6-0de42aeade19",
   "metadata": {},
   "source": [
    "pass **re.IGNORECASE or re.I** as the second argument to re.compile() to make the matching case-insensitive"
   ]
  },
  {
   "cell_type": "code",
   "execution_count": 32,
   "id": "1de43f5b-d792-420b-9881-c9507c6fe77c",
   "metadata": {},
   "outputs": [
    {
     "data": {
      "text/plain": [
       "['o',\n",
       " 'e',\n",
       " 'o',\n",
       " 'u',\n",
       " 'o',\n",
       " 'a',\n",
       " 'i',\n",
       " 'o',\n",
       " 'o',\n",
       " 'a',\n",
       " 'a',\n",
       " 'o',\n",
       " 'u',\n",
       " 'o',\n",
       " 'o',\n",
       " 'o',\n",
       " 'o',\n",
       " 'u']"
      ]
     },
     "execution_count": 32,
     "metadata": {},
     "output_type": "execute_result"
    }
   ],
   "source": [
    "vowel_regex = re.compile(r'[aeiou]')\n",
    "vowel_regex.findall('Al, why does your programming book talk about robocop so much?')"
   ]
  },
  {
   "cell_type": "code",
   "execution_count": 33,
   "id": "83b8d3fe-3f54-441b-8191-2717a6a52f39",
   "metadata": {},
   "outputs": [
    {
     "data": {
      "text/plain": [
       "['A',\n",
       " 'o',\n",
       " 'e',\n",
       " 'o',\n",
       " 'u',\n",
       " 'o',\n",
       " 'a',\n",
       " 'i',\n",
       " 'o',\n",
       " 'o',\n",
       " 'a',\n",
       " 'a',\n",
       " 'o',\n",
       " 'u',\n",
       " 'o',\n",
       " 'o',\n",
       " 'o',\n",
       " 'o',\n",
       " 'u']"
      ]
     },
     "execution_count": 33,
     "metadata": {},
     "output_type": "execute_result"
    }
   ],
   "source": [
    "vowel_regex = re.compile(r'[aeiou]', re.IGNORECASE)\n",
    "vowel_regex.findall('Al, why does your programming book talk about robocop so much?')"
   ]
  },
  {
   "cell_type": "code",
   "execution_count": null,
   "id": "3223269b-826f-4b3e-b086-5a12aa989b27",
   "metadata": {},
   "outputs": [],
   "source": []
  }
 ],
 "metadata": {
  "kernelspec": {
   "display_name": "Python 3 (ipykernel)",
   "language": "python",
   "name": "python3"
  },
  "language_info": {
   "codemirror_mode": {
    "name": "ipython",
    "version": 3
   },
   "file_extension": ".py",
   "mimetype": "text/x-python",
   "name": "python",
   "nbconvert_exporter": "python",
   "pygments_lexer": "ipython3",
   "version": "3.9.12"
  }
 },
 "nbformat": 4,
 "nbformat_minor": 5
}
