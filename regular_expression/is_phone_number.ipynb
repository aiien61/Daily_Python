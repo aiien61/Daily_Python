{
 "cells": [
  {
   "cell_type": "code",
   "execution_count": 1,
   "id": "b7ea7c4e-8ab6-47a5-a383-f6b85f03d2c3",
   "metadata": {},
   "outputs": [],
   "source": [
    "import re"
   ]
  },
  {
   "cell_type": "code",
   "execution_count": 2,
   "id": "81289baf-a35b-41bc-912b-0111dafc7482",
   "metadata": {},
   "outputs": [],
   "source": [
    "# without regrex\n",
    "def is_phone_number(text: str) -> bool:\n",
    "    if len(text) != 12:\n",
    "        return False\n",
    "    \n",
    "    for i in range(0, 3):\n",
    "        # no area code\n",
    "        if not text[i].isdecimal():\n",
    "            return False\n",
    "        \n",
    "    # missing dash\n",
    "    if text[3] != '-':\n",
    "        return False\n",
    "    \n",
    "    # no first 3 digits\n",
    "    for i in range(4, 7):\n",
    "        if not text[i].isdecimal():\n",
    "            return False\n",
    "        \n",
    "    # missing second dash\n",
    "    if text[7] != '-':\n",
    "        return False\n",
    "    \n",
    "    # no last 4 digits\n",
    "    for i in range(8, 12):\n",
    "        if not text[i].isdecimal():\n",
    "            return False\n",
    "        \n",
    "    return True"
   ]
  },
  {
   "cell_type": "code",
   "execution_count": 3,
   "id": "de7709cf-569b-45d2-8627-6921fdde8e8a",
   "metadata": {},
   "outputs": [
    {
     "name": "stdin",
     "output_type": "stream",
     "text": [
      "Enter a phone number:  123-456-7890\n"
     ]
    },
    {
     "data": {
      "text/plain": [
       "True"
      ]
     },
     "execution_count": 3,
     "metadata": {},
     "output_type": "execute_result"
    }
   ],
   "source": [
    "is_phone_number(input('Enter a phone number: '))"
   ]
  },
  {
   "cell_type": "code",
   "execution_count": 4,
   "id": "4fa32662-232f-4ba8-9631-103cf3a7eb9d",
   "metadata": {},
   "outputs": [],
   "source": [
    "def find_phone_number(message: str) -> None:\n",
    "    found_number = False\n",
    "    for i in range(len(message)):\n",
    "        chunk = message[i: i + 12]\n",
    "        if is_phone_number(chunk):\n",
    "            print(f'Phone number found: {chunk}')\n",
    "            found_number = True\n",
    "            \n",
    "    if not found_number:\n",
    "        print('Could not find any phone number.')\n",
    "    \n",
    "    return None"
   ]
  },
  {
   "cell_type": "code",
   "execution_count": 7,
   "id": "201b4775-4443-48cd-ba5d-cf174a335d31",
   "metadata": {},
   "outputs": [],
   "source": [
    "def find_phone_number_re(message: str) -> None:\n",
    "    phone_number_regrex = re.compile(r'\\d\\d\\d-\\d\\d\\d-\\d\\d\\d\\d')\n",
    "    print(phone_number_regrex.findall(message))"
   ]
  },
  {
   "cell_type": "code",
   "execution_count": 5,
   "id": "e9eda035-af53-4c6c-b809-256b0daf8904",
   "metadata": {},
   "outputs": [],
   "source": [
    "def find_first_phone_number_re(message: str) -> None:\n",
    "    phone_number_regrex = re.compile(r'\\d\\d\\d-\\d\\d\\d-\\d\\d\\d\\d')\n",
    "    mo = phone_number_regrex.search(message)\n",
    "    print(mo.group())"
   ]
  },
  {
   "cell_type": "code",
   "execution_count": 6,
   "id": "97fbb612-972c-42df-abb9-31a5b0dd2040",
   "metadata": {},
   "outputs": [],
   "source": [
    "message = 'Call me at 415-555-1111 tomorrow, or at 415-555-9999 for my office.'"
   ]
  },
  {
   "cell_type": "code",
   "execution_count": 8,
   "id": "680c057e-fbb5-4306-975a-433bee64c787",
   "metadata": {},
   "outputs": [
    {
     "name": "stdout",
     "output_type": "stream",
     "text": [
      "Phone number found: 415-555-1111\n",
      "Phone number found: 415-555-9999\n"
     ]
    }
   ],
   "source": [
    "find_phone_number(message)"
   ]
  },
  {
   "cell_type": "code",
   "execution_count": 9,
   "id": "a4d0c6c2-3579-4eac-9590-835d70b17a9b",
   "metadata": {},
   "outputs": [
    {
     "name": "stdout",
     "output_type": "stream",
     "text": [
      "['415-555-1111', '415-555-9999']\n"
     ]
    }
   ],
   "source": [
    "find_phone_number_re(message)"
   ]
  },
  {
   "cell_type": "code",
   "execution_count": 10,
   "id": "69c7df58-1bc9-4148-80e3-84f7fbf4f6a8",
   "metadata": {},
   "outputs": [
    {
     "name": "stdout",
     "output_type": "stream",
     "text": [
      "415-555-1111\n"
     ]
    }
   ],
   "source": [
    "find_first_phone_number_re(message)"
   ]
  },
  {
   "cell_type": "code",
   "execution_count": null,
   "id": "c2a39385-1e28-42ad-a2bf-a8ee20dcdc96",
   "metadata": {},
   "outputs": [],
   "source": []
  }
 ],
 "metadata": {
  "kernelspec": {
   "display_name": "Python 3 (ipykernel)",
   "language": "python",
   "name": "python3"
  },
  "language_info": {
   "codemirror_mode": {
    "name": "ipython",
    "version": 3
   },
   "file_extension": ".py",
   "mimetype": "text/x-python",
   "name": "python",
   "nbconvert_exporter": "python",
   "pygments_lexer": "ipython3",
   "version": "3.9.12"
  }
 },
 "nbformat": 4,
 "nbformat_minor": 5
}
