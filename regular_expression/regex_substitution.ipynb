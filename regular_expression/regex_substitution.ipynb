{
 "cells": [
  {
   "cell_type": "code",
   "execution_count": 1,
   "id": "9b96bf7a-ba07-4b0d-8793-434844728dc3",
   "metadata": {},
   "outputs": [],
   "source": [
    "import re"
   ]
  },
  {
   "cell_type": "code",
   "execution_count": 2,
   "id": "a5a98449-f3ea-4496-886d-2897bb74e28b",
   "metadata": {},
   "outputs": [],
   "source": [
    "name_regex = re.compile(r'Agent \\w+')"
   ]
  },
  {
   "cell_type": "code",
   "execution_count": 3,
   "id": "7664dddb-97af-4f47-ad74-cb30718d77cd",
   "metadata": {},
   "outputs": [
    {
     "data": {
      "text/plain": [
       "['Agent Alice', 'Agent Bob']"
      ]
     },
     "execution_count": 3,
     "metadata": {},
     "output_type": "execute_result"
    }
   ],
   "source": [
    "name_regex.findall('Agent Alice gave the secret document to Agent Bob')"
   ]
  },
  {
   "cell_type": "markdown",
   "id": "9289f112-dcf7-44cc-96f6-0f3659afe043",
   "metadata": {},
   "source": [
    "# use .sub() to substitute the string\n",
    "matches the pattern in the string and substitutes the found satisfied string with specified string argument"
   ]
  },
  {
   "cell_type": "code",
   "execution_count": 4,
   "id": "383703ea-0b41-4b69-8652-3e0226a5030f",
   "metadata": {},
   "outputs": [
    {
     "data": {
      "text/plain": [
       "'REDACTED gave the secret document to REDACTED'"
      ]
     },
     "execution_count": 4,
     "metadata": {},
     "output_type": "execute_result"
    }
   ],
   "source": [
    "name_regex.sub('REDACTED', 'Agent Alice gave the secret document to Agent Cameron')"
   ]
  },
  {
   "cell_type": "code",
   "execution_count": 5,
   "id": "181e2d2e-87a0-416a-81a5-5a85e340e8a2",
   "metadata": {},
   "outputs": [],
   "source": [
    "name_regex = re.compile(r'Agent (\\w)\\w*')"
   ]
  },
  {
   "cell_type": "code",
   "execution_count": 9,
   "id": "99b974e5-71e9-4c83-91dd-0e977763cb81",
   "metadata": {},
   "outputs": [
    {
     "data": {
      "text/plain": [
       "['A', 'C']"
      ]
     },
     "execution_count": 9,
     "metadata": {},
     "output_type": "execute_result"
    }
   ],
   "source": [
    "name_regex.findall('Agent Alice gave the secret document to Agent Cameron')"
   ]
  },
  {
   "cell_type": "code",
   "execution_count": 10,
   "id": "451dc8a6-dde3-4cfb-89f7-6e2c2e62dcbf",
   "metadata": {},
   "outputs": [
    {
     "data": {
      "text/plain": [
       "'Agent A***** gave the secret document to Agent C*****'"
      ]
     },
     "execution_count": 10,
     "metadata": {},
     "output_type": "execute_result"
    }
   ],
   "source": [
    "name_regex.sub(r'Agent \\1*****', 'Agent Alice gave the secret document to Agent Cameron')"
   ]
  },
  {
   "cell_type": "markdown",
   "id": "cd041062-166b-4f40-bb5d-d72b8fbc3a79",
   "metadata": {},
   "source": [
    "# Verbose mode"
   ]
  },
  {
   "cell_type": "code",
   "execution_count": 2,
   "id": "c4b0bced-ae62-4dcd-99ed-f62e48d2d324",
   "metadata": {},
   "outputs": [
    {
     "data": {
      "text/plain": [
       "re.compile(r'(\\d\\d\\d)(-)?\\d\\d\\d-\\d\\d\\d\\d', re.UNICODE)"
      ]
     },
     "execution_count": 2,
     "metadata": {},
     "output_type": "execute_result"
    }
   ],
   "source": [
    "# Hard to read the pattern\n",
    "re.compile(r'(\\d\\d\\d)(-)?\\d\\d\\d-\\d\\d\\d\\d')"
   ]
  },
  {
   "cell_type": "markdown",
   "id": "29d4a2bb-656d-4a28-a7fb-b27f49f717c3",
   "metadata": {},
   "source": [
    "#### The second parameter for re.compile() can be specified more than 1 argument by using pipe |"
   ]
  },
  {
   "cell_type": "code",
   "execution_count": 5,
   "id": "f406c3d3-39d1-450e-b261-714954ace766",
   "metadata": {},
   "outputs": [
    {
     "data": {
      "text/plain": [
       "re.compile(r'\\n(\\d\\d\\d-)|           # area code (without parentheses, with dash)\\n(\\(\\d\\d\\d\\))        # or area code with parentheses and no dash\\n\\d\\d\\d               # first 3 digits\\n-                    # second dash\\n\\d\\d\\d\\d             # last 4 digits\\n\\sx\\d{2,5}           # extension, like x12345\\n',\n",
       "           re.IGNORECASE|re.DOTALL|re.UNICODE|re.VERBOSE)"
      ]
     },
     "execution_count": 5,
     "metadata": {},
     "output_type": "execute_result"
    }
   ],
   "source": [
    "# easier to read with using verbose mode\n",
    "re.compile(r'''\n",
    "(\\d\\d\\d-)|           # area code (without parentheses, with dash)\n",
    "(\\(\\d\\d\\d\\))        # or area code with parentheses and no dash\n",
    "\\d\\d\\d               # first 3 digits\n",
    "-                    # second dash\n",
    "\\d\\d\\d\\d             # last 4 digits\n",
    "\\sx\\d{2,5}           # extension, like x12345\n",
    "''', re.VERBOSE | re.DOTALL | re.IGNORECASE)"
   ]
  },
  {
   "cell_type": "code",
   "execution_count": null,
   "id": "89f5753e-660f-423c-a9b9-d0c8d5a1f380",
   "metadata": {},
   "outputs": [],
   "source": []
  }
 ],
 "metadata": {
  "kernelspec": {
   "display_name": "Python 3 (ipykernel)",
   "language": "python",
   "name": "python3"
  },
  "language_info": {
   "codemirror_mode": {
    "name": "ipython",
    "version": 3
   },
   "file_extension": ".py",
   "mimetype": "text/x-python",
   "name": "python",
   "nbconvert_exporter": "python",
   "pygments_lexer": "ipython3",
   "version": "3.9.12"
  }
 },
 "nbformat": 4,
 "nbformat_minor": 5
}
