{
 "cells": [
  {
   "cell_type": "code",
   "execution_count": 8,
   "id": "a3a2ac97-f601-46ce-ba95-c94776977eab",
   "metadata": {},
   "outputs": [],
   "source": [
    "import re\n",
    "import unittest\n",
    "import doctest"
   ]
  },
  {
   "cell_type": "code",
   "execution_count": 11,
   "id": "88c71674-2c79-46c5-bbbf-8f0ed0dc3d7e",
   "metadata": {},
   "outputs": [],
   "source": [
    "def verify_password(password: str):\n",
    "    '''\n",
    "    This is a test:\n",
    "    >>> verify_password(\"a8cDefgh\")\n",
    "    True\n",
    "    \n",
    "    >>> verify_password(\"a8cDefghx\")\n",
    "    True\n",
    "    \n",
    "    >>> verify_password(\"a8cD-efgh*_%$@129451\")\n",
    "    True\n",
    "    \n",
    "    >>> verify_password(\"a8cdefgh\")\n",
    "    False\n",
    "    \n",
    "    >>> verify_password(\"abcDefgh\")\n",
    "    False\n",
    "    \n",
    "    >>> verify_password(\"A8CDEFGH\")\n",
    "    False\n",
    "    \n",
    "    >>> verify_password(\"a8c\")\n",
    "    False\n",
    "    '''\n",
    "    \n",
    "    # at least 8 characters\n",
    "    regex = re.compile(r'(.{8})(.*)')\n",
    "    if regex.search(password) == None:\n",
    "        return False\n",
    "\n",
    "    # contains both upper and lower cases\n",
    "    regex = re.compile(r'[a-z]+')\n",
    "    if regex.search(password) == None:\n",
    "        return False\n",
    "    \n",
    "    regex = re.compile(r'[A-Z]+')\n",
    "    if regex.search(password) == None:\n",
    "        return False\n",
    "    \n",
    "    # at least 1 digit\n",
    "    regex = re.compile(r'\\d+')\n",
    "    if regex.search(password) == None:\n",
    "        return False\n",
    "    \n",
    "    return True"
   ]
  },
  {
   "cell_type": "code",
   "execution_count": 12,
   "id": "476c5f12-7924-461d-b7db-ab9e9150a825",
   "metadata": {},
   "outputs": [],
   "source": [
    "class Test(unittest.TestCase):\n",
    "    passwords = {\n",
    "        'a8cDefgh': True,\n",
    "        'a8cDefghx': True,\n",
    "        'a8cD-efgh*_%$@129451': True,\n",
    "        'a8cdefgh': False,\n",
    "        'abcDefgh': False,\n",
    "        'A8CDEFGH': False,\n",
    "        'a8c': False\n",
    "    }\n",
    "    def test_verify_password(self):\n",
    "        for p, expected in self.passwords.items():\n",
    "            actual = verify_password(p)\n",
    "            self.assertEqual(actual, expected)\n",
    "        "
   ]
  },
  {
   "cell_type": "code",
   "execution_count": 13,
   "id": "3e2f54a6-75b8-4969-b018-3ad6543d9707",
   "metadata": {},
   "outputs": [
    {
     "name": "stderr",
     "output_type": "stream",
     "text": [
      "test_verify_password (__main__.Test) ... ok\n",
      "\n",
      "----------------------------------------------------------------------\n",
      "Ran 1 test in 0.003s\n",
      "\n",
      "OK\n"
     ]
    },
    {
     "data": {
      "text/plain": [
       "<unittest.main.TestProgram at 0x7f1149a07070>"
      ]
     },
     "execution_count": 13,
     "metadata": {},
     "output_type": "execute_result"
    }
   ],
   "source": [
    "unittest.main(argv=[''], verbosity=2, exit=False)"
   ]
  },
  {
   "cell_type": "code",
   "execution_count": 16,
   "id": "93bd23db-72cb-41ca-862e-0a4968258f8b",
   "metadata": {},
   "outputs": [
    {
     "name": "stdout",
     "output_type": "stream",
     "text": [
      "Trying:\n",
      "    verify_password(\"a8cDefgh\")\n",
      "Expecting:\n",
      "    True\n",
      "ok\n",
      "Trying:\n",
      "    verify_password(\"a8cDefghx\")\n",
      "Expecting:\n",
      "    True\n",
      "ok\n",
      "Trying:\n",
      "    verify_password(\"a8cD-efgh*_%$@129451\")\n",
      "Expecting:\n",
      "    True\n",
      "ok\n",
      "Trying:\n",
      "    verify_password(\"a8cdefgh\")\n",
      "Expecting:\n",
      "    False\n",
      "ok\n",
      "Trying:\n",
      "    verify_password(\"abcDefgh\")\n",
      "Expecting:\n",
      "    False\n",
      "ok\n",
      "Trying:\n",
      "    verify_password(\"A8CDEFGH\")\n",
      "Expecting:\n",
      "    False\n",
      "ok\n",
      "Trying:\n",
      "    verify_password(\"a8c\")\n",
      "Expecting:\n",
      "    False\n",
      "ok\n",
      "3 items had no tests:\n",
      "    __main__\n",
      "    __main__.Test\n",
      "    __main__.Test.test_verify_password\n",
      "1 items passed all tests:\n",
      "   7 tests in __main__.verify_password\n",
      "7 tests in 4 items.\n",
      "7 passed and 0 failed.\n",
      "Test passed.\n"
     ]
    },
    {
     "data": {
      "text/plain": [
       "TestResults(failed=0, attempted=7)"
      ]
     },
     "execution_count": 16,
     "metadata": {},
     "output_type": "execute_result"
    }
   ],
   "source": [
    "doctest.testmod(verbose=True)"
   ]
  },
  {
   "cell_type": "code",
   "execution_count": null,
   "id": "b072d757-6005-4e0b-93c0-8607985f8b8d",
   "metadata": {},
   "outputs": [],
   "source": []
  }
 ],
 "metadata": {
  "kernelspec": {
   "display_name": "Python 3 (ipykernel)",
   "language": "python",
   "name": "python3"
  },
  "language_info": {
   "codemirror_mode": {
    "name": "ipython",
    "version": 3
   },
   "file_extension": ".py",
   "mimetype": "text/x-python",
   "name": "python",
   "nbconvert_exporter": "python",
   "pygments_lexer": "ipython3",
   "version": "3.9.12"
  }
 },
 "nbformat": 4,
 "nbformat_minor": 5
}
