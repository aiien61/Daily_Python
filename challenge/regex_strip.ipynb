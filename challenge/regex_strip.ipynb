{
 "cells": [
  {
   "cell_type": "code",
   "execution_count": 35,
   "id": "55b70de9-fe80-4beb-b76d-601ad4750d9a",
   "metadata": {},
   "outputs": [],
   "source": [
    "import re\n",
    "import unittest, doctest\n",
    "from toolz import pipe"
   ]
  },
  {
   "cell_type": "code",
   "execution_count": 43,
   "id": "fa961b80-9e94-4038-9f75-a09568bd20f5",
   "metadata": {},
   "outputs": [],
   "source": [
    "def strip_by_regex(*chars) -> str:\n",
    "    \"\"\"\n",
    "    This is a test:\n",
    "    >>> strip_by_regex('   xy-yx   ')\n",
    "    'xy-yx'\n",
    "    \n",
    "    >>> strip_by_regex('---xy-yx---', '-')\n",
    "    'xy-yx'\n",
    "    \n",
    "    >>> strip_by_regex('xy-yx------', '-')\n",
    "    'xy-yx'\n",
    "    \n",
    "    >>> strip_by_regex('------xy-yx', '-')\n",
    "    'xy-yx'\n",
    "    \n",
    "    >>> strip_by_regex('xy---yx')\n",
    "    'xy---yx'\n",
    "    \n",
    "    >>> strip_by_regex('       ')\n",
    "    ''\n",
    "    \n",
    "    >>> strip_by_regex('xy---yx', '-')\n",
    "    'xy---yx'\n",
    "    \"\"\"\n",
    "    \n",
    "    regex = re.compile(r'\\s*')\n",
    "    space_stripped = regex.sub('', chars[0])\n",
    "    if len(chars) == 1:\n",
    "        return space_stripped\n",
    "    \n",
    "    lstrip = re.compile(r'^(' + chars[1] + '*)')\n",
    "    rstrip = re.compile(r'(' + chars[1] + '*)$')\n",
    "    \n",
    "    char_stripped = pipe(space_stripped,\n",
    "                         lambda s: lstrip.sub('', s),\n",
    "                         lambda s: rstrip.sub('', s))\n",
    "    return char_stripped"
   ]
  },
  {
   "cell_type": "code",
   "execution_count": 23,
   "id": "2fe1d9f7-45c5-4289-a440-452425497c2c",
   "metadata": {},
   "outputs": [],
   "source": [
    "class Test(unittest.TestCase):\n",
    "    strings = {\n",
    "        '   xy-yx   ': None,\n",
    "        '---xy-yx---': '-',\n",
    "        'xy-yx------': '-',\n",
    "        '------xy-yx': '-',\n",
    "        'xy---yx': None, \n",
    "        '       ': None,\n",
    "        'xy---yx': '-'\n",
    "    }\n",
    "    \n",
    "    def test_strip_by_regex(self):\n",
    "        for string, trailer in self.strings.items():\n",
    "            if not trailer:\n",
    "                expected = string.strip()\n",
    "                actual = strip_by_regex(string)\n",
    "            else:\n",
    "                expected = string.strip(trailer)\n",
    "                actual = strip_by_regex(string, trailer)\n",
    "            self.assertEqual(actual, expected)"
   ]
  },
  {
   "cell_type": "code",
   "execution_count": 39,
   "id": "95d1f021-a4a9-42c8-93cc-48a9b9197450",
   "metadata": {},
   "outputs": [
    {
     "name": "stderr",
     "output_type": "stream",
     "text": [
      "test_strip_by_regex (__main__.Test) ... ok\n",
      "\n",
      "----------------------------------------------------------------------\n",
      "Ran 1 test in 0.006s\n",
      "\n",
      "OK\n"
     ]
    },
    {
     "data": {
      "text/plain": [
       "<unittest.main.TestProgram at 0x7f2d947c38b0>"
      ]
     },
     "execution_count": 39,
     "metadata": {},
     "output_type": "execute_result"
    }
   ],
   "source": [
    "unittest.main(argv=[''], verbosity=2, exit=False)"
   ]
  },
  {
   "cell_type": "code",
   "execution_count": 44,
   "id": "958a5715-2a75-4c51-bea0-4cb7f2de6d71",
   "metadata": {},
   "outputs": [
    {
     "name": "stdout",
     "output_type": "stream",
     "text": [
      "Trying:\n",
      "    strip_by_regex('   xy-yx   ')\n",
      "Expecting:\n",
      "    'xy-yx'\n",
      "ok\n",
      "Trying:\n",
      "    strip_by_regex('---xy-yx---', '-')\n",
      "Expecting:\n",
      "    'xy-yx'\n",
      "ok\n",
      "Trying:\n",
      "    strip_by_regex('xy-yx------', '-')\n",
      "Expecting:\n",
      "    'xy-yx'\n",
      "ok\n",
      "Trying:\n",
      "    strip_by_regex('------xy-yx', '-')\n",
      "Expecting:\n",
      "    'xy-yx'\n",
      "ok\n",
      "Trying:\n",
      "    strip_by_regex('xy---yx')\n",
      "Expecting:\n",
      "    'xy---yx'\n",
      "ok\n",
      "Trying:\n",
      "    strip_by_regex('       ')\n",
      "Expecting:\n",
      "    ''\n",
      "ok\n",
      "Trying:\n",
      "    strip_by_regex('xy---yx', '-')\n",
      "Expecting:\n",
      "    'xy---yx'\n",
      "ok\n",
      "5 items had no tests:\n",
      "    __main__\n",
      "    __main__.Test\n",
      "    __main__.Test.test_strip_by_regex\n",
      "    __main__.regex_strip\n",
      "    __main__.strip_by_regrex\n",
      "1 items passed all tests:\n",
      "   7 tests in __main__.strip_by_regex\n",
      "7 tests in 6 items.\n",
      "7 passed and 0 failed.\n",
      "Test passed.\n"
     ]
    },
    {
     "data": {
      "text/plain": [
       "TestResults(failed=0, attempted=7)"
      ]
     },
     "execution_count": 44,
     "metadata": {},
     "output_type": "execute_result"
    }
   ],
   "source": [
    "doctest.testmod(verbose=True)"
   ]
  },
  {
   "cell_type": "code",
   "execution_count": null,
   "id": "cc8445f0-7784-4058-9184-ea8b4a7876a3",
   "metadata": {},
   "outputs": [],
   "source": []
  }
 ],
 "metadata": {
  "kernelspec": {
   "display_name": "Python 3 (ipykernel)",
   "language": "python",
   "name": "python3"
  },
  "language_info": {
   "codemirror_mode": {
    "name": "ipython",
    "version": 3
   },
   "file_extension": ".py",
   "mimetype": "text/x-python",
   "name": "python",
   "nbconvert_exporter": "python",
   "pygments_lexer": "ipython3",
   "version": "3.9.12"
  }
 },
 "nbformat": 4,
 "nbformat_minor": 5
}
