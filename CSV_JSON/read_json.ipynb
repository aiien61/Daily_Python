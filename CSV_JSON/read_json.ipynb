{
 "cells": [
  {
   "cell_type": "markdown",
   "id": "fb94ce79-95e3-43b1-88e9-ac5f333e5caf",
   "metadata": {},
   "source": [
    "# Convert string to JSON"
   ]
  },
  {
   "cell_type": "code",
   "execution_count": 4,
   "id": "10611efa-c131-47de-9d9f-9bac9f4e9aa2",
   "metadata": {},
   "outputs": [],
   "source": [
    "string_of_json_data = '{\"name\": \"Zophie\", \"is_cat\": true, \"mice_caught\": 0, \"feline_IQ\": null}'"
   ]
  },
  {
   "cell_type": "code",
   "execution_count": 2,
   "id": "37361d05-961e-4d46-9b9d-a2adf5bef5e3",
   "metadata": {},
   "outputs": [],
   "source": [
    "import json"
   ]
  },
  {
   "cell_type": "code",
   "execution_count": 5,
   "id": "34252142-69f6-48e4-8f07-b65a3c9ca592",
   "metadata": {},
   "outputs": [
    {
     "data": {
      "text/plain": [
       "{'name': 'Zophie', 'is_cat': True, 'mice_caught': 0, 'feline_IQ': None}"
      ]
     },
     "execution_count": 5,
     "metadata": {},
     "output_type": "execute_result"
    }
   ],
   "source": [
    "json_data_as_python_value = json.loads(string_of_json_data)\n",
    "json_data_as_python_value"
   ]
  },
  {
   "cell_type": "markdown",
   "id": "84d6bf6a-84d9-4f1d-a602-07b21226dddf",
   "metadata": {},
   "source": [
    "# Convert dict to JSON"
   ]
  },
  {
   "cell_type": "code",
   "execution_count": 6,
   "id": "608fa35f-392b-40c5-8263-4a60542ca044",
   "metadata": {},
   "outputs": [],
   "source": [
    "python_value = {\"name\": \"Zophie\", \"is_cat\": True, \"mice_caught\": 0, \"feline_IQ\": None}"
   ]
  },
  {
   "cell_type": "code",
   "execution_count": 7,
   "id": "4a8f8545-9071-4aad-bf16-888dabf817ab",
   "metadata": {},
   "outputs": [
    {
     "data": {
      "text/plain": [
       "'{\"name\": \"Zophie\", \"is_cat\": true, \"mice_caught\": 0, \"feline_IQ\": null}'"
      ]
     },
     "execution_count": 7,
     "metadata": {},
     "output_type": "execute_result"
    }
   ],
   "source": [
    "string_of_json_data = json.dumps(python_value)\n",
    "string_of_json_data"
   ]
  },
  {
   "cell_type": "code",
   "execution_count": 8,
   "id": "6a483bd7-7745-42a5-8f5c-a2f528016312",
   "metadata": {},
   "outputs": [
    {
     "ename": "HTTPError",
     "evalue": "401 Client Error: Unauthorized for url: http://api.openweathermap.org/data/2.5/forecast/daily?q=San%20Francisco,%20CA&cnt=3",
     "output_type": "error",
     "traceback": [
      "\u001b[0;31m---------------------------------------------------------------------------\u001b[0m",
      "\u001b[0;31mHTTPError\u001b[0m                                 Traceback (most recent call last)",
      "Input \u001b[0;32mIn [8]\u001b[0m, in \u001b[0;36m<cell line: 4>\u001b[0;34m()\u001b[0m\n\u001b[1;32m      2\u001b[0m url \u001b[38;5;241m=\u001b[39m \u001b[38;5;124mf\u001b[39m\u001b[38;5;124m'\u001b[39m\u001b[38;5;124mhttp://api.openweathermap.org/data/2.5/forecast/daily?q=San Francisco, CA&cnt=3\u001b[39m\u001b[38;5;124m'\u001b[39m\n\u001b[1;32m      3\u001b[0m response \u001b[38;5;241m=\u001b[39m requests\u001b[38;5;241m.\u001b[39mget(url)\n\u001b[0;32m----> 4\u001b[0m \u001b[43mresponse\u001b[49m\u001b[38;5;241;43m.\u001b[39;49m\u001b[43mraise_for_status\u001b[49m\u001b[43m(\u001b[49m\u001b[43m)\u001b[49m\n",
      "File \u001b[0;32m/opt/conda/lib/python3.9/site-packages/requests/models.py:960\u001b[0m, in \u001b[0;36mResponse.raise_for_status\u001b[0;34m(self)\u001b[0m\n\u001b[1;32m    957\u001b[0m     http_error_msg \u001b[38;5;241m=\u001b[39m \u001b[38;5;124mu\u001b[39m\u001b[38;5;124m'\u001b[39m\u001b[38;5;132;01m%s\u001b[39;00m\u001b[38;5;124m Server Error: \u001b[39m\u001b[38;5;132;01m%s\u001b[39;00m\u001b[38;5;124m for url: \u001b[39m\u001b[38;5;132;01m%s\u001b[39;00m\u001b[38;5;124m'\u001b[39m \u001b[38;5;241m%\u001b[39m (\u001b[38;5;28mself\u001b[39m\u001b[38;5;241m.\u001b[39mstatus_code, reason, \u001b[38;5;28mself\u001b[39m\u001b[38;5;241m.\u001b[39murl)\n\u001b[1;32m    959\u001b[0m \u001b[38;5;28;01mif\u001b[39;00m http_error_msg:\n\u001b[0;32m--> 960\u001b[0m     \u001b[38;5;28;01mraise\u001b[39;00m HTTPError(http_error_msg, response\u001b[38;5;241m=\u001b[39m\u001b[38;5;28mself\u001b[39m)\n",
      "\u001b[0;31mHTTPError\u001b[0m: 401 Client Error: Unauthorized for url: http://api.openweathermap.org/data/2.5/forecast/daily?q=San%20Francisco,%20CA&cnt=3"
     ]
    }
   ],
   "source": [
    "import requests\n",
    "url = f'http://api.openweathermap.org/data/2.5/forecast/daily?q=San Francisco, CA&cnt=3'\n",
    "response = requests.get(url)\n",
    "response.raise_for_status()"
   ]
  },
  {
   "cell_type": "code",
   "execution_count": null,
   "id": "fa459b13-0649-42f2-bd76-b8ce074e88a1",
   "metadata": {},
   "outputs": [],
   "source": []
  }
 ],
 "metadata": {
  "kernelspec": {
   "display_name": "Python 3 (ipykernel)",
   "language": "python",
   "name": "python3"
  },
  "language_info": {
   "codemirror_mode": {
    "name": "ipython",
    "version": 3
   },
   "file_extension": ".py",
   "mimetype": "text/x-python",
   "name": "python",
   "nbconvert_exporter": "python",
   "pygments_lexer": "ipython3",
   "version": "3.9.12"
  }
 },
 "nbformat": 4,
 "nbformat_minor": 5
}
