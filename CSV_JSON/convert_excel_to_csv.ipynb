{
 "cells": [
  {
   "cell_type": "code",
   "execution_count": 3,
   "id": "b91b1a1f-c6b8-48d5-a538-ffee6bed05cf",
   "metadata": {},
   "outputs": [],
   "source": [
    "import os, csv, openpyxl"
   ]
  },
  {
   "cell_type": "code",
   "execution_count": 5,
   "id": "0efd1c11-1bb6-4054-8cb4-2e5584966edd",
   "metadata": {},
   "outputs": [],
   "source": [
    "for file in os.listdir('.'):\n",
    "    if not file.endswith('xlsx'):\n",
    "        continue\n",
    "    \n",
    "    wb = openpyxl.load_workbook(file)\n",
    "    for sheetname in wb.sheetnames:\n",
    "        sheet = wb[sheetname]\n",
    "        \n",
    "        # Create the CSV filename from the Excel filename and sheet title.\n",
    "        csv_file = open(f'{file}_{sheetname}.csv', 'w', newline='')\n",
    "        \n",
    "        # Create the csv.writer object for this CSV file.\n",
    "        csv_writer = csv.writer(csv_file)\n",
    "        \n",
    "        # Loop through every row in the sheet.\n",
    "        for row_num in range(1, sheet.max_row + 1):\n",
    "            row_data = [sheet.cell(row=row_num, column=col_num).value for col_num in range(1, sheet.max_column + 1)]\n",
    "            \n",
    "            # Write the row data list to the CSV file.\n",
    "            csv_writer.writerow(row_data)\n",
    "        \n",
    "        csv_file.close()    "
   ]
  },
  {
   "cell_type": "code",
   "execution_count": null,
   "id": "7b6ff946-6de1-40fa-b615-3ba1dd02fe1c",
   "metadata": {},
   "outputs": [],
   "source": []
  }
 ],
 "metadata": {
  "kernelspec": {
   "display_name": "Python 3 (ipykernel)",
   "language": "python",
   "name": "python3"
  },
  "language_info": {
   "codemirror_mode": {
    "name": "ipython",
    "version": 3
   },
   "file_extension": ".py",
   "mimetype": "text/x-python",
   "name": "python",
   "nbconvert_exporter": "python",
   "pygments_lexer": "ipython3",
   "version": "3.9.12"
  }
 },
 "nbformat": 4,
 "nbformat_minor": 5
}
