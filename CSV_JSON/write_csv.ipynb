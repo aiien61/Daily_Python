{
 "cells": [
  {
   "cell_type": "code",
   "execution_count": 1,
   "id": "dc18740d-5526-4e4c-ac66-426118d3ea22",
   "metadata": {},
   "outputs": [],
   "source": [
    "import csv"
   ]
  },
  {
   "cell_type": "code",
   "execution_count": 2,
   "id": "de8bed30-3952-41f6-8446-a9559c7b8dae",
   "metadata": {},
   "outputs": [],
   "source": [
    "output_file = open('output.csv', 'w', newline='')\n",
    "output_writer = csv.writer(output_file)"
   ]
  },
  {
   "cell_type": "code",
   "execution_count": 3,
   "id": "5b06935d-cde9-433f-a9a2-5d4a1b2bb202",
   "metadata": {},
   "outputs": [
    {
     "data": {
      "text/plain": [
       "21"
      ]
     },
     "execution_count": 3,
     "metadata": {},
     "output_type": "execute_result"
    }
   ],
   "source": [
    "output_writer.writerow(['spam', 'eggs', 'bacon', 'ham'])"
   ]
  },
  {
   "cell_type": "code",
   "execution_count": 4,
   "id": "99586fa9-9eec-4bef-aa94-528c5fb4e49f",
   "metadata": {},
   "outputs": [
    {
     "data": {
      "text/plain": [
       "32"
      ]
     },
     "execution_count": 4,
     "metadata": {},
     "output_type": "execute_result"
    }
   ],
   "source": [
    "output_writer.writerow(['Hello, world!', 'eggs', 'bacon', 'ham'])"
   ]
  },
  {
   "cell_type": "code",
   "execution_count": 5,
   "id": "71644562-e94c-43f8-b7d6-3465ac3a1bfe",
   "metadata": {},
   "outputs": [
    {
     "data": {
      "text/plain": [
       "16"
      ]
     },
     "execution_count": 5,
     "metadata": {},
     "output_type": "execute_result"
    }
   ],
   "source": [
    "output_writer.writerow([1, 2, 3.141592, 4])"
   ]
  },
  {
   "cell_type": "code",
   "execution_count": 6,
   "id": "4ef225f2-d902-4888-9dc9-7133a56963a9",
   "metadata": {},
   "outputs": [],
   "source": [
    "output_file.close()"
   ]
  },
  {
   "cell_type": "markdown",
   "id": "9241f029-7a5e-4711-a95b-4d82efae39b2",
   "metadata": {},
   "source": [
    "# delimiter & lineterminator"
   ]
  },
  {
   "cell_type": "code",
   "execution_count": 7,
   "id": "d017a09b-fac4-4cca-81bd-16f9ca8e7a79",
   "metadata": {},
   "outputs": [],
   "source": [
    "csv_file = open('output.tsv', 'w', newline='')\n",
    "csv_writer = csv.writer(csv_file, delimiter='\\t', lineterminator='\\n\\n')"
   ]
  },
  {
   "cell_type": "code",
   "execution_count": 8,
   "id": "bf1ac352-a368-4fa1-b7c3-cb30bbca1c72",
   "metadata": {},
   "outputs": [
    {
     "data": {
      "text/plain": [
       "22"
      ]
     },
     "execution_count": 8,
     "metadata": {},
     "output_type": "execute_result"
    }
   ],
   "source": [
    "csv_writer.writerow(['apple', 'oranges', 'grapes'])"
   ]
  },
  {
   "cell_type": "code",
   "execution_count": 9,
   "id": "31021942-a316-45be-82c7-340592c54141",
   "metadata": {},
   "outputs": [
    {
     "data": {
      "text/plain": [
       "16"
      ]
     },
     "execution_count": 9,
     "metadata": {},
     "output_type": "execute_result"
    }
   ],
   "source": [
    "csv_writer.writerow(['eggs', 'bacon', 'ham'])"
   ]
  },
  {
   "cell_type": "code",
   "execution_count": 10,
   "id": "db66cff8-a59d-4adc-84df-f4949cb4699e",
   "metadata": {},
   "outputs": [
    {
     "data": {
      "text/plain": [
       "31"
      ]
     },
     "execution_count": 10,
     "metadata": {},
     "output_type": "execute_result"
    }
   ],
   "source": [
    "csv_writer.writerow(['spam', 'spam', 'spam', 'spam', 'spam', 'spam'])"
   ]
  },
  {
   "cell_type": "code",
   "execution_count": 11,
   "id": "1cd8b4b4-097a-4621-9041-09c3aab8595d",
   "metadata": {},
   "outputs": [],
   "source": [
    "csv_file.close()"
   ]
  },
  {
   "cell_type": "code",
   "execution_count": null,
   "id": "9c280acf-9aa0-4cd1-8891-390153ccb764",
   "metadata": {},
   "outputs": [],
   "source": []
  }
 ],
 "metadata": {
  "kernelspec": {
   "display_name": "Python 3 (ipykernel)",
   "language": "python",
   "name": "python3"
  },
  "language_info": {
   "codemirror_mode": {
    "name": "ipython",
    "version": 3
   },
   "file_extension": ".py",
   "mimetype": "text/x-python",
   "name": "python",
   "nbconvert_exporter": "python",
   "pygments_lexer": "ipython3",
   "version": "3.9.12"
  }
 },
 "nbformat": 4,
 "nbformat_minor": 5
}
