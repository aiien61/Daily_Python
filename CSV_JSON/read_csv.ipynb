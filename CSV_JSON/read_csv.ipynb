{
 "cells": [
  {
   "cell_type": "code",
   "execution_count": 1,
   "id": "9915cb9f-890e-43b1-9546-cb3f07a746bf",
   "metadata": {},
   "outputs": [],
   "source": [
    "import csv"
   ]
  },
  {
   "cell_type": "code",
   "execution_count": 2,
   "id": "5edb2d6b-5113-4005-9632-513113c9368b",
   "metadata": {},
   "outputs": [],
   "source": [
    "example_file = open('example.csv')"
   ]
  },
  {
   "cell_type": "code",
   "execution_count": 3,
   "id": "cc486a74-3c43-448d-a39e-38eb875cc38c",
   "metadata": {},
   "outputs": [],
   "source": [
    "example_reader = csv.reader(example_file)"
   ]
  },
  {
   "cell_type": "code",
   "execution_count": 4,
   "id": "225048fd-0c48-4be1-a3dc-fcf6275c50d8",
   "metadata": {},
   "outputs": [],
   "source": [
    "example_data = list(example_reader)"
   ]
  },
  {
   "cell_type": "code",
   "execution_count": 5,
   "id": "78f8ef2e-55b0-445c-9545-b0bdcea17247",
   "metadata": {},
   "outputs": [
    {
     "data": {
      "text/plain": [
       "[['4/5/2014 13:34', 'Apples', '73'],\n",
       " ['4/5/2014 3:41', 'Cherries', '85'],\n",
       " ['4/6/2014 12:46', 'Pears', '14'],\n",
       " ['4/8/2014 8:59', 'Oranges', '52'],\n",
       " ['4/10/2014 2:07', 'Apples', '152'],\n",
       " ['4/10/2014 18:10', 'Bananas', '23'],\n",
       " ['4/10/2014 2:40', 'Strawberries', '98']]"
      ]
     },
     "execution_count": 5,
     "metadata": {},
     "output_type": "execute_result"
    }
   ],
   "source": [
    "example_data"
   ]
  },
  {
   "cell_type": "code",
   "execution_count": 7,
   "id": "071969e8-80c4-401f-84d1-43c09aad55d6",
   "metadata": {},
   "outputs": [
    {
     "data": {
      "text/plain": [
       "'4/5/2014 13:34'"
      ]
     },
     "execution_count": 7,
     "metadata": {},
     "output_type": "execute_result"
    }
   ],
   "source": [
    "example_data[0][0]"
   ]
  },
  {
   "cell_type": "code",
   "execution_count": 8,
   "id": "a32f56af-5d7d-4229-88ec-df9986cbc340",
   "metadata": {},
   "outputs": [
    {
     "data": {
      "text/plain": [
       "'Apples'"
      ]
     },
     "execution_count": 8,
     "metadata": {},
     "output_type": "execute_result"
    }
   ],
   "source": [
    "example_data[0][1]"
   ]
  },
  {
   "cell_type": "code",
   "execution_count": 9,
   "id": "22ffd8a6-2461-4c34-9cf4-66e8480dfbef",
   "metadata": {},
   "outputs": [
    {
     "data": {
      "text/plain": [
       "'73'"
      ]
     },
     "execution_count": 9,
     "metadata": {},
     "output_type": "execute_result"
    }
   ],
   "source": [
    "example_data[0][2]"
   ]
  },
  {
   "cell_type": "code",
   "execution_count": 10,
   "id": "79232987-7c21-453f-a150-230bcb348375",
   "metadata": {},
   "outputs": [
    {
     "data": {
      "text/plain": [
       "'Cherries'"
      ]
     },
     "execution_count": 10,
     "metadata": {},
     "output_type": "execute_result"
    }
   ],
   "source": [
    "example_data[1][1]"
   ]
  },
  {
   "cell_type": "code",
   "execution_count": 11,
   "id": "7b18f2f1-2e59-459f-998c-e00a95f19126",
   "metadata": {},
   "outputs": [
    {
     "data": {
      "text/plain": [
       "'Strawberries'"
      ]
     },
     "execution_count": 11,
     "metadata": {},
     "output_type": "execute_result"
    }
   ],
   "source": [
    "example_data[6][1]"
   ]
  },
  {
   "cell_type": "markdown",
   "id": "fe3a8b57-d996-4976-9c44-7a456170a20b",
   "metadata": {},
   "source": [
    "# Use for-loop to read Reader object"
   ]
  },
  {
   "cell_type": "code",
   "execution_count": 13,
   "id": "b1c39743-99ce-465d-a6c0-90fe587b0b8c",
   "metadata": {},
   "outputs": [],
   "source": [
    "example_file = open('example.csv')\n",
    "example_reader = csv.reader(example_file)"
   ]
  },
  {
   "cell_type": "code",
   "execution_count": 14,
   "id": "b490d09f-f9e8-4c40-854c-c37ea1e4224d",
   "metadata": {},
   "outputs": [
    {
     "name": "stdout",
     "output_type": "stream",
     "text": [
      "Row # 1 ['4/5/2014 13:34', 'Apples', '73']\n",
      "Row # 2 ['4/5/2014 3:41', 'Cherries', '85']\n",
      "Row # 3 ['4/6/2014 12:46', 'Pears', '14']\n",
      "Row # 4 ['4/8/2014 8:59', 'Oranges', '52']\n",
      "Row # 5 ['4/10/2014 2:07', 'Apples', '152']\n",
      "Row # 6 ['4/10/2014 18:10', 'Bananas', '23']\n",
      "Row # 7 ['4/10/2014 2:40', 'Strawberries', '98']\n"
     ]
    }
   ],
   "source": [
    "for row in example_reader:\n",
    "    print(f'Row # {example_reader.line_num} {row}')"
   ]
  },
  {
   "cell_type": "code",
   "execution_count": null,
   "id": "82211ff5-44a9-4852-8d19-21d5fe599dea",
   "metadata": {},
   "outputs": [],
   "source": []
  }
 ],
 "metadata": {
  "kernelspec": {
   "display_name": "Python 3 (ipykernel)",
   "language": "python",
   "name": "python3"
  },
  "language_info": {
   "codemirror_mode": {
    "name": "ipython",
    "version": 3
   },
   "file_extension": ".py",
   "mimetype": "text/x-python",
   "name": "python",
   "nbconvert_exporter": "python",
   "pygments_lexer": "ipython3",
   "version": "3.9.12"
  }
 },
 "nbformat": 4,
 "nbformat_minor": 5
}
