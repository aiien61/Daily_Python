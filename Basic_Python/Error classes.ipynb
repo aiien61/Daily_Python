{
 "cells": [
  {
   "cell_type": "code",
   "execution_count": 1,
   "id": "25b557fe-0e3a-4e7c-8496-38166addbdbd",
   "metadata": {},
   "outputs": [],
   "source": [
    "def divide(dividend, divisor):\n",
    "    if divisor == 0:\n",
    "        raise ZeroDivisionError('Divisor cannot be 0.')\n",
    "        \n",
    "    return dividend / divisor"
   ]
  },
  {
   "cell_type": "code",
   "execution_count": 2,
   "id": "326f84a9-9a2f-4389-aff2-d78cd84960ce",
   "metadata": {},
   "outputs": [],
   "source": [
    "grades = []"
   ]
  },
  {
   "cell_type": "markdown",
   "id": "eb1b40c5-9ddf-4c90-8ee3-0033e883ad8a",
   "metadata": {},
   "source": [
    "### Put all the program inside the 'try' block"
   ]
  },
  {
   "cell_type": "code",
   "execution_count": 3,
   "id": "eb53f8da-65f6-432a-94db-3efc87e303bd",
   "metadata": {},
   "outputs": [
    {
     "name": "stdout",
     "output_type": "stream",
     "text": [
      "Welcome to the average grade program.\n",
      "There are no grades yet in your list.\n",
      "Thank you.\n"
     ]
    }
   ],
   "source": [
    "print('Welcome to the average grade program.')\n",
    "try:\n",
    "    average = divide(sum(grades), len(grades))\n",
    "    print(f'The average grade is {average}')\n",
    "\n",
    "except ZeroDivisionError as e:\n",
    "    print('There are no grades yet in your list.')\n",
    "\n",
    "finally:\n",
    "    print('Thank you.')"
   ]
  },
  {
   "cell_type": "markdown",
   "id": "e98c84ee-5713-478c-87f9-bbf691a5a581",
   "metadata": {},
   "source": [
    "### Better version: only put the program that may incur exception in the 'try' block\n",
    "only put the program that may incur exception in the 'try' block, and put the rest of program in the 'else' block, that will be running after all risky code have been verified"
   ]
  },
  {
   "cell_type": "code",
   "execution_count": 5,
   "id": "6b5fe46a-5f47-47bb-8dad-117bc325aac2",
   "metadata": {},
   "outputs": [
    {
     "name": "stdout",
     "output_type": "stream",
     "text": [
      "Welcome to the average grade program.\n",
      "There are no grades yet in your list.\n",
      "Thank you.\n"
     ]
    }
   ],
   "source": [
    "print('Welcome to the average grade program.')\n",
    "try:\n",
    "    average = divide(sum(grades), len(grades))\n",
    "    \n",
    "except ZeroDivisionError as e:\n",
    "    print('There are no grades yet in your list.')\n",
    "    \n",
    "else:\n",
    "    print(f'The average grade is {average}')\n",
    "\n",
    "finally:\n",
    "    print('Thank you.')"
   ]
  },
  {
   "cell_type": "code",
   "execution_count": 6,
   "id": "d6633a83-ed41-49cc-b8cf-4fb37a3b2849",
   "metadata": {},
   "outputs": [
    {
     "name": "stdout",
     "output_type": "stream",
     "text": [
      "Bob averaged 82.5.\n",
      "ERROR: Rolf has no grades!\n",
      "-- End of student average calculation --\n"
     ]
    }
   ],
   "source": [
    "students = [\n",
    "    {'name': 'Bob', 'grades': [75, 90]},\n",
    "    {'name': 'Rolf', 'grades': []},\n",
    "    {'name': 'Jen', 'grades': [100, 90]}\n",
    "]\n",
    "\n",
    "try:\n",
    "    for student in students:\n",
    "        name = student['name']\n",
    "        grades = student['grades']\n",
    "        average = divide(sum(grades), len(grades))\n",
    "        print(f'{name} averaged {average}.')\n",
    "    \n",
    "except ZeroDivisionError as e:\n",
    "    print(f'ERROR: {name} has no grades!')\n",
    "    \n",
    "else:\n",
    "    print('-- All student averages calculated --')\n",
    "\n",
    "finally:\n",
    "    print('-- End of student average calculation --')"
   ]
  },
  {
   "cell_type": "markdown",
   "id": "ebfdade4-655c-4e68-a29f-ae0e84843fdd",
   "metadata": {},
   "source": [
    "# Custom error classes"
   ]
  },
  {
   "cell_type": "code",
   "execution_count": 8,
   "id": "5bea85f1-2d20-4e68-8768-b1cd3ffa54eb",
   "metadata": {},
   "outputs": [],
   "source": [
    "class TooManyPagesReadError(ValueError):\n",
    "    pass\n",
    "\n",
    "\n",
    "class Book:\n",
    "    def __init__(self, name: str, page_count: int):\n",
    "        self.name = name\n",
    "        self.page_count = page_count\n",
    "\n",
    "\n",
    "class EReader:\n",
    "    def __init__(self, book: Book):\n",
    "        self.book = book\n",
    "        self.pages_read = 0\n",
    "        \n",
    "    def __repr__(self):\n",
    "        return (\n",
    "            f'<Book {self.book.name}, read {self.pages_read} pages out of {self.book.page_count}>'\n",
    "        )\n",
    "    \n",
    "    def read(self, pages: int):\n",
    "        if self.pages_read + pages > self.book.page_count:\n",
    "            raise TooManyPagesReadError(\n",
    "                f'You tried to read {self.pages_read + pages} pages, but this book only has {self.book.page_count} pages.'\n",
    "            )\n",
    "        self.pages_read += pages\n",
    "        print(f'You have now read {self.pages_read} pages out of {self.book.page_count}')"
   ]
  },
  {
   "cell_type": "code",
   "execution_count": 12,
   "id": "7e258c76-d331-4d77-b097-b37669bbb1b0",
   "metadata": {},
   "outputs": [],
   "source": [
    "book1 = Book('Little Prince', 50)\n",
    "reader = EReader(book1)"
   ]
  },
  {
   "cell_type": "code",
   "execution_count": 13,
   "id": "5c3c864d-d444-4841-b6c8-0aa791e47540",
   "metadata": {},
   "outputs": [
    {
     "name": "stdout",
     "output_type": "stream",
     "text": [
      "You have now read 35 pages out of 50\n",
      "You tried to read 85 pages, but this book only has 50 pages.\n"
     ]
    }
   ],
   "source": [
    "try:\n",
    "    reader.read(35)\n",
    "    reader.read(50)\n",
    "except TooManyPagesReadError as e:\n",
    "    print(e)"
   ]
  },
  {
   "cell_type": "code",
   "execution_count": null,
   "id": "ce2be9db-41d8-4458-a4ac-734afe603818",
   "metadata": {},
   "outputs": [],
   "source": []
  }
 ],
 "metadata": {
  "kernelspec": {
   "display_name": "Python 3 (ipykernel)",
   "language": "python",
   "name": "python3"
  },
  "language_info": {
   "codemirror_mode": {
    "name": "ipython",
    "version": 3
   },
   "file_extension": ".py",
   "mimetype": "text/x-python",
   "name": "python",
   "nbconvert_exporter": "python",
   "pygments_lexer": "ipython3",
   "version": "3.9.12"
  }
 },
 "nbformat": 4,
 "nbformat_minor": 5
}
