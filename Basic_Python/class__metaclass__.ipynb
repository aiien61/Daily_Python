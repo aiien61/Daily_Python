{
 "cells": [
  {
   "cell_type": "markdown",
   "id": "a5529f47-eb1b-4d0d-a853-b492a53132c5",
   "metadata": {},
   "source": [
    " - **metaclass** is designed for creating other classes\n",
    "\n",
    " - **type** is default metacalss for all self-defined classes i.e. all classes' type is type\n"
   ]
  },
  {
   "cell_type": "code",
   "execution_count": 7,
   "id": "684881f7-4e01-42d3-9412-e9979e1cf84c",
   "metadata": {},
   "outputs": [],
   "source": [
    "class Worker(type):\n",
    "    @staticmethod\n",
    "    def __new__(mcs, *args, **kwargs):\n",
    "        class_ = super().__new__(mcs, *args, **kwargs)  # create a class\n",
    "        class_.employed: bool = True\n",
    "        return class_\n",
    "\n",
    "class Accountant(object, metaclass=Worker):\n",
    "    pass"
   ]
  },
  {
   "cell_type": "code",
   "execution_count": 8,
   "id": "beeec6c3-399c-4a30-9970-d101a110e7ed",
   "metadata": {},
   "outputs": [
    {
     "data": {
      "text/plain": [
       "True"
      ]
     },
     "execution_count": 8,
     "metadata": {},
     "output_type": "execute_result"
    }
   ],
   "source": [
    "Accountant.employed"
   ]
  },
  {
   "cell_type": "markdown",
   "id": "01be22e9-1d05-44c4-b4df-e63e237be984",
   "metadata": {},
   "source": [
    "### Allow descendant class to flexibly self define class variable"
   ]
  },
  {
   "cell_type": "code",
   "execution_count": 12,
   "id": "00e6ddba-3aaf-4898-bcdc-aa9ab1770edb",
   "metadata": {},
   "outputs": [],
   "source": [
    "class Worker(type):\n",
    "    @staticmethod\n",
    "    def __new__(mcs, *args, **kwargs):\n",
    "        class_ = super().__new__(mcs, *args)\n",
    "        if kwargs:\n",
    "            for name, value in kwargs.items():\n",
    "                setattr(class_, name, value)\n",
    "        return class_\n",
    "\n",
    "\n",
    "class Engineer(object, metaclass=Worker, branch=\"UK\", employed=True):\n",
    "    pass"
   ]
  },
  {
   "cell_type": "code",
   "execution_count": 13,
   "id": "77bf8c03-105c-46bb-9017-738df960aebe",
   "metadata": {},
   "outputs": [
    {
     "name": "stdout",
     "output_type": "stream",
     "text": [
      "UK\n",
      "True\n"
     ]
    }
   ],
   "source": [
    "print(Engineer.branch)\n",
    "print(Engineer.employed)"
   ]
  },
  {
   "cell_type": "markdown",
   "id": "efda757b-fece-4ad7-b501-cfb9c788c3c6",
   "metadata": {},
   "source": [
    "# metaclass example\n",
    "Create a metaclass that is able to do the following task\n",
    "\n",
    "class Student(object, metaclass=Human):\n",
    "    props=[\"name\", \"age\"]\n",
    "    \n",
    "s = Student()\n",
    "\n",
    "print(s.name) # None\n",
    "\n",
    "print(s.age) # None\n",
    "\n",
    "s.name = 'Jack'\n",
    "\n",
    "s.age = 30\n",
    "\n",
    "print(s.name) # Jack\n",
    "\n",
    "print(s.age) # 30"
   ]
  },
  {
   "cell_type": "code",
   "execution_count": 21,
   "id": "37d3e13a-74ab-4887-8938-587b60bcc6d0",
   "metadata": {},
   "outputs": [],
   "source": [
    "class Prop:\n",
    "    def __init__(self, attr):\n",
    "        self._attr = f'_{attr}'\n",
    "\n",
    "    def get(self, obj):\n",
    "        if not hasattr(obj, self._attr):\n",
    "            return None\n",
    "        return getattr(obj, self._attr)\n",
    "    \n",
    "    def set(self, obj, value):\n",
    "        return setattr(obj, self._attr, value)\n",
    "\n",
    "\n",
    "class Human(type):\n",
    "    @staticmethod\n",
    "    def __new__(mcs, *args, **kwargs):\n",
    "        class_ = super().__new__(mcs, *args, **kwargs)\n",
    "        for property_name in class_.props:\n",
    "            prop = Prop(property_name)\n",
    "            property_object = property(fget=prop.get, fset=prop.set)\n",
    "            setattr(class_, property_name, property_object)\n",
    "            \n",
    "        return class_\n"
   ]
  },
  {
   "cell_type": "code",
   "execution_count": 22,
   "id": "b29df046-3495-483d-bab4-27c841dd3703",
   "metadata": {},
   "outputs": [],
   "source": [
    "class Student(object, metaclass=Human):\n",
    "    props = [\"name\", \"age\"]\n"
   ]
  },
  {
   "cell_type": "code",
   "execution_count": 23,
   "id": "77fc699e-e68a-474e-afe8-09574ce2046f",
   "metadata": {},
   "outputs": [
    {
     "name": "stdout",
     "output_type": "stream",
     "text": [
      "None\n",
      "Jack\n"
     ]
    }
   ],
   "source": [
    "student = Student()\n",
    "print(student.name)\n",
    "student.name = 'Jack'\n",
    "print(student.name)"
   ]
  },
  {
   "cell_type": "markdown",
   "id": "02348a78-b235-40ad-9488-d29076a0908c",
   "metadata": {},
   "source": [
    "### Alternative solution"
   ]
  },
  {
   "cell_type": "code",
   "execution_count": 31,
   "id": "ba4caa4a-4d76-45f5-b9e8-8204de5f388d",
   "metadata": {},
   "outputs": [],
   "source": [
    "class Prop:\n",
    "    def __init__(self, attr):\n",
    "        self._attr = f'_{attr}'\n",
    "\n",
    "    def get(self, obj):\n",
    "        if not hasattr(obj, self._attr):\n",
    "            return None\n",
    "        return getattr(obj, self._attr)\n",
    "    \n",
    "    def set(self, obj, value):\n",
    "        return setattr(obj, self._attr, value)\n",
    "\n",
    "\n",
    "class Role(type):\n",
    "    @staticmethod\n",
    "    def __new__(mcs, *args, **kwargs):\n",
    "        class_ = super().__new__(mcs, *args, **kwargs)\n",
    "        for property_name in class_.props:\n",
    "            prop = Prop(property_name)\n",
    "            property_object = property(fget=prop.get, fset=prop.set)\n",
    "            setattr(class_, property_name, property_object)\n",
    "        return class_\n",
    "\n",
    "    \n",
    "def role(cls):\n",
    "    return Role(cls.__name__, cls.__bases__, dict(cls.__dict__))\n"
   ]
  },
  {
   "cell_type": "code",
   "execution_count": 32,
   "id": "c7f56c99-edd7-487c-9320-4cd36d02ec89",
   "metadata": {},
   "outputs": [],
   "source": [
    "@role\n",
    "class Man:\n",
    "    props = ['name', 'age']"
   ]
  },
  {
   "cell_type": "code",
   "execution_count": 33,
   "id": "db060a03-cc21-418a-91c4-e23a4a0d8ebe",
   "metadata": {},
   "outputs": [
    {
     "name": "stdout",
     "output_type": "stream",
     "text": [
      "None\n",
      "Jack\n"
     ]
    }
   ],
   "source": [
    "man = Man()\n",
    "print(man.name)\n",
    "man.name = 'Jack'\n",
    "print(man.name)"
   ]
  },
  {
   "cell_type": "code",
   "execution_count": null,
   "id": "fd0eb93f-24f8-44c2-9cac-888c67e04de8",
   "metadata": {},
   "outputs": [],
   "source": []
  }
 ],
 "metadata": {
  "kernelspec": {
   "display_name": "Python 3 (ipykernel)",
   "language": "python",
   "name": "python3"
  },
  "language_info": {
   "codemirror_mode": {
    "name": "ipython",
    "version": 3
   },
   "file_extension": ".py",
   "mimetype": "text/x-python",
   "name": "python",
   "nbconvert_exporter": "python",
   "pygments_lexer": "ipython3",
   "version": "3.9.12"
  }
 },
 "nbformat": 4,
 "nbformat_minor": 5
}
