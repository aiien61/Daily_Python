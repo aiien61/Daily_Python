{
 "cells": [
  {
   "cell_type": "code",
   "execution_count": 1,
   "id": "3ecabfe6-9382-48cd-9eb4-139ba1a22884",
   "metadata": {},
   "outputs": [],
   "source": [
    "user = {\"username\": \"jose\", \"access_level\": \"guest\"}"
   ]
  },
  {
   "cell_type": "code",
   "execution_count": 19,
   "id": "41cf6474-5959-4407-98eb-1b577cd1b333",
   "metadata": {},
   "outputs": [],
   "source": [
    "def get_admin_password():\n",
    "    return \"1234\""
   ]
  },
  {
   "cell_type": "markdown",
   "id": "d06a6cad-c6ca-4a48-a584-e6273eccc7d0",
   "metadata": {},
   "source": [
    "**That's risky largely due to false access level authentication**"
   ]
  },
  {
   "cell_type": "code",
   "execution_count": 3,
   "id": "0bd1e1db-9b97-49d4-80cf-af114bc9167c",
   "metadata": {},
   "outputs": [
    {
     "data": {
      "text/plain": [
       "'1234'"
      ]
     },
     "execution_count": 3,
     "metadata": {},
     "output_type": "execute_result"
    }
   ],
   "source": [
    "get_admin_password()"
   ]
  },
  {
   "cell_type": "markdown",
   "id": "a3252997-2a47-4aec-b3f8-e2aa9a7718fb",
   "metadata": {},
   "source": [
    "### Try alternative secure_get_admin() function to be more secure"
   ]
  },
  {
   "cell_type": "code",
   "execution_count": 4,
   "id": "efed6641-e493-49ba-aa7d-15c0077019df",
   "metadata": {},
   "outputs": [],
   "source": [
    "def secure_get_admin():\n",
    "    if user['access_level'] == 'admin':\n",
    "        print(get_admin_password())"
   ]
  },
  {
   "cell_type": "markdown",
   "id": "30980c0e-897a-4402-a886-70e23e565012",
   "metadata": {},
   "source": [
    "**secure_get_admin() function is more secure**"
   ]
  },
  {
   "cell_type": "code",
   "execution_count": 5,
   "id": "b87eae09-dffa-4c74-89de-3fa75f08fb52",
   "metadata": {},
   "outputs": [],
   "source": [
    "secure_get_admin()"
   ]
  },
  {
   "cell_type": "markdown",
   "id": "ff37a9be-29b6-4cbc-98a4-4efa602843be",
   "metadata": {},
   "source": [
    "**but get_admin_password() is still around, and anyone can still call it directly.**"
   ]
  },
  {
   "cell_type": "code",
   "execution_count": 6,
   "id": "73f3c11f-2e04-479c-af7f-7c8b479de255",
   "metadata": {},
   "outputs": [
    {
     "data": {
      "text/plain": [
       "'1234'"
      ]
     },
     "execution_count": 6,
     "metadata": {},
     "output_type": "execute_result"
    }
   ],
   "source": [
    "get_admin_password()"
   ]
  },
  {
   "cell_type": "markdown",
   "id": "2bf3c1eb-0022-46da-b104-c71d95c2de5d",
   "metadata": {},
   "source": [
    "### Try to get rid of get_admin_password() to be more secure"
   ]
  },
  {
   "cell_type": "code",
   "execution_count": 10,
   "id": "67472ecb-dd2a-475a-8b49-967df13b43d3",
   "metadata": {},
   "outputs": [],
   "source": [
    "def secure_function(func):\n",
    "    if user['access_level'] == 'admin':\n",
    "        return func"
   ]
  },
  {
   "cell_type": "code",
   "execution_count": 12,
   "id": "89e6d525-b42c-47ae-b89e-5ba2d706bec4",
   "metadata": {},
   "outputs": [
    {
     "data": {
      "text/plain": [
       "'1234'"
      ]
     },
     "execution_count": 12,
     "metadata": {},
     "output_type": "execute_result"
    }
   ],
   "source": [
    "user = {\"username\": \"bob\", \"access_level\": \"admin\"}\n",
    "\n",
    "get_admin_password = secure_function(get_admin_password)\n",
    "get_admin_password()"
   ]
  },
  {
   "cell_type": "markdown",
   "id": "cc00613c-2e93-4282-a22f-d2515d9e98ca",
   "metadata": {},
   "source": [
    "**When we run `secure_function`, we have to check the user's access level first, because if the user was not an admin, the function will not `return func`. Therefore `get_admin_password` is set to `None`.**"
   ]
  },
  {
   "cell_type": "code",
   "execution_count": 14,
   "id": "302a9a3d-415f-4bfa-9476-92a358f8da8c",
   "metadata": {},
   "outputs": [
    {
     "ename": "TypeError",
     "evalue": "'NoneType' object is not callable",
     "output_type": "error",
     "traceback": [
      "\u001b[0;31m---------------------------------------------------------------------------\u001b[0m",
      "\u001b[0;31mTypeError\u001b[0m                                 Traceback (most recent call last)",
      "Input \u001b[0;32mIn [14]\u001b[0m, in \u001b[0;36m<cell line: 4>\u001b[0;34m()\u001b[0m\n\u001b[1;32m      1\u001b[0m user \u001b[38;5;241m=\u001b[39m {\u001b[38;5;124m\"\u001b[39m\u001b[38;5;124musername\u001b[39m\u001b[38;5;124m\"\u001b[39m: \u001b[38;5;124m\"\u001b[39m\u001b[38;5;124mjose\u001b[39m\u001b[38;5;124m\"\u001b[39m, \u001b[38;5;124m\"\u001b[39m\u001b[38;5;124maccess_level\u001b[39m\u001b[38;5;124m\"\u001b[39m: \u001b[38;5;124m\"\u001b[39m\u001b[38;5;124mguest\u001b[39m\u001b[38;5;124m\"\u001b[39m}\n\u001b[1;32m      3\u001b[0m get_admin_password \u001b[38;5;241m=\u001b[39m secure_function(get_admin_password)\n\u001b[0;32m----> 4\u001b[0m \u001b[43mget_admin_password\u001b[49m\u001b[43m(\u001b[49m\u001b[43m)\u001b[49m\n",
      "\u001b[0;31mTypeError\u001b[0m: 'NoneType' object is not callable"
     ]
    }
   ],
   "source": [
    "user = {\"username\": \"jose\", \"access_level\": \"guest\"}\n",
    "\n",
    "get_admin_password = secure_function(get_admin_password)\n",
    "get_admin_password()"
   ]
  },
  {
   "cell_type": "markdown",
   "id": "95718e0d-4f9c-4737-922c-593e7a2cfc33",
   "metadata": {},
   "source": [
    "### Simple decorator to avoid errors"
   ]
  },
  {
   "cell_type": "code",
   "execution_count": 21,
   "id": "2a295cfc-bdbd-40c6-9521-e30544b551e3",
   "metadata": {},
   "outputs": [],
   "source": [
    "def make_secure(func):\n",
    "    def secure_function():\n",
    "        if user['access_level'] == 'admin':\n",
    "            return func()\n",
    "        else:\n",
    "            return f'No admin permissions for {user[\"username\"]}'\n",
    "        \n",
    "    return secure_function"
   ]
  },
  {
   "cell_type": "code",
   "execution_count": 17,
   "id": "9f821d07-f076-48a7-8125-372a9b2204ab",
   "metadata": {},
   "outputs": [],
   "source": [
    "user = {\"username\": \"jose\", \"access_level\": \"guest\"}\n",
    "\n",
    "get_admin_password = make_secure(get_admin_password)\n",
    "get_admin_password()"
   ]
  },
  {
   "cell_type": "code",
   "execution_count": 20,
   "id": "d51c078b-b3f8-4895-9ed7-7db62dcdde34",
   "metadata": {},
   "outputs": [
    {
     "data": {
      "text/plain": [
       "'1234'"
      ]
     },
     "execution_count": 20,
     "metadata": {},
     "output_type": "execute_result"
    }
   ],
   "source": [
    "user = {\"username\": \"jose\", \"access_level\": \"admin\"}\n",
    "\n",
    "get_admin_password = make_secure(get_admin_password)\n",
    "get_admin_password()"
   ]
  },
  {
   "cell_type": "markdown",
   "id": "c21247d3-e2c2-44c2-b55b-6cbaef3eeb28",
   "metadata": {},
   "source": [
    "# The @ syntax for decorators"
   ]
  },
  {
   "cell_type": "code",
   "execution_count": 22,
   "id": "0fdc4f4a-f593-46b3-bceb-7e17a3d034a5",
   "metadata": {},
   "outputs": [],
   "source": [
    "def make_secure(func):\n",
    "    def secure_function():\n",
    "        if user['access_level'] == 'admin':\n",
    "            return func()\n",
    "        else:\n",
    "            return f'No admin permissions for {user[\"username\"]}'\n",
    "        \n",
    "    return secure_function\n",
    "\n",
    "\n",
    "@make_secure\n",
    "def get_admin_password():\n",
    "    return \"1234\""
   ]
  },
  {
   "cell_type": "code",
   "execution_count": 23,
   "id": "690c9a4f-3c08-40bc-8be5-f11f59f16aa0",
   "metadata": {},
   "outputs": [
    {
     "data": {
      "text/plain": [
       "'No admin permissions for jose'"
      ]
     },
     "execution_count": 23,
     "metadata": {},
     "output_type": "execute_result"
    }
   ],
   "source": [
    "user = {\"username\": \"jose\", \"access_level\": \"guest\"}\n",
    "\n",
    "get_admin_password()"
   ]
  },
  {
   "cell_type": "code",
   "execution_count": 24,
   "id": "f367cc4d-dd70-48e5-a47e-a58a22dd52dd",
   "metadata": {},
   "outputs": [
    {
     "data": {
      "text/plain": [
       "'1234'"
      ]
     },
     "execution_count": 24,
     "metadata": {},
     "output_type": "execute_result"
    }
   ],
   "source": [
    "user = {\"username\": \"jose\", \"access_level\": \"admin\"}\n",
    "\n",
    "get_admin_password()"
   ]
  },
  {
   "cell_type": "markdown",
   "id": "ea10b7fd-f4e4-4940-9e70-5685a0cbc056",
   "metadata": {},
   "source": [
    "**The information of get_admin_password() will be lost**"
   ]
  },
  {
   "cell_type": "code",
   "execution_count": 25,
   "id": "f026dc6a-1d01-4463-a150-b8ea47a87bd9",
   "metadata": {},
   "outputs": [
    {
     "data": {
      "text/plain": [
       "'secure_function'"
      ]
     },
     "execution_count": 25,
     "metadata": {},
     "output_type": "execute_result"
    }
   ],
   "source": [
    "get_admin_password.__name__"
   ]
  },
  {
   "cell_type": "markdown",
   "id": "3a474da9-a0a2-4b36-8b99-0023a4ead88c",
   "metadata": {},
   "source": [
    "### Keep the documentation of get_admin_password()"
   ]
  },
  {
   "cell_type": "code",
   "execution_count": 26,
   "id": "3fe2f7c4-2abd-42fd-82ab-40c22fcc0319",
   "metadata": {},
   "outputs": [],
   "source": [
    "import functools"
   ]
  },
  {
   "cell_type": "code",
   "execution_count": 27,
   "id": "7d65aebf-997f-45b3-8979-56dc768f8de4",
   "metadata": {},
   "outputs": [],
   "source": [
    "def make_secure(func):\n",
    "    @functools.wraps(func)\n",
    "    def secure_function():\n",
    "        if user['access_level'] == 'admin':\n",
    "            return func()\n",
    "        else:\n",
    "            return f'No admin permissions for {user[\"username\"]}'\n",
    "        \n",
    "    return secure_function\n",
    "\n",
    "\n",
    "@make_secure\n",
    "def get_admin_password():\n",
    "    return \"1234\""
   ]
  },
  {
   "cell_type": "code",
   "execution_count": 28,
   "id": "766bdaba-df23-4fb4-9135-9afa3e745bb5",
   "metadata": {},
   "outputs": [
    {
     "data": {
      "text/plain": [
       "'get_admin_password'"
      ]
     },
     "execution_count": 28,
     "metadata": {},
     "output_type": "execute_result"
    }
   ],
   "source": [
    "get_admin_password.__name__"
   ]
  },
  {
   "cell_type": "markdown",
   "id": "4ea13204-ea96-433e-bb17-71e6df34b18c",
   "metadata": {},
   "source": [
    "### Decorating functions with parameters"
   ]
  },
  {
   "cell_type": "markdown",
   "id": "50e02e62-9297-405f-ace9-83cee36d1a97",
   "metadata": {},
   "source": [
    "**Can't work because the inner secure_function() doesn't accept any parameters, so the panel argument in get_password() can't be passed to secure_function()**"
   ]
  },
  {
   "cell_type": "code",
   "execution_count": 32,
   "id": "d6643894-a435-475e-9869-59e02bdb2560",
   "metadata": {},
   "outputs": [
    {
     "ename": "TypeError",
     "evalue": "secure_function() takes 0 positional arguments but 1 was given",
     "output_type": "error",
     "traceback": [
      "\u001b[0;31m---------------------------------------------------------------------------\u001b[0m",
      "\u001b[0;31mTypeError\u001b[0m                                 Traceback (most recent call last)",
      "Input \u001b[0;32mIn [32]\u001b[0m, in \u001b[0;36m<cell line: 19>\u001b[0;34m()\u001b[0m\n\u001b[1;32m     16\u001b[0m     \u001b[38;5;28;01melif\u001b[39;00m panel \u001b[38;5;241m==\u001b[39m \u001b[38;5;124m'\u001b[39m\u001b[38;5;124mbilling\u001b[39m\u001b[38;5;124m'\u001b[39m:\n\u001b[1;32m     17\u001b[0m         \u001b[38;5;28;01mreturn\u001b[39;00m \u001b[38;5;124m'\u001b[39m\u001b[38;5;124m****\u001b[39m\u001b[38;5;124m'\u001b[39m\n\u001b[0;32m---> 19\u001b[0m \u001b[43mget_password\u001b[49m\u001b[43m(\u001b[49m\u001b[38;5;124;43m'\u001b[39;49m\u001b[38;5;124;43mbilling\u001b[39;49m\u001b[38;5;124;43m'\u001b[39;49m\u001b[43m)\u001b[49m\n",
      "\u001b[0;31mTypeError\u001b[0m: secure_function() takes 0 positional arguments but 1 was given"
     ]
    }
   ],
   "source": [
    "def make_secure(func):\n",
    "    @functools.wraps(func)\n",
    "    def secure_function():\n",
    "        if user['access_level'] == 'admin':\n",
    "            return func()\n",
    "        else:\n",
    "            return f'No admin permissions for {user[\"username\"]}'\n",
    "        \n",
    "    return secure_function\n",
    "\n",
    "\n",
    "@make_secure\n",
    "def get_password(panel: str):\n",
    "    if panel == 'admin':\n",
    "        return '1234'\n",
    "    elif panel == 'billing':\n",
    "        return '****'\n",
    "    \n",
    "get_password('billing')"
   ]
  },
  {
   "cell_type": "markdown",
   "id": "28a4fd84-aad2-4c26-a277-339552599f38",
   "metadata": {},
   "source": [
    "**If secure_function() add parameter 'panel', the argument in get_password() can be sent to secure_function(), but**\n",
    "\n",
    "**make_secure() decorator function will be no longer generic**"
   ]
  },
  {
   "cell_type": "code",
   "execution_count": 33,
   "id": "94ff10f7-d55f-4af7-b195-521bc2662cff",
   "metadata": {},
   "outputs": [
    {
     "data": {
      "text/plain": [
       "'****'"
      ]
     },
     "execution_count": 33,
     "metadata": {},
     "output_type": "execute_result"
    }
   ],
   "source": [
    "def make_secure(func):\n",
    "    @functools.wraps(func)\n",
    "    def secure_function(panel):\n",
    "        if user['access_level'] == 'admin':\n",
    "            return func(panel)\n",
    "        else:\n",
    "            return f'No admin permissions for {user[\"username\"]}'\n",
    "        \n",
    "    return secure_function\n",
    "\n",
    "\n",
    "@make_secure\n",
    "def get_password(panel: str):\n",
    "    if panel == 'admin':\n",
    "        return '1234'\n",
    "    elif panel == 'billing':\n",
    "        return '****'\n",
    "    \n",
    "get_password('billing')"
   ]
  },
  {
   "cell_type": "markdown",
   "id": "fe1adb39-0e71-4641-a0d0-43adc460f17b",
   "metadata": {},
   "source": [
    "**Use \\*args, \\*\\*kwargs arguments instead, in order for more generic make_secure() decorator function**"
   ]
  },
  {
   "cell_type": "code",
   "execution_count": 31,
   "id": "6da04c2d-9049-4e1a-b5c7-72c0148dcc3d",
   "metadata": {},
   "outputs": [
    {
     "data": {
      "text/plain": [
       "'****'"
      ]
     },
     "execution_count": 31,
     "metadata": {},
     "output_type": "execute_result"
    }
   ],
   "source": [
    "def make_secure(func):\n",
    "    @functools.wraps(func)\n",
    "    def secure_function(*args, **kwargs):\n",
    "        if user['access_level'] == 'admin':\n",
    "            return func(*args, **kwargs)\n",
    "        else:\n",
    "            return f'No admin permissions for {user[\"username\"]}'\n",
    "        \n",
    "    return secure_function\n",
    "\n",
    "\n",
    "@make_secure\n",
    "def get_password(panel: str):\n",
    "    if panel == 'admin':\n",
    "        return '1234'\n",
    "    elif panel == 'billing':\n",
    "        return '****'\n",
    "\n",
    "\n",
    "get_password('billing')"
   ]
  },
  {
   "cell_type": "markdown",
   "id": "17e0f332-fc62-4156-a505-fe44c1a384d5",
   "metadata": {},
   "source": [
    "### Decorators with parameters"
   ]
  },
  {
   "cell_type": "markdown",
   "id": "58209dc0-e99c-47c4-9a86-5773294fb2a8",
   "metadata": {},
   "source": [
    "**In the following strucute, decorator functions can't accept arguments to run if-else statements**"
   ]
  },
  {
   "cell_type": "code",
   "execution_count": 34,
   "id": "073926be-d1ad-43b1-9d70-f99695bbacbc",
   "metadata": {},
   "outputs": [],
   "source": [
    "user = {\"username\": \"jose\", \"access_level\": \"guest\"}\n",
    "\n",
    "def make_secure(func):\n",
    "    @functools.wraps(func)\n",
    "    def secure_function(*args, **kwargs):\n",
    "        if user['access_level'] == 'admin':\n",
    "            return func(*args, **kwargs)\n",
    "        else:\n",
    "            return f'No admin permissions for {user[\"username\"]}'\n",
    "        \n",
    "    return secure_function\n",
    "\n",
    "@make_secure\n",
    "def get_admin_password():\n",
    "    return 'admin: 1234'\n",
    "\n",
    "@make_secure\n",
    "def get_dashboard_paasword():\n",
    "    return 'user: user_password'"
   ]
  },
  {
   "cell_type": "markdown",
   "id": "2f406d64-9a89-4ae0-b457-ba3a9d71980e",
   "metadata": {},
   "source": [
    "**allow decorator function to be able to choose a proper function to return correct responses**"
   ]
  },
  {
   "cell_type": "code",
   "execution_count": 44,
   "id": "1011e202-29cf-48b3-8d7e-bd3529b3bf15",
   "metadata": {},
   "outputs": [],
   "source": [
    "def make_secure(access_level):\n",
    "    def decorator(func):\n",
    "        @functools.wraps(func)\n",
    "        def secure_function(*args, **kwargs):\n",
    "            if user['access_level'] == access_level:\n",
    "                return func(*args, **kwargs)\n",
    "            else:\n",
    "                return f'No {access_level} permissions for {user[\"username\"]}'\n",
    "        \n",
    "        return secure_function\n",
    "    return decorator\n",
    "\n",
    "\n",
    "@make_secure('admin')\n",
    "def get_admin_password():\n",
    "    return 'admin: 1234'\n",
    "\n",
    "\n",
    "@make_secure('guest')\n",
    "def get_dashboard_paasword():\n",
    "    return 'user: ****'\n"
   ]
  },
  {
   "cell_type": "code",
   "execution_count": 45,
   "id": "d72050dc-d320-4c64-97ef-bd3f8b6a5dbc",
   "metadata": {},
   "outputs": [
    {
     "name": "stdout",
     "output_type": "stream",
     "text": [
      "No admin permissions for jose\n",
      "user: ****\n"
     ]
    }
   ],
   "source": [
    "user = {\"username\": \"jose\", \"access_level\": \"guest\"}\n",
    "\n",
    "print(get_admin_password())\n",
    "print(get_dashboard_paasword())"
   ]
  },
  {
   "cell_type": "code",
   "execution_count": 46,
   "id": "1b700130-ee18-45c5-8ae9-77497d096219",
   "metadata": {},
   "outputs": [
    {
     "name": "stdout",
     "output_type": "stream",
     "text": [
      "admin: 1234\n",
      "No guest permissions for jose\n"
     ]
    }
   ],
   "source": [
    "user = {\"username\": \"jose\", \"access_level\": \"admin\"}\n",
    "\n",
    "print(get_admin_password())\n",
    "print(get_dashboard_paasword())"
   ]
  },
  {
   "cell_type": "code",
   "execution_count": 47,
   "id": "73c93bbc-9eff-434e-b2d3-e7551ee99c9f",
   "metadata": {},
   "outputs": [
    {
     "name": "stdout",
     "output_type": "stream",
     "text": [
      "No admin permissions for jose\n",
      "No user permissions for jose\n"
     ]
    }
   ],
   "source": [
    "@make_secure('user')\n",
    "def get_dashboard_paasword():\n",
    "    return 'user: ****'\n",
    "\n",
    "user = {\"username\": \"jose\", \"access_level\": \"guest\"}\n",
    "\n",
    "print(get_admin_password())\n",
    "print(get_dashboard_paasword())"
   ]
  },
  {
   "cell_type": "code",
   "execution_count": null,
   "id": "ef8f3797-89d1-437d-8e39-2de53ea62d34",
   "metadata": {},
   "outputs": [],
   "source": []
  }
 ],
 "metadata": {
  "kernelspec": {
   "display_name": "Python 3 (ipykernel)",
   "language": "python",
   "name": "python3"
  },
  "language_info": {
   "codemirror_mode": {
    "name": "ipython",
    "version": 3
   },
   "file_extension": ".py",
   "mimetype": "text/x-python",
   "name": "python",
   "nbconvert_exporter": "python",
   "pygments_lexer": "ipython3",
   "version": "3.9.12"
  }
 },
 "nbformat": 4,
 "nbformat_minor": 5
}
