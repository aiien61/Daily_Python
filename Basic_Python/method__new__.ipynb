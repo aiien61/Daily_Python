{
 "cells": [
  {
   "cell_type": "markdown",
   "id": "e0784f61-939a-495a-ab66-fd1345e100ec",
   "metadata": {},
   "source": [
    "### class MyClass == class MyClass(object)"
   ]
  },
  {
   "cell_type": "markdown",
   "id": "21b1e06b-a565-40ad-a3de-4ff4e299acc6",
   "metadata": {},
   "source": [
    "person = Person(\"Jack\")\n",
    "\n",
    "is equal to\n",
    "\n",
    "step1. person = object.\\_\\_new\\_\\_(Person, \"Jack\")\n",
    "\n",
    "step2. person.\\_\\_init\\_\\_(\"Jack\""
   ]
  },
  {
   "cell_type": "code",
   "execution_count": 1,
   "id": "a1c29a4a-a481-44ed-b340-8f6538a4a3d7",
   "metadata": {},
   "outputs": [],
   "source": [
    "class SquaredNumber(int):\n",
    "    def __new__(cls, value: int):\n",
    "        return super().__new__(cls, value**2)"
   ]
  },
  {
   "cell_type": "code",
   "execution_count": 3,
   "id": "2cb4cf6a-f96c-4bc5-9c5d-f09872710b0b",
   "metadata": {},
   "outputs": [
    {
     "name": "stdout",
     "output_type": "stream",
     "text": [
      "9\n",
      "<class '__main__.SquaredNumber'>\n",
      "True\n"
     ]
    }
   ],
   "source": [
    "num: int = SquaredNumber(3)\n",
    "\n",
    "print(num)\n",
    "print(type(num))\n",
    "print(isinstance(num, int))"
   ]
  },
  {
   "cell_type": "code",
   "execution_count": 4,
   "id": "fdda627b-b848-45b2-ba4c-aed7d4cbf402",
   "metadata": {},
   "outputs": [],
   "source": [
    "class Student:\n",
    "    def __new__(cls, first_name: str, last_name: str):\n",
    "        obj_ = super().__new__(cls)\n",
    "        obj_.first_name: str = first_name\n",
    "        obj_.last_name: str = last_name\n",
    "        return obj_"
   ]
  },
  {
   "cell_type": "code",
   "execution_count": 6,
   "id": "77734b36-5ed2-4051-a31c-b2297886a3c5",
   "metadata": {},
   "outputs": [
    {
     "name": "stdout",
     "output_type": "stream",
     "text": [
      "Jack\n",
      "Smith\n"
     ]
    }
   ],
   "source": [
    "student: Student = Student(\"Jack\", \"Smith\")\n",
    "\n",
    "print(student.first_name)\n",
    "print(student.last_name)"
   ]
  },
  {
   "cell_type": "code",
   "execution_count": null,
   "id": "d93edc63-170e-4b7f-a4fd-79ae58ba4f4f",
   "metadata": {},
   "outputs": [],
   "source": []
  }
 ],
 "metadata": {
  "kernelspec": {
   "display_name": "Python 3 (ipykernel)",
   "language": "python",
   "name": "python3"
  },
  "language_info": {
   "codemirror_mode": {
    "name": "ipython",
    "version": 3
   },
   "file_extension": ".py",
   "mimetype": "text/x-python",
   "name": "python",
   "nbconvert_exporter": "python",
   "pygments_lexer": "ipython3",
   "version": "3.9.12"
  }
 },
 "nbformat": 4,
 "nbformat_minor": 5
}
