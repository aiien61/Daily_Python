{
 "cells": [
  {
   "cell_type": "markdown",
   "id": "d30485aa-34df-432e-ad77-80300cd220c1",
   "metadata": {},
   "source": [
    "# Class Inheritance"
   ]
  },
  {
   "cell_type": "code",
   "execution_count": 17,
   "id": "eb684aa9-b627-4246-84c5-43c03a6b81b0",
   "metadata": {},
   "outputs": [],
   "source": [
    "class Device:\n",
    "    def __init__(self, name, connected_by):\n",
    "        self.name = name\n",
    "        self.connected_by = connected_by\n",
    "        self.connected = True\n",
    "        \n",
    "    def __str__(self):\n",
    "        return f'Device {self.name!r} ({self.connected_by})'\n",
    "    \n",
    "    def disconnect(self):\n",
    "        self.connected = False\n",
    "        print('Disconnected.')"
   ]
  },
  {
   "cell_type": "code",
   "execution_count": 18,
   "id": "63a8def8-ea5c-41a9-a21c-a7baf4844ca8",
   "metadata": {},
   "outputs": [
    {
     "name": "stdout",
     "output_type": "stream",
     "text": [
      "Device 'Printer' (USB)\n"
     ]
    }
   ],
   "source": [
    "printer = Device('Printer', 'USB')\n",
    "print(printer)"
   ]
  },
  {
   "cell_type": "code",
   "execution_count": 19,
   "id": "eda68a1a-054a-47f8-b104-3f0aa716a193",
   "metadata": {},
   "outputs": [
    {
     "name": "stdout",
     "output_type": "stream",
     "text": [
      "Disconnected.\n"
     ]
    }
   ],
   "source": [
    "printer.disconnect()"
   ]
  },
  {
   "cell_type": "code",
   "execution_count": 20,
   "id": "eabcce19-65e6-4df9-b462-26eccbe06d99",
   "metadata": {},
   "outputs": [],
   "source": [
    "class Printer(Device):\n",
    "    def __init__(self, name, connected_by, capacity):\n",
    "        super().__init__(name, connected_by)\n",
    "        self.capacity = capacity\n",
    "        self.remaining_pages = capacity\n",
    "    \n",
    "    def __str__(self):\n",
    "        return f'{super().__str__()} ({self.remaining_pages} pages remaining)'\n",
    "    \n",
    "    def print(self, pages):\n",
    "        if not self.connected:\n",
    "            print('Your printer is not connected.')\n",
    "            return None\n",
    "        \n",
    "        print(f'Printing {pages} pages')\n",
    "        self.remaining_pages -= pages"
   ]
  },
  {
   "cell_type": "code",
   "execution_count": 23,
   "id": "06907340-7f59-4a61-a937-43c499094a21",
   "metadata": {},
   "outputs": [
    {
     "name": "stdout",
     "output_type": "stream",
     "text": [
      "Printing 20 pages\n"
     ]
    }
   ],
   "source": [
    "printer = Printer('Printer', 'USB', 500)\n",
    "printer.print(20)"
   ]
  },
  {
   "cell_type": "code",
   "execution_count": 24,
   "id": "fbf244f7-e8b4-4895-9f9b-939e20c320ca",
   "metadata": {},
   "outputs": [
    {
     "name": "stdout",
     "output_type": "stream",
     "text": [
      "Device 'Printer' (USB) (480 pages remaining)\n"
     ]
    }
   ],
   "source": [
    "print(printer)"
   ]
  },
  {
   "cell_type": "code",
   "execution_count": 25,
   "id": "5c02ac2b-edd5-49d2-96bf-7c4f938cd4e8",
   "metadata": {},
   "outputs": [
    {
     "name": "stdout",
     "output_type": "stream",
     "text": [
      "Disconnected.\n"
     ]
    }
   ],
   "source": [
    "printer.disconnect()"
   ]
  },
  {
   "cell_type": "markdown",
   "id": "d1e1ec69-f5a7-4672-89e7-49a7694c8b2c",
   "metadata": {},
   "source": [
    "# Class Composition"
   ]
  },
  {
   "cell_type": "code",
   "execution_count": 26,
   "id": "7981b18b-9f0f-414c-bd0c-d8fc13e5e294",
   "metadata": {},
   "outputs": [],
   "source": [
    "class BookShelf:\n",
    "    def __init__(self, *books):\n",
    "        self.books = books\n",
    "        \n",
    "    def __str__(self):\n",
    "        return f'BookShelf with {len(self.books)} books'"
   ]
  },
  {
   "cell_type": "code",
   "execution_count": 27,
   "id": "67b13918-c350-4fce-b48a-47eb66af6aae",
   "metadata": {},
   "outputs": [],
   "source": [
    "class Book:\n",
    "    def __init__(self, name):\n",
    "        self.name = name\n",
    "        \n",
    "    def __str__(self):\n",
    "        return f'Book {self.name}'"
   ]
  },
  {
   "cell_type": "code",
   "execution_count": 28,
   "id": "2edd28fa-8a7f-4aca-91ea-a4e1ef295ba2",
   "metadata": {},
   "outputs": [],
   "source": [
    "book1 = Book('Harry Potter')\n",
    "book2 = Book('Python from scratch')\n",
    "shelf = BookShelf(book1, book2)"
   ]
  },
  {
   "cell_type": "code",
   "execution_count": 29,
   "id": "a15b4741-f138-4067-9b98-c28a98d62f29",
   "metadata": {},
   "outputs": [
    {
     "name": "stdout",
     "output_type": "stream",
     "text": [
      "BookShelf with 2 books\n"
     ]
    }
   ],
   "source": [
    "print(shelf)"
   ]
  },
  {
   "cell_type": "code",
   "execution_count": 31,
   "id": "c07911a2-dcc1-4645-b98e-244f5245d549",
   "metadata": {},
   "outputs": [
    {
     "name": "stdout",
     "output_type": "stream",
     "text": [
      "(<__main__.Book object at 0x7f14de625a30>, <__main__.Book object at 0x7f14de67d4f0>)\n"
     ]
    }
   ],
   "source": [
    "print(shelf.books)"
   ]
  },
  {
   "cell_type": "markdown",
   "id": "58c1ab6c-7b23-4044-ac8e-5c8b136a0d1e",
   "metadata": {},
   "source": [
    "# Type Hinting"
   ]
  },
  {
   "cell_type": "code",
   "execution_count": 32,
   "id": "062b55c9-f81e-4bed-b50e-0642d3100d73",
   "metadata": {},
   "outputs": [],
   "source": [
    "from typing import List"
   ]
  },
  {
   "cell_type": "code",
   "execution_count": 33,
   "id": "d3664854-ed93-4b10-a0dc-05e26d618057",
   "metadata": {},
   "outputs": [],
   "source": [
    "class Book:\n",
    "    TYPES = ('hardcover', 'paperback')\n",
    "    \n",
    "    def __init__(self, name: str, book_type: str, weight: int):\n",
    "        self.name = name\n",
    "        self.book_type = book_type\n",
    "        self.weight = weight\n",
    "    \n",
    "    def __repr__(self) -> str:\n",
    "        return f'<Book {self.name}>, {self.book_type}, weighing {self.weight}g>'\n",
    "    \n",
    "    @classmethod\n",
    "    def hardcover(cls, name: str, page_weight: int) -> \"Book\":\n",
    "        return cls(name, cls.TYPES[0], page_weight + 100)\n",
    "    \n",
    "    @classmethod\n",
    "    def paperback(cls, name: str, page_weight: int) -> \"Book\":\n",
    "        return cls(name, cls.TYPES[1], page_weight)"
   ]
  },
  {
   "cell_type": "code",
   "execution_count": null,
   "id": "04093d66-ac3e-4dd9-b28e-abeee52bf3c3",
   "metadata": {},
   "outputs": [],
   "source": []
  }
 ],
 "metadata": {
  "kernelspec": {
   "display_name": "Python 3 (ipykernel)",
   "language": "python",
   "name": "python3"
  },
  "language_info": {
   "codemirror_mode": {
    "name": "ipython",
    "version": 3
   },
   "file_extension": ".py",
   "mimetype": "text/x-python",
   "name": "python",
   "nbconvert_exporter": "python",
   "pygments_lexer": "ipython3",
   "version": "3.9.12"
  }
 },
 "nbformat": 4,
 "nbformat_minor": 5
}
