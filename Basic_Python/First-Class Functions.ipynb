{
 "cells": [
  {
   "cell_type": "markdown",
   "id": "ee372d6a-946e-4099-96d3-bf1614b35dd0",
   "metadata": {},
   "source": [
    "**A first class function means that functions can be passed as arguments to functions.**"
   ]
  },
  {
   "cell_type": "code",
   "execution_count": 1,
   "id": "958cbe2d-0445-48dc-8bfc-8c48d2d58182",
   "metadata": {},
   "outputs": [],
   "source": [
    "def calculate(*values, operator):\n",
    "    return operator(*values)"
   ]
  },
  {
   "cell_type": "code",
   "execution_count": 2,
   "id": "a1b53c92-2c3c-4b05-a388-b24d0eb7495c",
   "metadata": {},
   "outputs": [],
   "source": [
    "def divide(dividend, divisor):\n",
    "    return dividend / divisor if divisor != 0 else 'You fool!'"
   ]
  },
  {
   "cell_type": "markdown",
   "id": "4fb7a321-c3e2-4085-abec-fdd9d0d83f53",
   "metadata": {},
   "source": [
    "Pass the 'divide' function as an argument"
   ]
  },
  {
   "cell_type": "code",
   "execution_count": 3,
   "id": "c6868430-1b4c-492a-a68b-228742cc56b4",
   "metadata": {},
   "outputs": [
    {
     "name": "stdout",
     "output_type": "stream",
     "text": [
      "5.0\n"
     ]
    }
   ],
   "source": [
    "result = calculate(20, 4, operator=divide)\n",
    "print(result)"
   ]
  },
  {
   "cell_type": "markdown",
   "id": "33173205-5dfe-49d8-9272-bf597449eef8",
   "metadata": {},
   "source": [
    "Pass the 'average' function as an argument"
   ]
  },
  {
   "cell_type": "code",
   "execution_count": 4,
   "id": "245a3665-711b-4283-85c9-d83e29dd4e8b",
   "metadata": {},
   "outputs": [],
   "source": [
    "def average(*values):\n",
    "    return sum(values) / len(values)"
   ]
  },
  {
   "cell_type": "code",
   "execution_count": 5,
   "id": "aea8834f-a502-45aa-8861-d36d50e91896",
   "metadata": {},
   "outputs": [
    {
     "name": "stdout",
     "output_type": "stream",
     "text": [
      "30.0\n"
     ]
    }
   ],
   "source": [
    "result = calculate(10, 20, 30, 40, 50, operator=average)\n",
    "print(result)"
   ]
  },
  {
   "cell_type": "markdown",
   "id": "99893a59-a4bf-43fc-818a-a1f80239e803",
   "metadata": {},
   "source": [
    "### Other function arguments"
   ]
  },
  {
   "cell_type": "code",
   "execution_count": 6,
   "id": "cd359ac6-09bd-4b75-932a-733600607999",
   "metadata": {},
   "outputs": [],
   "source": [
    "def search(sequence, expected, finder):\n",
    "    for elem in sequence:\n",
    "        if finder(elem) == expected:\n",
    "            return elem\n",
    "    raise RuntimeError(f\"Could not find an element with {expected}\")"
   ]
  },
  {
   "cell_type": "code",
   "execution_count": 7,
   "id": "3aabc88b-5002-4f85-b642-b0ff74ac6e88",
   "metadata": {},
   "outputs": [],
   "source": [
    "friends = [\n",
    "    {\"name\": \"Rolf Smith\", \"age\": 24},\n",
    "    {\"name\": \"Adam Wool\", \"age\": 30},\n",
    "    {\"name\": \"Anne Pun\", \"age\": 27},\n",
    "]"
   ]
  },
  {
   "cell_type": "code",
   "execution_count": 8,
   "id": "408f7e68-1877-4b17-baaf-1640f99332b1",
   "metadata": {},
   "outputs": [],
   "source": [
    "def get_friend_name(friend):\n",
    "    return friend['name']"
   ]
  },
  {
   "cell_type": "code",
   "execution_count": 12,
   "id": "8f3d5b73-60e2-4f32-a806-34c9179712dd",
   "metadata": {},
   "outputs": [
    {
     "name": "stdout",
     "output_type": "stream",
     "text": [
      "Could not find an element with Bob Smith\n"
     ]
    }
   ],
   "source": [
    "try:\n",
    "    print(search(friends, 'Bob Smith', get_friend_name))\n",
    "except RuntimeError as e:\n",
    "    print(e)"
   ]
  },
  {
   "cell_type": "code",
   "execution_count": 11,
   "id": "38009536-2223-44f0-99a4-6d5b40285f75",
   "metadata": {},
   "outputs": [
    {
     "name": "stdout",
     "output_type": "stream",
     "text": [
      "{'name': 'Rolf Smith', 'age': 24}\n"
     ]
    }
   ],
   "source": [
    "print(search(friends, 'Rolf Smith', get_friend_name))"
   ]
  },
  {
   "cell_type": "markdown",
   "id": "850a61d7-60d3-4476-96ab-d116740636ed",
   "metadata": {},
   "source": [
    "using lambdas since this can be simple enough"
   ]
  },
  {
   "cell_type": "code",
   "execution_count": 13,
   "id": "a65466e8-bdee-4cc0-8643-e522e11c569d",
   "metadata": {},
   "outputs": [
    {
     "name": "stdout",
     "output_type": "stream",
     "text": [
      "Could not find an element with Bob Smith\n"
     ]
    }
   ],
   "source": [
    "try:\n",
    "    print(search(friends, 'Bob Smith', lambda friend: friend['name']))\n",
    "except RuntimeError as e:\n",
    "    print(e)"
   ]
  },
  {
   "cell_type": "code",
   "execution_count": 14,
   "id": "92ce3a63-6fb2-4ebe-b1d6-5f8c57793549",
   "metadata": {},
   "outputs": [
    {
     "name": "stdout",
     "output_type": "stream",
     "text": [
      "{'name': 'Rolf Smith', 'age': 24}\n"
     ]
    }
   ],
   "source": [
    "try:\n",
    "    print(search(friends, 'Rolf Smith', lambda friend: friend['name']))\n",
    "except RuntimeError as e:\n",
    "    print(e)"
   ]
  },
  {
   "cell_type": "markdown",
   "id": "8b70df8e-c57a-42a5-a05b-177aaa36c26d",
   "metadata": {},
   "source": [
    "using built-in functions"
   ]
  },
  {
   "cell_type": "code",
   "execution_count": 15,
   "id": "200cbb45-dc86-42b8-9aca-ded7afc7cdfd",
   "metadata": {},
   "outputs": [],
   "source": [
    "from operator import itemgetter"
   ]
  },
  {
   "cell_type": "code",
   "execution_count": 17,
   "id": "49f21187-d769-491f-b2c8-f886138027e5",
   "metadata": {},
   "outputs": [
    {
     "name": "stdout",
     "output_type": "stream",
     "text": [
      "Could not find an element with Bob Smith\n"
     ]
    }
   ],
   "source": [
    "try:\n",
    "    print(search(friends, 'Bob Smith', itemgetter('name')))\n",
    "except RuntimeError as e:\n",
    "    print(e)"
   ]
  },
  {
   "cell_type": "code",
   "execution_count": 18,
   "id": "cfcd7402-383a-4907-942f-548388a4490a",
   "metadata": {},
   "outputs": [
    {
     "name": "stdout",
     "output_type": "stream",
     "text": [
      "{'name': 'Rolf Smith', 'age': 24}\n"
     ]
    }
   ],
   "source": [
    "try:\n",
    "    print(search(friends, 'Rolf Smith', itemgetter('name')))\n",
    "except RuntimeError as e:\n",
    "    print(e)"
   ]
  },
  {
   "cell_type": "code",
   "execution_count": null,
   "id": "02d2e844-09f0-430b-bd59-4c725e4665c7",
   "metadata": {},
   "outputs": [],
   "source": []
  }
 ],
 "metadata": {
  "kernelspec": {
   "display_name": "Python 3 (ipykernel)",
   "language": "python",
   "name": "python3"
  },
  "language_info": {
   "codemirror_mode": {
    "name": "ipython",
    "version": 3
   },
   "file_extension": ".py",
   "mimetype": "text/x-python",
   "name": "python",
   "nbconvert_exporter": "python",
   "pygments_lexer": "ipython3",
   "version": "3.9.12"
  }
 },
 "nbformat": 4,
 "nbformat_minor": 5
}
