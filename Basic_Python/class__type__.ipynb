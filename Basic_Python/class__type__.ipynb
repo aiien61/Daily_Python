{
 "cells": [
  {
   "cell_type": "markdown",
   "id": "2dad981c-1017-4a1d-b696-5183d80a490b",
   "metadata": {},
   "source": [
    "class MyClass(SuperClass):\n",
    "   def func(self): pass\n",
    "   \n",
    "is equal to \n",
    "\n",
    "def func(self):\n",
    "    pass\n",
    "\n",
    "type(\"MyClass\", (SuperClass,), {\"func\": func})"
   ]
  },
  {
   "cell_type": "code",
   "execution_count": 1,
   "id": "66debcbb-cda6-43c4-a362-5d9fc214cf95",
   "metadata": {},
   "outputs": [],
   "source": [
    "class Student:\n",
    "    def greeting(self):\n",
    "        print(\"Hello\")"
   ]
  },
  {
   "cell_type": "code",
   "execution_count": 2,
   "id": "7fd7739e-cee4-4e22-bee6-0f0d8e677e4b",
   "metadata": {},
   "outputs": [
    {
     "name": "stdout",
     "output_type": "stream",
     "text": [
      "<class 'type'>\n"
     ]
    }
   ],
   "source": [
    "print(type(Student))"
   ]
  },
  {
   "cell_type": "code",
   "execution_count": 3,
   "id": "ed343a73-2876-4934-ae22-f0edf9256db6",
   "metadata": {},
   "outputs": [
    {
     "name": "stdout",
     "output_type": "stream",
     "text": [
      "True\n"
     ]
    }
   ],
   "source": [
    "print(isinstance(Student, type))"
   ]
  },
  {
   "cell_type": "code",
   "execution_count": 7,
   "id": "d99b67bf-5a94-4e63-9c49-30732ca6d7b9",
   "metadata": {},
   "outputs": [],
   "source": [
    "class_body = \"\"\"\n",
    "def greeting(self): \n",
    "    print('Hello')\n",
    "\n",
    "def jump(self):\n",
    "    print('jump')\n",
    "\"\"\"\n",
    "class_dict = {}\n",
    "exec(class_body, globals(), class_dict)\n",
    "\n",
    "Customer = type(\"Customer\", (object,), class_dict)"
   ]
  },
  {
   "cell_type": "code",
   "execution_count": 8,
   "id": "9e116dd5-7cf5-4e40-bc95-18e533388b2b",
   "metadata": {},
   "outputs": [
    {
     "name": "stdout",
     "output_type": "stream",
     "text": [
      "Hello\n"
     ]
    }
   ],
   "source": [
    "customer = Customer()\n",
    "customer.greeting()"
   ]
  },
  {
   "cell_type": "code",
   "execution_count": 9,
   "id": "e676f078-6adc-41d3-80c4-fac05b0793a1",
   "metadata": {},
   "outputs": [
    {
     "name": "stdout",
     "output_type": "stream",
     "text": [
      "jump\n"
     ]
    }
   ],
   "source": [
    "customer.jump()"
   ]
  },
  {
   "cell_type": "code",
   "execution_count": null,
   "id": "0b6a4a06-f2c8-4c50-95d3-e28a636a751e",
   "metadata": {},
   "outputs": [],
   "source": []
  }
 ],
 "metadata": {
  "kernelspec": {
   "display_name": "Python 3 (ipykernel)",
   "language": "python",
   "name": "python3"
  },
  "language_info": {
   "codemirror_mode": {
    "name": "ipython",
    "version": 3
   },
   "file_extension": ".py",
   "mimetype": "text/x-python",
   "name": "python",
   "nbconvert_exporter": "python",
   "pygments_lexer": "ipython3",
   "version": "3.9.12"
  }
 },
 "nbformat": 4,
 "nbformat_minor": 5
}
