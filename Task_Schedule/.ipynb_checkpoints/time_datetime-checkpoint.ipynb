{
 "cells": [
  {
   "cell_type": "markdown",
   "id": "aaa0bd75-d59e-4ebf-9dc2-2826153c2723",
   "metadata": {},
   "source": [
    "# time"
   ]
  },
  {
   "cell_type": "code",
   "execution_count": 1,
   "id": "cdfe55f3-2438-4250-9605-9a64690e87c1",
   "metadata": {},
   "outputs": [],
   "source": [
    "import time"
   ]
  },
  {
   "cell_type": "code",
   "execution_count": 2,
   "id": "7d75bc76-cf04-402f-bcb1-d4d6cb48f3c8",
   "metadata": {},
   "outputs": [
    {
     "data": {
      "text/plain": [
       "1717863843.392412"
      ]
     },
     "execution_count": 2,
     "metadata": {},
     "output_type": "execute_result"
    }
   ],
   "source": [
    "time.time()"
   ]
  },
  {
   "cell_type": "code",
   "execution_count": 3,
   "id": "5ce94aa7-1c6e-43ce-a586-97e4fff7cdff",
   "metadata": {},
   "outputs": [],
   "source": [
    "def calc_prod():\n",
    "    # calculate the product of teh first 100,000 numbers.\n",
    "    product = 1\n",
    "    for i in range(1, 100_000):\n",
    "        product *= i\n",
    "    return product"
   ]
  },
  {
   "cell_type": "code",
   "execution_count": 5,
   "id": "024d0940-a7bb-4237-98bf-e7dfeb58744c",
   "metadata": {},
   "outputs": [
    {
     "name": "stdout",
     "output_type": "stream",
     "text": [
      "The result is 456569 digits long.\n",
      "Took 2.44482421875 seconds to calculate.\n"
     ]
    }
   ],
   "source": [
    "start_time = time.time()\n",
    "product = calc_prod()\n",
    "end_time = time.time()\n",
    "print(f'The result is {len(str(product))} digits long.')\n",
    "print(f'Took {end_time - start_time} seconds to calculate.')"
   ]
  },
  {
   "cell_type": "code",
   "execution_count": 6,
   "id": "61db566b-8925-4ea5-a39b-b56df0b40e00",
   "metadata": {},
   "outputs": [
    {
     "name": "stdout",
     "output_type": "stream",
     "text": [
      "2.37 s ± 34.4 ms per loop (mean ± std. dev. of 7 runs, 1 loop each)\n",
      "The result is 456569 digits long.\n"
     ]
    }
   ],
   "source": [
    "%timeit product = calc_prod()\n",
    "print(f'The result is {len(str(product))} digits long.')"
   ]
  },
  {
   "cell_type": "markdown",
   "id": "d72df5ff-c899-4a5c-8e45-a05289769fbd",
   "metadata": {},
   "source": [
    "### time.sleep()"
   ]
  },
  {
   "cell_type": "code",
   "execution_count": 8,
   "id": "1ccc5093-4d43-4351-93b0-9111aa9c6093",
   "metadata": {},
   "outputs": [
    {
     "name": "stdout",
     "output_type": "stream",
     "text": [
      "Tick\n",
      "Tock\n",
      "Tick\n",
      "Tock\n",
      "Tick\n",
      "Tock\n"
     ]
    }
   ],
   "source": [
    "for i in range(3):\n",
    "    print('Tick')\n",
    "    time.sleep(1)\n",
    "    print('Tock')\n",
    "    time.sleep(1)"
   ]
  },
  {
   "cell_type": "markdown",
   "id": "9f447085-c011-4994-abe6-19a013ae3378",
   "metadata": {},
   "source": [
    "### Round the decimal part of time"
   ]
  },
  {
   "cell_type": "code",
   "execution_count": 9,
   "id": "aaa5cc80-7787-4ac9-ae0a-1e492a4fbcd6",
   "metadata": {},
   "outputs": [
    {
     "data": {
      "text/plain": [
       "1717864234.1019402"
      ]
     },
     "execution_count": 9,
     "metadata": {},
     "output_type": "execute_result"
    }
   ],
   "source": [
    "now = time.time()\n",
    "now"
   ]
  },
  {
   "cell_type": "code",
   "execution_count": 10,
   "id": "ff558b74-bca0-4f2f-8258-2955c9d68808",
   "metadata": {},
   "outputs": [
    {
     "data": {
      "text/plain": [
       "1717864234.1"
      ]
     },
     "execution_count": 10,
     "metadata": {},
     "output_type": "execute_result"
    }
   ],
   "source": [
    "round(now, 2)"
   ]
  },
  {
   "cell_type": "code",
   "execution_count": 11,
   "id": "39a552ec-478b-41ab-8e90-5bace3cf7b96",
   "metadata": {},
   "outputs": [
    {
     "data": {
      "text/plain": [
       "1717864234.1019"
      ]
     },
     "execution_count": 11,
     "metadata": {},
     "output_type": "execute_result"
    }
   ],
   "source": [
    "round(now, 4)"
   ]
  },
  {
   "cell_type": "code",
   "execution_count": 12,
   "id": "af29db59-acfb-430e-a3fd-864439215afa",
   "metadata": {},
   "outputs": [
    {
     "data": {
      "text/plain": [
       "1717864234"
      ]
     },
     "execution_count": 12,
     "metadata": {},
     "output_type": "execute_result"
    }
   ],
   "source": [
    "round(now)"
   ]
  },
  {
   "cell_type": "markdown",
   "id": "e40bd7c2-e70c-424b-903e-11256444b590",
   "metadata": {},
   "source": [
    "# datetime"
   ]
  },
  {
   "cell_type": "code",
   "execution_count": 13,
   "id": "2facb834-aa6c-488e-a1e3-ee0970cec7f1",
   "metadata": {},
   "outputs": [],
   "source": [
    "import datetime"
   ]
  },
  {
   "cell_type": "code",
   "execution_count": 14,
   "id": "f11613fc-bc8e-47bc-8767-eed4165c2967",
   "metadata": {},
   "outputs": [
    {
     "data": {
      "text/plain": [
       "datetime.datetime(2024, 6, 8, 17, 2, 49, 547049)"
      ]
     },
     "execution_count": 14,
     "metadata": {},
     "output_type": "execute_result"
    }
   ],
   "source": [
    "datetime.datetime.now()"
   ]
  },
  {
   "cell_type": "code",
   "execution_count": 15,
   "id": "2cb80b64-3308-4250-bd14-8730c6dd411b",
   "metadata": {},
   "outputs": [],
   "source": [
    "dt = datetime.datetime(2000, 10, 20, 15, 29, 0)"
   ]
  },
  {
   "cell_type": "code",
   "execution_count": 16,
   "id": "77900fdc-b58e-40c9-8d2a-aee73f159ed8",
   "metadata": {},
   "outputs": [
    {
     "data": {
      "text/plain": [
       "2000"
      ]
     },
     "execution_count": 16,
     "metadata": {},
     "output_type": "execute_result"
    }
   ],
   "source": [
    "dt.year"
   ]
  },
  {
   "cell_type": "code",
   "execution_count": 17,
   "id": "ab0c386c-d9e7-4d74-9849-cee5140d50d1",
   "metadata": {},
   "outputs": [
    {
     "data": {
      "text/plain": [
       "10"
      ]
     },
     "execution_count": 17,
     "metadata": {},
     "output_type": "execute_result"
    }
   ],
   "source": [
    "dt.month"
   ]
  },
  {
   "cell_type": "code",
   "execution_count": 18,
   "id": "4f8961d0-fef2-410f-9acc-3c640597109c",
   "metadata": {},
   "outputs": [
    {
     "data": {
      "text/plain": [
       "20"
      ]
     },
     "execution_count": 18,
     "metadata": {},
     "output_type": "execute_result"
    }
   ],
   "source": [
    "dt.day"
   ]
  },
  {
   "cell_type": "code",
   "execution_count": 19,
   "id": "50fc3acf-dc11-4a01-bbe6-e21543edea48",
   "metadata": {},
   "outputs": [
    {
     "data": {
      "text/plain": [
       "(15, 29, 0)"
      ]
     },
     "execution_count": 19,
     "metadata": {},
     "output_type": "execute_result"
    }
   ],
   "source": [
    "dt.hour, dt.minute, dt.second"
   ]
  },
  {
   "cell_type": "markdown",
   "id": "951ae315-466b-4355-b32d-0895c687731d",
   "metadata": {},
   "source": [
    "### time after Unit Epoch time (1970/1/1 00:00:00)"
   ]
  },
  {
   "cell_type": "code",
   "execution_count": 20,
   "id": "9ad26c40-20a1-46d4-8852-c76f23f78e76",
   "metadata": {},
   "outputs": [
    {
     "data": {
      "text/plain": [
       "datetime.datetime(1970, 1, 1, 0, 0)"
      ]
     },
     "execution_count": 20,
     "metadata": {},
     "output_type": "execute_result"
    }
   ],
   "source": [
    "datetime.datetime.fromtimestamp(0)"
   ]
  },
  {
   "cell_type": "code",
   "execution_count": 21,
   "id": "d876c5d0-6d04-4c1b-823b-6cfd9a82c2d7",
   "metadata": {},
   "outputs": [
    {
     "data": {
      "text/plain": [
       "datetime.datetime(1970, 1, 12, 13, 46, 40)"
      ]
     },
     "execution_count": 21,
     "metadata": {},
     "output_type": "execute_result"
    }
   ],
   "source": [
    "datetime.datetime.fromtimestamp(1_000_000)  # 1970/1/1 00:00:00 + 1_000_000 seconds"
   ]
  },
  {
   "cell_type": "code",
   "execution_count": 22,
   "id": "bf34d5bb-7df3-4f7a-88fb-eae972b04fd6",
   "metadata": {},
   "outputs": [
    {
     "data": {
      "text/plain": [
       "datetime.datetime(2024, 6, 8, 17, 8, 47, 193001)"
      ]
     },
     "execution_count": 22,
     "metadata": {},
     "output_type": "execute_result"
    }
   ],
   "source": [
    "datetime.datetime.fromtimestamp(time.time())  # return current time, identical to time.time()"
   ]
  },
  {
   "cell_type": "markdown",
   "id": "af099ec0-1cef-49f4-9789-372734da8e0a",
   "metadata": {},
   "source": [
    "### timedelta"
   ]
  },
  {
   "cell_type": "code",
   "execution_count": 23,
   "id": "2536d760-0615-46b1-afc6-ee64d610c962",
   "metadata": {},
   "outputs": [],
   "source": [
    "delta = datetime.timedelta(days=11, hours=10, minutes=9, seconds=8)"
   ]
  },
  {
   "cell_type": "code",
   "execution_count": 24,
   "id": "50f32768-ba1b-4b12-a70a-2199f397736d",
   "metadata": {},
   "outputs": [
    {
     "data": {
      "text/plain": [
       "(11, 36548, 0)"
      ]
     },
     "execution_count": 24,
     "metadata": {},
     "output_type": "execute_result"
    }
   ],
   "source": [
    "delta.days, delta.seconds, delta.microseconds"
   ]
  },
  {
   "cell_type": "code",
   "execution_count": 25,
   "id": "6a31f4d9-d687-429c-b229-44999e4e01d3",
   "metadata": {},
   "outputs": [
    {
     "data": {
      "text/plain": [
       "986948.0"
      ]
     },
     "execution_count": 25,
     "metadata": {},
     "output_type": "execute_result"
    }
   ],
   "source": [
    "delta.total_seconds()"
   ]
  },
  {
   "cell_type": "code",
   "execution_count": 26,
   "id": "5d851237-2c87-4b81-8626-b69ff20fa70e",
   "metadata": {},
   "outputs": [
    {
     "data": {
      "text/plain": [
       "'11 days, 10:09:08'"
      ]
     },
     "execution_count": 26,
     "metadata": {},
     "output_type": "execute_result"
    }
   ],
   "source": [
    "str(delta)"
   ]
  },
  {
   "cell_type": "code",
   "execution_count": 27,
   "id": "9e5a1966-f7b9-4f0f-8446-d96d3971b07f",
   "metadata": {},
   "outputs": [
    {
     "data": {
      "text/plain": [
       "datetime.datetime(2024, 6, 8, 17, 16, 17, 620705)"
      ]
     },
     "execution_count": 27,
     "metadata": {},
     "output_type": "execute_result"
    }
   ],
   "source": [
    "dt = datetime.datetime.now()\n",
    "dt"
   ]
  },
  {
   "cell_type": "code",
   "execution_count": 28,
   "id": "d465d4c8-9dcf-494d-8e9d-962cbd52742d",
   "metadata": {},
   "outputs": [
    {
     "data": {
      "text/plain": [
       "datetime.datetime(2027, 3, 5, 17, 16, 17, 620705)"
      ]
     },
     "execution_count": 28,
     "metadata": {},
     "output_type": "execute_result"
    }
   ],
   "source": [
    "thousand_days = datetime.timedelta(days=1_000)\n",
    "dt + thousand_days"
   ]
  },
  {
   "cell_type": "code",
   "execution_count": 29,
   "id": "392e0a66-d950-4c4b-8687-8bf3ee629efe",
   "metadata": {},
   "outputs": [],
   "source": [
    "oct21st = datetime.datetime(2015, 10, 21, 16, 29, 0)\n",
    "about_30_years = datetime.timedelta(days=365*30)"
   ]
  },
  {
   "cell_type": "code",
   "execution_count": 30,
   "id": "6f92541f-8578-45e3-a18b-aec21e78548d",
   "metadata": {},
   "outputs": [
    {
     "data": {
      "text/plain": [
       "datetime.datetime(2015, 10, 21, 16, 29)"
      ]
     },
     "execution_count": 30,
     "metadata": {},
     "output_type": "execute_result"
    }
   ],
   "source": [
    "oct21st"
   ]
  },
  {
   "cell_type": "code",
   "execution_count": 31,
   "id": "b605aa9d-3ad4-4e5f-aca7-3bdb11d4f12f",
   "metadata": {},
   "outputs": [
    {
     "data": {
      "text/plain": [
       "datetime.datetime(1985, 10, 28, 16, 29)"
      ]
     },
     "execution_count": 31,
     "metadata": {},
     "output_type": "execute_result"
    }
   ],
   "source": [
    "oct21st - about_30_years"
   ]
  },
  {
   "cell_type": "code",
   "execution_count": 32,
   "id": "eab5d575-490c-4efc-80e3-fcfb738d0510",
   "metadata": {},
   "outputs": [
    {
     "data": {
      "text/plain": [
       "datetime.datetime(1955, 11, 5, 16, 29)"
      ]
     },
     "execution_count": 32,
     "metadata": {},
     "output_type": "execute_result"
    }
   ],
   "source": [
    "oct21st - (2 * about_30_years)"
   ]
  },
  {
   "cell_type": "markdown",
   "id": "5087fd61-1fc7-4586-b695-90c644b942a5",
   "metadata": {},
   "source": [
    "### pause until specified date"
   ]
  },
  {
   "cell_type": "code",
   "execution_count": 33,
   "id": "f0db1111-9263-494a-9c9e-1457e7258d7b",
   "metadata": {},
   "outputs": [
    {
     "ename": "KeyboardInterrupt",
     "evalue": "",
     "output_type": "error",
     "traceback": [
      "\u001b[0;31m---------------------------------------------------------------------------\u001b[0m",
      "\u001b[0;31mKeyboardInterrupt\u001b[0m                         Traceback (most recent call last)",
      "Input \u001b[0;32mIn [33]\u001b[0m, in \u001b[0;36m<cell line: 2>\u001b[0;34m()\u001b[0m\n\u001b[1;32m      1\u001b[0m halloween2024 \u001b[38;5;241m=\u001b[39m datetime\u001b[38;5;241m.\u001b[39mdatetime(\u001b[38;5;241m2024\u001b[39m, \u001b[38;5;241m10\u001b[39m, \u001b[38;5;241m31\u001b[39m, \u001b[38;5;241m0\u001b[39m, \u001b[38;5;241m0\u001b[39m, \u001b[38;5;241m0\u001b[39m)\n\u001b[1;32m      2\u001b[0m \u001b[38;5;28;01mwhile\u001b[39;00m datetime\u001b[38;5;241m.\u001b[39mdatetime\u001b[38;5;241m.\u001b[39mnow() \u001b[38;5;241m<\u001b[39m halloween2024:\n\u001b[0;32m----> 3\u001b[0m     \u001b[43mtime\u001b[49m\u001b[38;5;241;43m.\u001b[39;49m\u001b[43msleep\u001b[49m\u001b[43m(\u001b[49m\u001b[38;5;241;43m1\u001b[39;49m\u001b[43m)\u001b[49m\n",
      "\u001b[0;31mKeyboardInterrupt\u001b[0m: "
     ]
    }
   ],
   "source": [
    "halloween2024 = datetime.datetime(2024, 10, 31, 0, 0, 0)\n",
    "while datetime.datetime.now() < halloween2024:\n",
    "    time.sleep(1)"
   ]
  },
  {
   "cell_type": "markdown",
   "id": "cd63a5d4-4c14-40a7-834b-158702bb2f06",
   "metadata": {},
   "source": [
    "### datetime object -> string"
   ]
  },
  {
   "cell_type": "markdown",
   "id": "22c7849c-7a57-4152-8df5-09dd7f34a94c",
   "metadata": {},
   "source": [
    "%Y - year with century e.g. 2015\n",
    "\n",
    "%y - year without century e.g. 00 - 99 (1970 - 2069)\n",
    "\n",
    "%m - month e.g. 01 - 12\n",
    "\n",
    "%B - month name e.g. November\n",
    "\n",
    "%b - abbreviation of month e.g. Nov\n",
    "\n",
    "%d - day of month e.g. 01 - 31\n",
    "\n",
    "%j - day of year e.g. 001 - 366\n",
    "\n",
    "%w - day of week e.g. 0 (for Sunday), 6 (for Saturday)\n",
    "\n",
    "%A - day name of week e.g. Monday\n",
    "\n",
    "%a - abbreviated day name of week e.g. Mon\n",
    "\n",
    "%H - hour in 24 hours e.g. 00 - 23\n",
    "\n",
    "%I - hour in 12 hours e.g. 01 - 12\n",
    "\n",
    "%M - minute e.g. 00 - 59\n",
    "\n",
    "%S - second e.g. 00 - 59\n",
    "\n",
    "%p - AM/PM"
   ]
  },
  {
   "cell_type": "code",
   "execution_count": 34,
   "id": "557f24f0-e283-44c7-b054-4dd6f8885b7a",
   "metadata": {},
   "outputs": [
    {
     "data": {
      "text/plain": [
       "'2015/10/21 16:29:00'"
      ]
     },
     "execution_count": 34,
     "metadata": {},
     "output_type": "execute_result"
    }
   ],
   "source": [
    "oct21st = datetime.datetime(2015, 10, 21, 16, 29, 0)\n",
    "oct21st.strftime('%Y/%m/%d %H:%M:%S')"
   ]
  },
  {
   "cell_type": "code",
   "execution_count": 35,
   "id": "641ef3b2-4042-4eaf-b26e-27a83b2bc4c6",
   "metadata": {},
   "outputs": [
    {
     "data": {
      "text/plain": [
       "'04:29 PM'"
      ]
     },
     "execution_count": 35,
     "metadata": {},
     "output_type": "execute_result"
    }
   ],
   "source": [
    "oct21st.strftime('%I:%M %p')"
   ]
  },
  {
   "cell_type": "code",
   "execution_count": 36,
   "id": "572b43e9-227d-4965-9bbb-0f1eb2fa6780",
   "metadata": {},
   "outputs": [
    {
     "data": {
      "text/plain": [
       "\"October of '15\""
      ]
     },
     "execution_count": 36,
     "metadata": {},
     "output_type": "execute_result"
    }
   ],
   "source": [
    "oct21st.strftime(\"%B of '%y\")"
   ]
  },
  {
   "cell_type": "markdown",
   "id": "4b9ead31-5d59-4977-a74d-300e2e6b73e5",
   "metadata": {},
   "source": [
    "### string -> datetime object"
   ]
  },
  {
   "cell_type": "code",
   "execution_count": 37,
   "id": "3d75e7bd-d467-4e86-bc0b-9e56a9e38bc7",
   "metadata": {},
   "outputs": [
    {
     "data": {
      "text/plain": [
       "datetime.datetime(2015, 10, 21, 0, 0)"
      ]
     },
     "execution_count": 37,
     "metadata": {},
     "output_type": "execute_result"
    }
   ],
   "source": [
    "datetime.datetime.strptime('October 21, 2015', '%B %d, %Y')"
   ]
  },
  {
   "cell_type": "code",
   "execution_count": 39,
   "id": "0f50f8e5-9ea6-435a-a47c-ef8188a170f6",
   "metadata": {},
   "outputs": [
    {
     "data": {
      "text/plain": [
       "datetime.datetime(2015, 10, 21, 16, 29)"
      ]
     },
     "execution_count": 39,
     "metadata": {},
     "output_type": "execute_result"
    }
   ],
   "source": [
    "datetime.datetime.strptime('2015/10/21 16:29:00', '%Y/%m/%d %H:%M:%S')"
   ]
  },
  {
   "cell_type": "code",
   "execution_count": 40,
   "id": "7d8e161b-b786-4f3f-b035-e69567fb4d7d",
   "metadata": {},
   "outputs": [
    {
     "data": {
      "text/plain": [
       "datetime.datetime(2015, 10, 1, 0, 0)"
      ]
     },
     "execution_count": 40,
     "metadata": {},
     "output_type": "execute_result"
    }
   ],
   "source": [
    "datetime.datetime.strptime(\"October of '15\", \"%B of '%y\")"
   ]
  },
  {
   "cell_type": "code",
   "execution_count": 42,
   "id": "bb80f068-4150-4aad-83d9-ae9a0214547b",
   "metadata": {},
   "outputs": [
    {
     "data": {
      "text/plain": [
       "datetime.datetime(1963, 11, 1, 0, 0)"
      ]
     },
     "execution_count": 42,
     "metadata": {},
     "output_type": "execute_result"
    }
   ],
   "source": [
    "datetime.datetime.strptime(\"November of 1963\", \"%B of %Y\")"
   ]
  },
  {
   "cell_type": "code",
   "execution_count": null,
   "id": "df4f52d1-4a5e-4ce2-b3a8-57d69930d260",
   "metadata": {},
   "outputs": [],
   "source": []
  }
 ],
 "metadata": {
  "kernelspec": {
   "display_name": "Python 3 (ipykernel)",
   "language": "python",
   "name": "python3"
  },
  "language_info": {
   "codemirror_mode": {
    "name": "ipython",
    "version": 3
   },
   "file_extension": ".py",
   "mimetype": "text/x-python",
   "name": "python",
   "nbconvert_exporter": "python",
   "pygments_lexer": "ipython3",
   "version": "3.9.12"
  }
 },
 "nbformat": 4,
 "nbformat_minor": 5
}
