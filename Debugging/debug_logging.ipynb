{
 "cells": [
  {
   "cell_type": "code",
   "execution_count": 1,
   "id": "2ce258ee-c5b1-4678-b40a-ae939596b1f5",
   "metadata": {},
   "outputs": [],
   "source": [
    "import logging"
   ]
  },
  {
   "cell_type": "code",
   "execution_count": 2,
   "id": "2c6a590d-7b85-4c1c-b756-6fa99c43f403",
   "metadata": {},
   "outputs": [],
   "source": [
    "logging.basicConfig(level=logging.DEBUG, format='%(asctime)s - %(levelname)s - %(message)s')"
   ]
  },
  {
   "cell_type": "markdown",
   "id": "c1374143-3d6b-47be-af83-89dd31f8ef0f",
   "metadata": {},
   "source": [
    "**logging.debug()**: for showing lowest-level details, only check this out when debugging\n",
    "\n",
    "**logging.info()**: for recording normal events, or confirming the program is running smoothly as expected\n",
    "\n",
    "**logging.warning()**: for detecting possible issues that could cause errors in a long run\n",
    "\n",
    "**logging.error()**: for recording errors and the underlying reason\n",
    "\n",
    "**logging.critical()**: for showing highest-level errors that cause implication e.g. program shutdown"
   ]
  },
  {
   "cell_type": "code",
   "execution_count": 8,
   "id": "9c9fc015-63ed-43de-a652-187a73d81a19",
   "metadata": {},
   "outputs": [
    {
     "name": "stderr",
     "output_type": "stream",
     "text": [
      "2024-06-04 07:22:36,296 - DEBUG - Some debugging details.\n",
      "2024-06-04 07:22:36,300 - INFO - The logging module is working.\n",
      "2024-06-04 07:22:36,302 - WARNING - An error message is about to be logged.\n",
      "2024-06-04 07:22:36,303 - ERROR - An error has occurred.\n",
      "2024-06-04 07:22:36,305 - CRITICAL - The program is unable to recover!\n"
     ]
    }
   ],
   "source": [
    "logging.debug('Some debugging details.')\n",
    "logging.info('The logging module is working.')\n",
    "logging.warning('An error message is about to be logged.')\n",
    "logging.error('An error has occurred.')\n",
    "logging.critical('The program is unable to recover!')"
   ]
  },
  {
   "cell_type": "markdown",
   "id": "4b04f89b-1d75-4cab-998c-ed91db499d83",
   "metadata": {},
   "source": [
    "### display error-level message or above only"
   ]
  },
  {
   "cell_type": "code",
   "execution_count": 2,
   "id": "f95dd714-07dd-4ad5-a6a5-6adfb13077f8",
   "metadata": {},
   "outputs": [
    {
     "name": "stderr",
     "output_type": "stream",
     "text": [
      "2024-06-04 08:01:36,188 - ERROR - An error has occurred.\n",
      "2024-06-04 08:01:36,192 - CRITICAL - The program is unable to recover!\n"
     ]
    }
   ],
   "source": [
    "logging.basicConfig(level=logging.ERROR, format='%(asctime)s - %(levelname)s - %(message)s')\n",
    "\n",
    "logging.debug('Some debugging details.')\n",
    "logging.info('The logging module is working.')\n",
    "logging.warning('An error message is about to be logged.')\n",
    "logging.error('An error has occurred.')\n",
    "logging.critical('The program is unable to recover!')"
   ]
  },
  {
   "cell_type": "code",
   "execution_count": 6,
   "id": "6f752c41-cfe2-42ec-b11f-7341b275dbe3",
   "metadata": {},
   "outputs": [
    {
     "name": "stderr",
     "output_type": "stream",
     "text": [
      "2024-06-04 06:56:02,878 - DEBUG - Start of program\n",
      "2024-06-04 06:56:02,880 - DEBUG - Start of factorial 5\n",
      "2024-06-04 06:56:02,882 - DEBUG - i is 0, total is 0\n",
      "2024-06-04 06:56:02,883 - DEBUG - i is 1, total is 0\n",
      "2024-06-04 06:56:02,885 - DEBUG - i is 2, total is 0\n",
      "2024-06-04 06:56:02,886 - DEBUG - i is 3, total is 0\n",
      "2024-06-04 06:56:02,888 - DEBUG - i is 4, total is 0\n",
      "2024-06-04 06:56:02,889 - DEBUG - i is 5, total is 0\n",
      "2024-06-04 06:56:02,891 - DEBUG - Return value is 0\n"
     ]
    },
    {
     "name": "stdout",
     "output_type": "stream",
     "text": [
      "0\n"
     ]
    }
   ],
   "source": [
    "logging.debug('Start of program')\n",
    "\n",
    "def factorial(n):\n",
    "    logging.debug(f'Start of factorial {n}')\n",
    "    total = 1\n",
    "    for i in range(n + 1):\n",
    "        total *= i\n",
    "        logging.debug(f'i is {i}, total is {total}')\n",
    "        \n",
    "    logging.debug(f'Return value is {total}')\n",
    "    return total\n",
    "\n",
    "print(factorial(5))"
   ]
  },
  {
   "cell_type": "code",
   "execution_count": 7,
   "id": "88b1b2e5-746c-4cf5-9e54-f352604f3254",
   "metadata": {},
   "outputs": [
    {
     "name": "stderr",
     "output_type": "stream",
     "text": [
      "2024-06-04 06:57:00,794 - DEBUG - Start of program\n",
      "2024-06-04 06:57:00,797 - DEBUG - Start of factorial 5\n",
      "2024-06-04 06:57:00,798 - DEBUG - i is 1, total is 1\n",
      "2024-06-04 06:57:00,799 - DEBUG - i is 2, total is 2\n",
      "2024-06-04 06:57:00,801 - DEBUG - i is 3, total is 6\n",
      "2024-06-04 06:57:00,803 - DEBUG - i is 4, total is 24\n",
      "2024-06-04 06:57:00,806 - DEBUG - i is 5, total is 120\n",
      "2024-06-04 06:57:00,807 - DEBUG - Return value is 120\n"
     ]
    },
    {
     "name": "stdout",
     "output_type": "stream",
     "text": [
      "120\n"
     ]
    }
   ],
   "source": [
    "logging.debug('Start of program')\n",
    "\n",
    "def factorial(n):\n",
    "    logging.debug(f'Start of factorial {n}')\n",
    "    total = 1\n",
    "    for i in range(1, n + 1):\n",
    "        total *= i\n",
    "        logging.debug(f'i is {i}, total is {total}')\n",
    "        \n",
    "    logging.debug(f'Return value is {total}')\n",
    "    return total\n",
    "\n",
    "print(factorial(5))"
   ]
  },
  {
   "cell_type": "markdown",
   "id": "2e570c54-662e-446e-96e7-356fa39f29c3",
   "metadata": {},
   "source": [
    "# Logging to a Text File"
   ]
  },
  {
   "cell_type": "code",
   "execution_count": 2,
   "id": "376cb930-9844-4db6-a1ba-cee81020da37",
   "metadata": {},
   "outputs": [],
   "source": [
    "logging.basicConfig(filename='myLog.txt', level=logging.DEBUG, format='%(asctime)s - %(levelname)s - %(message)s')"
   ]
  },
  {
   "cell_type": "code",
   "execution_count": 3,
   "id": "c1098283-e8e8-4141-a98c-7dd3d3315d73",
   "metadata": {},
   "outputs": [
    {
     "name": "stdout",
     "output_type": "stream",
     "text": [
      "120\n"
     ]
    }
   ],
   "source": [
    "logging.debug('Start of program')\n",
    "\n",
    "def factorial(n):\n",
    "    logging.debug(f'Start of factorial {n}')\n",
    "    total = 1\n",
    "    for i in range(1, n + 1):\n",
    "        total *= i\n",
    "        logging.debug(f'i is {i}, total is {total}')\n",
    "        \n",
    "    logging.debug(f'Return value is {total}')\n",
    "    return total\n",
    "\n",
    "print(factorial(5))"
   ]
  },
  {
   "cell_type": "markdown",
   "id": "eddc3982-d24a-406a-95fe-18ba3540037b",
   "metadata": {},
   "source": [
    "# Disable logging\n",
    "\n",
    "**Instead of using print(), use logging to show the log and diable all the message seamlessly if needed**"
   ]
  },
  {
   "cell_type": "code",
   "execution_count": 8,
   "id": "28d16cca-2c05-4640-8bbc-99013f305575",
   "metadata": {},
   "outputs": [],
   "source": [
    "logging.disable(logging.CRITICAL)  # disable all the log message"
   ]
  },
  {
   "cell_type": "code",
   "execution_count": 9,
   "id": "6ba4eb4a-26d2-447e-ae63-be57eff2f5be",
   "metadata": {},
   "outputs": [
    {
     "name": "stdout",
     "output_type": "stream",
     "text": [
      "120\n"
     ]
    }
   ],
   "source": [
    "logging.debug('Start of program')\n",
    "\n",
    "def factorial(n):\n",
    "    logging.debug(f'Start of factorial {n}')\n",
    "    total = 1\n",
    "    for i in range(1, n + 1):\n",
    "        total *= i\n",
    "        logging.debug(f'i is {i}, total is {total}')\n",
    "        \n",
    "    logging.debug(f'Return value is {total}')\n",
    "    return total\n",
    "\n",
    "print(factorial(5))"
   ]
  }
 ],
 "metadata": {
  "kernelspec": {
   "display_name": "Python 3 (ipykernel)",
   "language": "python",
   "name": "python3"
  },
  "language_info": {
   "codemirror_mode": {
    "name": "ipython",
    "version": 3
   },
   "file_extension": ".py",
   "mimetype": "text/x-python",
   "name": "python",
   "nbconvert_exporter": "python",
   "pygments_lexer": "ipython3",
   "version": "3.9.12"
  }
 },
 "nbformat": 4,
 "nbformat_minor": 5
}
