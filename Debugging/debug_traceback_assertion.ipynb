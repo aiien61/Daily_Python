{
 "cells": [
  {
   "cell_type": "markdown",
   "id": "5a02fc29-68b1-438a-aa14-1619010b8954",
   "metadata": {},
   "source": [
    "# Naive debugging flow"
   ]
  },
  {
   "cell_type": "code",
   "execution_count": 3,
   "id": "bb9c3d63-a606-4755-8946-ac7f1866dc75",
   "metadata": {},
   "outputs": [],
   "source": [
    "def boxprint(symbol: str, width: int, height: int):\n",
    "    \"\"\"\n",
    "    ****************\n",
    "    *              *\n",
    "    *              *\n",
    "    *              *\n",
    "    ****************\n",
    "    \"\"\"\n",
    "    print(symbol * width)\n",
    "    for i in range(height - 2):\n",
    "        print(symbol.ljust(width-1) + symbol) \n",
    "    print(symbol * width)\n",
    "        "
   ]
  },
  {
   "cell_type": "code",
   "execution_count": 4,
   "id": "9dc85875-b44f-441d-8890-5054d0731824",
   "metadata": {},
   "outputs": [
    {
     "name": "stdout",
     "output_type": "stream",
     "text": [
      "***************\n",
      "*             *\n",
      "*             *\n",
      "*             *\n",
      "***************\n"
     ]
    }
   ],
   "source": [
    "boxprint('*', 15, 5)"
   ]
  },
  {
   "cell_type": "code",
   "execution_count": 5,
   "id": "97c43d8d-ceb1-4720-ab1b-bd13742914a5",
   "metadata": {},
   "outputs": [
    {
     "name": "stdout",
     "output_type": "stream",
     "text": [
      "OOOOO\n",
      "O   O\n",
      "O   O\n",
      "O   O\n",
      "O   O\n",
      "O   O\n",
      "O   O\n",
      "O   O\n",
      "O   O\n",
      "O   O\n",
      "O   O\n",
      "O   O\n",
      "O   O\n",
      "O   O\n",
      "OOOOO\n"
     ]
    }
   ],
   "source": [
    "boxprint('O', 5, 15)"
   ]
  },
  {
   "cell_type": "code",
   "execution_count": 6,
   "id": "54ea2d79-e4da-4ecf-9608-bf410df02c79",
   "metadata": {},
   "outputs": [
    {
     "name": "stdout",
     "output_type": "stream",
     "text": [
      "******************************\n",
      "**            **\n",
      "**            **\n",
      "**            **\n",
      "******************************\n"
     ]
    }
   ],
   "source": [
    "boxprint('**', 15, 5)"
   ]
  },
  {
   "cell_type": "code",
   "execution_count": 8,
   "id": "d1ed47e3-4007-487c-a666-65775039d9ab",
   "metadata": {},
   "outputs": [],
   "source": [
    "def boxprint(symbol: str, width: int, height: int):\n",
    "    \"\"\"\n",
    "    ****************\n",
    "    *              *\n",
    "    *              *\n",
    "    *              *\n",
    "    ****************\n",
    "    \"\"\"\n",
    "    if len(symbol) != 1:\n",
    "        raise Exception('\"Symbol\" needs to be a string of length 1.')\n",
    "    \n",
    "    print(symbol * width)\n",
    "    for i in range(height - 2):\n",
    "        print(symbol.ljust(width-1) + symbol) \n",
    "    print(symbol * width)"
   ]
  },
  {
   "cell_type": "code",
   "execution_count": 9,
   "id": "4fb1efcc-d45a-4a90-814b-855744c04642",
   "metadata": {},
   "outputs": [
    {
     "ename": "Exception",
     "evalue": "\"Symbol\" needs to be a string of length 1.",
     "output_type": "error",
     "traceback": [
      "\u001b[0;31m---------------------------------------------------------------------------\u001b[0m",
      "\u001b[0;31mException\u001b[0m                                 Traceback (most recent call last)",
      "Input \u001b[0;32mIn [9]\u001b[0m, in \u001b[0;36m<cell line: 1>\u001b[0;34m()\u001b[0m\n\u001b[0;32m----> 1\u001b[0m \u001b[43mboxprint\u001b[49m\u001b[43m(\u001b[49m\u001b[38;5;124;43m'\u001b[39;49m\u001b[38;5;124;43m**\u001b[39;49m\u001b[38;5;124;43m'\u001b[39;49m\u001b[43m,\u001b[49m\u001b[43m \u001b[49m\u001b[38;5;241;43m15\u001b[39;49m\u001b[43m,\u001b[49m\u001b[43m \u001b[49m\u001b[38;5;241;43m5\u001b[39;49m\u001b[43m)\u001b[49m\n",
      "Input \u001b[0;32mIn [8]\u001b[0m, in \u001b[0;36mboxprint\u001b[0;34m(symbol, width, height)\u001b[0m\n\u001b[1;32m      2\u001b[0m \u001b[38;5;250m\u001b[39m\u001b[38;5;124;03m\"\"\"\u001b[39;00m\n\u001b[1;32m      3\u001b[0m \u001b[38;5;124;03m****************\u001b[39;00m\n\u001b[1;32m      4\u001b[0m \u001b[38;5;124;03m*              *\u001b[39;00m\n\u001b[0;32m   (...)\u001b[0m\n\u001b[1;32m      7\u001b[0m \u001b[38;5;124;03m****************\u001b[39;00m\n\u001b[1;32m      8\u001b[0m \u001b[38;5;124;03m\"\"\"\u001b[39;00m\n\u001b[1;32m      9\u001b[0m \u001b[38;5;28;01mif\u001b[39;00m \u001b[38;5;28mlen\u001b[39m(symbol) \u001b[38;5;241m!=\u001b[39m \u001b[38;5;241m1\u001b[39m:\n\u001b[0;32m---> 10\u001b[0m     \u001b[38;5;28;01mraise\u001b[39;00m \u001b[38;5;167;01mException\u001b[39;00m(\u001b[38;5;124m'\u001b[39m\u001b[38;5;124m\"\u001b[39m\u001b[38;5;124mSymbol\u001b[39m\u001b[38;5;124m\"\u001b[39m\u001b[38;5;124m needs to be a string of length 1.\u001b[39m\u001b[38;5;124m'\u001b[39m)\n\u001b[1;32m     11\u001b[0m \u001b[38;5;28mprint\u001b[39m(symbol \u001b[38;5;241m*\u001b[39m width)\n\u001b[1;32m     12\u001b[0m \u001b[38;5;28;01mfor\u001b[39;00m i \u001b[38;5;129;01min\u001b[39;00m \u001b[38;5;28mrange\u001b[39m(height \u001b[38;5;241m-\u001b[39m \u001b[38;5;241m2\u001b[39m):\n",
      "\u001b[0;31mException\u001b[0m: \"Symbol\" needs to be a string of length 1."
     ]
    }
   ],
   "source": [
    "boxprint('**', 15, 5)"
   ]
  },
  {
   "cell_type": "code",
   "execution_count": 10,
   "id": "5ed1a59c-4365-4055-a9ec-4a83ff22f2e4",
   "metadata": {},
   "outputs": [
    {
     "name": "stdout",
     "output_type": "stream",
     "text": [
      "*\n",
      "*\n"
     ]
    }
   ],
   "source": [
    "boxprint('*', 1, 1)"
   ]
  },
  {
   "cell_type": "code",
   "execution_count": 11,
   "id": "5b38d8b6-4d05-4dca-ae6c-29c805bfb2df",
   "metadata": {},
   "outputs": [],
   "source": [
    "def boxprint(symbol: str, width: int, height: int):\n",
    "    \"\"\"\n",
    "    ****************\n",
    "    *              *\n",
    "    *              *\n",
    "    *              *\n",
    "    ****************\n",
    "    \"\"\"\n",
    "    if len(symbol) != 1:\n",
    "        raise Exception('\"Symbol\" needs to be a string of length 1.')\n",
    "    if (width < 2) or (height < 2):\n",
    "        raise Exception('\"width\" and \"height\" must be greater or equal to 2.')\n",
    "    \n",
    "    print(symbol * width)\n",
    "    for i in range(height - 2):\n",
    "        print(symbol.ljust(width-1) + symbol) \n",
    "    print(symbol * width)"
   ]
  },
  {
   "cell_type": "code",
   "execution_count": 12,
   "id": "3e874aa9-883a-4603-b7c8-250a3d38aa91",
   "metadata": {},
   "outputs": [
    {
     "ename": "Exception",
     "evalue": "\"width\" and \"height\" must be greater or equal to 2.",
     "output_type": "error",
     "traceback": [
      "\u001b[0;31m---------------------------------------------------------------------------\u001b[0m",
      "\u001b[0;31mException\u001b[0m                                 Traceback (most recent call last)",
      "Input \u001b[0;32mIn [12]\u001b[0m, in \u001b[0;36m<cell line: 1>\u001b[0;34m()\u001b[0m\n\u001b[0;32m----> 1\u001b[0m \u001b[43mboxprint\u001b[49m\u001b[43m(\u001b[49m\u001b[38;5;124;43m'\u001b[39;49m\u001b[38;5;124;43m*\u001b[39;49m\u001b[38;5;124;43m'\u001b[39;49m\u001b[43m,\u001b[49m\u001b[43m \u001b[49m\u001b[38;5;241;43m1\u001b[39;49m\u001b[43m,\u001b[49m\u001b[43m \u001b[49m\u001b[38;5;241;43m1\u001b[39;49m\u001b[43m)\u001b[49m\n",
      "Input \u001b[0;32mIn [11]\u001b[0m, in \u001b[0;36mboxprint\u001b[0;34m(symbol, width, height)\u001b[0m\n\u001b[1;32m     10\u001b[0m     \u001b[38;5;28;01mraise\u001b[39;00m \u001b[38;5;167;01mException\u001b[39;00m(\u001b[38;5;124m'\u001b[39m\u001b[38;5;124m\"\u001b[39m\u001b[38;5;124mSymbol\u001b[39m\u001b[38;5;124m\"\u001b[39m\u001b[38;5;124m needs to be a string of length 1.\u001b[39m\u001b[38;5;124m'\u001b[39m)\n\u001b[1;32m     11\u001b[0m \u001b[38;5;28;01mif\u001b[39;00m (width \u001b[38;5;241m<\u001b[39m \u001b[38;5;241m2\u001b[39m) \u001b[38;5;129;01mor\u001b[39;00m (height \u001b[38;5;241m<\u001b[39m \u001b[38;5;241m2\u001b[39m):\n\u001b[0;32m---> 12\u001b[0m     \u001b[38;5;28;01mraise\u001b[39;00m \u001b[38;5;167;01mException\u001b[39;00m(\u001b[38;5;124m'\u001b[39m\u001b[38;5;124m\"\u001b[39m\u001b[38;5;124mwidth\u001b[39m\u001b[38;5;124m\"\u001b[39m\u001b[38;5;124m and \u001b[39m\u001b[38;5;124m\"\u001b[39m\u001b[38;5;124mheight\u001b[39m\u001b[38;5;124m\"\u001b[39m\u001b[38;5;124m must be greater or equal to 2.\u001b[39m\u001b[38;5;124m'\u001b[39m)\n\u001b[1;32m     14\u001b[0m \u001b[38;5;28mprint\u001b[39m(symbol \u001b[38;5;241m*\u001b[39m width)\n\u001b[1;32m     15\u001b[0m \u001b[38;5;28;01mfor\u001b[39;00m i \u001b[38;5;129;01min\u001b[39;00m \u001b[38;5;28mrange\u001b[39m(height \u001b[38;5;241m-\u001b[39m \u001b[38;5;241m2\u001b[39m):\n",
      "\u001b[0;31mException\u001b[0m: \"width\" and \"height\" must be greater or equal to 2."
     ]
    }
   ],
   "source": [
    "boxprint('*', 1, 1)"
   ]
  },
  {
   "cell_type": "markdown",
   "id": "93f14339-0491-4517-aeca-a32e7610b091",
   "metadata": {},
   "source": [
    "# traceback"
   ]
  },
  {
   "cell_type": "code",
   "execution_count": 13,
   "id": "bb488332-df65-4bfc-b49c-993f81bc1385",
   "metadata": {},
   "outputs": [],
   "source": [
    "import traceback"
   ]
  },
  {
   "cell_type": "code",
   "execution_count": 14,
   "id": "9a2b828f-d976-43da-8f22-f403bc3158f7",
   "metadata": {},
   "outputs": [
    {
     "name": "stdout",
     "output_type": "stream",
     "text": [
      "The traceback info was written to error_log.txt\n"
     ]
    }
   ],
   "source": [
    "try:\n",
    "    raise Exception('This is the error message.')\n",
    "except:\n",
    "    errorfile = open('error_log.txt', 'a')\n",
    "    errorfile.write(traceback.format_exc())\n",
    "    errorfile.close()\n",
    "    print('The traceback info was written to error_log.txt')"
   ]
  },
  {
   "cell_type": "markdown",
   "id": "e8542f9a-d91a-4850-a077-ad2e86a32d9c",
   "metadata": {},
   "source": [
    "# Assertion\n",
    "**a type of programmer errors, not a user error**\n",
    "\n",
    "**a user errors should raise exceptions**\n"
   ]
  },
  {
   "cell_type": "code",
   "execution_count": 15,
   "id": "30e0c0e2-65fb-4a54-9d14-fad8dfd302f1",
   "metadata": {},
   "outputs": [
    {
     "ename": "AssertionError",
     "evalue": "This is the error message.",
     "output_type": "error",
     "traceback": [
      "\u001b[0;31m---------------------------------------------------------------------------\u001b[0m",
      "\u001b[0;31mAssertionError\u001b[0m                            Traceback (most recent call last)",
      "Input \u001b[0;32mIn [15]\u001b[0m, in \u001b[0;36m<cell line: 1>\u001b[0;34m()\u001b[0m\n\u001b[0;32m----> 1\u001b[0m \u001b[38;5;28;01massert\u001b[39;00m \u001b[38;5;28;01mFalse\u001b[39;00m, \u001b[38;5;124m'\u001b[39m\u001b[38;5;124mThis is the error message.\u001b[39m\u001b[38;5;124m'\u001b[39m\n",
      "\u001b[0;31mAssertionError\u001b[0m: This is the error message."
     ]
    }
   ],
   "source": [
    "assert False, 'This is the error message.'"
   ]
  },
  {
   "cell_type": "code",
   "execution_count": 18,
   "id": "23b4f55c-6ab6-4915-b3f5-6bbe0e3d6923",
   "metadata": {},
   "outputs": [],
   "source": [
    "market_2nd = {'ns': 'green', 'ew': 'red'}"
   ]
  },
  {
   "cell_type": "code",
   "execution_count": 16,
   "id": "387cabe9-b95a-4906-accf-39b64886199b",
   "metadata": {},
   "outputs": [
    {
     "name": "stdout",
     "output_type": "stream",
     "text": [
      "{'ns': 'green', 'ew': 'red'}\n",
      "{'ns': 'yellow', 'ew': 'green'}\n"
     ]
    }
   ],
   "source": [
    "def switchlights(intersection: dict):\n",
    "    for key in intersection.keys():\n",
    "        if intersection[key] == 'green':\n",
    "            intersection[key] = 'yellow'\n",
    "        elif intersection[key] == 'yellow':\n",
    "            intersection[key] = 'red'\n",
    "        elif intersection[key] == 'red':\n",
    "            intersection[key] = 'green'\n",
    "\n",
    "print(market_2nd)\n",
    "switchlights(market_2nd)\n",
    "print(market_2nd)"
   ]
  },
  {
   "cell_type": "code",
   "execution_count": 19,
   "id": "cd53eed1-636f-4fa7-ad38-7476d08c3cdc",
   "metadata": {},
   "outputs": [
    {
     "name": "stdout",
     "output_type": "stream",
     "text": [
      "{'ns': 'green', 'ew': 'red'}\n"
     ]
    },
    {
     "ename": "AssertionError",
     "evalue": "Neither light is red!{'ns': 'yellow', 'ew': 'green'}",
     "output_type": "error",
     "traceback": [
      "\u001b[0;31m---------------------------------------------------------------------------\u001b[0m",
      "\u001b[0;31mAssertionError\u001b[0m                            Traceback (most recent call last)",
      "Input \u001b[0;32mIn [19]\u001b[0m, in \u001b[0;36m<cell line: 13>\u001b[0;34m()\u001b[0m\n\u001b[1;32m     10\u001b[0m     \u001b[38;5;28;01massert\u001b[39;00m \u001b[38;5;124m'\u001b[39m\u001b[38;5;124mred\u001b[39m\u001b[38;5;124m'\u001b[39m \u001b[38;5;129;01min\u001b[39;00m intersection\u001b[38;5;241m.\u001b[39mvalues(), \u001b[38;5;124m'\u001b[39m\u001b[38;5;124mNeither light is red!\u001b[39m\u001b[38;5;124m'\u001b[39m \u001b[38;5;241m+\u001b[39m \u001b[38;5;28mstr\u001b[39m(intersection)\n\u001b[1;32m     12\u001b[0m \u001b[38;5;28mprint\u001b[39m(market_2nd)\n\u001b[0;32m---> 13\u001b[0m \u001b[43mswitchlights\u001b[49m\u001b[43m(\u001b[49m\u001b[43mmarket_2nd\u001b[49m\u001b[43m)\u001b[49m\n\u001b[1;32m     14\u001b[0m \u001b[38;5;28mprint\u001b[39m(market_2nd)\n",
      "Input \u001b[0;32mIn [19]\u001b[0m, in \u001b[0;36mswitchlights\u001b[0;34m(intersection)\u001b[0m\n\u001b[1;32m      7\u001b[0m     \u001b[38;5;28;01melif\u001b[39;00m intersection[key] \u001b[38;5;241m==\u001b[39m \u001b[38;5;124m'\u001b[39m\u001b[38;5;124mred\u001b[39m\u001b[38;5;124m'\u001b[39m:\n\u001b[1;32m      8\u001b[0m         intersection[key] \u001b[38;5;241m=\u001b[39m \u001b[38;5;124m'\u001b[39m\u001b[38;5;124mgreen\u001b[39m\u001b[38;5;124m'\u001b[39m\n\u001b[0;32m---> 10\u001b[0m \u001b[38;5;28;01massert\u001b[39;00m \u001b[38;5;124m'\u001b[39m\u001b[38;5;124mred\u001b[39m\u001b[38;5;124m'\u001b[39m \u001b[38;5;129;01min\u001b[39;00m intersection\u001b[38;5;241m.\u001b[39mvalues(), \u001b[38;5;124m'\u001b[39m\u001b[38;5;124mNeither light is red!\u001b[39m\u001b[38;5;124m'\u001b[39m \u001b[38;5;241m+\u001b[39m \u001b[38;5;28mstr\u001b[39m(intersection)\n",
      "\u001b[0;31mAssertionError\u001b[0m: Neither light is red!{'ns': 'yellow', 'ew': 'green'}"
     ]
    }
   ],
   "source": [
    "def switchlights(intersection: dict):\n",
    "    for key in intersection.keys():\n",
    "        if intersection[key] == 'green':\n",
    "            intersection[key] = 'yellow'\n",
    "        elif intersection[key] == 'yellow':\n",
    "            intersection[key] = 'red'\n",
    "        elif intersection[key] == 'red':\n",
    "            intersection[key] = 'green'\n",
    "    \n",
    "    assert 'red' in intersection.values(), 'Neither light is red!' + str(intersection)\n",
    "\n",
    "print(market_2nd)\n",
    "switchlights(market_2nd)\n",
    "print(market_2nd)"
   ]
  },
  {
   "cell_type": "code",
   "execution_count": null,
   "id": "1c108ec5-a78e-41d0-8076-102559e4bcb7",
   "metadata": {},
   "outputs": [],
   "source": []
  }
 ],
 "metadata": {
  "kernelspec": {
   "display_name": "Python 3 (ipykernel)",
   "language": "python",
   "name": "python3"
  },
  "language_info": {
   "codemirror_mode": {
    "name": "ipython",
    "version": 3
   },
   "file_extension": ".py",
   "mimetype": "text/x-python",
   "name": "python",
   "nbconvert_exporter": "python",
   "pygments_lexer": "ipython3",
   "version": "3.9.12"
  }
 },
 "nbformat": 4,
 "nbformat_minor": 5
}
