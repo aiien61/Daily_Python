{
 "cells": [
  {
   "cell_type": "markdown",
   "metadata": {},
   "source": [
    "# Visualization"
   ]
  },
  {
   "cell_type": "code",
   "execution_count": 1,
   "metadata": {
    "collapsed": false,
    "jupyter": {
     "outputs_hidden": false
    },
    "tags": []
   },
   "outputs": [
    {
     "name": "stderr",
     "output_type": "stream",
     "text": [
      "/opt/conda/lib/python3.9/site-packages/pandas/core/computation/expressions.py:21: UserWarning: Pandas requires version '2.8.4' or newer of 'numexpr' (version '2.8.0' currently installed).\n",
      "  from pandas.core.computation.check import NUMEXPR_INSTALLED\n",
      "/opt/conda/lib/python3.9/site-packages/pandas/core/arrays/masked.py:60: UserWarning: Pandas requires version '1.3.6' or newer of 'bottleneck' (version '1.3.4' currently installed).\n",
      "  from pandas.core import (\n"
     ]
    }
   ],
   "source": [
    "import pandas as pd\n",
    "import matplotlib.pyplot as plt"
   ]
  },
  {
   "cell_type": "markdown",
   "metadata": {},
   "source": [
    "## The plot Method\n",
    "- By default, the `plot` method renders a line chart, which is ideal for showing trends over time.\n",
    "- The `plot` method includes all numeric **DataFrame** columns by default. We can choose a subset with the `y` parameter.\n",
    "- Matplotlib will use the index values for the x-axis and the values for the y-axis.\n",
    "- Matplotlib will figure out reasonable intervals for the date index (days, months, years, etc.). These options are all customizable."
   ]
  },
  {
   "cell_type": "code",
   "execution_count": 4,
   "metadata": {
    "tags": []
   },
   "outputs": [
    {
     "data": {
      "text/html": [
       "<div>\n",
       "<style scoped>\n",
       "    .dataframe tbody tr th:only-of-type {\n",
       "        vertical-align: middle;\n",
       "    }\n",
       "\n",
       "    .dataframe tbody tr th {\n",
       "        vertical-align: top;\n",
       "    }\n",
       "\n",
       "    .dataframe thead th {\n",
       "        text-align: right;\n",
       "    }\n",
       "</style>\n",
       "<table border=\"1\" class=\"dataframe\">\n",
       "  <thead>\n",
       "    <tr style=\"text-align: right;\">\n",
       "      <th></th>\n",
       "      <th>Open</th>\n",
       "      <th>High</th>\n",
       "      <th>Low</th>\n",
       "      <th>Close</th>\n",
       "      <th>Volume</th>\n",
       "    </tr>\n",
       "    <tr>\n",
       "      <th>Date</th>\n",
       "      <th></th>\n",
       "      <th></th>\n",
       "      <th></th>\n",
       "      <th></th>\n",
       "      <th></th>\n",
       "    </tr>\n",
       "  </thead>\n",
       "  <tbody>\n",
       "    <tr>\n",
       "      <th>1962-01-02</th>\n",
       "      <td>5.04610</td>\n",
       "      <td>5.04610</td>\n",
       "      <td>4.98716</td>\n",
       "      <td>4.98716</td>\n",
       "      <td>593562.955237</td>\n",
       "    </tr>\n",
       "    <tr>\n",
       "      <th>1962-01-03</th>\n",
       "      <td>4.98716</td>\n",
       "      <td>5.03292</td>\n",
       "      <td>4.98716</td>\n",
       "      <td>5.03292</td>\n",
       "      <td>445175.034277</td>\n",
       "    </tr>\n",
       "    <tr>\n",
       "      <th>1962-01-04</th>\n",
       "      <td>5.03292</td>\n",
       "      <td>5.03292</td>\n",
       "      <td>4.98052</td>\n",
       "      <td>4.98052</td>\n",
       "      <td>399513.586679</td>\n",
       "    </tr>\n",
       "    <tr>\n",
       "      <th>1962-01-05</th>\n",
       "      <td>4.97389</td>\n",
       "      <td>4.97389</td>\n",
       "      <td>4.87511</td>\n",
       "      <td>4.88166</td>\n",
       "      <td>559321.480565</td>\n",
       "    </tr>\n",
       "    <tr>\n",
       "      <th>1962-01-08</th>\n",
       "      <td>4.88166</td>\n",
       "      <td>4.88166</td>\n",
       "      <td>4.75059</td>\n",
       "      <td>4.78972</td>\n",
       "      <td>833273.771393</td>\n",
       "    </tr>\n",
       "  </tbody>\n",
       "</table>\n",
       "</div>"
      ],
      "text/plain": [
       "               Open     High      Low    Close         Volume\n",
       "Date                                                         \n",
       "1962-01-02  5.04610  5.04610  4.98716  4.98716  593562.955237\n",
       "1962-01-03  4.98716  5.03292  4.98716  5.03292  445175.034277\n",
       "1962-01-04  5.03292  5.03292  4.98052  4.98052  399513.586679\n",
       "1962-01-05  4.97389  4.97389  4.87511  4.88166  559321.480565\n",
       "1962-01-08  4.88166  4.88166  4.75059  4.78972  833273.771393"
      ]
     },
     "execution_count": 4,
     "metadata": {},
     "output_type": "execute_result"
    }
   ],
   "source": [
    "ibm = pd.read_csv('ibm.csv', parse_dates=['Date'], index_col='Date')\n",
    "ibm.head()"
   ]
  },
  {
   "cell_type": "code",
   "execution_count": 5,
   "metadata": {},
   "outputs": [
    {
     "data": {
      "text/plain": [
       "<AxesSubplot:xlabel='Date'>"
      ]
     },
     "execution_count": 5,
     "metadata": {},
     "output_type": "execute_result"
    },
    {
     "data": {
      "image/png": "[encoded data removed]",
      "text/plain": [
       "<Figure size 432x288 with 1 Axes>"
      ]
     },
     "metadata": {
      "needs_background": "light"
     },
     "output_type": "display_data"
    }
   ],
   "source": [
    "ibm.plot()"
   ]
  },
  {
   "cell_type": "code",
   "execution_count": 6,
   "metadata": {},
   "outputs": [
    {
     "data": {
      "text/plain": [
       "<AxesSubplot:xlabel='Date'>"
      ]
     },
     "execution_count": 6,
     "metadata": {},
     "output_type": "execute_result"
    },
    {
     "data": {
      "image/png": "[encoded data removed]",
      "text/plain": [
       "<Figure size 432x288 with 1 Axes>"
      ]
     },
     "metadata": {
      "needs_background": "light"
     },
     "output_type": "display_data"
    }
   ],
   "source": [
    "ibm.plot(y='Close') # set column Close to be the y-axis"
   ]
  },
  {
   "cell_type": "code",
   "execution_count": 7,
   "metadata": {
    "tags": []
   },
   "outputs": [
    {
     "data": {
      "text/plain": [
       "<AxesSubplot:xlabel='Date'>"
      ]
     },
     "execution_count": 7,
     "metadata": {},
     "output_type": "execute_result"
    },
    {
     "data": {
      "image/png": "[encoded data removed]",
      "text/plain": [
       "<Figure size 432x288 with 1 Axes>"
      ]
     },
     "metadata": {
      "needs_background": "light"
     },
     "output_type": "display_data"
    }
   ],
   "source": [
    "ibm['Close'].plot()"
   ]
  },
  {
   "cell_type": "code",
   "execution_count": 8,
   "metadata": {},
   "outputs": [
    {
     "data": {
      "text/plain": [
       "<AxesSubplot:xlabel='Date'>"
      ]
     },
     "execution_count": 8,
     "metadata": {},
     "output_type": "execute_result"
    },
    {
     "data": {
      "image/png": "[encoded data removed]",
      "text/plain": [
       "<Figure size 432x288 with 1 Axes>"
      ]
     },
     "metadata": {
      "needs_background": "light"
     },
     "output_type": "display_data"
    }
   ],
   "source": [
    "ibm['Volume'].plot()"
   ]
  },
  {
   "cell_type": "markdown",
   "metadata": {},
   "source": [
    "## Modifying Plot Aesthetics with Templates\n",
    "- The `plt.style.available` attribute returns a list of available styles.\n",
    "- Use the `plt.style.use` method and pass in a sample style string.\n",
    "- The next charts/graphs you render will implement that style."
   ]
  },
  {
   "cell_type": "code",
   "execution_count": 9,
   "metadata": {
    "tags": []
   },
   "outputs": [
    {
     "data": {
      "text/html": [
       "<div>\n",
       "<style scoped>\n",
       "    .dataframe tbody tr th:only-of-type {\n",
       "        vertical-align: middle;\n",
       "    }\n",
       "\n",
       "    .dataframe tbody tr th {\n",
       "        vertical-align: top;\n",
       "    }\n",
       "\n",
       "    .dataframe thead th {\n",
       "        text-align: right;\n",
       "    }\n",
       "</style>\n",
       "<table border=\"1\" class=\"dataframe\">\n",
       "  <thead>\n",
       "    <tr style=\"text-align: right;\">\n",
       "      <th></th>\n",
       "      <th>Open</th>\n",
       "      <th>High</th>\n",
       "      <th>Low</th>\n",
       "      <th>Close</th>\n",
       "      <th>Volume</th>\n",
       "    </tr>\n",
       "    <tr>\n",
       "      <th>Date</th>\n",
       "      <th></th>\n",
       "      <th></th>\n",
       "      <th></th>\n",
       "      <th></th>\n",
       "      <th></th>\n",
       "    </tr>\n",
       "  </thead>\n",
       "  <tbody>\n",
       "    <tr>\n",
       "      <th>1962-01-02</th>\n",
       "      <td>5.04610</td>\n",
       "      <td>5.04610</td>\n",
       "      <td>4.98716</td>\n",
       "      <td>4.98716</td>\n",
       "      <td>593562.955237</td>\n",
       "    </tr>\n",
       "    <tr>\n",
       "      <th>1962-01-03</th>\n",
       "      <td>4.98716</td>\n",
       "      <td>5.03292</td>\n",
       "      <td>4.98716</td>\n",
       "      <td>5.03292</td>\n",
       "      <td>445175.034277</td>\n",
       "    </tr>\n",
       "    <tr>\n",
       "      <th>1962-01-04</th>\n",
       "      <td>5.03292</td>\n",
       "      <td>5.03292</td>\n",
       "      <td>4.98052</td>\n",
       "      <td>4.98052</td>\n",
       "      <td>399513.586679</td>\n",
       "    </tr>\n",
       "    <tr>\n",
       "      <th>1962-01-05</th>\n",
       "      <td>4.97389</td>\n",
       "      <td>4.97389</td>\n",
       "      <td>4.87511</td>\n",
       "      <td>4.88166</td>\n",
       "      <td>559321.480565</td>\n",
       "    </tr>\n",
       "    <tr>\n",
       "      <th>1962-01-08</th>\n",
       "      <td>4.88166</td>\n",
       "      <td>4.88166</td>\n",
       "      <td>4.75059</td>\n",
       "      <td>4.78972</td>\n",
       "      <td>833273.771393</td>\n",
       "    </tr>\n",
       "  </tbody>\n",
       "</table>\n",
       "</div>"
      ],
      "text/plain": [
       "               Open     High      Low    Close         Volume\n",
       "Date                                                         \n",
       "1962-01-02  5.04610  5.04610  4.98716  4.98716  593562.955237\n",
       "1962-01-03  4.98716  5.03292  4.98716  5.03292  445175.034277\n",
       "1962-01-04  5.03292  5.03292  4.98052  4.98052  399513.586679\n",
       "1962-01-05  4.97389  4.97389  4.87511  4.88166  559321.480565\n",
       "1962-01-08  4.88166  4.88166  4.75059  4.78972  833273.771393"
      ]
     },
     "execution_count": 9,
     "metadata": {},
     "output_type": "execute_result"
    }
   ],
   "source": [
    "ibm = pd.read_csv('ibm.csv', parse_dates=['Date'], index_col='Date')\n",
    "ibm.head()"
   ]
  },
  {
   "cell_type": "code",
   "execution_count": 10,
   "metadata": {
    "tags": []
   },
   "outputs": [
    {
     "data": {
      "text/plain": [
       "['Solarize_Light2',\n",
       " '_classic_test_patch',\n",
       " '_mpl-gallery',\n",
       " '_mpl-gallery-nogrid',\n",
       " 'bmh',\n",
       " 'classic',\n",
       " 'dark_background',\n",
       " 'fast',\n",
       " 'fivethirtyeight',\n",
       " 'ggplot',\n",
       " 'grayscale',\n",
       " 'seaborn',\n",
       " 'seaborn-bright',\n",
       " 'seaborn-colorblind',\n",
       " 'seaborn-dark',\n",
       " 'seaborn-dark-palette',\n",
       " 'seaborn-darkgrid',\n",
       " 'seaborn-deep',\n",
       " 'seaborn-muted',\n",
       " 'seaborn-notebook',\n",
       " 'seaborn-paper',\n",
       " 'seaborn-pastel',\n",
       " 'seaborn-poster',\n",
       " 'seaborn-talk',\n",
       " 'seaborn-ticks',\n",
       " 'seaborn-white',\n",
       " 'seaborn-whitegrid',\n",
       " 'tableau-colorblind10']"
      ]
     },
     "execution_count": 10,
     "metadata": {},
     "output_type": "execute_result"
    }
   ],
   "source": [
    "plt.style.available  # all colour themes"
   ]
  },
  {
   "cell_type": "code",
   "execution_count": 12,
   "metadata": {
    "tags": []
   },
   "outputs": [
    {
     "data": {
      "text/plain": [
       "<AxesSubplot:xlabel='Date'>"
      ]
     },
     "execution_count": 12,
     "metadata": {},
     "output_type": "execute_result"
    },
    {
     "data": {
      "image/png": "[encoded data removed]",
      "text/plain": [
       "<Figure size 432x288 with 1 Axes>"
      ]
     },
     "metadata": {},
     "output_type": "display_data"
    }
   ],
   "source": [
    "plt.style.use('fivethirtyeight')\n",
    "ibm.plot(y='Close')"
   ]
  },
  {
   "cell_type": "code",
   "execution_count": 13,
   "metadata": {
    "tags": []
   },
   "outputs": [
    {
     "data": {
      "text/plain": [
       "<AxesSubplot:xlabel='Date'>"
      ]
     },
     "execution_count": 13,
     "metadata": {},
     "output_type": "execute_result"
    },
    {
     "data": {
      "image/png": "[encoded data removed]",
      "text/plain": [
       "<Figure size 432x288 with 1 Axes>"
      ]
     },
     "metadata": {},
     "output_type": "display_data"
    }
   ],
   "source": [
    "plt.style.use('dark_background')\n",
    "ibm.plot(y='Volume')"
   ]
  },
  {
   "cell_type": "code",
   "execution_count": 14,
   "metadata": {},
   "outputs": [
    {
     "data": {
      "text/plain": [
       "<AxesSubplot:xlabel='Date'>"
      ]
     },
     "execution_count": 14,
     "metadata": {},
     "output_type": "execute_result"
    },
    {
     "data": {
      "image/png": "[encoded data removed]",
      "text/plain": [
       "<Figure size 432x288 with 1 Axes>"
      ]
     },
     "metadata": {},
     "output_type": "display_data"
    }
   ],
   "source": [
    "plt.style.use('ggplot')\n",
    "ibm.plot(y='Low')"
   ]
  },
  {
   "cell_type": "markdown",
   "metadata": {},
   "source": [
    "## Bar Charts\n",
    "- A bar chart uses bars to represent occurrences of values/categories.\n",
    "- We can customize the type of plot that matplotlib renders with the `kind` parameter.\n",
    "- Pass `bar` for a bar graph and `barh` for a horizontal bar graph."
   ]
  },
  {
   "cell_type": "code",
   "execution_count": 15,
   "metadata": {
    "tags": []
   },
   "outputs": [
    {
     "data": {
      "text/html": [
       "<div>\n",
       "<style scoped>\n",
       "    .dataframe tbody tr th:only-of-type {\n",
       "        vertical-align: middle;\n",
       "    }\n",
       "\n",
       "    .dataframe tbody tr th {\n",
       "        vertical-align: top;\n",
       "    }\n",
       "\n",
       "    .dataframe thead th {\n",
       "        text-align: right;\n",
       "    }\n",
       "</style>\n",
       "<table border=\"1\" class=\"dataframe\">\n",
       "  <thead>\n",
       "    <tr style=\"text-align: right;\">\n",
       "      <th></th>\n",
       "      <th>Open</th>\n",
       "      <th>High</th>\n",
       "      <th>Low</th>\n",
       "      <th>Close</th>\n",
       "      <th>Volume</th>\n",
       "    </tr>\n",
       "    <tr>\n",
       "      <th>Date</th>\n",
       "      <th></th>\n",
       "      <th></th>\n",
       "      <th></th>\n",
       "      <th></th>\n",
       "      <th></th>\n",
       "    </tr>\n",
       "  </thead>\n",
       "  <tbody>\n",
       "    <tr>\n",
       "      <th>1962-01-02</th>\n",
       "      <td>5.04610</td>\n",
       "      <td>5.04610</td>\n",
       "      <td>4.98716</td>\n",
       "      <td>4.98716</td>\n",
       "      <td>593562.955237</td>\n",
       "    </tr>\n",
       "    <tr>\n",
       "      <th>1962-01-03</th>\n",
       "      <td>4.98716</td>\n",
       "      <td>5.03292</td>\n",
       "      <td>4.98716</td>\n",
       "      <td>5.03292</td>\n",
       "      <td>445175.034277</td>\n",
       "    </tr>\n",
       "    <tr>\n",
       "      <th>1962-01-04</th>\n",
       "      <td>5.03292</td>\n",
       "      <td>5.03292</td>\n",
       "      <td>4.98052</td>\n",
       "      <td>4.98052</td>\n",
       "      <td>399513.586679</td>\n",
       "    </tr>\n",
       "    <tr>\n",
       "      <th>1962-01-05</th>\n",
       "      <td>4.97389</td>\n",
       "      <td>4.97389</td>\n",
       "      <td>4.87511</td>\n",
       "      <td>4.88166</td>\n",
       "      <td>559321.480565</td>\n",
       "    </tr>\n",
       "    <tr>\n",
       "      <th>1962-01-08</th>\n",
       "      <td>4.88166</td>\n",
       "      <td>4.88166</td>\n",
       "      <td>4.75059</td>\n",
       "      <td>4.78972</td>\n",
       "      <td>833273.771393</td>\n",
       "    </tr>\n",
       "  </tbody>\n",
       "</table>\n",
       "</div>"
      ],
      "text/plain": [
       "               Open     High      Low    Close         Volume\n",
       "Date                                                         \n",
       "1962-01-02  5.04610  5.04610  4.98716  4.98716  593562.955237\n",
       "1962-01-03  4.98716  5.03292  4.98716  5.03292  445175.034277\n",
       "1962-01-04  5.03292  5.03292  4.98052  4.98052  399513.586679\n",
       "1962-01-05  4.97389  4.97389  4.87511  4.88166  559321.480565\n",
       "1962-01-08  4.88166  4.88166  4.75059  4.78972  833273.771393"
      ]
     },
     "execution_count": 15,
     "metadata": {},
     "output_type": "execute_result"
    }
   ],
   "source": [
    "ibm = pd.read_csv('ibm.csv', parse_dates=['Date'], index_col='Date')\n",
    "ibm.head()"
   ]
  },
  {
   "cell_type": "code",
   "execution_count": 16,
   "metadata": {},
   "outputs": [],
   "source": [
    "def rank_performance(stock_price: float) -> str:\n",
    "    if stock_price <= 50:\n",
    "        return 'Poor'\n",
    "    elif stock_price > 50 and stock_price <= 100:\n",
    "        return 'Satisfactory'\n",
    "    else:\n",
    "        return 'Excellent'"
   ]
  },
  {
   "cell_type": "code",
   "execution_count": 17,
   "metadata": {},
   "outputs": [
    {
     "data": {
      "text/plain": [
       "Date\n",
       "1962-01-02         Poor\n",
       "1962-01-03         Poor\n",
       "1962-01-04         Poor\n",
       "1962-01-05         Poor\n",
       "1962-01-08         Poor\n",
       "                ...    \n",
       "2023-10-05    Excellent\n",
       "2023-10-06    Excellent\n",
       "2023-10-09    Excellent\n",
       "2023-10-10    Excellent\n",
       "2023-10-11    Excellent\n",
       "Name: Close, Length: 15546, dtype: object"
      ]
     },
     "execution_count": 17,
     "metadata": {},
     "output_type": "execute_result"
    }
   ],
   "source": [
    "ibm['Close'].apply(rank_performance)"
   ]
  },
  {
   "cell_type": "code",
   "execution_count": 18,
   "metadata": {
    "tags": []
   },
   "outputs": [
    {
     "data": {
      "text/plain": [
       "Close\n",
       "Poor            9423\n",
       "Excellent       3085\n",
       "Satisfactory    3038\n",
       "Name: count, dtype: int64"
      ]
     },
     "execution_count": 18,
     "metadata": {},
     "output_type": "execute_result"
    }
   ],
   "source": [
    "ibm['Close'].apply(rank_performance).value_counts()"
   ]
  },
  {
   "cell_type": "code",
   "execution_count": 20,
   "metadata": {},
   "outputs": [
    {
     "data": {
      "text/plain": [
       "<AxesSubplot:xlabel='Close'>"
      ]
     },
     "execution_count": 20,
     "metadata": {},
     "output_type": "execute_result"
    },
    {
     "data": {
      "image/png": "[encoded data removed]",
      "text/plain": [
       "<Figure size 432x288 with 1 Axes>"
      ]
     },
     "metadata": {},
     "output_type": "display_data"
    }
   ],
   "source": [
    "ibm['Close'].apply(rank_performance).value_counts().plot(kind='bar')"
   ]
  },
  {
   "cell_type": "code",
   "execution_count": 21,
   "metadata": {},
   "outputs": [
    {
     "data": {
      "text/plain": [
       "<AxesSubplot:ylabel='Close'>"
      ]
     },
     "execution_count": 21,
     "metadata": {},
     "output_type": "execute_result"
    },
    {
     "data": {
      "image/png": "[encoded data removed]",
      "text/plain": [
       "<Figure size 432x288 with 1 Axes>"
      ]
     },
     "metadata": {},
     "output_type": "display_data"
    }
   ],
   "source": [
    "ibm['Close'].apply(rank_performance).value_counts().plot(kind='barh')  # rotate the bar chart to horizontal direction"
   ]
  },
  {
   "cell_type": "markdown",
   "metadata": {},
   "source": [
    "## Pie Charts\n",
    "- A pie chart uses a circle to represent proportions (how much each chunk contributes to the whole).\n",
    "- Pass the `kind` parameter an argument of \"pie\".\n",
    "- The `legend` parameter renders a legend to map colors to labels."
   ]
  },
  {
   "cell_type": "code",
   "execution_count": 22,
   "metadata": {},
   "outputs": [
    {
     "data": {
      "text/html": [
       "<div>\n",
       "<style scoped>\n",
       "    .dataframe tbody tr th:only-of-type {\n",
       "        vertical-align: middle;\n",
       "    }\n",
       "\n",
       "    .dataframe tbody tr th {\n",
       "        vertical-align: top;\n",
       "    }\n",
       "\n",
       "    .dataframe thead th {\n",
       "        text-align: right;\n",
       "    }\n",
       "</style>\n",
       "<table border=\"1\" class=\"dataframe\">\n",
       "  <thead>\n",
       "    <tr style=\"text-align: right;\">\n",
       "      <th></th>\n",
       "      <th>Open</th>\n",
       "      <th>High</th>\n",
       "      <th>Low</th>\n",
       "      <th>Close</th>\n",
       "      <th>Volume</th>\n",
       "    </tr>\n",
       "    <tr>\n",
       "      <th>Date</th>\n",
       "      <th></th>\n",
       "      <th></th>\n",
       "      <th></th>\n",
       "      <th></th>\n",
       "      <th></th>\n",
       "    </tr>\n",
       "  </thead>\n",
       "  <tbody>\n",
       "    <tr>\n",
       "      <th>1962-01-02</th>\n",
       "      <td>5.04610</td>\n",
       "      <td>5.04610</td>\n",
       "      <td>4.98716</td>\n",
       "      <td>4.98716</td>\n",
       "      <td>593562.955237</td>\n",
       "    </tr>\n",
       "    <tr>\n",
       "      <th>1962-01-03</th>\n",
       "      <td>4.98716</td>\n",
       "      <td>5.03292</td>\n",
       "      <td>4.98716</td>\n",
       "      <td>5.03292</td>\n",
       "      <td>445175.034277</td>\n",
       "    </tr>\n",
       "    <tr>\n",
       "      <th>1962-01-04</th>\n",
       "      <td>5.03292</td>\n",
       "      <td>5.03292</td>\n",
       "      <td>4.98052</td>\n",
       "      <td>4.98052</td>\n",
       "      <td>399513.586679</td>\n",
       "    </tr>\n",
       "    <tr>\n",
       "      <th>1962-01-05</th>\n",
       "      <td>4.97389</td>\n",
       "      <td>4.97389</td>\n",
       "      <td>4.87511</td>\n",
       "      <td>4.88166</td>\n",
       "      <td>559321.480565</td>\n",
       "    </tr>\n",
       "    <tr>\n",
       "      <th>1962-01-08</th>\n",
       "      <td>4.88166</td>\n",
       "      <td>4.88166</td>\n",
       "      <td>4.75059</td>\n",
       "      <td>4.78972</td>\n",
       "      <td>833273.771393</td>\n",
       "    </tr>\n",
       "  </tbody>\n",
       "</table>\n",
       "</div>"
      ],
      "text/plain": [
       "               Open     High      Low    Close         Volume\n",
       "Date                                                         \n",
       "1962-01-02  5.04610  5.04610  4.98716  4.98716  593562.955237\n",
       "1962-01-03  4.98716  5.03292  4.98716  5.03292  445175.034277\n",
       "1962-01-04  5.03292  5.03292  4.98052  4.98052  399513.586679\n",
       "1962-01-05  4.97389  4.97389  4.87511  4.88166  559321.480565\n",
       "1962-01-08  4.88166  4.88166  4.75059  4.78972  833273.771393"
      ]
     },
     "execution_count": 22,
     "metadata": {},
     "output_type": "execute_result"
    }
   ],
   "source": [
    "ibm = pd.read_csv('ibm.csv', parse_dates=['Date'], index_col='Date')\n",
    "ibm.head()"
   ]
  },
  {
   "cell_type": "code",
   "execution_count": 23,
   "metadata": {},
   "outputs": [],
   "source": [
    "average_stock_price = ibm['Close'].mean()"
   ]
  },
  {
   "cell_type": "code",
   "execution_count": 24,
   "metadata": {
    "tags": []
   },
   "outputs": [],
   "source": [
    "def rank_performance(stock_price: float) -> str:\n",
    "    return 'Above Average' if stock_price >= average_stock_price else 'Below Average'"
   ]
  },
  {
   "cell_type": "code",
   "execution_count": 25,
   "metadata": {},
   "outputs": [
    {
     "data": {
      "text/plain": [
       "Date\n",
       "1962-01-02    Below Average\n",
       "1962-01-03    Below Average\n",
       "1962-01-04    Below Average\n",
       "1962-01-05    Below Average\n",
       "1962-01-08    Below Average\n",
       "                  ...      \n",
       "2023-10-05    Above Average\n",
       "2023-10-06    Above Average\n",
       "2023-10-09    Above Average\n",
       "2023-10-10    Above Average\n",
       "2023-10-11    Above Average\n",
       "Name: Close, Length: 15546, dtype: object"
      ]
     },
     "execution_count": 25,
     "metadata": {},
     "output_type": "execute_result"
    }
   ],
   "source": [
    "ibm['Close'].apply(rank_performance)"
   ]
  },
  {
   "cell_type": "code",
   "execution_count": 26,
   "metadata": {},
   "outputs": [
    {
     "data": {
      "text/plain": [
       "Close\n",
       "Below Average    9305\n",
       "Above Average    6241\n",
       "Name: count, dtype: int64"
      ]
     },
     "execution_count": 26,
     "metadata": {},
     "output_type": "execute_result"
    }
   ],
   "source": [
    "ibm['Close'].apply(rank_performance).value_counts()"
   ]
  },
  {
   "cell_type": "code",
   "execution_count": 27,
   "metadata": {},
   "outputs": [
    {
     "data": {
      "text/plain": [
       "<AxesSubplot:ylabel='count'>"
      ]
     },
     "execution_count": 27,
     "metadata": {},
     "output_type": "execute_result"
    },
    {
     "data": {
      "image/png": "[encoded data removed]",
      "text/plain": [
       "<Figure size 432x288 with 1 Axes>"
      ]
     },
     "metadata": {},
     "output_type": "display_data"
    }
   ],
   "source": [
    "plt.style.use('fivethirtyeight')\n",
    "ibm['Close'].apply(rank_performance).value_counts().plot(kind='pie')"
   ]
  },
  {
   "cell_type": "code",
   "execution_count": null,
   "metadata": {},
   "outputs": [],
   "source": []
  }
 ],
 "metadata": {
  "anaconda-cloud": {},
  "kernelspec": {
   "display_name": "Python 3 (ipykernel)",
   "language": "python",
   "name": "python3"
  },
  "language_info": {
   "codemirror_mode": {
    "name": "ipython",
    "version": 3
   },
   "file_extension": ".py",
   "mimetype": "text/x-python",
   "name": "python",
   "nbconvert_exporter": "python",
   "pygments_lexer": "ipython3",
   "version": "3.9.12"
  }
 },
 "nbformat": 4,
 "nbformat_minor": 4
}
