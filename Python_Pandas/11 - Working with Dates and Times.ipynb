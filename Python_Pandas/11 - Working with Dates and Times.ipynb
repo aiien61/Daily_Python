{
 "cells": [
  {
   "cell_type": "markdown",
   "metadata": {},
   "source": [
    "# Working with Dates and Times"
   ]
  },
  {
   "cell_type": "code",
   "execution_count": 2,
   "metadata": {
    "scrolled": true
   },
   "outputs": [],
   "source": [
    "import pandas as pd\n",
    "import datetime as dt"
   ]
  },
  {
   "cell_type": "markdown",
   "metadata": {},
   "source": [
    "## Review of Python's datetime Module\n",
    "- The `datetime` module is built into the core Python programming language.\n",
    "- The common alias for the `datetime` module is `dt`.\n",
    "- A module is a Python source file; think of like an internal library that Python loads on demand.\n",
    "- The `datetime` module includes `date` and `datetime` classes for representing dates and datetimes.\n",
    "- The `date` constructor accepts arguments for year, month, and day. Python defaults to 0 for any missing values.\n",
    "- The `datetime` constructor accepts arguments for year, month, day, hour, minute, and second."
   ]
  },
  {
   "cell_type": "code",
   "execution_count": 3,
   "metadata": {},
   "outputs": [
    {
     "data": {
      "text/plain": [
       "datetime.date(2025, 12, 25)"
      ]
     },
     "execution_count": 3,
     "metadata": {},
     "output_type": "execute_result"
    }
   ],
   "source": [
    "dt.date(2025, 12, 25)"
   ]
  },
  {
   "cell_type": "code",
   "execution_count": 5,
   "metadata": {},
   "outputs": [
    {
     "data": {
      "text/plain": [
       "2025"
      ]
     },
     "execution_count": 5,
     "metadata": {},
     "output_type": "execute_result"
    }
   ],
   "source": [
    "someday = dt.date(2025, 12, 25)\n",
    "someday.year"
   ]
  },
  {
   "cell_type": "code",
   "execution_count": 6,
   "metadata": {},
   "outputs": [
    {
     "data": {
      "text/plain": [
       "12"
      ]
     },
     "execution_count": 6,
     "metadata": {},
     "output_type": "execute_result"
    }
   ],
   "source": [
    "someday.month"
   ]
  },
  {
   "cell_type": "code",
   "execution_count": 7,
   "metadata": {},
   "outputs": [
    {
     "data": {
      "text/plain": [
       "25"
      ]
     },
     "execution_count": 7,
     "metadata": {},
     "output_type": "execute_result"
    }
   ],
   "source": [
    "someday.day"
   ]
  },
  {
   "cell_type": "code",
   "execution_count": 8,
   "metadata": {},
   "outputs": [
    {
     "data": {
      "text/plain": [
       "datetime.datetime(2025, 12, 25, 0, 0)"
      ]
     },
     "execution_count": 8,
     "metadata": {},
     "output_type": "execute_result"
    }
   ],
   "source": [
    "dt.datetime(2025, 12, 25)"
   ]
  },
  {
   "cell_type": "code",
   "execution_count": 9,
   "metadata": {},
   "outputs": [
    {
     "data": {
      "text/plain": [
       "datetime.datetime(2025, 12, 25, 8, 0)"
      ]
     },
     "execution_count": 9,
     "metadata": {},
     "output_type": "execute_result"
    }
   ],
   "source": [
    "dt.datetime(2025, 12, 25, 8)"
   ]
  },
  {
   "cell_type": "code",
   "execution_count": 10,
   "metadata": {},
   "outputs": [
    {
     "data": {
      "text/plain": [
       "datetime.datetime(2025, 12, 25, 8, 13)"
      ]
     },
     "execution_count": 10,
     "metadata": {},
     "output_type": "execute_result"
    }
   ],
   "source": [
    "dt.datetime(2025, 12, 25, 8, 13)"
   ]
  },
  {
   "cell_type": "code",
   "execution_count": 11,
   "metadata": {},
   "outputs": [
    {
     "data": {
      "text/plain": [
       "datetime.datetime(2025, 12, 25, 8, 13, 59)"
      ]
     },
     "execution_count": 11,
     "metadata": {},
     "output_type": "execute_result"
    }
   ],
   "source": [
    "dt.datetime(2025, 12, 25, 8, 13, 59)"
   ]
  },
  {
   "cell_type": "code",
   "execution_count": 12,
   "metadata": {},
   "outputs": [
    {
     "data": {
      "text/plain": [
       "2025"
      ]
     },
     "execution_count": 12,
     "metadata": {},
     "output_type": "execute_result"
    }
   ],
   "source": [
    "sometime = dt.datetime(2025, 12, 25, 8, 13, 59)\n",
    "sometime.year"
   ]
  },
  {
   "cell_type": "code",
   "execution_count": 13,
   "metadata": {},
   "outputs": [
    {
     "data": {
      "text/plain": [
       "12"
      ]
     },
     "execution_count": 13,
     "metadata": {},
     "output_type": "execute_result"
    }
   ],
   "source": [
    "sometime.month"
   ]
  },
  {
   "cell_type": "code",
   "execution_count": 14,
   "metadata": {},
   "outputs": [
    {
     "data": {
      "text/plain": [
       "25"
      ]
     },
     "execution_count": 14,
     "metadata": {},
     "output_type": "execute_result"
    }
   ],
   "source": [
    "sometime.day"
   ]
  },
  {
   "cell_type": "code",
   "execution_count": 15,
   "metadata": {},
   "outputs": [
    {
     "data": {
      "text/plain": [
       "8"
      ]
     },
     "execution_count": 15,
     "metadata": {},
     "output_type": "execute_result"
    }
   ],
   "source": [
    "sometime.hour"
   ]
  },
  {
   "cell_type": "code",
   "execution_count": 16,
   "metadata": {},
   "outputs": [
    {
     "data": {
      "text/plain": [
       "13"
      ]
     },
     "execution_count": 16,
     "metadata": {},
     "output_type": "execute_result"
    }
   ],
   "source": [
    "sometime.minute"
   ]
  },
  {
   "cell_type": "code",
   "execution_count": 17,
   "metadata": {},
   "outputs": [
    {
     "data": {
      "text/plain": [
       "59"
      ]
     },
     "execution_count": 17,
     "metadata": {},
     "output_type": "execute_result"
    }
   ],
   "source": [
    "sometime.second"
   ]
  },
  {
   "cell_type": "markdown",
   "metadata": {},
   "source": [
    "## The Timestamp and DatetimeIndex Objects\n",
    "\n",
    "- Pandas ships with several classes related to datetimes.\n",
    "- The **Timestamp** is similar to Python's **datetime** object (but with expanded functionality).\n",
    "- A **DatetimeIndex** is an index of **Timestamp** objects.\n",
    "- The **Timestamp** constructor accepts a string, a **datetime** object, or equivalent arguments to the **datetime** clas."
   ]
  },
  {
   "cell_type": "code",
   "execution_count": 19,
   "metadata": {
    "scrolled": true
   },
   "outputs": [
    {
     "data": {
      "text/plain": [
       "Timestamp('2027-03-12 00:00:00')"
      ]
     },
     "execution_count": 19,
     "metadata": {},
     "output_type": "execute_result"
    }
   ],
   "source": [
    "pd.Timestamp(2027, 3, 12)"
   ]
  },
  {
   "cell_type": "code",
   "execution_count": 20,
   "metadata": {},
   "outputs": [
    {
     "data": {
      "text/plain": [
       "Timestamp('2027-03-12 18:23:49')"
      ]
     },
     "execution_count": 20,
     "metadata": {},
     "output_type": "execute_result"
    }
   ],
   "source": [
    "pd.Timestamp(2027, 3, 12, 18, 23, 49)"
   ]
  },
  {
   "cell_type": "code",
   "execution_count": 21,
   "metadata": {},
   "outputs": [
    {
     "data": {
      "text/plain": [
       "Timestamp('2028-10-23 00:00:00')"
      ]
     },
     "execution_count": 21,
     "metadata": {},
     "output_type": "execute_result"
    }
   ],
   "source": [
    "pd.Timestamp(dt.date(2028, 10, 23))"
   ]
  },
  {
   "cell_type": "code",
   "execution_count": 22,
   "metadata": {},
   "outputs": [
    {
     "data": {
      "text/plain": [
       "Timestamp('2028-10-23 15:35:00')"
      ]
     },
     "execution_count": 22,
     "metadata": {},
     "output_type": "execute_result"
    }
   ],
   "source": [
    "pd.Timestamp(dt.datetime(2028, 10, 23, 15, 35))"
   ]
  },
  {
   "cell_type": "code",
   "execution_count": 23,
   "metadata": {},
   "outputs": [
    {
     "data": {
      "text/plain": [
       "Timestamp('2025-01-01 00:00:00')"
      ]
     },
     "execution_count": 23,
     "metadata": {},
     "output_type": "execute_result"
    }
   ],
   "source": [
    "pd.Timestamp('2025-01-01')"
   ]
  },
  {
   "cell_type": "code",
   "execution_count": 24,
   "metadata": {},
   "outputs": [
    {
     "data": {
      "text/plain": [
       "Timestamp('2025-01-01 00:00:00')"
      ]
     },
     "execution_count": 24,
     "metadata": {},
     "output_type": "execute_result"
    }
   ],
   "source": [
    "pd.Timestamp('2025/01/01')"
   ]
  },
  {
   "cell_type": "code",
   "execution_count": 25,
   "metadata": {},
   "outputs": [
    {
     "data": {
      "text/plain": [
       "Timestamp('2025-01-01 08:25:15')"
      ]
     },
     "execution_count": 25,
     "metadata": {},
     "output_type": "execute_result"
    }
   ],
   "source": [
    "pd.Timestamp('2025-01-01 08:25:15')"
   ]
  },
  {
   "cell_type": "code",
   "execution_count": 26,
   "metadata": {},
   "outputs": [
    {
     "data": {
      "text/plain": [
       "0   2025-03-08 07:25:15\n",
       "dtype: datetime64[ns]"
      ]
     },
     "execution_count": 26,
     "metadata": {},
     "output_type": "execute_result"
    }
   ],
   "source": [
    "pd.Series(pd.Timestamp('2025-03-08 07:25:15'))"
   ]
  },
  {
   "cell_type": "code",
   "execution_count": 27,
   "metadata": {},
   "outputs": [
    {
     "data": {
      "text/plain": [
       "Timestamp('2025-03-08 07:25:15')"
      ]
     },
     "execution_count": 27,
     "metadata": {},
     "output_type": "execute_result"
    }
   ],
   "source": [
    "pd.Series(pd.Timestamp('2025-03-08 07:25:15')).iloc[0]"
   ]
  },
  {
   "cell_type": "code",
   "execution_count": 28,
   "metadata": {},
   "outputs": [
    {
     "data": {
      "text/plain": [
       "DatetimeIndex(['2025-01-01', '2025-02-01', '2025-03-01'], dtype='datetime64[ns]', freq=None)"
      ]
     },
     "execution_count": 28,
     "metadata": {},
     "output_type": "execute_result"
    }
   ],
   "source": [
    "pd.DatetimeIndex(['2025-01-01', '2025-02-01', '2025-03-01'])"
   ]
  },
  {
   "cell_type": "code",
   "execution_count": 30,
   "metadata": {},
   "outputs": [
    {
     "data": {
      "text/plain": [
       "DatetimeIndex(['2026-01-10', '2026-02-10'], dtype='datetime64[ns]', freq=None)"
      ]
     },
     "execution_count": 30,
     "metadata": {},
     "output_type": "execute_result"
    }
   ],
   "source": [
    "index = pd.DatetimeIndex([\n",
    "    dt.date(2026,1,10),\n",
    "    dt.date(2026,2,10)\n",
    "])\n",
    "index"
   ]
  },
  {
   "cell_type": "code",
   "execution_count": 31,
   "metadata": {},
   "outputs": [
    {
     "data": {
      "text/plain": [
       "Timestamp('2026-01-10 00:00:00')"
      ]
     },
     "execution_count": 31,
     "metadata": {},
     "output_type": "execute_result"
    }
   ],
   "source": [
    "index[0]"
   ]
  },
  {
   "cell_type": "markdown",
   "metadata": {},
   "source": [
    "## Create Range of Dates with pd.date_range Function\n",
    "- The `date_range` function generates and returns a **DatetimeIndex** holding a sequence of dates.\n",
    "- The function requires 2 of the 3 following parameters: `start`, `end`, and `period`.\n",
    "- With `start` and `end`, Pandas will assume a daily period/interval.\n",
    "- Every element within a **DatetimeIndex** is a **Timestamp**."
   ]
  },
  {
   "cell_type": "code",
   "execution_count": 34,
   "metadata": {},
   "outputs": [
    {
     "data": {
      "text/plain": [
       "DatetimeIndex(['2025-01-01', '2025-01-02', '2025-01-03', '2025-01-04',\n",
       "               '2025-01-05', '2025-01-06', '2025-01-07'],\n",
       "              dtype='datetime64[ns]', freq='D')"
      ]
     },
     "execution_count": 34,
     "metadata": {},
     "output_type": "execute_result"
    }
   ],
   "source": [
    "pd.date_range(start='2025-01-01', end='2025-01-07')\n",
    "pd.date_range(start='2025-01-01', end='2025-01-07', freq='D')  # same as above"
   ]
  },
  {
   "cell_type": "code",
   "execution_count": 35,
   "metadata": {},
   "outputs": [
    {
     "data": {
      "text/plain": [
       "DatetimeIndex(['2025-01-01', '2025-01-03', '2025-01-05', '2025-01-07'], dtype='datetime64[ns]', freq='2D')"
      ]
     },
     "execution_count": 35,
     "metadata": {},
     "output_type": "execute_result"
    }
   ],
   "source": [
    "pd.date_range(start='2025-01-01', end='2025-01-07', freq='2D')  # every 2 days print it out"
   ]
  },
  {
   "cell_type": "code",
   "execution_count": 36,
   "metadata": {},
   "outputs": [
    {
     "data": {
      "text/plain": [
       "DatetimeIndex(['2025-01-01', '2025-01-02', '2025-01-03', '2025-01-06',\n",
       "               '2025-01-07'],\n",
       "              dtype='datetime64[ns]', freq='B')"
      ]
     },
     "execution_count": 36,
     "metadata": {},
     "output_type": "execute_result"
    }
   ],
   "source": [
    "pd.date_range(start='2025-01-01', end='2025-01-07', freq='B')  # B is short for business day, i.e. Monday ~ Friday "
   ]
  },
  {
   "cell_type": "code",
   "execution_count": 38,
   "metadata": {},
   "outputs": [
    {
     "data": {
      "text/plain": [
       "DatetimeIndex(['2025-01-05', '2025-01-12', '2025-01-19', '2025-01-26'], dtype='datetime64[ns]', freq='W-SUN')"
      ]
     },
     "execution_count": 38,
     "metadata": {},
     "output_type": "execute_result"
    }
   ],
   "source": [
    "pd.date_range(start='2025-01-01', end='2025-01-31', freq='W')  # W is short for weekly, and because 2025-01-01 is Sunday, show every Sunday date"
   ]
  },
  {
   "cell_type": "code",
   "execution_count": 40,
   "metadata": {},
   "outputs": [
    {
     "data": {
      "text/plain": [
       "DatetimeIndex(['2025-01-03', '2025-01-10', '2025-01-17', '2025-01-24',\n",
       "               '2025-01-31'],\n",
       "              dtype='datetime64[ns]', freq='W-FRI')"
      ]
     },
     "execution_count": 40,
     "metadata": {},
     "output_type": "execute_result"
    }
   ],
   "source": [
    "pd.date_range(start='2025-01-01', end='2025-01-31', freq='W-FRI')  # jumping in the increment of the week, but instead of starting from Sunday(2025-01-01), starts from Friday "
   ]
  },
  {
   "cell_type": "code",
   "execution_count": 41,
   "metadata": {},
   "outputs": [
    {
     "data": {
      "text/plain": [
       "DatetimeIndex(['2025-01-02', '2025-01-09', '2025-01-16', '2025-01-23',\n",
       "               '2025-01-30'],\n",
       "              dtype='datetime64[ns]', freq='W-THU')"
      ]
     },
     "execution_count": 41,
     "metadata": {},
     "output_type": "execute_result"
    }
   ],
   "source": [
    "pd.date_range(start='2025-01-01', end='2025-01-31', freq='W-THU')"
   ]
  },
  {
   "cell_type": "code",
   "execution_count": 43,
   "metadata": {},
   "outputs": [
    {
     "data": {
      "text/plain": [
       "DatetimeIndex(['2025-01-01 00:00:00', '2025-01-01 01:00:00',\n",
       "               '2025-01-01 02:00:00', '2025-01-01 03:00:00',\n",
       "               '2025-01-01 04:00:00', '2025-01-01 05:00:00',\n",
       "               '2025-01-01 06:00:00', '2025-01-01 07:00:00',\n",
       "               '2025-01-01 08:00:00', '2025-01-01 09:00:00',\n",
       "               ...\n",
       "               '2025-01-30 15:00:00', '2025-01-30 16:00:00',\n",
       "               '2025-01-30 17:00:00', '2025-01-30 18:00:00',\n",
       "               '2025-01-30 19:00:00', '2025-01-30 20:00:00',\n",
       "               '2025-01-30 21:00:00', '2025-01-30 22:00:00',\n",
       "               '2025-01-30 23:00:00', '2025-01-31 00:00:00'],\n",
       "              dtype='datetime64[ns]', length=721, freq='h')"
      ]
     },
     "execution_count": 43,
     "metadata": {},
     "output_type": "execute_result"
    }
   ],
   "source": [
    "pd.date_range(start='2025-01-01', end='2025-01-31', freq='h')  # h is short for hourly"
   ]
  },
  {
   "cell_type": "code",
   "execution_count": 44,
   "metadata": {},
   "outputs": [
    {
     "data": {
      "text/plain": [
       "DatetimeIndex(['2025-01-01 00:00:00', '2025-01-01 06:00:00',\n",
       "               '2025-01-01 12:00:00', '2025-01-01 18:00:00',\n",
       "               '2025-01-02 00:00:00', '2025-01-02 06:00:00',\n",
       "               '2025-01-02 12:00:00', '2025-01-02 18:00:00',\n",
       "               '2025-01-03 00:00:00', '2025-01-03 06:00:00',\n",
       "               ...\n",
       "               '2025-01-28 18:00:00', '2025-01-29 00:00:00',\n",
       "               '2025-01-29 06:00:00', '2025-01-29 12:00:00',\n",
       "               '2025-01-29 18:00:00', '2025-01-30 00:00:00',\n",
       "               '2025-01-30 06:00:00', '2025-01-30 12:00:00',\n",
       "               '2025-01-30 18:00:00', '2025-01-31 00:00:00'],\n",
       "              dtype='datetime64[ns]', length=121, freq='6h')"
      ]
     },
     "execution_count": 44,
     "metadata": {},
     "output_type": "execute_result"
    }
   ],
   "source": [
    "pd.date_range(start='2025-01-01', end='2025-01-31', freq='6h')  # every 6 hours"
   ]
  },
  {
   "cell_type": "code",
   "execution_count": 63,
   "metadata": {},
   "outputs": [
    {
     "data": {
      "text/plain": [
       "DatetimeIndex(['2000-01-01 00:00:00', '2000-01-25 03:00:00',\n",
       "               '2000-02-18 06:00:00', '2000-03-13 09:00:00',\n",
       "               '2000-04-06 12:00:00', '2000-04-30 15:00:00',\n",
       "               '2000-05-24 18:00:00', '2000-06-17 21:00:00',\n",
       "               '2000-07-12 00:00:00', '2000-08-05 03:00:00',\n",
       "               ...\n",
       "               '2020-05-05 12:00:00', '2020-05-29 15:00:00',\n",
       "               '2020-06-22 18:00:00', '2020-07-16 21:00:00',\n",
       "               '2020-08-10 00:00:00', '2020-09-03 03:00:00',\n",
       "               '2020-09-27 06:00:00', '2020-10-21 09:00:00',\n",
       "               '2020-11-14 12:00:00', '2020-12-08 15:00:00'],\n",
       "              dtype='datetime64[ns]', length=318, freq='579h')"
      ]
     },
     "execution_count": 63,
     "metadata": {},
     "output_type": "execute_result"
    }
   ],
   "source": [
    "pd.date_range(start='2000-01-01', end='2020-12-31', freq='24D 3h') # collect datetime in every 24 days and 3 hours"
   ]
  },
  {
   "cell_type": "code",
   "execution_count": 46,
   "metadata": {},
   "outputs": [
    {
     "data": {
      "text/plain": [
       "DatetimeIndex(['2025-01-31', '2025-02-28', '2025-03-31', '2025-04-30',\n",
       "               '2025-05-31', '2025-06-30', '2025-07-31', '2025-08-31',\n",
       "               '2025-09-30', '2025-10-31', '2025-11-30', '2025-12-31'],\n",
       "              dtype='datetime64[ns]', freq='ME')"
      ]
     },
     "execution_count": 46,
     "metadata": {},
     "output_type": "execute_result"
    }
   ],
   "source": [
    "pd.date_range(start='2025-01-01', end='2025-12-31', freq='ME')  # ME is short for month end"
   ]
  },
  {
   "cell_type": "code",
   "execution_count": 47,
   "metadata": {},
   "outputs": [
    {
     "data": {
      "text/plain": [
       "DatetimeIndex(['2025-01-01', '2025-02-01', '2025-03-01', '2025-04-01',\n",
       "               '2025-05-01', '2025-06-01', '2025-07-01', '2025-08-01',\n",
       "               '2025-09-01', '2025-10-01', '2025-11-01', '2025-12-01'],\n",
       "              dtype='datetime64[ns]', freq='MS')"
      ]
     },
     "execution_count": 47,
     "metadata": {},
     "output_type": "execute_result"
    }
   ],
   "source": [
    "pd.date_range(start='2025-01-01', end='2025-12-31', freq='MS')  # Ms is short for month start"
   ]
  },
  {
   "cell_type": "code",
   "execution_count": 49,
   "metadata": {},
   "outputs": [
    {
     "data": {
      "text/plain": [
       "DatetimeIndex(['2025-12-31', '2026-12-31', '2027-12-31', '2028-12-31',\n",
       "               '2029-12-31', '2030-12-31', '2031-12-31', '2032-12-31',\n",
       "               '2033-12-31', '2034-12-31', '2035-12-31', '2036-12-31',\n",
       "               '2037-12-31', '2038-12-31', '2039-12-31', '2040-12-31',\n",
       "               '2041-12-31', '2042-12-31', '2043-12-31', '2044-12-31',\n",
       "               '2045-12-31', '2046-12-31', '2047-12-31', '2048-12-31',\n",
       "               '2049-12-31', '2050-12-31'],\n",
       "              dtype='datetime64[ns]', freq='YE-DEC')"
      ]
     },
     "execution_count": 49,
     "metadata": {},
     "output_type": "execute_result"
    }
   ],
   "source": [
    "pd.date_range(start='2025-01-01', end='2050-12-31', freq='YE')  # YE is short for year end"
   ]
  },
  {
   "cell_type": "code",
   "execution_count": 50,
   "metadata": {},
   "outputs": [
    {
     "data": {
      "text/plain": [
       "DatetimeIndex(['2025-01-01', '2026-01-01', '2027-01-01', '2028-01-01',\n",
       "               '2029-01-01', '2030-01-01', '2031-01-01', '2032-01-01',\n",
       "               '2033-01-01', '2034-01-01', '2035-01-01', '2036-01-01',\n",
       "               '2037-01-01', '2038-01-01', '2039-01-01', '2040-01-01',\n",
       "               '2041-01-01', '2042-01-01', '2043-01-01', '2044-01-01',\n",
       "               '2045-01-01', '2046-01-01', '2047-01-01', '2048-01-01',\n",
       "               '2049-01-01', '2050-01-01'],\n",
       "              dtype='datetime64[ns]', freq='YS-JAN')"
      ]
     },
     "execution_count": 50,
     "metadata": {},
     "output_type": "execute_result"
    }
   ],
   "source": [
    "pd.date_range(start='2025-01-01', end='2050-12-31', freq='YS')  # YS is short for year start"
   ]
  },
  {
   "cell_type": "code",
   "execution_count": 52,
   "metadata": {},
   "outputs": [
    {
     "data": {
      "text/plain": [
       "DatetimeIndex(['2025-09-09', '2025-09-10', '2025-09-11', '2025-09-12',\n",
       "               '2025-09-13', '2025-09-14', '2025-09-15', '2025-09-16',\n",
       "               '2025-09-17', '2025-09-18', '2025-09-19', '2025-09-20',\n",
       "               '2025-09-21', '2025-09-22', '2025-09-23', '2025-09-24',\n",
       "               '2025-09-25', '2025-09-26', '2025-09-27', '2025-09-28',\n",
       "               '2025-09-29', '2025-09-30', '2025-10-01', '2025-10-02',\n",
       "               '2025-10-03'],\n",
       "              dtype='datetime64[ns]', freq='D')"
      ]
     },
     "execution_count": 52,
     "metadata": {},
     "output_type": "execute_result"
    }
   ],
   "source": [
    "pd.date_range(start='2025-09-09', freq='D', periods=25)  # periods: how many dates to generate"
   ]
  },
  {
   "cell_type": "code",
   "execution_count": 54,
   "metadata": {},
   "outputs": [
    {
     "data": {
      "text/plain": [
       "DatetimeIndex(['2025-09-09', '2025-09-12', '2025-09-15', '2025-09-18',\n",
       "               '2025-09-21', '2025-09-24', '2025-09-27', '2025-09-30',\n",
       "               '2025-10-03', '2025-10-06'],\n",
       "              dtype='datetime64[ns]', freq='3D')"
      ]
     },
     "execution_count": 54,
     "metadata": {},
     "output_type": "execute_result"
    }
   ],
   "source": [
    "pd.date_range(start='2025-09-09', freq='3D', periods=10)  # Get dates in every 3 days, and totally collect 10 days "
   ]
  },
  {
   "cell_type": "code",
   "execution_count": 55,
   "metadata": {},
   "outputs": [
    {
     "data": {
      "text/plain": [
       "DatetimeIndex(['2025-09-09', '2025-09-10', '2025-09-11', '2025-09-12',\n",
       "               '2025-09-15', '2025-09-16', '2025-09-17', '2025-09-18',\n",
       "               '2025-09-19', '2025-09-22'],\n",
       "              dtype='datetime64[ns]', freq='B')"
      ]
     },
     "execution_count": 55,
     "metadata": {},
     "output_type": "execute_result"
    }
   ],
   "source": [
    "pd.date_range(start='2025-09-09', freq='B', periods=10)  # Get business days only, and collect 10 business days in total"
   ]
  },
  {
   "cell_type": "code",
   "execution_count": 57,
   "metadata": {},
   "outputs": [
    {
     "data": {
      "text/plain": [
       "DatetimeIndex(['2025-10-12', '2025-10-13', '2025-10-14', '2025-10-15',\n",
       "               '2025-10-16', '2025-10-17', '2025-10-18', '2025-10-19',\n",
       "               '2025-10-20', '2025-10-21', '2025-10-22', '2025-10-23',\n",
       "               '2025-10-24', '2025-10-25', '2025-10-26', '2025-10-27',\n",
       "               '2025-10-28', '2025-10-29', '2025-10-30', '2025-10-31'],\n",
       "              dtype='datetime64[ns]', freq='D')"
      ]
     },
     "execution_count": 57,
     "metadata": {},
     "output_type": "execute_result"
    }
   ],
   "source": [
    "pd.date_range(end='2025-10-31', freq='D', periods=20)  # generate days from end day backwards to collect 20 days in total"
   ]
  },
  {
   "cell_type": "code",
   "execution_count": 58,
   "metadata": {},
   "outputs": [
    {
     "data": {
      "text/plain": [
       "DatetimeIndex(['2025-10-06', '2025-10-07', '2025-10-08', '2025-10-09',\n",
       "               '2025-10-10', '2025-10-13', '2025-10-14', '2025-10-15',\n",
       "               '2025-10-16', '2025-10-17', '2025-10-20', '2025-10-21',\n",
       "               '2025-10-22', '2025-10-23', '2025-10-24', '2025-10-27',\n",
       "               '2025-10-28', '2025-10-29', '2025-10-30', '2025-10-31'],\n",
       "              dtype='datetime64[ns]', freq='B')"
      ]
     },
     "execution_count": 58,
     "metadata": {},
     "output_type": "execute_result"
    }
   ],
   "source": [
    "pd.date_range(end='2025-10-31', freq='B', periods=20)  # go backwards to collect 20 business days"
   ]
  },
  {
   "cell_type": "code",
   "execution_count": 60,
   "metadata": {},
   "outputs": [
    {
     "data": {
      "text/plain": [
       "DatetimeIndex(['2025-06-20', '2025-06-27', '2025-07-04', '2025-07-11',\n",
       "               '2025-07-18', '2025-07-25', '2025-08-01', '2025-08-08',\n",
       "               '2025-08-15', '2025-08-22', '2025-08-29', '2025-09-05',\n",
       "               '2025-09-12', '2025-09-19', '2025-09-26', '2025-10-03',\n",
       "               '2025-10-10', '2025-10-17', '2025-10-24', '2025-10-31'],\n",
       "              dtype='datetime64[ns]', freq='W-FRI')"
      ]
     },
     "execution_count": 60,
     "metadata": {},
     "output_type": "execute_result"
    }
   ],
   "source": [
    "pd.date_range(end='2025-10-31', freq='W-FRI', periods=20)  # go backwards to collect every Friday until 20 Fridays collected"
   ]
  },
  {
   "cell_type": "markdown",
   "metadata": {},
   "source": [
    "## The dt Attribute\n",
    "- The `dt` attribute reveals a `DatetimeProperties` object with attributes/methods for working with datetimes. It is similar to the `str` attribute for string methods.\n",
    "- The `DatetimeProperties` object has attributes like `day`, `month`, and `year` to reveal information about each date in the **Series**.\n",
    "- The `day_name` method returns the written day of the week.\n",
    "- Attributes like `is_month_end` and `is_quarter_start` return Boolean **Series**."
   ]
  },
  {
   "cell_type": "code",
   "execution_count": 66,
   "metadata": {},
   "outputs": [
    {
     "data": {
      "text/plain": [
       "0   2000-01-01 00:00:00\n",
       "1   2000-01-25 03:00:00\n",
       "2   2000-02-18 06:00:00\n",
       "3   2000-03-13 09:00:00\n",
       "4   2000-04-06 12:00:00\n",
       "dtype: datetime64[ns]"
      ]
     },
     "execution_count": 66,
     "metadata": {},
     "output_type": "execute_result"
    }
   ],
   "source": [
    "bunch_of_dates = pd.Series(pd.date_range(start='2000-01-01', end='2020-12-31', freq='24D 3h'))\n",
    "bunch_of_dates.head()"
   ]
  },
  {
   "cell_type": "code",
   "execution_count": 67,
   "metadata": {},
   "outputs": [
    {
     "data": {
      "text/plain": [
       "0       1\n",
       "1      25\n",
       "2      18\n",
       "3      13\n",
       "4       6\n",
       "       ..\n",
       "313     3\n",
       "314    27\n",
       "315    21\n",
       "316    14\n",
       "317     8\n",
       "Length: 318, dtype: int32"
      ]
     },
     "execution_count": 67,
     "metadata": {},
     "output_type": "execute_result"
    }
   ],
   "source": [
    "bunch_of_dates.dt.day"
   ]
  },
  {
   "cell_type": "code",
   "execution_count": 68,
   "metadata": {},
   "outputs": [
    {
     "data": {
      "text/plain": [
       "0       1\n",
       "1       1\n",
       "2       2\n",
       "3       3\n",
       "4       4\n",
       "       ..\n",
       "313     9\n",
       "314     9\n",
       "315    10\n",
       "316    11\n",
       "317    12\n",
       "Length: 318, dtype: int32"
      ]
     },
     "execution_count": 68,
     "metadata": {},
     "output_type": "execute_result"
    }
   ],
   "source": [
    "bunch_of_dates.dt.month"
   ]
  },
  {
   "cell_type": "code",
   "execution_count": 69,
   "metadata": {},
   "outputs": [
    {
     "data": {
      "text/plain": [
       "0      2000\n",
       "1      2000\n",
       "2      2000\n",
       "3      2000\n",
       "4      2000\n",
       "       ... \n",
       "313    2020\n",
       "314    2020\n",
       "315    2020\n",
       "316    2020\n",
       "317    2020\n",
       "Length: 318, dtype: int32"
      ]
     },
     "execution_count": 69,
     "metadata": {},
     "output_type": "execute_result"
    }
   ],
   "source": [
    "bunch_of_dates.dt.year"
   ]
  },
  {
   "cell_type": "code",
   "execution_count": 70,
   "metadata": {},
   "outputs": [
    {
     "data": {
      "text/plain": [
       "0       0\n",
       "1       3\n",
       "2       6\n",
       "3       9\n",
       "4      12\n",
       "       ..\n",
       "313     3\n",
       "314     6\n",
       "315     9\n",
       "316    12\n",
       "317    15\n",
       "Length: 318, dtype: int32"
      ]
     },
     "execution_count": 70,
     "metadata": {},
     "output_type": "execute_result"
    }
   ],
   "source": [
    "bunch_of_dates.dt.hour"
   ]
  },
  {
   "cell_type": "code",
   "execution_count": 71,
   "metadata": {},
   "outputs": [
    {
     "data": {
      "text/plain": [
       "0        1\n",
       "1       25\n",
       "2       49\n",
       "3       73\n",
       "4       97\n",
       "      ... \n",
       "313    247\n",
       "314    271\n",
       "315    295\n",
       "316    319\n",
       "317    343\n",
       "Length: 318, dtype: int32"
      ]
     },
     "execution_count": 71,
     "metadata": {},
     "output_type": "execute_result"
    }
   ],
   "source": [
    "bunch_of_dates.dt.day_of_year"
   ]
  },
  {
   "cell_type": "code",
   "execution_count": 73,
   "metadata": {},
   "outputs": [
    {
     "data": {
      "text/plain": [
       "0       Saturday\n",
       "1        Tuesday\n",
       "2         Friday\n",
       "3         Monday\n",
       "4       Thursday\n",
       "         ...    \n",
       "313     Thursday\n",
       "314       Sunday\n",
       "315    Wednesday\n",
       "316     Saturday\n",
       "317      Tuesday\n",
       "Length: 318, dtype: object"
      ]
     },
     "execution_count": 73,
     "metadata": {},
     "output_type": "execute_result"
    }
   ],
   "source": [
    "bunch_of_dates.dt.day_name()"
   ]
  },
  {
   "cell_type": "code",
   "execution_count": 74,
   "metadata": {},
   "outputs": [
    {
     "data": {
      "text/plain": [
       "0      False\n",
       "1      False\n",
       "2      False\n",
       "3      False\n",
       "4      False\n",
       "       ...  \n",
       "313    False\n",
       "314    False\n",
       "315    False\n",
       "316    False\n",
       "317    False\n",
       "Length: 318, dtype: bool"
      ]
     },
     "execution_count": 74,
     "metadata": {},
     "output_type": "execute_result"
    }
   ],
   "source": [
    "bunch_of_dates.dt.is_month_end"
   ]
  },
  {
   "cell_type": "code",
   "execution_count": 75,
   "metadata": {},
   "outputs": [
    {
     "data": {
      "text/plain": [
       "0       True\n",
       "1      False\n",
       "2      False\n",
       "3      False\n",
       "4      False\n",
       "       ...  \n",
       "313    False\n",
       "314    False\n",
       "315    False\n",
       "316    False\n",
       "317    False\n",
       "Length: 318, dtype: bool"
      ]
     },
     "execution_count": 75,
     "metadata": {},
     "output_type": "execute_result"
    }
   ],
   "source": [
    "bunch_of_dates.dt.is_month_start"
   ]
  },
  {
   "cell_type": "code",
   "execution_count": 76,
   "metadata": {},
   "outputs": [
    {
     "data": {
      "text/plain": [
       "0       True\n",
       "1      False\n",
       "2      False\n",
       "3      False\n",
       "4      False\n",
       "       ...  \n",
       "313    False\n",
       "314    False\n",
       "315    False\n",
       "316    False\n",
       "317    False\n",
       "Length: 318, dtype: bool"
      ]
     },
     "execution_count": 76,
     "metadata": {},
     "output_type": "execute_result"
    }
   ],
   "source": [
    "bunch_of_dates.dt.is_quarter_start"
   ]
  },
  {
   "cell_type": "code",
   "execution_count": 77,
   "metadata": {},
   "outputs": [
    {
     "data": {
      "text/plain": [
       "0     2000-01-01 00:00:00\n",
       "106   2007-01-01 06:00:00\n",
       "212   2014-01-01 12:00:00\n",
       "299   2019-10-01 09:00:00\n",
       "dtype: datetime64[ns]"
      ]
     },
     "execution_count": 77,
     "metadata": {},
     "output_type": "execute_result"
    }
   ],
   "source": [
    "bunch_of_dates[bunch_of_dates.dt.is_quarter_start]"
   ]
  },
  {
   "cell_type": "markdown",
   "metadata": {},
   "source": [
    "## Selecting Rows from a DataFrame with a DateTimeIndex\n",
    "- The `iloc` accessor is available for index position-based extraction.\n",
    "- The `loc` accessor accepts strings or **Timestamps** to extract by index label/value. Note that Python's `datetime` objects will not work.\n",
    "- Use list slicing to extract a sequence of dates. The `truncate` method is another alternative."
   ]
  },
  {
   "cell_type": "code",
   "execution_count": 81,
   "metadata": {},
   "outputs": [
    {
     "data": {
      "text/html": [
       "<div>\n",
       "<style scoped>\n",
       "    .dataframe tbody tr th:only-of-type {\n",
       "        vertical-align: middle;\n",
       "    }\n",
       "\n",
       "    .dataframe tbody tr th {\n",
       "        vertical-align: top;\n",
       "    }\n",
       "\n",
       "    .dataframe thead th {\n",
       "        text-align: right;\n",
       "    }\n",
       "</style>\n",
       "<table border=\"1\" class=\"dataframe\">\n",
       "  <thead>\n",
       "    <tr style=\"text-align: right;\">\n",
       "      <th></th>\n",
       "      <th>Open</th>\n",
       "      <th>High</th>\n",
       "      <th>Low</th>\n",
       "      <th>Close</th>\n",
       "      <th>Volume</th>\n",
       "    </tr>\n",
       "    <tr>\n",
       "      <th>Date</th>\n",
       "      <th></th>\n",
       "      <th></th>\n",
       "      <th></th>\n",
       "      <th></th>\n",
       "      <th></th>\n",
       "    </tr>\n",
       "  </thead>\n",
       "  <tbody>\n",
       "    <tr>\n",
       "      <th>1962-01-02</th>\n",
       "      <td>5.04610</td>\n",
       "      <td>5.04610</td>\n",
       "      <td>4.98716</td>\n",
       "      <td>4.98716</td>\n",
       "      <td>5.935630e+05</td>\n",
       "    </tr>\n",
       "    <tr>\n",
       "      <th>1962-01-03</th>\n",
       "      <td>4.98716</td>\n",
       "      <td>5.03292</td>\n",
       "      <td>4.98716</td>\n",
       "      <td>5.03292</td>\n",
       "      <td>4.451750e+05</td>\n",
       "    </tr>\n",
       "    <tr>\n",
       "      <th>1962-01-04</th>\n",
       "      <td>5.03292</td>\n",
       "      <td>5.03292</td>\n",
       "      <td>4.98052</td>\n",
       "      <td>4.98052</td>\n",
       "      <td>3.995136e+05</td>\n",
       "    </tr>\n",
       "    <tr>\n",
       "      <th>1962-01-05</th>\n",
       "      <td>4.97389</td>\n",
       "      <td>4.97389</td>\n",
       "      <td>4.87511</td>\n",
       "      <td>4.88166</td>\n",
       "      <td>5.593215e+05</td>\n",
       "    </tr>\n",
       "    <tr>\n",
       "      <th>1962-01-08</th>\n",
       "      <td>4.88166</td>\n",
       "      <td>4.88166</td>\n",
       "      <td>4.75059</td>\n",
       "      <td>4.78972</td>\n",
       "      <td>8.332738e+05</td>\n",
       "    </tr>\n",
       "    <tr>\n",
       "      <th>...</th>\n",
       "      <td>...</td>\n",
       "      <td>...</td>\n",
       "      <td>...</td>\n",
       "      <td>...</td>\n",
       "      <td>...</td>\n",
       "    </tr>\n",
       "    <tr>\n",
       "      <th>2023-10-05</th>\n",
       "      <td>140.90000</td>\n",
       "      <td>141.70000</td>\n",
       "      <td>140.19000</td>\n",
       "      <td>141.52000</td>\n",
       "      <td>3.223910e+06</td>\n",
       "    </tr>\n",
       "    <tr>\n",
       "      <th>2023-10-06</th>\n",
       "      <td>141.40000</td>\n",
       "      <td>142.94000</td>\n",
       "      <td>140.11000</td>\n",
       "      <td>142.03000</td>\n",
       "      <td>3.511347e+06</td>\n",
       "    </tr>\n",
       "    <tr>\n",
       "      <th>2023-10-09</th>\n",
       "      <td>142.30000</td>\n",
       "      <td>142.40000</td>\n",
       "      <td>140.68000</td>\n",
       "      <td>142.20000</td>\n",
       "      <td>2.354396e+06</td>\n",
       "    </tr>\n",
       "    <tr>\n",
       "      <th>2023-10-10</th>\n",
       "      <td>142.60000</td>\n",
       "      <td>143.41500</td>\n",
       "      <td>141.72000</td>\n",
       "      <td>142.11000</td>\n",
       "      <td>3.015784e+06</td>\n",
       "    </tr>\n",
       "    <tr>\n",
       "      <th>2023-10-11</th>\n",
       "      <td>142.51000</td>\n",
       "      <td>143.34000</td>\n",
       "      <td>142.14000</td>\n",
       "      <td>143.23000</td>\n",
       "      <td>2.511459e+06</td>\n",
       "    </tr>\n",
       "  </tbody>\n",
       "</table>\n",
       "<p>15546 rows × 5 columns</p>\n",
       "</div>"
      ],
      "text/plain": [
       "                 Open       High        Low      Close        Volume\n",
       "Date                                                                \n",
       "1962-01-02    5.04610    5.04610    4.98716    4.98716  5.935630e+05\n",
       "1962-01-03    4.98716    5.03292    4.98716    5.03292  4.451750e+05\n",
       "1962-01-04    5.03292    5.03292    4.98052    4.98052  3.995136e+05\n",
       "1962-01-05    4.97389    4.97389    4.87511    4.88166  5.593215e+05\n",
       "1962-01-08    4.88166    4.88166    4.75059    4.78972  8.332738e+05\n",
       "...               ...        ...        ...        ...           ...\n",
       "2023-10-05  140.90000  141.70000  140.19000  141.52000  3.223910e+06\n",
       "2023-10-06  141.40000  142.94000  140.11000  142.03000  3.511347e+06\n",
       "2023-10-09  142.30000  142.40000  140.68000  142.20000  2.354396e+06\n",
       "2023-10-10  142.60000  143.41500  141.72000  142.11000  3.015784e+06\n",
       "2023-10-11  142.51000  143.34000  142.14000  143.23000  2.511459e+06\n",
       "\n",
       "[15546 rows x 5 columns]"
      ]
     },
     "execution_count": 81,
     "metadata": {},
     "output_type": "execute_result"
    }
   ],
   "source": [
    "stocks = pd.read_csv('ibm.csv', parse_dates=['Date'], index_col='Date').sort_index()  # IBM stock data\n",
    "stocks"
   ]
  },
  {
   "cell_type": "code",
   "execution_count": 82,
   "metadata": {},
   "outputs": [
    {
     "data": {
      "text/plain": [
       "Open           3.561240\n",
       "High           3.574410\n",
       "Low            3.554500\n",
       "Close          3.561240\n",
       "Volume    536491.781438\n",
       "Name: 1963-03-12 00:00:00, dtype: float64"
      ]
     },
     "execution_count": 82,
     "metadata": {},
     "output_type": "execute_result"
    }
   ],
   "source": [
    "stocks.iloc[300]"
   ]
  },
  {
   "cell_type": "code",
   "execution_count": 84,
   "metadata": {},
   "outputs": [
    {
     "data": {
      "text/plain": [
       "Open          142.51\n",
       "High          143.34\n",
       "Low           142.14\n",
       "Close         143.23\n",
       "Volume    2511459.00\n",
       "Name: 2023-10-11 00:00:00, dtype: float64"
      ]
     },
     "execution_count": 84,
     "metadata": {},
     "output_type": "execute_result"
    }
   ],
   "source": [
    "stocks.loc['2023-10-11']"
   ]
  },
  {
   "cell_type": "code",
   "execution_count": 85,
   "metadata": {},
   "outputs": [
    {
     "data": {
      "text/plain": [
       "Open          142.51\n",
       "High          143.34\n",
       "Low           142.14\n",
       "Close         143.23\n",
       "Volume    2511459.00\n",
       "Name: 2023-10-11 00:00:00, dtype: float64"
      ]
     },
     "execution_count": 85,
     "metadata": {},
     "output_type": "execute_result"
    }
   ],
   "source": [
    "stocks.loc[pd.Timestamp(2023, 10, 11)]"
   ]
  },
  {
   "cell_type": "code",
   "execution_count": 86,
   "metadata": {},
   "outputs": [
    {
     "data": {
      "text/html": [
       "<div>\n",
       "<style scoped>\n",
       "    .dataframe tbody tr th:only-of-type {\n",
       "        vertical-align: middle;\n",
       "    }\n",
       "\n",
       "    .dataframe tbody tr th {\n",
       "        vertical-align: top;\n",
       "    }\n",
       "\n",
       "    .dataframe thead th {\n",
       "        text-align: right;\n",
       "    }\n",
       "</style>\n",
       "<table border=\"1\" class=\"dataframe\">\n",
       "  <thead>\n",
       "    <tr style=\"text-align: right;\">\n",
       "      <th></th>\n",
       "      <th>Open</th>\n",
       "      <th>High</th>\n",
       "      <th>Low</th>\n",
       "      <th>Close</th>\n",
       "      <th>Volume</th>\n",
       "    </tr>\n",
       "    <tr>\n",
       "      <th>Date</th>\n",
       "      <th></th>\n",
       "      <th></th>\n",
       "      <th></th>\n",
       "      <th></th>\n",
       "      <th></th>\n",
       "    </tr>\n",
       "  </thead>\n",
       "  <tbody>\n",
       "    <tr>\n",
       "      <th>2023-10-02</th>\n",
       "      <td>140.04</td>\n",
       "      <td>141.4500</td>\n",
       "      <td>139.86</td>\n",
       "      <td>140.80</td>\n",
       "      <td>3275461.0</td>\n",
       "    </tr>\n",
       "    <tr>\n",
       "      <th>2023-10-03</th>\n",
       "      <td>140.87</td>\n",
       "      <td>141.6400</td>\n",
       "      <td>140.00</td>\n",
       "      <td>140.39</td>\n",
       "      <td>3284421.0</td>\n",
       "    </tr>\n",
       "    <tr>\n",
       "      <th>2023-10-04</th>\n",
       "      <td>140.37</td>\n",
       "      <td>141.2004</td>\n",
       "      <td>139.99</td>\n",
       "      <td>141.07</td>\n",
       "      <td>2637779.0</td>\n",
       "    </tr>\n",
       "    <tr>\n",
       "      <th>2023-10-05</th>\n",
       "      <td>140.90</td>\n",
       "      <td>141.7000</td>\n",
       "      <td>140.19</td>\n",
       "      <td>141.52</td>\n",
       "      <td>3223910.0</td>\n",
       "    </tr>\n",
       "    <tr>\n",
       "      <th>2023-10-06</th>\n",
       "      <td>141.40</td>\n",
       "      <td>142.9400</td>\n",
       "      <td>140.11</td>\n",
       "      <td>142.03</td>\n",
       "      <td>3511347.0</td>\n",
       "    </tr>\n",
       "    <tr>\n",
       "      <th>2023-10-09</th>\n",
       "      <td>142.30</td>\n",
       "      <td>142.4000</td>\n",
       "      <td>140.68</td>\n",
       "      <td>142.20</td>\n",
       "      <td>2354396.0</td>\n",
       "    </tr>\n",
       "    <tr>\n",
       "      <th>2023-10-10</th>\n",
       "      <td>142.60</td>\n",
       "      <td>143.4150</td>\n",
       "      <td>141.72</td>\n",
       "      <td>142.11</td>\n",
       "      <td>3015784.0</td>\n",
       "    </tr>\n",
       "    <tr>\n",
       "      <th>2023-10-11</th>\n",
       "      <td>142.51</td>\n",
       "      <td>143.3400</td>\n",
       "      <td>142.14</td>\n",
       "      <td>143.23</td>\n",
       "      <td>2511459.0</td>\n",
       "    </tr>\n",
       "  </tbody>\n",
       "</table>\n",
       "</div>"
      ],
      "text/plain": [
       "              Open      High     Low   Close     Volume\n",
       "Date                                                   \n",
       "2023-10-02  140.04  141.4500  139.86  140.80  3275461.0\n",
       "2023-10-03  140.87  141.6400  140.00  140.39  3284421.0\n",
       "2023-10-04  140.37  141.2004  139.99  141.07  2637779.0\n",
       "2023-10-05  140.90  141.7000  140.19  141.52  3223910.0\n",
       "2023-10-06  141.40  142.9400  140.11  142.03  3511347.0\n",
       "2023-10-09  142.30  142.4000  140.68  142.20  2354396.0\n",
       "2023-10-10  142.60  143.4150  141.72  142.11  3015784.0\n",
       "2023-10-11  142.51  143.3400  142.14  143.23  2511459.0"
      ]
     },
     "execution_count": 86,
     "metadata": {},
     "output_type": "execute_result"
    }
   ],
   "source": [
    "stocks.loc['2023-10-01': '2023-10-11']"
   ]
  },
  {
   "cell_type": "code",
   "execution_count": 87,
   "metadata": {},
   "outputs": [
    {
     "data": {
      "text/html": [
       "<div>\n",
       "<style scoped>\n",
       "    .dataframe tbody tr th:only-of-type {\n",
       "        vertical-align: middle;\n",
       "    }\n",
       "\n",
       "    .dataframe tbody tr th {\n",
       "        vertical-align: top;\n",
       "    }\n",
       "\n",
       "    .dataframe thead th {\n",
       "        text-align: right;\n",
       "    }\n",
       "</style>\n",
       "<table border=\"1\" class=\"dataframe\">\n",
       "  <thead>\n",
       "    <tr style=\"text-align: right;\">\n",
       "      <th></th>\n",
       "      <th>Open</th>\n",
       "      <th>High</th>\n",
       "      <th>Low</th>\n",
       "      <th>Close</th>\n",
       "      <th>Volume</th>\n",
       "    </tr>\n",
       "    <tr>\n",
       "      <th>Date</th>\n",
       "      <th></th>\n",
       "      <th></th>\n",
       "      <th></th>\n",
       "      <th></th>\n",
       "      <th></th>\n",
       "    </tr>\n",
       "  </thead>\n",
       "  <tbody>\n",
       "    <tr>\n",
       "      <th>2023-10-02</th>\n",
       "      <td>140.04</td>\n",
       "      <td>141.4500</td>\n",
       "      <td>139.86</td>\n",
       "      <td>140.80</td>\n",
       "      <td>3275461.0</td>\n",
       "    </tr>\n",
       "    <tr>\n",
       "      <th>2023-10-03</th>\n",
       "      <td>140.87</td>\n",
       "      <td>141.6400</td>\n",
       "      <td>140.00</td>\n",
       "      <td>140.39</td>\n",
       "      <td>3284421.0</td>\n",
       "    </tr>\n",
       "    <tr>\n",
       "      <th>2023-10-04</th>\n",
       "      <td>140.37</td>\n",
       "      <td>141.2004</td>\n",
       "      <td>139.99</td>\n",
       "      <td>141.07</td>\n",
       "      <td>2637779.0</td>\n",
       "    </tr>\n",
       "    <tr>\n",
       "      <th>2023-10-05</th>\n",
       "      <td>140.90</td>\n",
       "      <td>141.7000</td>\n",
       "      <td>140.19</td>\n",
       "      <td>141.52</td>\n",
       "      <td>3223910.0</td>\n",
       "    </tr>\n",
       "    <tr>\n",
       "      <th>2023-10-06</th>\n",
       "      <td>141.40</td>\n",
       "      <td>142.9400</td>\n",
       "      <td>140.11</td>\n",
       "      <td>142.03</td>\n",
       "      <td>3511347.0</td>\n",
       "    </tr>\n",
       "    <tr>\n",
       "      <th>2023-10-09</th>\n",
       "      <td>142.30</td>\n",
       "      <td>142.4000</td>\n",
       "      <td>140.68</td>\n",
       "      <td>142.20</td>\n",
       "      <td>2354396.0</td>\n",
       "    </tr>\n",
       "    <tr>\n",
       "      <th>2023-10-10</th>\n",
       "      <td>142.60</td>\n",
       "      <td>143.4150</td>\n",
       "      <td>141.72</td>\n",
       "      <td>142.11</td>\n",
       "      <td>3015784.0</td>\n",
       "    </tr>\n",
       "    <tr>\n",
       "      <th>2023-10-11</th>\n",
       "      <td>142.51</td>\n",
       "      <td>143.3400</td>\n",
       "      <td>142.14</td>\n",
       "      <td>143.23</td>\n",
       "      <td>2511459.0</td>\n",
       "    </tr>\n",
       "  </tbody>\n",
       "</table>\n",
       "</div>"
      ],
      "text/plain": [
       "              Open      High     Low   Close     Volume\n",
       "Date                                                   \n",
       "2023-10-02  140.04  141.4500  139.86  140.80  3275461.0\n",
       "2023-10-03  140.87  141.6400  140.00  140.39  3284421.0\n",
       "2023-10-04  140.37  141.2004  139.99  141.07  2637779.0\n",
       "2023-10-05  140.90  141.7000  140.19  141.52  3223910.0\n",
       "2023-10-06  141.40  142.9400  140.11  142.03  3511347.0\n",
       "2023-10-09  142.30  142.4000  140.68  142.20  2354396.0\n",
       "2023-10-10  142.60  143.4150  141.72  142.11  3015784.0\n",
       "2023-10-11  142.51  143.3400  142.14  143.23  2511459.0"
      ]
     },
     "execution_count": 87,
     "metadata": {},
     "output_type": "execute_result"
    }
   ],
   "source": [
    "stocks.loc[pd.Timestamp(2023, 10, 1): pd.Timestamp(2023, 10, 11)]"
   ]
  },
  {
   "cell_type": "code",
   "execution_count": 88,
   "metadata": {},
   "outputs": [
    {
     "data": {
      "text/html": [
       "<div>\n",
       "<style scoped>\n",
       "    .dataframe tbody tr th:only-of-type {\n",
       "        vertical-align: middle;\n",
       "    }\n",
       "\n",
       "    .dataframe tbody tr th {\n",
       "        vertical-align: top;\n",
       "    }\n",
       "\n",
       "    .dataframe thead th {\n",
       "        text-align: right;\n",
       "    }\n",
       "</style>\n",
       "<table border=\"1\" class=\"dataframe\">\n",
       "  <thead>\n",
       "    <tr style=\"text-align: right;\">\n",
       "      <th></th>\n",
       "      <th>Open</th>\n",
       "      <th>High</th>\n",
       "      <th>Low</th>\n",
       "      <th>Close</th>\n",
       "      <th>Volume</th>\n",
       "    </tr>\n",
       "    <tr>\n",
       "      <th>Date</th>\n",
       "      <th></th>\n",
       "      <th></th>\n",
       "      <th></th>\n",
       "      <th></th>\n",
       "      <th></th>\n",
       "    </tr>\n",
       "  </thead>\n",
       "  <tbody>\n",
       "    <tr>\n",
       "      <th>2023-10-02</th>\n",
       "      <td>140.04</td>\n",
       "      <td>141.4500</td>\n",
       "      <td>139.86</td>\n",
       "      <td>140.80</td>\n",
       "      <td>3275461.0</td>\n",
       "    </tr>\n",
       "    <tr>\n",
       "      <th>2023-10-03</th>\n",
       "      <td>140.87</td>\n",
       "      <td>141.6400</td>\n",
       "      <td>140.00</td>\n",
       "      <td>140.39</td>\n",
       "      <td>3284421.0</td>\n",
       "    </tr>\n",
       "    <tr>\n",
       "      <th>2023-10-04</th>\n",
       "      <td>140.37</td>\n",
       "      <td>141.2004</td>\n",
       "      <td>139.99</td>\n",
       "      <td>141.07</td>\n",
       "      <td>2637779.0</td>\n",
       "    </tr>\n",
       "    <tr>\n",
       "      <th>2023-10-05</th>\n",
       "      <td>140.90</td>\n",
       "      <td>141.7000</td>\n",
       "      <td>140.19</td>\n",
       "      <td>141.52</td>\n",
       "      <td>3223910.0</td>\n",
       "    </tr>\n",
       "    <tr>\n",
       "      <th>2023-10-06</th>\n",
       "      <td>141.40</td>\n",
       "      <td>142.9400</td>\n",
       "      <td>140.11</td>\n",
       "      <td>142.03</td>\n",
       "      <td>3511347.0</td>\n",
       "    </tr>\n",
       "    <tr>\n",
       "      <th>2023-10-09</th>\n",
       "      <td>142.30</td>\n",
       "      <td>142.4000</td>\n",
       "      <td>140.68</td>\n",
       "      <td>142.20</td>\n",
       "      <td>2354396.0</td>\n",
       "    </tr>\n",
       "    <tr>\n",
       "      <th>2023-10-10</th>\n",
       "      <td>142.60</td>\n",
       "      <td>143.4150</td>\n",
       "      <td>141.72</td>\n",
       "      <td>142.11</td>\n",
       "      <td>3015784.0</td>\n",
       "    </tr>\n",
       "    <tr>\n",
       "      <th>2023-10-11</th>\n",
       "      <td>142.51</td>\n",
       "      <td>143.3400</td>\n",
       "      <td>142.14</td>\n",
       "      <td>143.23</td>\n",
       "      <td>2511459.0</td>\n",
       "    </tr>\n",
       "  </tbody>\n",
       "</table>\n",
       "</div>"
      ],
      "text/plain": [
       "              Open      High     Low   Close     Volume\n",
       "Date                                                   \n",
       "2023-10-02  140.04  141.4500  139.86  140.80  3275461.0\n",
       "2023-10-03  140.87  141.6400  140.00  140.39  3284421.0\n",
       "2023-10-04  140.37  141.2004  139.99  141.07  2637779.0\n",
       "2023-10-05  140.90  141.7000  140.19  141.52  3223910.0\n",
       "2023-10-06  141.40  142.9400  140.11  142.03  3511347.0\n",
       "2023-10-09  142.30  142.4000  140.68  142.20  2354396.0\n",
       "2023-10-10  142.60  143.4150  141.72  142.11  3015784.0\n",
       "2023-10-11  142.51  143.3400  142.14  143.23  2511459.0"
      ]
     },
     "execution_count": 88,
     "metadata": {},
     "output_type": "execute_result"
    }
   ],
   "source": [
    "stocks.truncate('2023-10-01', '2023-10-11')  # same as above"
   ]
  },
  {
   "cell_type": "code",
   "execution_count": 89,
   "metadata": {},
   "outputs": [
    {
     "data": {
      "text/plain": [
       "143.23"
      ]
     },
     "execution_count": 89,
     "metadata": {},
     "output_type": "execute_result"
    }
   ],
   "source": [
    "stocks.loc['2023-10-11', 'Close']"
   ]
  },
  {
   "cell_type": "code",
   "execution_count": 90,
   "metadata": {},
   "outputs": [
    {
     "data": {
      "text/plain": [
       "High     143.34\n",
       "Low      142.14\n",
       "Close    143.23\n",
       "Name: 2023-10-11 00:00:00, dtype: float64"
      ]
     },
     "execution_count": 90,
     "metadata": {},
     "output_type": "execute_result"
    }
   ],
   "source": [
    "stocks.loc['2023-10-11', 'High': 'Close']"
   ]
  },
  {
   "cell_type": "code",
   "execution_count": 91,
   "metadata": {},
   "outputs": [
    {
     "data": {
      "text/html": [
       "<div>\n",
       "<style scoped>\n",
       "    .dataframe tbody tr th:only-of-type {\n",
       "        vertical-align: middle;\n",
       "    }\n",
       "\n",
       "    .dataframe tbody tr th {\n",
       "        vertical-align: top;\n",
       "    }\n",
       "\n",
       "    .dataframe thead th {\n",
       "        text-align: right;\n",
       "    }\n",
       "</style>\n",
       "<table border=\"1\" class=\"dataframe\">\n",
       "  <thead>\n",
       "    <tr style=\"text-align: right;\">\n",
       "      <th></th>\n",
       "      <th>High</th>\n",
       "      <th>Low</th>\n",
       "      <th>Close</th>\n",
       "    </tr>\n",
       "    <tr>\n",
       "      <th>Date</th>\n",
       "      <th></th>\n",
       "      <th></th>\n",
       "      <th></th>\n",
       "    </tr>\n",
       "  </thead>\n",
       "  <tbody>\n",
       "    <tr>\n",
       "      <th>2023-10-02</th>\n",
       "      <td>141.4500</td>\n",
       "      <td>139.86</td>\n",
       "      <td>140.80</td>\n",
       "    </tr>\n",
       "    <tr>\n",
       "      <th>2023-10-03</th>\n",
       "      <td>141.6400</td>\n",
       "      <td>140.00</td>\n",
       "      <td>140.39</td>\n",
       "    </tr>\n",
       "    <tr>\n",
       "      <th>2023-10-04</th>\n",
       "      <td>141.2004</td>\n",
       "      <td>139.99</td>\n",
       "      <td>141.07</td>\n",
       "    </tr>\n",
       "    <tr>\n",
       "      <th>2023-10-05</th>\n",
       "      <td>141.7000</td>\n",
       "      <td>140.19</td>\n",
       "      <td>141.52</td>\n",
       "    </tr>\n",
       "    <tr>\n",
       "      <th>2023-10-06</th>\n",
       "      <td>142.9400</td>\n",
       "      <td>140.11</td>\n",
       "      <td>142.03</td>\n",
       "    </tr>\n",
       "    <tr>\n",
       "      <th>2023-10-09</th>\n",
       "      <td>142.4000</td>\n",
       "      <td>140.68</td>\n",
       "      <td>142.20</td>\n",
       "    </tr>\n",
       "    <tr>\n",
       "      <th>2023-10-10</th>\n",
       "      <td>143.4150</td>\n",
       "      <td>141.72</td>\n",
       "      <td>142.11</td>\n",
       "    </tr>\n",
       "    <tr>\n",
       "      <th>2023-10-11</th>\n",
       "      <td>143.3400</td>\n",
       "      <td>142.14</td>\n",
       "      <td>143.23</td>\n",
       "    </tr>\n",
       "  </tbody>\n",
       "</table>\n",
       "</div>"
      ],
      "text/plain": [
       "                High     Low   Close\n",
       "Date                                \n",
       "2023-10-02  141.4500  139.86  140.80\n",
       "2023-10-03  141.6400  140.00  140.39\n",
       "2023-10-04  141.2004  139.99  141.07\n",
       "2023-10-05  141.7000  140.19  141.52\n",
       "2023-10-06  142.9400  140.11  142.03\n",
       "2023-10-09  142.4000  140.68  142.20\n",
       "2023-10-10  143.4150  141.72  142.11\n",
       "2023-10-11  143.3400  142.14  143.23"
      ]
     },
     "execution_count": 91,
     "metadata": {},
     "output_type": "execute_result"
    }
   ],
   "source": [
    "stocks.loc[pd.Timestamp(2023, 10, 1): pd.Timestamp(2023, 10, 11), 'High': 'Close']"
   ]
  },
  {
   "cell_type": "markdown",
   "metadata": {},
   "source": [
    "## The DateOffset Object\n",
    "- A **DateOffset** object adds time to a **Timestamp** to arrive at a new **Timestamp**.\n",
    "- The **DateOffset** constructor accepts `days`, `weeks`, `months`, `years` parameters, and more.\n",
    "- We can pass a **DateOffset** object to the `freq` parameter of the `pd.date_range` function."
   ]
  },
  {
   "cell_type": "code",
   "execution_count": 92,
   "metadata": {},
   "outputs": [
    {
     "data": {
      "text/html": [
       "<div>\n",
       "<style scoped>\n",
       "    .dataframe tbody tr th:only-of-type {\n",
       "        vertical-align: middle;\n",
       "    }\n",
       "\n",
       "    .dataframe tbody tr th {\n",
       "        vertical-align: top;\n",
       "    }\n",
       "\n",
       "    .dataframe thead th {\n",
       "        text-align: right;\n",
       "    }\n",
       "</style>\n",
       "<table border=\"1\" class=\"dataframe\">\n",
       "  <thead>\n",
       "    <tr style=\"text-align: right;\">\n",
       "      <th></th>\n",
       "      <th>Open</th>\n",
       "      <th>High</th>\n",
       "      <th>Low</th>\n",
       "      <th>Close</th>\n",
       "      <th>Volume</th>\n",
       "    </tr>\n",
       "    <tr>\n",
       "      <th>Date</th>\n",
       "      <th></th>\n",
       "      <th></th>\n",
       "      <th></th>\n",
       "      <th></th>\n",
       "      <th></th>\n",
       "    </tr>\n",
       "  </thead>\n",
       "  <tbody>\n",
       "    <tr>\n",
       "      <th>1962-01-02</th>\n",
       "      <td>5.04610</td>\n",
       "      <td>5.04610</td>\n",
       "      <td>4.98716</td>\n",
       "      <td>4.98716</td>\n",
       "      <td>593562.955237</td>\n",
       "    </tr>\n",
       "    <tr>\n",
       "      <th>1962-01-03</th>\n",
       "      <td>4.98716</td>\n",
       "      <td>5.03292</td>\n",
       "      <td>4.98716</td>\n",
       "      <td>5.03292</td>\n",
       "      <td>445175.034277</td>\n",
       "    </tr>\n",
       "    <tr>\n",
       "      <th>1962-01-04</th>\n",
       "      <td>5.03292</td>\n",
       "      <td>5.03292</td>\n",
       "      <td>4.98052</td>\n",
       "      <td>4.98052</td>\n",
       "      <td>399513.586679</td>\n",
       "    </tr>\n",
       "    <tr>\n",
       "      <th>1962-01-05</th>\n",
       "      <td>4.97389</td>\n",
       "      <td>4.97389</td>\n",
       "      <td>4.87511</td>\n",
       "      <td>4.88166</td>\n",
       "      <td>559321.480565</td>\n",
       "    </tr>\n",
       "    <tr>\n",
       "      <th>1962-01-08</th>\n",
       "      <td>4.88166</td>\n",
       "      <td>4.88166</td>\n",
       "      <td>4.75059</td>\n",
       "      <td>4.78972</td>\n",
       "      <td>833273.771393</td>\n",
       "    </tr>\n",
       "  </tbody>\n",
       "</table>\n",
       "</div>"
      ],
      "text/plain": [
       "               Open     High      Low    Close         Volume\n",
       "Date                                                         \n",
       "1962-01-02  5.04610  5.04610  4.98716  4.98716  593562.955237\n",
       "1962-01-03  4.98716  5.03292  4.98716  5.03292  445175.034277\n",
       "1962-01-04  5.03292  5.03292  4.98052  4.98052  399513.586679\n",
       "1962-01-05  4.97389  4.97389  4.87511  4.88166  559321.480565\n",
       "1962-01-08  4.88166  4.88166  4.75059  4.78972  833273.771393"
      ]
     },
     "execution_count": 92,
     "metadata": {},
     "output_type": "execute_result"
    }
   ],
   "source": [
    "stocks = pd.read_csv('ibm.csv', parse_dates=['Date'], index_col='Date').sort_index()\n",
    "stocks.head()"
   ]
  },
  {
   "cell_type": "code",
   "execution_count": 93,
   "metadata": {},
   "outputs": [
    {
     "data": {
      "text/plain": [
       "DatetimeIndex(['1962-01-02', '1962-01-03', '1962-01-04', '1962-01-05',\n",
       "               '1962-01-08', '1962-01-09', '1962-01-10', '1962-01-11',\n",
       "               '1962-01-12', '1962-01-15',\n",
       "               ...\n",
       "               '2023-09-28', '2023-09-29', '2023-10-02', '2023-10-03',\n",
       "               '2023-10-04', '2023-10-05', '2023-10-06', '2023-10-09',\n",
       "               '2023-10-10', '2023-10-11'],\n",
       "              dtype='datetime64[ns]', name='Date', length=15546, freq=None)"
      ]
     },
     "execution_count": 93,
     "metadata": {},
     "output_type": "execute_result"
    }
   ],
   "source": [
    "stocks.index"
   ]
  },
  {
   "cell_type": "code",
   "execution_count": 94,
   "metadata": {},
   "outputs": [
    {
     "data": {
      "text/plain": [
       "<DateOffset: days=5>"
      ]
     },
     "execution_count": 94,
     "metadata": {},
     "output_type": "execute_result"
    }
   ],
   "source": [
    "pd.DateOffset(days=5)"
   ]
  },
  {
   "cell_type": "code",
   "execution_count": 95,
   "metadata": {},
   "outputs": [
    {
     "data": {
      "text/plain": [
       "DatetimeIndex(['1962-01-07', '1962-01-08', '1962-01-09', '1962-01-10',\n",
       "               '1962-01-13', '1962-01-14', '1962-01-15', '1962-01-16',\n",
       "               '1962-01-17', '1962-01-20',\n",
       "               ...\n",
       "               '2023-10-03', '2023-10-04', '2023-10-07', '2023-10-08',\n",
       "               '2023-10-09', '2023-10-10', '2023-10-11', '2023-10-14',\n",
       "               '2023-10-15', '2023-10-16'],\n",
       "              dtype='datetime64[ns]', name='Date', length=15546, freq=None)"
      ]
     },
     "execution_count": 95,
     "metadata": {},
     "output_type": "execute_result"
    }
   ],
   "source": [
    "stocks.index + pd.DateOffset(days=5)  # move each day 5 days offset forwards "
   ]
  },
  {
   "cell_type": "code",
   "execution_count": 96,
   "metadata": {},
   "outputs": [
    {
     "data": {
      "text/plain": [
       "DatetimeIndex(['1961-12-28', '1961-12-29', '1961-12-30', '1961-12-31',\n",
       "               '1962-01-03', '1962-01-04', '1962-01-05', '1962-01-06',\n",
       "               '1962-01-07', '1962-01-10',\n",
       "               ...\n",
       "               '2023-09-23', '2023-09-24', '2023-09-27', '2023-09-28',\n",
       "               '2023-09-29', '2023-09-30', '2023-10-01', '2023-10-04',\n",
       "               '2023-10-05', '2023-10-06'],\n",
       "              dtype='datetime64[ns]', name='Date', length=15546, freq=None)"
      ]
     },
     "execution_count": 96,
     "metadata": {},
     "output_type": "execute_result"
    }
   ],
   "source": [
    "stocks.index - pd.DateOffset(days=5) # move each day 5 days offset backwards "
   ]
  },
  {
   "cell_type": "code",
   "execution_count": 97,
   "metadata": {},
   "outputs": [
    {
     "data": {
      "text/plain": [
       "DatetimeIndex(['1962-06-02', '1962-06-03', '1962-06-04', '1962-06-05',\n",
       "               '1962-06-08', '1962-06-09', '1962-06-10', '1962-06-11',\n",
       "               '1962-06-12', '1962-06-15',\n",
       "               ...\n",
       "               '2024-02-28', '2024-02-29', '2024-03-02', '2024-03-03',\n",
       "               '2024-03-04', '2024-03-05', '2024-03-06', '2024-03-09',\n",
       "               '2024-03-10', '2024-03-11'],\n",
       "              dtype='datetime64[ns]', name='Date', length=15546, freq=None)"
      ]
     },
     "execution_count": 97,
     "metadata": {},
     "output_type": "execute_result"
    }
   ],
   "source": [
    "stocks.index + pd.DateOffset(months=5)  # move each day 5 months offset forwards "
   ]
  },
  {
   "cell_type": "code",
   "execution_count": 98,
   "metadata": {},
   "outputs": [
    {
     "data": {
      "text/plain": [
       "DatetimeIndex(['1961-08-02', '1961-08-03', '1961-08-04', '1961-08-05',\n",
       "               '1961-08-08', '1961-08-09', '1961-08-10', '1961-08-11',\n",
       "               '1961-08-12', '1961-08-15',\n",
       "               ...\n",
       "               '2023-04-28', '2023-04-29', '2023-05-02', '2023-05-03',\n",
       "               '2023-05-04', '2023-05-05', '2023-05-06', '2023-05-09',\n",
       "               '2023-05-10', '2023-05-11'],\n",
       "              dtype='datetime64[ns]', name='Date', length=15546, freq=None)"
      ]
     },
     "execution_count": 98,
     "metadata": {},
     "output_type": "execute_result"
    }
   ],
   "source": [
    "stocks.index - pd.DateOffset(months=5)  # move each day 5 months offset backwards "
   ]
  },
  {
   "cell_type": "code",
   "execution_count": 99,
   "metadata": {},
   "outputs": [
    {
     "data": {
      "text/plain": [
       "DatetimeIndex(['1963-01-02', '1963-01-03', '1963-01-04', '1963-01-05',\n",
       "               '1963-01-08', '1963-01-09', '1963-01-10', '1963-01-11',\n",
       "               '1963-01-12', '1963-01-15',\n",
       "               ...\n",
       "               '2024-09-28', '2024-09-29', '2024-10-02', '2024-10-03',\n",
       "               '2024-10-04', '2024-10-05', '2024-10-06', '2024-10-09',\n",
       "               '2024-10-10', '2024-10-11'],\n",
       "              dtype='datetime64[ns]', name='Date', length=15546, freq=None)"
      ]
     },
     "execution_count": 99,
     "metadata": {},
     "output_type": "execute_result"
    }
   ],
   "source": [
    "stocks.index + pd.DateOffset(years=1)  # move each day 1 year offset forwards "
   ]
  },
  {
   "cell_type": "code",
   "execution_count": 100,
   "metadata": {},
   "outputs": [
    {
     "data": {
      "text/plain": [
       "DatetimeIndex(['1961-01-02', '1961-01-03', '1961-01-04', '1961-01-05',\n",
       "               '1961-01-08', '1961-01-09', '1961-01-10', '1961-01-11',\n",
       "               '1961-01-12', '1961-01-15',\n",
       "               ...\n",
       "               '2022-09-28', '2022-09-29', '2022-10-02', '2022-10-03',\n",
       "               '2022-10-04', '2022-10-05', '2022-10-06', '2022-10-09',\n",
       "               '2022-10-10', '2022-10-11'],\n",
       "              dtype='datetime64[ns]', name='Date', length=15546, freq=None)"
      ]
     },
     "execution_count": 100,
     "metadata": {},
     "output_type": "execute_result"
    }
   ],
   "source": [
    "stocks.index - pd.DateOffset(years=1)  # move each day 1 year offset backwards "
   ]
  },
  {
   "cell_type": "code",
   "execution_count": 102,
   "metadata": {},
   "outputs": [
    {
     "data": {
      "text/plain": [
       "DatetimeIndex(['1962-01-02 07:00:00', '1962-01-03 07:00:00',\n",
       "               '1962-01-04 07:00:00', '1962-01-05 07:00:00',\n",
       "               '1962-01-08 07:00:00', '1962-01-09 07:00:00',\n",
       "               '1962-01-10 07:00:00', '1962-01-11 07:00:00',\n",
       "               '1962-01-12 07:00:00', '1962-01-15 07:00:00',\n",
       "               ...\n",
       "               '2023-09-28 07:00:00', '2023-09-29 07:00:00',\n",
       "               '2023-10-02 07:00:00', '2023-10-03 07:00:00',\n",
       "               '2023-10-04 07:00:00', '2023-10-05 07:00:00',\n",
       "               '2023-10-06 07:00:00', '2023-10-09 07:00:00',\n",
       "               '2023-10-10 07:00:00', '2023-10-11 07:00:00'],\n",
       "              dtype='datetime64[ns]', name='Date', length=15546, freq=None)"
      ]
     },
     "execution_count": 102,
     "metadata": {},
     "output_type": "execute_result"
    }
   ],
   "source": [
    "stocks.index + pd.DateOffset(hours=7)  # move each day 7 hours offset forwards "
   ]
  },
  {
   "cell_type": "code",
   "execution_count": 103,
   "metadata": {},
   "outputs": [
    {
     "data": {
      "text/plain": [
       "DatetimeIndex(['1962-01-01 17:00:00', '1962-01-02 17:00:00',\n",
       "               '1962-01-03 17:00:00', '1962-01-04 17:00:00',\n",
       "               '1962-01-07 17:00:00', '1962-01-08 17:00:00',\n",
       "               '1962-01-09 17:00:00', '1962-01-10 17:00:00',\n",
       "               '1962-01-11 17:00:00', '1962-01-14 17:00:00',\n",
       "               ...\n",
       "               '2023-09-27 17:00:00', '2023-09-28 17:00:00',\n",
       "               '2023-10-01 17:00:00', '2023-10-02 17:00:00',\n",
       "               '2023-10-03 17:00:00', '2023-10-04 17:00:00',\n",
       "               '2023-10-05 17:00:00', '2023-10-08 17:00:00',\n",
       "               '2023-10-09 17:00:00', '2023-10-10 17:00:00'],\n",
       "              dtype='datetime64[ns]', name='Date', length=15546, freq=None)"
      ]
     },
     "execution_count": 103,
     "metadata": {},
     "output_type": "execute_result"
    }
   ],
   "source": [
    "stocks.index - pd.DateOffset(hours=7)  # move each day 7 hours offset backwards "
   ]
  },
  {
   "cell_type": "code",
   "execution_count": 106,
   "metadata": {},
   "outputs": [
    {
     "data": {
      "text/plain": [
       "DatetimeIndex(['1963-04-04 06:30:20', '1963-04-05 06:30:20',\n",
       "               '1963-04-06 06:30:20', '1963-04-07 06:30:20',\n",
       "               '1963-04-10 06:30:20', '1963-04-11 06:30:20',\n",
       "               '1963-04-12 06:30:20', '1963-04-13 06:30:20',\n",
       "               '1963-04-14 06:30:20', '1963-04-17 06:30:20',\n",
       "               ...\n",
       "               '2024-12-30 06:30:20', '2024-12-31 06:30:20',\n",
       "               '2025-01-04 06:30:20', '2025-01-05 06:30:20',\n",
       "               '2025-01-06 06:30:20', '2025-01-07 06:30:20',\n",
       "               '2025-01-08 06:30:20', '2025-01-11 06:30:20',\n",
       "               '2025-01-12 06:30:20', '2025-01-13 06:30:20'],\n",
       "              dtype='datetime64[ns]', name='Date', length=15546, freq=None)"
      ]
     },
     "execution_count": 106,
     "metadata": {},
     "output_type": "execute_result"
    }
   ],
   "source": [
    "stocks.index + pd.DateOffset(years=1, months=3, days=2, hours=6, minutes=30, seconds=20)  # move each day 1 year, 2 days, 6 hours, 30 minutes and 20 seconds forwards"
   ]
  },
  {
   "cell_type": "code",
   "execution_count": 128,
   "metadata": {},
   "outputs": [
    {
     "data": {
      "text/plain": [
       "DatetimeIndex(['1990-05-05', '1991-05-05', '1992-05-05', '1993-05-05',\n",
       "               '1994-05-05', '1995-05-05', '1996-05-05', '1997-05-05',\n",
       "               '1998-05-05', '1999-05-05', '2000-05-05', '2001-05-05',\n",
       "               '2002-05-05', '2003-05-05', '2004-05-05', '2005-05-05',\n",
       "               '2006-05-05', '2007-05-05', '2008-05-05', '2009-05-05',\n",
       "               '2010-05-05', '2011-05-05', '2012-05-05', '2013-05-05',\n",
       "               '2014-05-05', '2015-05-05', '2016-05-05', '2017-05-05',\n",
       "               '2018-05-05', '2019-05-05', '2020-05-05', '2021-05-05',\n",
       "               '2022-05-05', '2023-05-05'],\n",
       "              dtype='datetime64[ns]', freq='<DateOffset: years=1>')"
      ]
     },
     "execution_count": 128,
     "metadata": {},
     "output_type": "execute_result"
    }
   ],
   "source": [
    "# Find the IBM price on every one of the specific (says May 5, 1990)\n",
    "pd.date_range(start='1990-05-05', end='2023-10-11', freq=pd.DateOffset(years=1))"
   ]
  },
  {
   "cell_type": "code",
   "execution_count": 129,
   "metadata": {},
   "outputs": [
    {
     "data": {
      "text/plain": [
       "DatetimeIndex(['1990-05-05', '1991-05-05', '1992-05-05', '1993-05-05',\n",
       "               '1994-05-05', '1995-05-05', '1996-05-05', '1997-05-05',\n",
       "               '1998-05-05', '1999-05-05', '2000-05-05', '2001-05-05',\n",
       "               '2002-05-05', '2003-05-05', '2004-05-05', '2005-05-05',\n",
       "               '2006-05-05', '2007-05-05', '2008-05-05', '2009-05-05',\n",
       "               '2010-05-05', '2011-05-05', '2012-05-05', '2013-05-05',\n",
       "               '2014-05-05', '2015-05-05', '2016-05-05', '2017-05-05',\n",
       "               '2018-05-05', '2019-05-05', '2020-05-05', '2021-05-05',\n",
       "               '2022-05-05', '2023-05-05'],\n",
       "              dtype='datetime64[ns]', freq='<DateOffset: years=1>')"
      ]
     },
     "execution_count": 129,
     "metadata": {},
     "output_type": "execute_result"
    }
   ],
   "source": [
    "doublefivedays = pd.date_range(start='1990-05-05', end='2023-10-11', freq=pd.DateOffset(years=1))\n",
    "doublefivedays"
   ]
  },
  {
   "cell_type": "code",
   "execution_count": 130,
   "metadata": {},
   "outputs": [
    {
     "data": {
      "text/html": [
       "<div>\n",
       "<style scoped>\n",
       "    .dataframe tbody tr th:only-of-type {\n",
       "        vertical-align: middle;\n",
       "    }\n",
       "\n",
       "    .dataframe tbody tr th {\n",
       "        vertical-align: top;\n",
       "    }\n",
       "\n",
       "    .dataframe thead th {\n",
       "        text-align: right;\n",
       "    }\n",
       "</style>\n",
       "<table border=\"1\" class=\"dataframe\">\n",
       "  <thead>\n",
       "    <tr style=\"text-align: right;\">\n",
       "      <th></th>\n",
       "      <th>Open</th>\n",
       "      <th>High</th>\n",
       "      <th>Low</th>\n",
       "      <th>Close</th>\n",
       "      <th>Volume</th>\n",
       "    </tr>\n",
       "    <tr>\n",
       "      <th>Date</th>\n",
       "      <th></th>\n",
       "      <th></th>\n",
       "      <th></th>\n",
       "      <th></th>\n",
       "      <th></th>\n",
       "    </tr>\n",
       "  </thead>\n",
       "  <tbody>\n",
       "    <tr>\n",
       "      <th>1992-05-05</th>\n",
       "      <td>15.13950</td>\n",
       "      <td>15.38150</td>\n",
       "      <td>15.11810</td>\n",
       "      <td>15.36390</td>\n",
       "      <td>1.244905e+07</td>\n",
       "    </tr>\n",
       "    <tr>\n",
       "      <th>1993-05-05</th>\n",
       "      <td>8.02285</td>\n",
       "      <td>8.10278</td>\n",
       "      <td>7.99689</td>\n",
       "      <td>8.08092</td>\n",
       "      <td>8.236866e+06</td>\n",
       "    </tr>\n",
       "    <tr>\n",
       "      <th>1994-05-05</th>\n",
       "      <td>9.38934</td>\n",
       "      <td>9.40788</td>\n",
       "      <td>9.31127</td>\n",
       "      <td>9.35031</td>\n",
       "      <td>6.338064e+06</td>\n",
       "    </tr>\n",
       "    <tr>\n",
       "      <th>1995-05-05</th>\n",
       "      <td>15.42930</td>\n",
       "      <td>15.48690</td>\n",
       "      <td>15.20580</td>\n",
       "      <td>15.24300</td>\n",
       "      <td>1.859718e+07</td>\n",
       "    </tr>\n",
       "    <tr>\n",
       "      <th>1997-05-05</th>\n",
       "      <td>26.65730</td>\n",
       "      <td>27.21550</td>\n",
       "      <td>26.61640</td>\n",
       "      <td>27.18430</td>\n",
       "      <td>1.889730e+07</td>\n",
       "    </tr>\n",
       "    <tr>\n",
       "      <th>1998-05-05</th>\n",
       "      <td>38.20150</td>\n",
       "      <td>38.71380</td>\n",
       "      <td>38.20150</td>\n",
       "      <td>38.56850</td>\n",
       "      <td>8.208253e+06</td>\n",
       "    </tr>\n",
       "    <tr>\n",
       "      <th>1999-05-05</th>\n",
       "      <td>69.44080</td>\n",
       "      <td>69.56760</td>\n",
       "      <td>67.86560</td>\n",
       "      <td>69.44080</td>\n",
       "      <td>1.289468e+07</td>\n",
       "    </tr>\n",
       "    <tr>\n",
       "      <th>2000-05-05</th>\n",
       "      <td>69.80770</td>\n",
       "      <td>71.78000</td>\n",
       "      <td>69.72470</td>\n",
       "      <td>70.63240</td>\n",
       "      <td>7.145766e+06</td>\n",
       "    </tr>\n",
       "    <tr>\n",
       "      <th>2003-05-05</th>\n",
       "      <td>57.29440</td>\n",
       "      <td>57.82140</td>\n",
       "      <td>56.84940</td>\n",
       "      <td>56.84940</td>\n",
       "      <td>1.161121e+07</td>\n",
       "    </tr>\n",
       "    <tr>\n",
       "      <th>2004-05-05</th>\n",
       "      <td>58.97010</td>\n",
       "      <td>58.97010</td>\n",
       "      <td>58.15420</td>\n",
       "      <td>58.44990</td>\n",
       "      <td>6.700136e+06</td>\n",
       "    </tr>\n",
       "    <tr>\n",
       "      <th>2005-05-05</th>\n",
       "      <td>51.24860</td>\n",
       "      <td>51.32280</td>\n",
       "      <td>49.49870</td>\n",
       "      <td>49.60610</td>\n",
       "      <td>1.883734e+07</td>\n",
       "    </tr>\n",
       "    <tr>\n",
       "      <th>2006-05-05</th>\n",
       "      <td>54.50520</td>\n",
       "      <td>54.75700</td>\n",
       "      <td>54.33550</td>\n",
       "      <td>54.71990</td>\n",
       "      <td>6.754169e+06</td>\n",
       "    </tr>\n",
       "    <tr>\n",
       "      <th>2008-05-05</th>\n",
       "      <td>80.35840</td>\n",
       "      <td>80.98300</td>\n",
       "      <td>79.99150</td>\n",
       "      <td>80.16710</td>\n",
       "      <td>9.582771e+06</td>\n",
       "    </tr>\n",
       "    <tr>\n",
       "      <th>2009-05-05</th>\n",
       "      <td>69.64960</td>\n",
       "      <td>70.17950</td>\n",
       "      <td>69.32270</td>\n",
       "      <td>69.55190</td>\n",
       "      <td>1.027317e+07</td>\n",
       "    </tr>\n",
       "    <tr>\n",
       "      <th>2010-05-05</th>\n",
       "      <td>83.53790</td>\n",
       "      <td>84.26010</td>\n",
       "      <td>83.35450</td>\n",
       "      <td>83.67840</td>\n",
       "      <td>9.242146e+06</td>\n",
       "    </tr>\n",
       "    <tr>\n",
       "      <th>2011-05-05</th>\n",
       "      <td>112.02600</td>\n",
       "      <td>112.27900</td>\n",
       "      <td>110.06500</td>\n",
       "      <td>110.68900</td>\n",
       "      <td>1.114624e+07</td>\n",
       "    </tr>\n",
       "    <tr>\n",
       "      <th>2014-05-05</th>\n",
       "      <td>132.51100</td>\n",
       "      <td>132.80400</td>\n",
       "      <td>131.67100</td>\n",
       "      <td>132.66700</td>\n",
       "      <td>3.203632e+06</td>\n",
       "    </tr>\n",
       "    <tr>\n",
       "      <th>2015-05-05</th>\n",
       "      <td>123.48400</td>\n",
       "      <td>123.98100</td>\n",
       "      <td>122.34100</td>\n",
       "      <td>123.16200</td>\n",
       "      <td>5.050273e+06</td>\n",
       "    </tr>\n",
       "    <tr>\n",
       "      <th>2016-05-05</th>\n",
       "      <td>107.57500</td>\n",
       "      <td>108.57200</td>\n",
       "      <td>107.23400</td>\n",
       "      <td>107.98600</td>\n",
       "      <td>8.818508e+06</td>\n",
       "    </tr>\n",
       "    <tr>\n",
       "      <th>2017-05-05</th>\n",
       "      <td>117.20900</td>\n",
       "      <td>118.91600</td>\n",
       "      <td>116.80800</td>\n",
       "      <td>118.38000</td>\n",
       "      <td>1.639497e+07</td>\n",
       "    </tr>\n",
       "    <tr>\n",
       "      <th>2020-05-05</th>\n",
       "      <td>107.45900</td>\n",
       "      <td>108.25900</td>\n",
       "      <td>106.65800</td>\n",
       "      <td>106.75600</td>\n",
       "      <td>4.477416e+06</td>\n",
       "    </tr>\n",
       "    <tr>\n",
       "      <th>2021-05-05</th>\n",
       "      <td>134.15100</td>\n",
       "      <td>134.15100</td>\n",
       "      <td>133.26200</td>\n",
       "      <td>133.49600</td>\n",
       "      <td>3.941107e+06</td>\n",
       "    </tr>\n",
       "    <tr>\n",
       "      <th>2022-05-05</th>\n",
       "      <td>131.57400</td>\n",
       "      <td>132.34500</td>\n",
       "      <td>129.93400</td>\n",
       "      <td>131.05600</td>\n",
       "      <td>6.178468e+06</td>\n",
       "    </tr>\n",
       "    <tr>\n",
       "      <th>2023-05-05</th>\n",
       "      <td>123.11000</td>\n",
       "      <td>124.10000</td>\n",
       "      <td>122.80500</td>\n",
       "      <td>123.65000</td>\n",
       "      <td>4.971936e+06</td>\n",
       "    </tr>\n",
       "  </tbody>\n",
       "</table>\n",
       "</div>"
      ],
      "text/plain": [
       "                 Open       High        Low      Close        Volume\n",
       "Date                                                                \n",
       "1992-05-05   15.13950   15.38150   15.11810   15.36390  1.244905e+07\n",
       "1993-05-05    8.02285    8.10278    7.99689    8.08092  8.236866e+06\n",
       "1994-05-05    9.38934    9.40788    9.31127    9.35031  6.338064e+06\n",
       "1995-05-05   15.42930   15.48690   15.20580   15.24300  1.859718e+07\n",
       "1997-05-05   26.65730   27.21550   26.61640   27.18430  1.889730e+07\n",
       "1998-05-05   38.20150   38.71380   38.20150   38.56850  8.208253e+06\n",
       "1999-05-05   69.44080   69.56760   67.86560   69.44080  1.289468e+07\n",
       "2000-05-05   69.80770   71.78000   69.72470   70.63240  7.145766e+06\n",
       "2003-05-05   57.29440   57.82140   56.84940   56.84940  1.161121e+07\n",
       "2004-05-05   58.97010   58.97010   58.15420   58.44990  6.700136e+06\n",
       "2005-05-05   51.24860   51.32280   49.49870   49.60610  1.883734e+07\n",
       "2006-05-05   54.50520   54.75700   54.33550   54.71990  6.754169e+06\n",
       "2008-05-05   80.35840   80.98300   79.99150   80.16710  9.582771e+06\n",
       "2009-05-05   69.64960   70.17950   69.32270   69.55190  1.027317e+07\n",
       "2010-05-05   83.53790   84.26010   83.35450   83.67840  9.242146e+06\n",
       "2011-05-05  112.02600  112.27900  110.06500  110.68900  1.114624e+07\n",
       "2014-05-05  132.51100  132.80400  131.67100  132.66700  3.203632e+06\n",
       "2015-05-05  123.48400  123.98100  122.34100  123.16200  5.050273e+06\n",
       "2016-05-05  107.57500  108.57200  107.23400  107.98600  8.818508e+06\n",
       "2017-05-05  117.20900  118.91600  116.80800  118.38000  1.639497e+07\n",
       "2020-05-05  107.45900  108.25900  106.65800  106.75600  4.477416e+06\n",
       "2021-05-05  134.15100  134.15100  133.26200  133.49600  3.941107e+06\n",
       "2022-05-05  131.57400  132.34500  129.93400  131.05600  6.178468e+06\n",
       "2023-05-05  123.11000  124.10000  122.80500  123.65000  4.971936e+06"
      ]
     },
     "execution_count": 130,
     "metadata": {},
     "output_type": "execute_result"
    }
   ],
   "source": [
    "stocks[stocks.index.isin(doublefivedays)]"
   ]
  },
  {
   "cell_type": "markdown",
   "metadata": {},
   "source": [
    "## Specialized Date Offsets\n",
    "- Pandas nests more specialized date offsets in `pd.tseries.offsets`.\n",
    "- We can add a different amount of time to each date (for example, month end, quarter end, year begin)"
   ]
  },
  {
   "cell_type": "code",
   "execution_count": 131,
   "metadata": {},
   "outputs": [
    {
     "data": {
      "text/html": [
       "<div>\n",
       "<style scoped>\n",
       "    .dataframe tbody tr th:only-of-type {\n",
       "        vertical-align: middle;\n",
       "    }\n",
       "\n",
       "    .dataframe tbody tr th {\n",
       "        vertical-align: top;\n",
       "    }\n",
       "\n",
       "    .dataframe thead th {\n",
       "        text-align: right;\n",
       "    }\n",
       "</style>\n",
       "<table border=\"1\" class=\"dataframe\">\n",
       "  <thead>\n",
       "    <tr style=\"text-align: right;\">\n",
       "      <th></th>\n",
       "      <th>Open</th>\n",
       "      <th>High</th>\n",
       "      <th>Low</th>\n",
       "      <th>Close</th>\n",
       "      <th>Volume</th>\n",
       "    </tr>\n",
       "    <tr>\n",
       "      <th>Date</th>\n",
       "      <th></th>\n",
       "      <th></th>\n",
       "      <th></th>\n",
       "      <th></th>\n",
       "      <th></th>\n",
       "    </tr>\n",
       "  </thead>\n",
       "  <tbody>\n",
       "    <tr>\n",
       "      <th>1962-01-02</th>\n",
       "      <td>5.04610</td>\n",
       "      <td>5.04610</td>\n",
       "      <td>4.98716</td>\n",
       "      <td>4.98716</td>\n",
       "      <td>593562.955237</td>\n",
       "    </tr>\n",
       "    <tr>\n",
       "      <th>1962-01-03</th>\n",
       "      <td>4.98716</td>\n",
       "      <td>5.03292</td>\n",
       "      <td>4.98716</td>\n",
       "      <td>5.03292</td>\n",
       "      <td>445175.034277</td>\n",
       "    </tr>\n",
       "    <tr>\n",
       "      <th>1962-01-04</th>\n",
       "      <td>5.03292</td>\n",
       "      <td>5.03292</td>\n",
       "      <td>4.98052</td>\n",
       "      <td>4.98052</td>\n",
       "      <td>399513.586679</td>\n",
       "    </tr>\n",
       "    <tr>\n",
       "      <th>1962-01-05</th>\n",
       "      <td>4.97389</td>\n",
       "      <td>4.97389</td>\n",
       "      <td>4.87511</td>\n",
       "      <td>4.88166</td>\n",
       "      <td>559321.480565</td>\n",
       "    </tr>\n",
       "    <tr>\n",
       "      <th>1962-01-08</th>\n",
       "      <td>4.88166</td>\n",
       "      <td>4.88166</td>\n",
       "      <td>4.75059</td>\n",
       "      <td>4.78972</td>\n",
       "      <td>833273.771393</td>\n",
       "    </tr>\n",
       "  </tbody>\n",
       "</table>\n",
       "</div>"
      ],
      "text/plain": [
       "               Open     High      Low    Close         Volume\n",
       "Date                                                         \n",
       "1962-01-02  5.04610  5.04610  4.98716  4.98716  593562.955237\n",
       "1962-01-03  4.98716  5.03292  4.98716  5.03292  445175.034277\n",
       "1962-01-04  5.03292  5.03292  4.98052  4.98052  399513.586679\n",
       "1962-01-05  4.97389  4.97389  4.87511  4.88166  559321.480565\n",
       "1962-01-08  4.88166  4.88166  4.75059  4.78972  833273.771393"
      ]
     },
     "execution_count": 131,
     "metadata": {},
     "output_type": "execute_result"
    }
   ],
   "source": [
    "stocks = pd.read_csv('ibm.csv', parse_dates=['Date'], index_col='Date').sort_index()\n",
    "stocks.head()"
   ]
  },
  {
   "cell_type": "code",
   "execution_count": 133,
   "metadata": {},
   "outputs": [
    {
     "data": {
      "text/html": [
       "<div>\n",
       "<style scoped>\n",
       "    .dataframe tbody tr th:only-of-type {\n",
       "        vertical-align: middle;\n",
       "    }\n",
       "\n",
       "    .dataframe tbody tr th {\n",
       "        vertical-align: top;\n",
       "    }\n",
       "\n",
       "    .dataframe thead th {\n",
       "        text-align: right;\n",
       "    }\n",
       "</style>\n",
       "<table border=\"1\" class=\"dataframe\">\n",
       "  <thead>\n",
       "    <tr style=\"text-align: right;\">\n",
       "      <th></th>\n",
       "      <th>Open</th>\n",
       "      <th>High</th>\n",
       "      <th>Low</th>\n",
       "      <th>Close</th>\n",
       "      <th>Volume</th>\n",
       "    </tr>\n",
       "    <tr>\n",
       "      <th>Date</th>\n",
       "      <th></th>\n",
       "      <th></th>\n",
       "      <th></th>\n",
       "      <th></th>\n",
       "      <th></th>\n",
       "    </tr>\n",
       "  </thead>\n",
       "  <tbody>\n",
       "    <tr>\n",
       "      <th>2023-10-05</th>\n",
       "      <td>140.90</td>\n",
       "      <td>141.700</td>\n",
       "      <td>140.19</td>\n",
       "      <td>141.52</td>\n",
       "      <td>3223910.0</td>\n",
       "    </tr>\n",
       "    <tr>\n",
       "      <th>2023-10-06</th>\n",
       "      <td>141.40</td>\n",
       "      <td>142.940</td>\n",
       "      <td>140.11</td>\n",
       "      <td>142.03</td>\n",
       "      <td>3511347.0</td>\n",
       "    </tr>\n",
       "    <tr>\n",
       "      <th>2023-10-09</th>\n",
       "      <td>142.30</td>\n",
       "      <td>142.400</td>\n",
       "      <td>140.68</td>\n",
       "      <td>142.20</td>\n",
       "      <td>2354396.0</td>\n",
       "    </tr>\n",
       "    <tr>\n",
       "      <th>2023-10-10</th>\n",
       "      <td>142.60</td>\n",
       "      <td>143.415</td>\n",
       "      <td>141.72</td>\n",
       "      <td>142.11</td>\n",
       "      <td>3015784.0</td>\n",
       "    </tr>\n",
       "    <tr>\n",
       "      <th>2023-10-11</th>\n",
       "      <td>142.51</td>\n",
       "      <td>143.340</td>\n",
       "      <td>142.14</td>\n",
       "      <td>143.23</td>\n",
       "      <td>2511459.0</td>\n",
       "    </tr>\n",
       "  </tbody>\n",
       "</table>\n",
       "</div>"
      ],
      "text/plain": [
       "              Open     High     Low   Close     Volume\n",
       "Date                                                  \n",
       "2023-10-05  140.90  141.700  140.19  141.52  3223910.0\n",
       "2023-10-06  141.40  142.940  140.11  142.03  3511347.0\n",
       "2023-10-09  142.30  142.400  140.68  142.20  2354396.0\n",
       "2023-10-10  142.60  143.415  141.72  142.11  3015784.0\n",
       "2023-10-11  142.51  143.340  142.14  143.23  2511459.0"
      ]
     },
     "execution_count": 133,
     "metadata": {},
     "output_type": "execute_result"
    }
   ],
   "source": [
    "stocks.tail()"
   ]
  },
  {
   "cell_type": "code",
   "execution_count": 134,
   "metadata": {},
   "outputs": [
    {
     "data": {
      "text/plain": [
       "DatetimeIndex(['1962-01-31', '1962-01-31', '1962-01-31', '1962-01-31',\n",
       "               '1962-01-31', '1962-01-31', '1962-01-31', '1962-01-31',\n",
       "               '1962-01-31', '1962-01-31',\n",
       "               ...\n",
       "               '2023-09-30', '2023-09-30', '2023-10-31', '2023-10-31',\n",
       "               '2023-10-31', '2023-10-31', '2023-10-31', '2023-10-31',\n",
       "               '2023-10-31', '2023-10-31'],\n",
       "              dtype='datetime64[ns]', name='Date', length=15546, freq=None)"
      ]
     },
     "execution_count": 134,
     "metadata": {},
     "output_type": "execute_result"
    }
   ],
   "source": [
    "# Round each day to the start day of its month\n",
    "stocks.index + pd.tseries.offsets.MonthEnd()  # tseries: time series module of pandas "
   ]
  },
  {
   "cell_type": "code",
   "execution_count": 135,
   "metadata": {},
   "outputs": [
    {
     "data": {
      "text/plain": [
       "DatetimeIndex(['1961-12-31', '1961-12-31', '1961-12-31', '1961-12-31',\n",
       "               '1961-12-31', '1961-12-31', '1961-12-31', '1961-12-31',\n",
       "               '1961-12-31', '1961-12-31',\n",
       "               ...\n",
       "               '2023-08-31', '2023-08-31', '2023-09-30', '2023-09-30',\n",
       "               '2023-09-30', '2023-09-30', '2023-09-30', '2023-09-30',\n",
       "               '2023-09-30', '2023-09-30'],\n",
       "              dtype='datetime64[ns]', name='Date', length=15546, freq=None)"
      ]
     },
     "execution_count": 135,
     "metadata": {},
     "output_type": "execute_result"
    }
   ],
   "source": [
    "stocks.index - pd.tseries.offsets.MonthEnd()"
   ]
  },
  {
   "cell_type": "code",
   "execution_count": 136,
   "metadata": {},
   "outputs": [
    {
     "data": {
      "text/plain": [
       "DatetimeIndex(['1962-03-31', '1962-03-31', '1962-03-31', '1962-03-31',\n",
       "               '1962-03-31', '1962-03-31', '1962-03-31', '1962-03-31',\n",
       "               '1962-03-31', '1962-03-31',\n",
       "               ...\n",
       "               '2023-09-30', '2023-09-30', '2023-12-31', '2023-12-31',\n",
       "               '2023-12-31', '2023-12-31', '2023-12-31', '2023-12-31',\n",
       "               '2023-12-31', '2023-12-31'],\n",
       "              dtype='datetime64[ns]', name='Date', length=15546, freq=None)"
      ]
     },
     "execution_count": 136,
     "metadata": {},
     "output_type": "execute_result"
    }
   ],
   "source": [
    "stocks.index + pd.tseries.offsets.QuarterEnd()"
   ]
  },
  {
   "cell_type": "code",
   "execution_count": 137,
   "metadata": {},
   "outputs": [
    {
     "data": {
      "text/plain": [
       "DatetimeIndex(['1961-12-31', '1961-12-31', '1961-12-31', '1961-12-31',\n",
       "               '1961-12-31', '1961-12-31', '1961-12-31', '1961-12-31',\n",
       "               '1961-12-31', '1961-12-31',\n",
       "               ...\n",
       "               '2023-06-30', '2023-06-30', '2023-09-30', '2023-09-30',\n",
       "               '2023-09-30', '2023-09-30', '2023-09-30', '2023-09-30',\n",
       "               '2023-09-30', '2023-09-30'],\n",
       "              dtype='datetime64[ns]', name='Date', length=15546, freq=None)"
      ]
     },
     "execution_count": 137,
     "metadata": {},
     "output_type": "execute_result"
    }
   ],
   "source": [
    "stocks.index - pd.tseries.offsets.QuarterEnd()"
   ]
  },
  {
   "cell_type": "code",
   "execution_count": 138,
   "metadata": {},
   "outputs": [
    {
     "data": {
      "text/plain": [
       "DatetimeIndex(['1962-03-01', '1962-03-01', '1962-03-01', '1962-03-01',\n",
       "               '1962-03-01', '1962-03-01', '1962-03-01', '1962-03-01',\n",
       "               '1962-03-01', '1962-03-01',\n",
       "               ...\n",
       "               '2023-12-01', '2023-12-01', '2023-12-01', '2023-12-01',\n",
       "               '2023-12-01', '2023-12-01', '2023-12-01', '2023-12-01',\n",
       "               '2023-12-01', '2023-12-01'],\n",
       "              dtype='datetime64[ns]', name='Date', length=15546, freq=None)"
      ]
     },
     "execution_count": 138,
     "metadata": {},
     "output_type": "execute_result"
    }
   ],
   "source": [
    "stocks.index + pd.tseries.offsets.QuarterBegin()"
   ]
  },
  {
   "cell_type": "code",
   "execution_count": 139,
   "metadata": {},
   "outputs": [
    {
     "data": {
      "text/plain": [
       "DatetimeIndex(['1962-04-01', '1962-04-01', '1962-04-01', '1962-04-01',\n",
       "               '1962-04-01', '1962-04-01', '1962-04-01', '1962-04-01',\n",
       "               '1962-04-01', '1962-04-01',\n",
       "               ...\n",
       "               '2023-10-01', '2023-10-01', '2024-01-01', '2024-01-01',\n",
       "               '2024-01-01', '2024-01-01', '2024-01-01', '2024-01-01',\n",
       "               '2024-01-01', '2024-01-01'],\n",
       "              dtype='datetime64[ns]', name='Date', length=15546, freq=None)"
      ]
     },
     "execution_count": 139,
     "metadata": {},
     "output_type": "execute_result"
    }
   ],
   "source": [
    "stocks.index + pd.tseries.offsets.QuarterBegin(startingMonth=1)"
   ]
  },
  {
   "cell_type": "code",
   "execution_count": 140,
   "metadata": {},
   "outputs": [
    {
     "data": {
      "text/plain": [
       "DatetimeIndex(['1962-01-01', '1962-01-01', '1962-01-01', '1962-01-01',\n",
       "               '1962-01-01', '1962-01-01', '1962-01-01', '1962-01-01',\n",
       "               '1962-01-01', '1962-01-01',\n",
       "               ...\n",
       "               '2023-07-01', '2023-07-01', '2023-10-01', '2023-10-01',\n",
       "               '2023-10-01', '2023-10-01', '2023-10-01', '2023-10-01',\n",
       "               '2023-10-01', '2023-10-01'],\n",
       "              dtype='datetime64[ns]', name='Date', length=15546, freq=None)"
      ]
     },
     "execution_count": 140,
     "metadata": {},
     "output_type": "execute_result"
    }
   ],
   "source": [
    "stocks.index - pd.tseries.offsets.QuarterBegin(startingMonth=1)"
   ]
  },
  {
   "cell_type": "code",
   "execution_count": 141,
   "metadata": {},
   "outputs": [
    {
     "data": {
      "text/plain": [
       "DatetimeIndex(['1962-12-31', '1962-12-31', '1962-12-31', '1962-12-31',\n",
       "               '1962-12-31', '1962-12-31', '1962-12-31', '1962-12-31',\n",
       "               '1962-12-31', '1962-12-31',\n",
       "               ...\n",
       "               '2023-12-31', '2023-12-31', '2023-12-31', '2023-12-31',\n",
       "               '2023-12-31', '2023-12-31', '2023-12-31', '2023-12-31',\n",
       "               '2023-12-31', '2023-12-31'],\n",
       "              dtype='datetime64[ns]', name='Date', length=15546, freq=None)"
      ]
     },
     "execution_count": 141,
     "metadata": {},
     "output_type": "execute_result"
    }
   ],
   "source": [
    "stocks.index + pd.tseries.offsets.YearEnd()"
   ]
  },
  {
   "cell_type": "code",
   "execution_count": 142,
   "metadata": {},
   "outputs": [
    {
     "data": {
      "text/plain": [
       "DatetimeIndex(['1963-01-01', '1963-01-01', '1963-01-01', '1963-01-01',\n",
       "               '1963-01-01', '1963-01-01', '1963-01-01', '1963-01-01',\n",
       "               '1963-01-01', '1963-01-01',\n",
       "               ...\n",
       "               '2024-01-01', '2024-01-01', '2024-01-01', '2024-01-01',\n",
       "               '2024-01-01', '2024-01-01', '2024-01-01', '2024-01-01',\n",
       "               '2024-01-01', '2024-01-01'],\n",
       "              dtype='datetime64[ns]', name='Date', length=15546, freq=None)"
      ]
     },
     "execution_count": 142,
     "metadata": {},
     "output_type": "execute_result"
    }
   ],
   "source": [
    "stocks.index + pd.tseries.offsets.YearBegin()"
   ]
  },
  {
   "cell_type": "markdown",
   "metadata": {},
   "source": [
    "## Timedeltas\n",
    "- A **Timedelta** is a pandas object that represents a duration (an amount of time).\n",
    "- Subtracting two **Timestamp** objects will yield a **Timedelta** object (this applies to subtracting a **Series** from another **Series**).\n",
    "- The **Timedelta** constructor accepts parameters for time as well as string descriptions."
   ]
  },
  {
   "cell_type": "code",
   "execution_count": 143,
   "metadata": {},
   "outputs": [
    {
     "data": {
      "text/plain": [
       "Timedelta('11 days 00:00:00')"
      ]
     },
     "execution_count": 143,
     "metadata": {},
     "output_type": "execute_result"
    }
   ],
   "source": [
    "pd.Timestamp('2023-03-31') - pd.Timestamp('2023-03-20')"
   ]
  },
  {
   "cell_type": "code",
   "execution_count": 144,
   "metadata": {},
   "outputs": [
    {
     "data": {
      "text/plain": [
       "Timedelta('10 days 17:04:49')"
      ]
     },
     "execution_count": 144,
     "metadata": {},
     "output_type": "execute_result"
    }
   ],
   "source": [
    "pd.Timestamp('2023-03-31 12:30:48') - pd.Timestamp('2023-03-20 19:25:59')"
   ]
  },
  {
   "cell_type": "code",
   "execution_count": 145,
   "metadata": {},
   "outputs": [
    {
     "data": {
      "text/plain": [
       "Timedelta('-11 days +06:55:11')"
      ]
     },
     "execution_count": 145,
     "metadata": {},
     "output_type": "execute_result"
    }
   ],
   "source": [
    "pd.Timestamp('2023-03-20 19:25:59') - pd.Timestamp('2023-03-31 12:30:48')"
   ]
  },
  {
   "cell_type": "code",
   "execution_count": 147,
   "metadata": {},
   "outputs": [
    {
     "data": {
      "text/plain": [
       "Timedelta('3 days 02:05:00')"
      ]
     },
     "execution_count": 147,
     "metadata": {},
     "output_type": "execute_result"
    }
   ],
   "source": [
    "pd.Timedelta(days=3, hours=2, minutes=5)  # create a time duration"
   ]
  },
  {
   "cell_type": "code",
   "execution_count": 148,
   "metadata": {},
   "outputs": [
    {
     "data": {
      "text/plain": [
       "Timedelta('0 days 00:05:00')"
      ]
     },
     "execution_count": 148,
     "metadata": {},
     "output_type": "execute_result"
    }
   ],
   "source": [
    "pd.Timedelta('5 minutes')"
   ]
  },
  {
   "cell_type": "code",
   "execution_count": 149,
   "metadata": {},
   "outputs": [
    {
     "data": {
      "text/plain": [
       "Timedelta('3 days 02:05:00')"
      ]
     },
     "execution_count": 149,
     "metadata": {},
     "output_type": "execute_result"
    }
   ],
   "source": [
    "pd.Timedelta('3 days 2 hours 5 minutes')"
   ]
  },
  {
   "cell_type": "code",
   "execution_count": 164,
   "metadata": {},
   "outputs": [
    {
     "data": {
      "text/html": [
       "<div>\n",
       "<style scoped>\n",
       "    .dataframe tbody tr th:only-of-type {\n",
       "        vertical-align: middle;\n",
       "    }\n",
       "\n",
       "    .dataframe tbody tr th {\n",
       "        vertical-align: top;\n",
       "    }\n",
       "\n",
       "    .dataframe thead th {\n",
       "        text-align: right;\n",
       "    }\n",
       "</style>\n",
       "<table border=\"1\" class=\"dataframe\">\n",
       "  <thead>\n",
       "    <tr style=\"text-align: right;\">\n",
       "      <th></th>\n",
       "      <th>order_date</th>\n",
       "      <th>delivery_date</th>\n",
       "    </tr>\n",
       "    <tr>\n",
       "      <th>ID</th>\n",
       "      <th></th>\n",
       "      <th></th>\n",
       "    </tr>\n",
       "  </thead>\n",
       "  <tbody>\n",
       "    <tr>\n",
       "      <th>1</th>\n",
       "      <td>1998-05-24</td>\n",
       "      <td>1999-02-05</td>\n",
       "    </tr>\n",
       "    <tr>\n",
       "      <th>2</th>\n",
       "      <td>1992-04-22</td>\n",
       "      <td>1998-03-06</td>\n",
       "    </tr>\n",
       "    <tr>\n",
       "      <th>4</th>\n",
       "      <td>1991-02-10</td>\n",
       "      <td>1992-08-26</td>\n",
       "    </tr>\n",
       "    <tr>\n",
       "      <th>5</th>\n",
       "      <td>1992-07-21</td>\n",
       "      <td>1997-11-20</td>\n",
       "    </tr>\n",
       "    <tr>\n",
       "      <th>7</th>\n",
       "      <td>1993-09-02</td>\n",
       "      <td>1998-06-10</td>\n",
       "    </tr>\n",
       "  </tbody>\n",
       "</table>\n",
       "</div>"
      ],
      "text/plain": [
       "   order_date delivery_date\n",
       "ID                         \n",
       "1  1998-05-24    1999-02-05\n",
       "2  1992-04-22    1998-03-06\n",
       "4  1991-02-10    1992-08-26\n",
       "5  1992-07-21    1997-11-20\n",
       "7  1993-09-02    1998-06-10"
      ]
     },
     "execution_count": 164,
     "metadata": {},
     "output_type": "execute_result"
    }
   ],
   "source": [
    "ecommerce = pd.read_csv('ecommerce.csv', index_col='ID', parse_dates=['order_date', 'delivery_date'], date_format='%m/%d/%y')\n",
    "ecommerce.head()"
   ]
  },
  {
   "cell_type": "code",
   "execution_count": 165,
   "metadata": {},
   "outputs": [
    {
     "data": {
      "text/html": [
       "<div>\n",
       "<style scoped>\n",
       "    .dataframe tbody tr th:only-of-type {\n",
       "        vertical-align: middle;\n",
       "    }\n",
       "\n",
       "    .dataframe tbody tr th {\n",
       "        vertical-align: top;\n",
       "    }\n",
       "\n",
       "    .dataframe thead th {\n",
       "        text-align: right;\n",
       "    }\n",
       "</style>\n",
       "<table border=\"1\" class=\"dataframe\">\n",
       "  <thead>\n",
       "    <tr style=\"text-align: right;\">\n",
       "      <th></th>\n",
       "      <th>order_date</th>\n",
       "      <th>delivery_date</th>\n",
       "      <th>Delivery Time</th>\n",
       "    </tr>\n",
       "    <tr>\n",
       "      <th>ID</th>\n",
       "      <th></th>\n",
       "      <th></th>\n",
       "      <th></th>\n",
       "    </tr>\n",
       "  </thead>\n",
       "  <tbody>\n",
       "    <tr>\n",
       "      <th>1</th>\n",
       "      <td>1998-05-24</td>\n",
       "      <td>1999-02-05</td>\n",
       "      <td>257 days</td>\n",
       "    </tr>\n",
       "    <tr>\n",
       "      <th>2</th>\n",
       "      <td>1992-04-22</td>\n",
       "      <td>1998-03-06</td>\n",
       "      <td>2144 days</td>\n",
       "    </tr>\n",
       "    <tr>\n",
       "      <th>4</th>\n",
       "      <td>1991-02-10</td>\n",
       "      <td>1992-08-26</td>\n",
       "      <td>563 days</td>\n",
       "    </tr>\n",
       "    <tr>\n",
       "      <th>5</th>\n",
       "      <td>1992-07-21</td>\n",
       "      <td>1997-11-20</td>\n",
       "      <td>1948 days</td>\n",
       "    </tr>\n",
       "    <tr>\n",
       "      <th>7</th>\n",
       "      <td>1993-09-02</td>\n",
       "      <td>1998-06-10</td>\n",
       "      <td>1742 days</td>\n",
       "    </tr>\n",
       "  </tbody>\n",
       "</table>\n",
       "</div>"
      ],
      "text/plain": [
       "   order_date delivery_date Delivery Time\n",
       "ID                                       \n",
       "1  1998-05-24    1999-02-05      257 days\n",
       "2  1992-04-22    1998-03-06     2144 days\n",
       "4  1991-02-10    1992-08-26      563 days\n",
       "5  1992-07-21    1997-11-20     1948 days\n",
       "7  1993-09-02    1998-06-10     1742 days"
      ]
     },
     "execution_count": 165,
     "metadata": {},
     "output_type": "execute_result"
    }
   ],
   "source": [
    "ecommerce['Delivery Time'] = ecommerce['delivery_date'] - ecommerce['order_date']\n",
    "ecommerce.head()"
   ]
  },
  {
   "cell_type": "code",
   "execution_count": 166,
   "metadata": {},
   "outputs": [
    {
     "data": {
      "text/html": [
       "<div>\n",
       "<style scoped>\n",
       "    .dataframe tbody tr th:only-of-type {\n",
       "        vertical-align: middle;\n",
       "    }\n",
       "\n",
       "    .dataframe tbody tr th {\n",
       "        vertical-align: top;\n",
       "    }\n",
       "\n",
       "    .dataframe thead th {\n",
       "        text-align: right;\n",
       "    }\n",
       "</style>\n",
       "<table border=\"1\" class=\"dataframe\">\n",
       "  <thead>\n",
       "    <tr style=\"text-align: right;\">\n",
       "      <th></th>\n",
       "      <th>order_date</th>\n",
       "      <th>delivery_date</th>\n",
       "      <th>Delivery Time</th>\n",
       "      <th>If It Took Twice As Long</th>\n",
       "    </tr>\n",
       "    <tr>\n",
       "      <th>ID</th>\n",
       "      <th></th>\n",
       "      <th></th>\n",
       "      <th></th>\n",
       "      <th></th>\n",
       "    </tr>\n",
       "  </thead>\n",
       "  <tbody>\n",
       "    <tr>\n",
       "      <th>1</th>\n",
       "      <td>1998-05-24</td>\n",
       "      <td>1999-02-05</td>\n",
       "      <td>257 days</td>\n",
       "      <td>1999-10-20</td>\n",
       "    </tr>\n",
       "    <tr>\n",
       "      <th>2</th>\n",
       "      <td>1992-04-22</td>\n",
       "      <td>1998-03-06</td>\n",
       "      <td>2144 days</td>\n",
       "      <td>2004-01-18</td>\n",
       "    </tr>\n",
       "    <tr>\n",
       "      <th>4</th>\n",
       "      <td>1991-02-10</td>\n",
       "      <td>1992-08-26</td>\n",
       "      <td>563 days</td>\n",
       "      <td>1994-03-12</td>\n",
       "    </tr>\n",
       "    <tr>\n",
       "      <th>5</th>\n",
       "      <td>1992-07-21</td>\n",
       "      <td>1997-11-20</td>\n",
       "      <td>1948 days</td>\n",
       "      <td>2003-03-22</td>\n",
       "    </tr>\n",
       "    <tr>\n",
       "      <th>7</th>\n",
       "      <td>1993-09-02</td>\n",
       "      <td>1998-06-10</td>\n",
       "      <td>1742 days</td>\n",
       "      <td>2003-03-18</td>\n",
       "    </tr>\n",
       "  </tbody>\n",
       "</table>\n",
       "</div>"
      ],
      "text/plain": [
       "   order_date delivery_date Delivery Time If It Took Twice As Long\n",
       "ID                                                                \n",
       "1  1998-05-24    1999-02-05      257 days               1999-10-20\n",
       "2  1992-04-22    1998-03-06     2144 days               2004-01-18\n",
       "4  1991-02-10    1992-08-26      563 days               1994-03-12\n",
       "5  1992-07-21    1997-11-20     1948 days               2003-03-22\n",
       "7  1993-09-02    1998-06-10     1742 days               2003-03-18"
      ]
     },
     "execution_count": 166,
     "metadata": {},
     "output_type": "execute_result"
    }
   ],
   "source": [
    "ecommerce['If It Took Twice As Long'] = ecommerce['delivery_date'] + ecommerce['Delivery Time']\n",
    "ecommerce.head()"
   ]
  },
  {
   "cell_type": "code",
   "execution_count": 168,
   "metadata": {},
   "outputs": [
    {
     "data": {
      "text/plain": [
       "Timedelta('3583 days 00:00:00')"
      ]
     },
     "execution_count": 168,
     "metadata": {},
     "output_type": "execute_result"
    }
   ],
   "source": [
    "ecommerce['Delivery Time'].max()"
   ]
  },
  {
   "cell_type": "code",
   "execution_count": 169,
   "metadata": {},
   "outputs": [
    {
     "data": {
      "text/plain": [
       "Timedelta('8 days 00:00:00')"
      ]
     },
     "execution_count": 169,
     "metadata": {},
     "output_type": "execute_result"
    }
   ],
   "source": [
    "ecommerce['Delivery Time'].min()"
   ]
  },
  {
   "cell_type": "code",
   "execution_count": 170,
   "metadata": {},
   "outputs": [
    {
     "data": {
      "text/plain": [
       "Timedelta('1217 days 22:53:53.532934128')"
      ]
     },
     "execution_count": 170,
     "metadata": {},
     "output_type": "execute_result"
    }
   ],
   "source": [
    "ecommerce['Delivery Time'].mean()"
   ]
  },
  {
   "cell_type": "code",
   "execution_count": 171,
   "metadata": {},
   "outputs": [
    {
     "data": {
      "text/plain": [
       "Timedelta('998 days 00:00:00')"
      ]
     },
     "execution_count": 171,
     "metadata": {},
     "output_type": "execute_result"
    }
   ],
   "source": [
    "ecommerce['Delivery Time'].median()"
   ]
  },
  {
   "cell_type": "code",
   "execution_count": null,
   "metadata": {},
   "outputs": [],
   "source": []
  }
 ],
 "metadata": {
  "anaconda-cloud": {},
  "kernelspec": {
   "display_name": "Python 3 (ipykernel)",
   "language": "python",
   "name": "python3"
  },
  "language_info": {
   "codemirror_mode": {
    "name": "ipython",
    "version": 3
   },
   "file_extension": ".py",
   "mimetype": "text/x-python",
   "name": "python",
   "nbconvert_exporter": "python",
   "pygments_lexer": "ipython3",
   "version": "3.9.12"
  }
 },
 "nbformat": 4,
 "nbformat_minor": 4
}
